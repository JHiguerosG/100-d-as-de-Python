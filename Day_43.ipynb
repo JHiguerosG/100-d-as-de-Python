{
 "cells": [
  {
   "cell_type": "markdown",
   "id": "32d3a90b-aeaa-44ac-afdd-eb9b2b906f4b",
   "metadata": {},
   "source": [
    "# 🧠 Reto 43: Calculadora de Propina Inteligente 🧠\n",
    "\n",
    "## 🏆 Objetivo:\n",
    "Desarrollar un programa que ayude a calcular la propina adecuada en función del monto de la cuenta y la calidad del servicio recibido.\n",
    "\n",
    "## 📝 Requisitos:\n",
    "1️⃣ El usuario debe ingresar el total de la cuenta.  \n",
    "2️⃣ El usuario debe seleccionar la calidad del servicio recibido:  \n",
    "🔸 Excelente: 20% de propina  \n",
    "🔸 Bueno: 15% de propina  \n",
    "🔸 Aceptable: 10% de propina  \n",
    "🔸 Malo: 5% de propina  \n",
    "🔸 Terrible: 0% de propina  \n",
    "3️⃣ El programa debe calcular el monto de la propina y el total a pagar.  \n",
    "4️⃣ El usuario debe poder indicar si desea dividir la cuenta entre varias personas y obtener el monto correspondiente para cada una.  \n",
    "5️⃣ Debe mostrar los resultados con dos decimales para mayor claridad.\n",
    "\n",
    "## 📌 Ejemplo de ejecución:\n",
    "\n",
    "Ingrese el total de la cuenta: 120    \n",
    "Seleccione la calidad del servicio (Excelente, Bueno, Aceptable, Malo, Terrible): Bueno  \n",
    "¿Desea dividir la cuenta entre varias personas? (Sí/No): Sí  \n",
    "Ingrese el número de personas: 3  \n",
    "\n",
    "Resumen:  \n",
    "Monto de la cuenta: `$120.00`    \n",
    "Propina (15%): `$18.00`   \n",
    "Total a pagar: `$138.00`    \n",
    "Cada persona debe pagar: `$46.00` \n",
    "\n",
    "## 🔍 Pistas:\n",
    "\n",
    "🔹 Usa un diccionario para asignar los porcentajes de propina a cada categoría.  \n",
    "🔹 Maneja entradas inválidas asegurándote de que el usuario ingrese valores correctos.   \n",
    "🔹 Usa `round(valor, 2)` para asegurarte de que los montos sean precisos a dos decimales.   \n",
    "🔹 Permite ingresar las respuestas en mayúsculas o minúsculas y conviértelas a un formato uniforme `(.lower())`.    "
   ]
  },
  {
   "cell_type": "code",
   "execution_count": 6,
   "id": "19c7346a-5d1d-4601-b58c-c65854d6cc0c",
   "metadata": {},
   "outputs": [
    {
     "name": "stdin",
     "output_type": "stream",
     "text": [
      "Enter the total bill amount:  1295.45\n",
      "Select the service quality (Excellent, Good, Acceptable, Poor, Terrible):  Good\n",
      "Do you want to split the bill among multiple people? (Yes/No):  Yes\n",
      "Enter the number of people:  5\n"
     ]
    },
    {
     "name": "stdout",
     "output_type": "stream",
     "text": [
      "\n",
      "Summary:\n",
      "Bill amount: $1295.45\n",
      "Tip (15%): $194.32\n",
      "Total amount to pay: $1489.77\n",
      "Each person should pay: $297.95\n"
     ]
    }
   ],
   "source": [
    "def calculate_tip():\n",
    "    \"\"\"\n",
    "    Calculates the appropriate tip based on the bill amount and service quality. \n",
    "    Also allows splitting the bill among multiple people if requested.\n",
    "    :return: None, prints the summary of the calculation and any errors encountered.\n",
    "    \"\"\"\n",
    "    # Dictionary mapping service quality to tip percentages\n",
    "    tip_rates = {\n",
    "        \"excellent\": 0.20,\n",
    "        \"good\": 0.15,\n",
    "        \"acceptable\": 0.10,\n",
    "        \"poor\": 0.05,\n",
    "        \"terrible\": 0.00\n",
    "    }\n",
    "\n",
    "    try:\n",
    "        # Prompt the user for the bill amount\n",
    "        bill_amount = float(input(\"Enter the total bill amount: \"))\n",
    "        if bill_amount < 0:\n",
    "            raise ValueError(\"The bill amount must be positive.\")\n",
    "\n",
    "        # Ask the user for the quality of service received\n",
    "        service_quality = input(\"Select the service quality (Excellent, Good, Acceptable, Poor, Terrible): \").lower()\n",
    "        if service_quality not in tip_rates:\n",
    "            raise ValueError(\"Please enter a valid service quality.\")\n",
    "\n",
    "        # Calculate the tip and total amount to be paid\n",
    "        tip_percentage = tip_rates[service_quality]\n",
    "        tip_amount = round(bill_amount * tip_percentage, 2)  # Tip amount rounded to 2 decimals\n",
    "        total_amount = round(bill_amount + tip_amount, 2)  # Total amount to be paid\n",
    "\n",
    "        # Ask if the user wants to split the bill\n",
    "        split_bill = input(\"Do you want to split the bill among multiple people? (Yes/No): \").lower()\n",
    "        if split_bill == \"yes\":\n",
    "            number_of_people = int(input(\"Enter the number of people: \"))\n",
    "            if number_of_people <= 0:\n",
    "                raise ValueError(\"The number of people must be greater than 0.\")\n",
    "            amount_per_person = round(total_amount / number_of_people, 2)  # Amount each person pays\n",
    "        elif split_bill != \"no\":\n",
    "            raise ValueError(\"Invalid response. Please enter 'Yes' or 'No'.\")\n",
    "\n",
    "        # Display the summary of the calculation\n",
    "        print(\"\\nSummary:\")\n",
    "        print(f\"Bill amount: ${bill_amount:.2f}\")\n",
    "        print(f\"Tip ({int(tip_percentage * 100)}%): ${tip_amount:.2f}\")\n",
    "        print(f\"Total amount to pay: ${total_amount:.2f}\")\n",
    "        print(f\"Each person should pay: ${amount_per_person:.2f}\")\n",
    "\n",
    "    except ValueError as error:\n",
    "        # Handle invalid input errors\n",
    "        print(f\"Error: {error}\")\n",
    "    except Exception:\n",
    "        # Catch unexpected errors\n",
    "        print(\"An unexpected error occurred. Please try again.\")\n",
    "\n",
    "# Run the program\n",
    "calculate_tip()"
   ]
  }
 ],
 "metadata": {
  "kernelspec": {
   "display_name": "Python 3 (ipykernel)",
   "language": "python",
   "name": "python3"
  },
  "language_info": {
   "codemirror_mode": {
    "name": "ipython",
    "version": 3
   },
   "file_extension": ".py",
   "mimetype": "text/x-python",
   "name": "python",
   "nbconvert_exporter": "python",
   "pygments_lexer": "ipython3",
   "version": "3.12.7"
  }
 },
 "nbformat": 4,
 "nbformat_minor": 5
}
