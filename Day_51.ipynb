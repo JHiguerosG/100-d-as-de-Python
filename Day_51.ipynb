{
 "cells": [
  {
   "cell_type": "markdown",
   "id": "b598b7d2-ba4e-4286-a2c0-f03813d6044b",
   "metadata": {},
   "source": [
    "# 🧠 Reto 51: Simulador de Lista de Compras Inteligente 🧠\n",
    "\n",
    "## 🏆 Objetivo:\n",
    "\n",
    "Desarrollar un programa en Python que permita a los usuarios crear, administrar y optimizar una lista de compras.\n",
    "\n",
    "## 📝 Requisitos:\n",
    "\n",
    "1️⃣ Permitir al usuario agregar productos con nombre, cantidad y precio unitario.  \n",
    "2️⃣ Mostrar la lista de compras en un formato claro y ordenado.  \n",
    "3️⃣ Calcular y mostrar el costo total de la lista.  \n",
    "4️⃣ Permitir eliminar productos de la lista.  \n",
    "5️⃣ Agregar una función para marcar productos como \"comprados\".  \n",
    "6️⃣ Ofrecer una opción para sugerir alternativas más económicas basadas en un diccionario de precios simulados.  \n",
    "7️⃣ Utilizar un menú interactivo para facilitar la navegación.  \n",
    "\n",
    "## 📌 Ejemplo de ejecución:\n",
    "\n",
    "📋 Lista de Compras Inteligente  \n",
    "\n",
    "1 Agregar producto  \n",
    "2 Ver lista de compras  \n",
    "3 Eliminar producto  \n",
    "4 Marcar producto como comprado  \n",
    "5 Sugerencias de ahorro  \n",
    "6 Ver total  \n",
    "7 Salir  \n",
    "\n",
    "Elige una opción: 1  \n",
    "Ingresa el nombre del producto: Leche  \n",
    "Cantidad: 2  \n",
    "Precio unitario: 1.50  \n",
    "\n",
    "✅ Producto agregado con éxito  \n",
    "\n",
    "Elige una opción: 2  \n",
    "📋 Lista de Compras  \n",
    "1. Leche - 2 unidades - `$3.00` ❌  \n",
    "\n",
    "Elige una opción: 4  \n",
    "Ingrese el número del producto a marcar como comprado: 1  \n",
    "✅ Producto marcado como comprado  \n",
    "\n",
    "Elige una opción: 5  \n",
    "🔍 Alternativas más económicas:  \n",
    "- Leche: Puedes comprar \"Leche Genérica\" a `$1.20` por unidad  \n",
    "\n",
    "Elige una opción: 6  \n",
    "💰 Total actual: `$3.00`  \n",
    "\n",
    "## 🔍 Pistas:\n",
    "\n",
    "🔹 Utiliza listas y diccionarios para organizar los productos y precios.  \n",
    "🔹 Implementa funciones para modular el código y facilitar la legibilidad.  \n",
    "🔹 Usa `while True` con `break` para crear un menú interactivo.  \n",
    "🔹 Usa `f-strings` para mejorar la presentación de los datos.  "
   ]
  },
  {
   "cell_type": "code",
   "execution_count": 6,
   "id": "2b2b9da0-c762-41cf-9a9d-4f7b9e64f0d3",
   "metadata": {},
   "outputs": [
    {
     "name": "stdout",
     "output_type": "stream",
     "text": [
      "\n",
      "📋 Lista de Compras Inteligente\n",
      "1. Agregar producto\n",
      "2. Ver lista de compras\n",
      "3. Eliminar producto\n",
      "4. Marcar producto como comprado\n",
      "5. Sugerencias de ahorro\n",
      "6. Ver total\n",
      "7. Salir\n"
     ]
    },
    {
     "name": "stdin",
     "output_type": "stream",
     "text": [
      "Elige una opción:  1\n",
      "Ingresa el nombre del producto:  Leche\n",
      "Cantidad:  2\n",
      "Precio unitario:  1.5\n"
     ]
    },
    {
     "name": "stdout",
     "output_type": "stream",
     "text": [
      "✅ Producto 'Leche' agregado con éxito\n",
      "\n",
      "📋 Lista de Compras Inteligente\n",
      "1. Agregar producto\n",
      "2. Ver lista de compras\n",
      "3. Eliminar producto\n",
      "4. Marcar producto como comprado\n",
      "5. Sugerencias de ahorro\n",
      "6. Ver total\n",
      "7. Salir\n"
     ]
    },
    {
     "name": "stdin",
     "output_type": "stream",
     "text": [
      "Elige una opción:  5\n"
     ]
    },
    {
     "name": "stdout",
     "output_type": "stream",
     "text": [
      "\n",
      "🔍 Alternativas más económicas:\n",
      "- Leche: Puedes comprar 'Leche Genérica a $1.20 por unidad'\n",
      "\n",
      "📋 Lista de Compras Inteligente\n",
      "1. Agregar producto\n",
      "2. Ver lista de compras\n",
      "3. Eliminar producto\n",
      "4. Marcar producto como comprado\n",
      "5. Sugerencias de ahorro\n",
      "6. Ver total\n",
      "7. Salir\n"
     ]
    },
    {
     "name": "stdin",
     "output_type": "stream",
     "text": [
      "Elige una opción:  1\n",
      "Ingresa el nombre del producto:  Leche Genérica\n",
      "Cantidad:  2\n",
      "Precio unitario:  1.2\n"
     ]
    },
    {
     "name": "stdout",
     "output_type": "stream",
     "text": [
      "✅ Producto 'Leche Genérica' agregado con éxito\n",
      "\n",
      "📋 Lista de Compras Inteligente\n",
      "1. Agregar producto\n",
      "2. Ver lista de compras\n",
      "3. Eliminar producto\n",
      "4. Marcar producto como comprado\n",
      "5. Sugerencias de ahorro\n",
      "6. Ver total\n",
      "7. Salir\n"
     ]
    },
    {
     "name": "stdin",
     "output_type": "stream",
     "text": [
      "Elige una opción:  4\n"
     ]
    },
    {
     "name": "stdout",
     "output_type": "stream",
     "text": [
      "\n",
      "📋 Lista de Compras:\n",
      "1. Leche - 2 unidades - $3.00 ❌\n",
      "2. Leche Genérica - 2 unidades - $2.40 ❌\n"
     ]
    },
    {
     "name": "stdin",
     "output_type": "stream",
     "text": [
      "\n",
      "Ingrese el número del producto a marcar como comprado:  2\n"
     ]
    },
    {
     "name": "stdout",
     "output_type": "stream",
     "text": [
      "✅ Producto 'Leche Genérica' marcado como comprado\n",
      "\n",
      "📋 Lista de Compras Inteligente\n",
      "1. Agregar producto\n",
      "2. Ver lista de compras\n",
      "3. Eliminar producto\n",
      "4. Marcar producto como comprado\n",
      "5. Sugerencias de ahorro\n",
      "6. Ver total\n",
      "7. Salir\n"
     ]
    },
    {
     "name": "stdin",
     "output_type": "stream",
     "text": [
      "Elige una opción:  2\n"
     ]
    },
    {
     "name": "stdout",
     "output_type": "stream",
     "text": [
      "\n",
      "📋 Lista de Compras:\n",
      "1. Leche - 2 unidades - $3.00 ❌\n",
      "2. Leche Genérica - 2 unidades - $2.40 ✅\n",
      "\n",
      "📋 Lista de Compras Inteligente\n",
      "1. Agregar producto\n",
      "2. Ver lista de compras\n",
      "3. Eliminar producto\n",
      "4. Marcar producto como comprado\n",
      "5. Sugerencias de ahorro\n",
      "6. Ver total\n",
      "7. Salir\n"
     ]
    },
    {
     "name": "stdin",
     "output_type": "stream",
     "text": [
      "Elige una opción:  7\n"
     ]
    },
    {
     "name": "stdout",
     "output_type": "stream",
     "text": [
      "¡Gracias por usar la Lista de Compras Inteligente!\n"
     ]
    }
   ],
   "source": [
    "# Lista de Compras Inteligente\n",
    "\n",
    "lista_compras = []\n",
    "\n",
    "def mostrar_menu():\n",
    "    print(\"\\n📋 Lista de Compras Inteligente\")\n",
    "    print(\"1. Agregar producto\")\n",
    "    print(\"2. Ver lista de compras\")\n",
    "    print(\"3. Eliminar producto\")\n",
    "    print(\"4. Marcar producto como comprado\")\n",
    "    print(\"5. Sugerencias de ahorro\")\n",
    "    print(\"6. Ver total\")\n",
    "    print(\"7. Salir\")\n",
    "\n",
    "def agregar_producto():\n",
    "    nombre = input(\"Ingresa el nombre del producto: \")\n",
    "    cantidad = int(input(\"Cantidad: \"))\n",
    "    precio = float(input(\"Precio unitario: \"))\n",
    "    lista_compras.append({\"nombre\": nombre, \"cantidad\": cantidad, \"precio\": precio, \"comprado\": False})\n",
    "    print(f\"✅ Producto '{nombre}' agregado con éxito\")\n",
    "\n",
    "def ver_lista():\n",
    "    if not lista_compras:\n",
    "        print(\"📌 La lista de compras está vacía.\")\n",
    "    else:\n",
    "        print(\"\\n📋 Lista de Compras:\")\n",
    "        for i, producto in enumerate(lista_compras, 1):\n",
    "            estado = \"✅\" if producto[\"comprado\"] else \"❌\"\n",
    "            print(f\"{i}. {producto['nombre']} - {producto['cantidad']} unidades - ${producto['cantidad'] * producto['precio']:.2f} {estado}\")\n",
    "\n",
    "def eliminar_producto():\n",
    "    ver_lista()\n",
    "    if lista_compras:\n",
    "        indice = int(input(\"\\nIngrese el número del producto a eliminar: \")) - 1\n",
    "        if 0 <= indice < len(lista_compras):\n",
    "            producto_eliminado = lista_compras.pop(indice)\n",
    "            print(f\"✅ Producto '{producto_eliminado['nombre']}' eliminado con éxito\")\n",
    "        else:\n",
    "            print(\"❌ Número de producto inválido.\")\n",
    "\n",
    "def marcar_comprado():\n",
    "    ver_lista()\n",
    "    if lista_compras:\n",
    "        indice = int(input(\"\\nIngrese el número del producto a marcar como comprado: \")) - 1\n",
    "        if 0 <= indice < len(lista_compras):\n",
    "            lista_compras[indice][\"comprado\"] = True\n",
    "            print(f\"✅ Producto '{lista_compras[indice]['nombre']}' marcado como comprado\")\n",
    "        else:\n",
    "            print(\"❌ Número de producto inválido.\")\n",
    "\n",
    "def sugerencias_ahorro():\n",
    "    print(\"\\n🔍 Alternativas más económicas:\")\n",
    "    alternativas = {\n",
    "        \"Leche\": \"Leche Genérica a $1.20 por unidad\",\n",
    "        \"Pan\": \"Pan de marca blanca a $0.80 por unidad\",\n",
    "        \"Arroz\": \"Arroz a granel a $1.00 por libra\"\n",
    "    }\n",
    "    for producto in lista_compras:\n",
    "        if producto[\"nombre\"] in alternativas:\n",
    "            print(f\"- {producto['nombre']}: Puedes comprar '{alternativas[producto['nombre']]}'\")\n",
    "\n",
    "def ver_total():\n",
    "    total = sum(p[\"cantidad\"] * p[\"precio\"] for p in lista_compras)\n",
    "    print(f\"\\n💰 Total actual: ${total:.2f}\")\n",
    "\n",
    "# Bucle principal del programa\n",
    "while True:\n",
    "    mostrar_menu()\n",
    "    opcion = input(\"Elige una opción: \")\n",
    "\n",
    "    if opcion == \"1\":\n",
    "        agregar_producto()\n",
    "    elif opcion == \"2\":\n",
    "        ver_lista()\n",
    "    elif opcion == \"3\":\n",
    "        eliminar_producto()\n",
    "    elif opcion == \"4\":\n",
    "        marcar_comprado()\n",
    "    elif opcion == \"5\":\n",
    "        sugerencias_ahorro()\n",
    "    elif opcion == \"6\":\n",
    "        ver_total()\n",
    "    elif opcion == \"7\":\n",
    "        print(\"¡Gracias por usar la Lista de Compras Inteligente!\")\n",
    "        break\n",
    "    else:\n",
    "        print(\"❌ Opción no válida. Inténtalo de nuevo.\")\n"
   ]
  }
 ],
 "metadata": {
  "kernelspec": {
   "display_name": "Python 3 (ipykernel)",
   "language": "python",
   "name": "python3"
  },
  "language_info": {
   "codemirror_mode": {
    "name": "ipython",
    "version": 3
   },
   "file_extension": ".py",
   "mimetype": "text/x-python",
   "name": "python",
   "nbconvert_exporter": "python",
   "pygments_lexer": "ipython3",
   "version": "3.12.3"
  }
 },
 "nbformat": 4,
 "nbformat_minor": 5
}
