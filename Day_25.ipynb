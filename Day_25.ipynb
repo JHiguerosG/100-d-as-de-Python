{
 "cells": [
  {
   "cell_type": "markdown",
   "id": "b8aba0d8-f009-4b8f-8136-db25e524b425",
   "metadata": {},
   "source": [
    "# 🧠 Reto 25: Calculadora de Expresiones Matemáticas 🧠\n",
    "\n",
    "## 🏆 Objetivo:\n",
    "\n",
    "Crear un programa que pueda evaluar expresiones matemáticas ingresadas por el usuario y devolver el resultado.\n",
    "\n",
    "## 📝 Requisitos:\n",
    "\n",
    "1️⃣ El programa debe aceptar expresiones matemáticas como entrada y calcular su resultado.  \n",
    "2️⃣ Debe soportar operaciones básicas: suma (+), resta (-), multiplicación (*), división (/), y paréntesis.  \n",
    "3️⃣ El programa debe manejar errores, como divisiones por cero o expresiones inválidas.  \n",
    "4️⃣ Se debe permitir al usuario ingresar varias expresiones hasta que decida salir.  \n",
    "\n",
    "## 📌 Ejemplo de ejecución:\n",
    "\n",
    "Ingrese una expresión matemática (o \"salir\" para terminar): 5 + 3 * (2 - 1)  \n",
    "Resultado: 8.0  \n",
    "\n",
    "Ingrese una expresión matemática (o \"salir\" para terminar): 10 / 0  \n",
    "Error: No se puede dividir entre cero.  \n",
    "\n",
    "Ingrese una expresión matemática (o \"salir\" para terminar): salir  \n",
    "¡Hasta luego! \n",
    "\n",
    "## 🔍 Pistas:\n",
    "\n",
    "🔹 Puedes usar la función eval() con precaución o usar ast.literal_eval para mayor seguridad.  \n",
    "🔹 Usa try-except para capturar errores y evitar que el programa se detenga abruptamente.  \n",
    "🔹 Considera implementar una función que valide la entrada antes de evaluarla.  "
   ]
  },
  {
   "cell_type": "code",
   "execution_count": 13,
   "id": "53ca1bf6-fb49-46f5-9522-10ba849423aa",
   "metadata": {},
   "outputs": [],
   "source": [
    "import ast\n",
    "import operator\n",
    "\n",
    "# Allowed operators\n",
    "OPERATORS = {\n",
    "    ast.Add: operator.add,\n",
    "    ast.Sub: operator.sub,\n",
    "    ast.Mult: operator.mul,\n",
    "    ast.Div: operator.truediv,\n",
    "    ast.Mod: operator.mod,\n",
    "    ast.Pow: operator.pow,\n",
    "    ast.UAdd: operator.pos,\n",
    "    ast.USub: operator.neg\n",
    "}\n"
   ]
  },
  {
   "cell_type": "code",
   "execution_count": 14,
   "id": "50e94191-a8e5-4dd4-a3d3-d96dcf6ff2ea",
   "metadata": {},
   "outputs": [],
   "source": [
    "def evaluate(node):\n",
    "    \"\"\"Safely evaluates AST nodes.\"\"\"\n",
    "    if isinstance(node, ast.Constant):  # Numbers\n",
    "        return node.value\n",
    "    elif isinstance(node, ast.BinOp):  # Binary operations (+, -, *, /, **, %)\n",
    "        left = evaluate(node.left)\n",
    "        right = evaluate(node.right)\n",
    "        op_type = type(node.op)\n",
    "        if op_type in OPERATORS:\n",
    "            return round(OPERATORS[op_type](left, right), 2)\n",
    "    elif isinstance(node, ast.UnaryOp):  # Unary operators (+, -)\n",
    "        operand = evaluate(node.operand)\n",
    "        op_type = type(node.op)\n",
    "        if op_type in OPERATORS:\n",
    "            return round(OPERATORS[op_type](operand), 2)\n",
    "    elif isinstance(node, ast.Expr):  # Complete expressions\n",
    "        return evaluate(node.value)\n",
    "    elif isinstance(node, ast.Paren):  # Parentheses (fixed)\n",
    "        return evaluate(node.value)\n",
    "    raise ValueError(\"Invalid expression\")\n",
    "    "
   ]
  },
  {
   "cell_type": "code",
   "execution_count": 15,
   "id": "dc8c2265-546c-4e06-8662-86ec2e12bdc8",
   "metadata": {},
   "outputs": [],
   "source": [
    "def safe_eval(expression):\n",
    "    \"\"\"Safely evaluates mathematical expressions using AST.\"\"\"\n",
    "    try:\n",
    "        tree = ast.parse(expression, mode='eval')  # Parse the expression\n",
    "        return evaluate(tree.body)\n",
    "    except ZeroDivisionError:\n",
    "        return \"Error: Division by zero is not allowed.\"\n",
    "    except Exception:\n",
    "        return \"Error: Invalid expression.\"\n",
    "        "
   ]
  },
  {
   "cell_type": "code",
   "execution_count": 16,
   "id": "da6c5ade-6283-4a32-ba62-8799dcce43fd",
   "metadata": {},
   "outputs": [
    {
     "name": "stdin",
     "output_type": "stream",
     "text": [
      ">>> Enter a mathematical expression (or \"exit\" to quit):  5 + 3 * (2 - 1)\n"
     ]
    },
    {
     "name": "stdout",
     "output_type": "stream",
     "text": [
      "8\n"
     ]
    },
    {
     "name": "stdin",
     "output_type": "stream",
     "text": [
      ">>> Enter a mathematical expression (or \"exit\" to quit):  10 / 2\n"
     ]
    },
    {
     "name": "stdout",
     "output_type": "stream",
     "text": [
      "5.0\n"
     ]
    },
    {
     "name": "stdin",
     "output_type": "stream",
     "text": [
      ">>> Enter a mathematical expression (or \"exit\" to quit):  2 ** 3\n"
     ]
    },
    {
     "name": "stdout",
     "output_type": "stream",
     "text": [
      "8\n"
     ]
    },
    {
     "name": "stdin",
     "output_type": "stream",
     "text": [
      ">>> Enter a mathematical expression (or \"exit\" to quit):  5 / 0\n"
     ]
    },
    {
     "name": "stdout",
     "output_type": "stream",
     "text": [
      "Error: Division by zero is not allowed.\n"
     ]
    },
    {
     "name": "stdin",
     "output_type": "stream",
     "text": [
      ">>> Enter a mathematical expression (or \"exit\" to quit):  __import__('os').system('rm -rf /')\n"
     ]
    },
    {
     "name": "stdout",
     "output_type": "stream",
     "text": [
      "Error: Invalid expression.\n"
     ]
    },
    {
     "name": "stdin",
     "output_type": "stream",
     "text": [
      ">>> Enter a mathematical expression (or \"exit\" to quit):  exit\n"
     ]
    },
    {
     "name": "stdout",
     "output_type": "stream",
     "text": [
      "Goodbye!\n"
     ]
    }
   ],
   "source": [
    "# Main loop\n",
    "while True:\n",
    "    expression = input('>>> Enter a mathematical expression (or \"exit\" to quit): ')\n",
    "    if expression.lower() == \"exit\":\n",
    "        print('Goodbye!')\n",
    "        break\n",
    "    print(safe_eval(expression))\n"
   ]
  }
 ],
 "metadata": {
  "kernelspec": {
   "display_name": "Python 3 (ipykernel)",
   "language": "python",
   "name": "python3"
  },
  "language_info": {
   "codemirror_mode": {
    "name": "ipython",
    "version": 3
   },
   "file_extension": ".py",
   "mimetype": "text/x-python",
   "name": "python",
   "nbconvert_exporter": "python",
   "pygments_lexer": "ipython3",
   "version": "3.12.3"
  }
 },
 "nbformat": 4,
 "nbformat_minor": 5
}
