{
 "cells": [
  {
   "cell_type": "markdown",
   "id": "80a19d4e-d123-49bb-b027-87158ea88f9e",
   "metadata": {},
   "source": [
    "# 🧠 Reto 34: Simulador de Sistema Solar en 3D 🧠\n",
    "\n",
    "## 🏆 Objetivo:\n",
    "\n",
    "Crear una simulación visual del sistema solar en 3D utilizando Python y la biblioteca vpython. El sistema debe mostrar los planetas orbitando alrededor del sol en sus respectivas trayectorias.\n",
    "\n",
    "## 📝 Requisitos:\n",
    "       \n",
    "1️⃣ Utilizar la biblioteca vpython para la visualización en 3D.  \n",
    "2️⃣ Representar al menos los planetas principales del sistema solar: Mercurio, Venus, Tierra, Marte, Júpiter, Saturno, Urano y Neptuno.  \n",
    "3️⃣ Las órbitas deben ser circulares o elípticas, con movimientos proporcionales a la distancia del sol.  \n",
    "4️⃣ El tamaño de los planetas debe ser proporcional a su escala real (relativa).  \n",
    "5️⃣ El sistema solar debe verse desde una perspectiva fija y centrada en el sol.  \n",
    "6️⃣ El movimiento debe ser continuo y fluido.  \n",
    "7️⃣ Agregar un título o descripción que indique que es una simulación del sistema solar.  \n",
    "\n",
    "## 📌 Ejemplo de ejecución:\n",
    "\n",
    "Al ejecutar el programa, se abrirá una ventana en 3D donde se verá el sol en el centro y los planetas orbitando alrededor. Las trayectorias serán circulares o elípticas, y los planetas se moverán a diferentes velocidades según su distancia al sol.\n",
    "\n",
    "## 🔍 Pistas:\n",
    "\n",
    "🔹 Utiliza la biblioteca vpython para la simulación en 3D. Puedes instalarla con: pip install vpython  \n",
    "🔹 Cada planeta puede ser representado con una esfera, y el sol con una esfera más grande y de color amarillo.  \n",
    "🔹 Para el movimiento, puedes usar el método rate() para controlar la velocidad de actualización.  \n",
    "🔹 Puedes basarte en los radios orbitales relativos y el período orbital de cada planeta para hacer que los movimientos sean realistas.  \n",
    "🔹 Las posiciones iniciales pueden ser aleatorias para que el sistema parezca en movimiento desde el principio.  \n",
    "🔹 Puedes usar colores diferentes para cada planeta para hacerlos más distinguibles.  "
   ]
  },
  {
   "cell_type": "code",
   "execution_count": null,
   "id": "cb872286-a0b6-42c5-9f44-94ee51524c72",
   "metadata": {},
   "outputs": [],
   "source": [
    "# pip install vpython"
   ]
  },
  {
   "cell_type": "code",
   "execution_count": null,
   "id": "eb4779c6-6f44-4e19-83ec-f1fde2bcc083",
   "metadata": {},
   "outputs": [
    {
     "data": {
      "text/html": [
       "<div id=\"glowscript\" class=\"glowscript\"></div>"
      ],
      "text/plain": [
       "<IPython.core.display.HTML object>"
      ]
     },
     "metadata": {},
     "output_type": "display_data"
    },
    {
     "data": {
      "application/javascript": [
       "if (typeof Jupyter !== \"undefined\") { window.__context = { glowscript_container: $(\"#glowscript\").removeAttr(\"id\")};}else{ element.textContent = ' ';}"
      ],
      "text/plain": [
       "<IPython.core.display.Javascript object>"
      ]
     },
     "metadata": {},
     "output_type": "display_data"
    }
   ],
   "source": [
    "from vpython import sphere, vector, color, rate, cos, sin\n",
    "\n",
    "# Create the Sun\n",
    "sun = sphere(pos=vector(0,0,0), radius=0.2, color=color.yellow)\n",
    "\n",
    "# Define the planets with their properties: (distance from the sun, radius, color, orbital speed)\n",
    "planets = [\n",
    "    {\"name\": \"Mercury\", \"distance\": 0.39, \"radius\": 0.02, \"color\": color.gray(0.5), \"speed\": 4.15},\n",
    "    {\"name\": \"Venus\", \"distance\": 0.72, \"radius\": 0.05, \"color\": color.orange, \"speed\": 1.62},\n",
    "    {\"name\": \"Earth\", \"distance\": 1.00, \"radius\": 0.05, \"color\": color.blue, \"speed\": 1.00},\n",
    "    {\"name\": \"Mars\", \"distance\": 1.52, \"radius\": 0.03, \"color\": color.red, \"speed\": 0.53},\n",
    "    {\"name\": \"Jupiter\", \"distance\": 5.20, \"radius\": 0.11, \"color\": color.orange, \"speed\": 0.08},\n",
    "    {\"name\": \"Saturn\", \"distance\": 9.58, \"radius\": 0.09, \"color\": color.yellow, \"speed\": 0.03},\n",
    "    {\"name\": \"Uranus\", \"distance\": 19.22, \"radius\": 0.04, \"color\": color.cyan, \"speed\": 0.01},\n",
    "    {\"name\": \"Neptune\", \"distance\": 30.05, \"radius\": 0.04, \"color\": color.blue, \"speed\": 0.006}\n",
    "]\n",
    "\n",
    "# Create planet objects\n",
    "planet_objects = []\n",
    "for planet in planets:\n",
    "    planet_obj = sphere(pos=vector(planet[\"distance\"],0,0), radius=planet[\"radius\"], color=planet[\"color\"], make_trail=True)\n",
    "    planet_obj.orbit_radius = planet[\"distance\"]\n",
    "    planet_obj.orbital_speed = planet[\"speed\"]\n",
    "    planet_obj.angle = 0  # Initial angle\n",
    "    planet_objects.append(planet_obj)\n",
    "\n",
    "# Simulation loop\n",
    "while True:\n",
    "    rate(500)\n",
    "    for planet_obj in planet_objects:\n",
    "        # Update the angle\n",
    "        planet_obj.angle += planet_obj.orbital_speed * 0.01\n",
    "        # Update the planet's position\n",
    "        x = planet_obj.orbit_radius * cos(planet_obj.angle)\n",
    "        y = planet_obj.orbit_radius * sin(planet_obj.angle)\n",
    "        planet_obj.pos = vector(x, y, 0)"
   ]
  }
 ],
 "metadata": {
  "kernelspec": {
   "display_name": "Python 3 (ipykernel)",
   "language": "python",
   "name": "python3"
  },
  "language_info": {
   "codemirror_mode": {
    "name": "ipython",
    "version": 3
   },
   "file_extension": ".py",
   "mimetype": "text/x-python",
   "name": "python",
   "nbconvert_exporter": "python",
   "pygments_lexer": "ipython3",
   "version": "3.12.3"
  }
 },
 "nbformat": 4,
 "nbformat_minor": 5
}
