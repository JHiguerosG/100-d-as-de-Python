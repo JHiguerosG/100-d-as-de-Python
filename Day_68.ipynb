{
 "cells": [
  {
   "cell_type": "markdown",
   "id": "f5ec0228-7b9f-47b8-91e8-8889c742d6c6",
   "metadata": {},
   "source": [
    "# 🧠 Reto 68: Simulador de Algoritmo de Ordenamiento 🧠\n",
    "\n",
    "## 🏆 Objetivo:\n",
    "\n",
    "Desarrollar un programa que permita al usuario visualizar y comprender el funcionamiento de diferentes algoritmos de ordenamiento (como Burbuja, Inserción y Selección) paso a paso, mostrando el estado del arreglo en cada iteración.​\n",
    "\n",
    "## 📝 Requisitos:\n",
    "\n",
    "1️⃣ Solicitar al usuario que ingrese una lista de números separados por comas.  \n",
    "2️⃣ Preguntar al usuario qué algoritmo de ordenamiento desea utilizar: Burbuja, Inserción o Selección.  \n",
    "3️⃣ Mostrar el estado del arreglo después de cada paso significativo del algoritmo seleccionado.  \n",
    "4️⃣ Al finalizar, mostrar el arreglo ordenado.  \n",
    "\n",
    "## 📌 Ejemplo de ejecución:\n",
    "\n",
    "Ingrese una lista de números separados por comas: 5,3,8,4,2  \n",
    "Seleccione el algoritmo de ordenamiento:  \n",
    "`1.` Burbuja  \n",
    "`2.` Inserción  \n",
    "`3.` Selección  \n",
    "Opción: 1  \n",
    "\n",
    "Paso 1: [3, 5, 8, 4, 2]  \n",
    "Paso 2: [3, 5, 4, 8, 2]  \n",
    "Paso 3: [3, 5, 4, 2, 8]  \n",
    "Paso 4: [3, 4, 5, 2, 8]  \n",
    "Paso 5: [3, 4, 2, 5, 8]  \n",
    "Paso 6: [3, 2, 4, 5, 8]  \n",
    "Paso 7: [2, 3, 4, 5, 8]  \n",
    "\n",
    "Arreglo ordenado: [2, 3, 4, 5, 8]  \n",
    "\n",
    "## 🔍 Pistas:\n",
    "\n",
    "🔹 Puedes definir funciones separadas para cada algoritmo de ordenamiento.  \n",
    "🔹 Utiliza bucles `for` y `while` para implementar los algoritmos.  \n",
    "🔹 Después de cada intercambio o inserción, imprime el estado actual del arreglo.  \n",
    "🔹 Asegúrate de manejar entradas inválidas, como letras o símbolos, solicitando nuevamente la entrada al usuario.  "
   ]
  },
  {
   "cell_type": "code",
   "execution_count": 3,
   "id": "7b2a4a32-7adc-4be7-b55a-69deb56aa777",
   "metadata": {},
   "outputs": [
    {
     "name": "stdin",
     "output_type": "stream",
     "text": [
      "Ingrese una lista de números separados por comas:  34, 12, 25, 17, 8\n"
     ]
    },
    {
     "name": "stdout",
     "output_type": "stream",
     "text": [
      "\n",
      "Seleccione el algoritmo de ordenamiento:\n",
      "1. Burbuja\n",
      "2. Inserción\n",
      "3. Selección\n"
     ]
    },
    {
     "name": "stdin",
     "output_type": "stream",
     "text": [
      "Opción:  1\n"
     ]
    },
    {
     "name": "stdout",
     "output_type": "stream",
     "text": [
      "\n",
      "Algoritmo Burbuja\n",
      "Paso 1: [12, 34, 25, 17, 8]\n",
      "Paso 2: [12, 25, 34, 17, 8]\n",
      "Paso 3: [12, 25, 17, 34, 8]\n",
      "Paso 4: [12, 25, 17, 8, 34]\n",
      "Paso 5: [12, 17, 25, 8, 34]\n",
      "Paso 6: [12, 17, 8, 25, 34]\n",
      "Paso 7: [12, 8, 17, 25, 34]\n",
      "Paso 8: [8, 12, 17, 25, 34]\n",
      "Total de pasos (Burbuja): 8\n",
      "\n",
      "Arreglo original: [34, 12, 25, 17, 8]\n",
      "Arreglo ordenado: [8, 12, 17, 25, 34]\n"
     ]
    }
   ],
   "source": [
    "def burbuja(lista):\n",
    "    print(\"\\nAlgoritmo Burbuja\")\n",
    "    lista = lista.copy()\n",
    "    n = len(lista)\n",
    "    paso = 1\n",
    "    for i in range(n - 1):\n",
    "        for j in range(n - i - 1):\n",
    "            if lista[j] > lista[j + 1]:\n",
    "                lista[j], lista[j + 1] = lista[j + 1], lista[j]\n",
    "                print(f\"Paso {paso}: {lista}\")\n",
    "                paso += 1\n",
    "    print(f\"Total de pasos (Burbuja): {paso - 1}\")\n",
    "    return lista\n",
    "\n",
    "def insercion(lista):\n",
    "    print(\"\\nAlgoritmo Inserción\")\n",
    "    lista = lista.copy()\n",
    "    paso = 1\n",
    "    for i in range(1, len(lista)):\n",
    "        clave = lista[i]\n",
    "        j = i - 1\n",
    "        while j >= 0 and lista[j] > clave:\n",
    "            lista[j + 1] = lista[j]\n",
    "            print(f\"Paso {paso}: {lista}\")\n",
    "            paso += 1\n",
    "            j -= 1\n",
    "        lista[j + 1] = clave\n",
    "        print(f\"Paso {paso}: {lista}\")\n",
    "        paso += 1\n",
    "    print(f\"Total de pasos (Inserción): {paso - 1}\")\n",
    "    return lista\n",
    "\n",
    "def seleccion(lista):\n",
    "    print(\"\\nAlgoritmo Selección\")\n",
    "    lista = lista.copy()\n",
    "    paso = 1\n",
    "    for i in range(len(lista)):\n",
    "        min_idx = i\n",
    "        for j in range(i + 1, len(lista)):\n",
    "            if lista[j] < lista[min_idx]:\n",
    "                min_idx = j\n",
    "        if min_idx != i:\n",
    "            lista[i], lista[min_idx] = lista[min_idx], lista[i]\n",
    "            print(f\"Paso {paso}: {lista}\")\n",
    "            paso += 1\n",
    "    print(f\"Total de pasos (Selección): {paso - 1}\")\n",
    "    return lista\n",
    "\n",
    "# Código principal para interacción\n",
    "entrada = input(\"Ingrese una lista de números separados por comas: \")\n",
    "try:\n",
    "    lista = [int(x.strip()) for x in entrada.split(\",\")]\n",
    "except ValueError:\n",
    "    print(\"Error: Por favor, ingrese solo números válidos separados por comas.\")\n",
    "else:\n",
    "    print(\"\\nSeleccione el algoritmo de ordenamiento:\")\n",
    "    print(\"1. Burbuja\")\n",
    "    print(\"2. Inserción\")\n",
    "    print(\"3. Selección\")\n",
    "\n",
    "    opcion = input(\"Opción: \")\n",
    "    if opcion == \"1\":\n",
    "        resultado = burbuja(lista)\n",
    "    elif opcion == \"2\":\n",
    "        resultado = insercion(lista)\n",
    "    elif opcion == \"3\":\n",
    "        resultado = seleccion(lista)\n",
    "    else:\n",
    "        print(\"Opción inválida.\")\n",
    "        resultado = None\n",
    "\n",
    "    if resultado is not None:\n",
    "        print(f\"\\nArreglo original: {lista}\")\n",
    "        print(f\"Arreglo ordenado: {resultado}\")\n"
   ]
  }
 ],
 "metadata": {
  "kernelspec": {
   "display_name": "Python 3 (ipykernel)",
   "language": "python",
   "name": "python3"
  },
  "language_info": {
   "codemirror_mode": {
    "name": "ipython",
    "version": 3
   },
   "file_extension": ".py",
   "mimetype": "text/x-python",
   "name": "python",
   "nbconvert_exporter": "python",
   "pygments_lexer": "ipython3",
   "version": "3.12.3"
  }
 },
 "nbformat": 4,
 "nbformat_minor": 5
}
