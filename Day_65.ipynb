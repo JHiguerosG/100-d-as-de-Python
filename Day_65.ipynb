{
 "cells": [
  {
   "cell_type": "markdown",
   "id": "0f7c6246-e2bb-4af4-9856-3eaf77a0c484",
   "metadata": {},
   "source": [
    "# 🧠 Reto 65: Generador de Frases Palindrómicas 🧠\n",
    "\n",
    "## 🏆 Objetivo:\n",
    "\n",
    "Crear un programa que tome una lista de palabras como entrada y construya automáticamente frases palindrómicas (que se lean igual al derecho y al revés) o determine si es posible construir alguna con esas palabras.\n",
    "\n",
    "## 📝 Requisitos:\n",
    "\n",
    "1️⃣ Solicitar al usuario una lista de palabras separadas por comas.  \n",
    "2️⃣ El programa debe analizar todas las combinaciones posibles de esas palabras (en distintas posiciones).  \n",
    "3️⃣ Si encuentra una combinación de palabras que forme una frase palindrómica (ignorando espacios, tildes y mayúsculas), debe mostrarla.  \n",
    "4️⃣ Si **no hay ninguna frase posible que sea palíndromo**, mostrar un mensaje indicando que no se encontró ninguna frase válida.  \n",
    "5️⃣ Las frases deben tener sentido como secuencia de palabras (no simplemente repetir una palabra).  \n",
    "6️⃣ Puedes limitar el número máximo de combinaciones a evaluar (por ejemplo, solo combinaciones de hasta 5 palabras, si la lista es muy larga).  \n",
    "\n",
    "📌 Ejemplo de ejecución:\n",
    "\n",
    "Ingrese una lista de palabras separadas por coma: amor, roma, luz, azul, radar, oso  \n",
    "✅ Se encontró una frase palindrómica: amor roma  \n",
    "✅ Se encontró una frase palindrómica: luz azul  \n",
    "✅ Se encontró una frase palindrómica: radar  \n",
    "✅ Se encontró una frase palindrómica: oso  \n",
    "\n",
    "O bien:  \n",
    "\n",
    "Ingrese una lista de palabras separadas por coma: casa, gato, perro  \n",
    "❌ No se encontró ninguna frase palindrómica.  \n",
    "\n",
    "## 🔍 Pistas:\n",
    "\n",
    "🔹 Utiliza `itertools.permutations()` para generar todas las combinaciones posibles de las palabras.  \n",
    "🔹 Crea una función para **limpiar y normalizar las frases**: eliminar tildes, espacios, signos de puntuación y poner todo en minúsculas.  \n",
    "🔹 Evalúa si una frase es palíndromo verificando si la cadena limpia es igual a su reverso.  \n",
    "🔹 Puedes usar `unicodedata` para eliminar acentos fácilmente.   \n",
    "🔹 Agrega un límite de palabras por combinación para evitar que el programa sea muy lento.  "
   ]
  },
  {
   "cell_type": "code",
   "execution_count": 7,
   "id": "2747df30-ae07-455c-a258-d4dd51fd89dc",
   "metadata": {},
   "outputs": [
    {
     "name": "stdin",
     "output_type": "stream",
     "text": [
      "Ingrese una lista de palabras separadas por coma:  casa, gato, perro, amor, roma, luz, azul, radar, oso\n"
     ]
    },
    {
     "name": "stdout",
     "output_type": "stream",
     "text": [
      "✅ Se encontró una frase palindrómica: radar\n",
      "✅ Se encontró una frase palindrómica: oso\n",
      "✅ Se encontró una frase palindrómica: amor roma\n",
      "✅ Se encontró una frase palindrómica: roma amor\n"
     ]
    }
   ],
   "source": [
    "import unicodedata\n",
    "\n",
    "# Función para normalizar palabras: minúsculas, sin tildes, sin espacios\n",
    "def normalizar(texto):\n",
    "    texto = texto.lower().strip()\n",
    "    texto = ''.join(\n",
    "        c for c in unicodedata.normalize('NFD', texto)\n",
    "        if unicodedata.category(c) != 'Mn'\n",
    "    )\n",
    "    return texto.replace(\" \", \"\")\n",
    "\n",
    "# Función para verificar si una palabra es un palíndromo (ej. oso, radar)\n",
    "def es_palindromo_palabra(palabra):\n",
    "    palabra_n = normalizar(palabra)\n",
    "    return palabra_n == palabra_n[::-1]\n",
    "\n",
    "# Función para verificar si dos palabras son reversas exactas (ej. amor / roma)\n",
    "def son_reversas(palabra1, palabra2):\n",
    "    return normalizar(palabra1) == normalizar(palabra2)[::-1]\n",
    "\n",
    "# Función principal\n",
    "def encontrar_palindromos(lista_palabras):\n",
    "    lista_palabras = [palabra.strip() for palabra in lista_palabras]\n",
    "    frases_palindromicas = []\n",
    "\n",
    "    # Palabras individuales palindrómicas\n",
    "    for palabra in lista_palabras:\n",
    "        if es_palindromo_palabra(palabra):\n",
    "            frases_palindromicas.append(palabra)\n",
    "\n",
    "    # Frases de dos palabras reversas entre sí\n",
    "    for i in range(len(lista_palabras)):\n",
    "        for j in range(i + 1, len(lista_palabras)):\n",
    "            p1 = lista_palabras[i]\n",
    "            p2 = lista_palabras[j]\n",
    "            if son_reversas(p1, p2):\n",
    "                frases_palindromicas.append(f\"{p1} {p2}\")\n",
    "                frases_palindromicas.append(f\"{p2} {p1}\")\n",
    "\n",
    "    # Mostrar resultados\n",
    "    if frases_palindromicas:\n",
    "        ya_mostradas = set()\n",
    "        for frase in frases_palindromicas:\n",
    "            if frase not in ya_mostradas:\n",
    "                print(f\"✅ Se encontró una frase palindrómica: {frase}\")\n",
    "                ya_mostradas.add(frase)\n",
    "    else:\n",
    "        print(\"❌ No se encontró ninguna frase palindrómica.\")\n",
    "\n",
    "# Entrada del usuario\n",
    "entrada = input(\"Ingrese una lista de palabras separadas por coma: \")\n",
    "lista_palabras = entrada.split(\",\")\n",
    "encontrar_palindromos(lista_palabras)\n"
   ]
  }
 ],
 "metadata": {
  "kernelspec": {
   "display_name": "Python 3 (ipykernel)",
   "language": "python",
   "name": "python3"
  },
  "language_info": {
   "codemirror_mode": {
    "name": "ipython",
    "version": 3
   },
   "file_extension": ".py",
   "mimetype": "text/x-python",
   "name": "python",
   "nbconvert_exporter": "python",
   "pygments_lexer": "ipython3",
   "version": "3.12.3"
  }
 },
 "nbformat": 4,
 "nbformat_minor": 5
}
