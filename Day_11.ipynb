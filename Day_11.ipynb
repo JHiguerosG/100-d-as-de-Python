{
 "cells": [
  {
   "cell_type": "markdown",
   "id": "d440ba74-2c6e-4794-b179-f6e6867c44ba",
   "metadata": {},
   "source": [
    "# 🔥 Reto 11 - Validador de Contraseñas Seguras 🔥\n",
    "\n",
    " \n",
    "## 🏆 Objetivo:\n",
    "\n",
    "Escribe un programa en Python que valide si una contraseña es segura siguiendo ciertos criterios.\n",
    "\n",
    "## 📝 Instrucciones:\n",
    "\n",
    "1. Pide al usuario que ingrese una contraseña.  \n",
    "2. La contraseña debe cumplir con los siguientes requisitos para ser considerada segura:  \n",
    "- Al menos 8 caracteres.  \n",
    "- Al menos una letra mayúscula.  \n",
    "- Al menos una letra minúscula.  \n",
    "- Al menos un número.  \n",
    "- Al menos un carácter especial (!@#$%^&*()-_+=<>?).  \n",
    "3. Muestra un mensaje indicando si la contraseña es segura o no.  \n",
    "4. Si la contraseña no es segura, muestra qué requisitos no cumple.  \n",
    "\n",
    "  \n",
    "## 📌 Ejemplos de ejecución:\n",
    "\n",
    "### ✅ Entrada válida:  \n",
    "\n",
    "\\>>> Enter a password: StrongPass123!  \n",
    "✅ The password is secure.  \n",
    "\n",
    "### ❌ Entrada inválida:  \n",
    "\n",
    "\\>>> Enter a password: weakpass  \n",
    "❌ The password is not secure.  \n",
    "   - Must be at least 8 characters long.\n",
    "   - Must contain at least one lowercase letter.    \n",
    "   - Must contain at least one uppercase letter.  \n",
    "   - Must contain at least one number.  \n",
    "   - Must contain at least one special character.\n",
    "\n",
    "## 📌 Condiciones:  \n",
    "\n",
    "✅ No se pueden usar librerías especializadas como re.  \n",
    "\n",
    "✅ Se pueden usar string.punctuation, isupper(), islower(), isdigit(), y operadores lógicos.  \n",
    "\n",
    "## 🎯 Objetivo adicional (opcional):  \n",
    "\n",
    "Si quieres un reto extra, permite que el usuario siga ingresando contraseñas hasta que introduzca una válida."
   ]
  },
  {
   "cell_type": "markdown",
   "id": "d8b4953b-c957-479c-943d-76b5f73afa3e",
   "metadata": {},
   "source": [
    "## Solución propia"
   ]
  },
  {
   "cell_type": "code",
   "execution_count": 2,
   "id": "de505dd9-e96e-4d0f-9ec9-90e538542fe2",
   "metadata": {},
   "outputs": [],
   "source": [
    "# Create a list with all punctuation marks.\n",
    "import string\n",
    "symbols = set(string.punctuation)"
   ]
  },
  {
   "cell_type": "code",
   "execution_count": 3,
   "id": "824baadc-bdfa-44cb-838c-ae7f8610aa5e",
   "metadata": {},
   "outputs": [],
   "source": [
    "def password_validator():\n",
    "    while True:\n",
    "        password = input(\">>> Enter a password: \")\n",
    "        errors = []\n",
    "\n",
    "        if len(password) < 8:\n",
    "            errors.append('Must be at least 8 characters long.')\n",
    "        if not any(char.islower() for char in password):\n",
    "            errors.append('Must contain at least one lowercase letter.')\n",
    "        if not any(char.isupper() for char in password):\n",
    "            errors.append('Must contain at least one uppercase letter.')\n",
    "        if not any(char.isdigit() for char in password):\n",
    "            errors.append('Must contain at least one number.')\n",
    "        if not any(char in symbols for char in password):\n",
    "            errors.append('Must contain at least one special character.')\n",
    "\n",
    "        if not errors:\n",
    "            print('\\n✅ The password is secure.')\n",
    "            return password\n",
    "        else:\n",
    "            print(\"\\n❌ The password is not secure.\")\n",
    "            for error in errors:\n",
    "                print(f\"- {error}\")\n",
    "            print(\"\\n>>> Try again.\")"
   ]
  },
  {
   "cell_type": "code",
   "execution_count": 4,
   "id": "133edfcf-181d-4c8a-88b6-d2b7a853bc18",
   "metadata": {},
   "outputs": [
    {
     "name": "stdin",
     "output_type": "stream",
     "text": [
      ">>> Enter a password:  @123ABCdefg\n"
     ]
    },
    {
     "name": "stdout",
     "output_type": "stream",
     "text": [
      "\n",
      "✅ The password is secure.\n"
     ]
    },
    {
     "data": {
      "text/plain": [
       "'@123ABCdefg'"
      ]
     },
     "execution_count": 4,
     "metadata": {},
     "output_type": "execute_result"
    }
   ],
   "source": [
    "password_validator()"
   ]
  },
  {
   "cell_type": "markdown",
   "id": "ad17abdc-edbb-497d-a87e-45070b20cb85",
   "metadata": {},
   "source": [
    "## Correcciones realizadas por ChatGPT"
   ]
  },
  {
   "cell_type": "code",
   "execution_count": 5,
   "id": "e34d8eea-4ecf-481b-ba21-c5836de4dc08",
   "metadata": {},
   "outputs": [
    {
     "name": "stdin",
     "output_type": "stream",
     "text": [
      ">>> Enter a password:  @123ABCdefg\n"
     ]
    },
    {
     "name": "stdout",
     "output_type": "stream",
     "text": [
      "\n",
      "✅ The password is secure.\n"
     ]
    },
    {
     "data": {
      "text/plain": [
       "True"
      ]
     },
     "execution_count": 5,
     "metadata": {},
     "output_type": "execute_result"
    }
   ],
   "source": [
    "import string\n",
    "\n",
    "# Create a set with all punctuation marks.\n",
    "symbols = set(string.punctuation)\n",
    "\n",
    "def password_validator():\n",
    "    while True:\n",
    "        password = input(\">>> Enter a password: \")\n",
    "        errors = []\n",
    "\n",
    "        # Flags to track password requirements\n",
    "        has_lower = has_upper = has_digit = has_symbol = False\n",
    "\n",
    "        if len(password) < 8:\n",
    "            errors.append('Must be at least 8 characters long.')\n",
    "\n",
    "        for char in password:\n",
    "            if char.islower():\n",
    "                has_lower = True\n",
    "            if char.isupper():\n",
    "                has_upper = True\n",
    "            if char.isdigit():\n",
    "                has_digit = True\n",
    "            if char in symbols:\n",
    "                has_symbol = True\n",
    "\n",
    "        if not has_lower:\n",
    "            errors.append('Must contain at least one lowercase letter.')\n",
    "        if not has_upper:\n",
    "            errors.append('Must contain at least one uppercase letter.')\n",
    "        if not has_digit:\n",
    "            errors.append('Must contain at least one number.')\n",
    "        if not has_symbol:\n",
    "            errors.append('Must contain at least one special character.')\n",
    "\n",
    "        if not errors:\n",
    "            print('\\n✅ The password is secure.')\n",
    "            return True  # Return True if the password is valid\n",
    "        else:\n",
    "            print(\"\\n❌ The password is not secure.\")\n",
    "            for error in errors:\n",
    "                print(f\"- {error}\")\n",
    "            print(\"\\n>>> Try again.\")\n",
    "\n",
    "# Example usage\n",
    "password_validator()"
   ]
  }
 ],
 "metadata": {
  "kernelspec": {
   "display_name": "Python 3 (ipykernel)",
   "language": "python",
   "name": "python3"
  },
  "language_info": {
   "codemirror_mode": {
    "name": "ipython",
    "version": 3
   },
   "file_extension": ".py",
   "mimetype": "text/x-python",
   "name": "python",
   "nbconvert_exporter": "python",
   "pygments_lexer": "ipython3",
   "version": "3.12.3"
  }
 },
 "nbformat": 4,
 "nbformat_minor": 5
}
