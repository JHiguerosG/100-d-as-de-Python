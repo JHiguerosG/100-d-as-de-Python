{
 "cells": [
  {
   "cell_type": "markdown",
   "id": "d3a7ff47-89e9-42e8-9278-95ed45e15bd7",
   "metadata": {},
   "source": [
    "# 🧠 Reto 55: Calculadora de Índice de Masa Corporal (IMC) 🧠\n",
    "\n",
    "## 🏆 Objetivo:\n",
    "\n",
    "Desarrollar una aplicación que calcule el Índice de Masa Corporal (IMC) de una persona e indique si está en un rango saludable, con sobrepeso, bajo peso, etc., utilizando los rangos oficiales de la OMS.\n",
    "\n",
    "## 📝 Requisitos:\n",
    "\n",
    "1️⃣ Solicitar al usuario su peso en kilogramos y estatura en metros.  \n",
    "2️⃣ Calcular el IMC con la fórmula: IMC = peso / (estatura ** 2)  \n",
    "3️⃣ Clasificar el resultado según las siguientes categorías:  \n",
    " \n",
    "| IMC          | Clasificación              |\n",
    "|--------------|----------------------------|\n",
    "| Menor a 18.5 | Bajo peso                  | \n",
    "| 18.5 - 24.9  | Peso saludable             |\n",
    "| 25.0 - 29.9  | Sobrepeso                  |\n",
    "| 30.0 - 34.9  | Obesidad grado 1           |\n",
    "| 35.0 - 39.9  | Obesidad grado 2           |\n",
    "| 40 o más     | Obesidad grado 3 (mórbida) |\n",
    "\n",
    "4️⃣ Imprimir el resultado con el IMC calculado y su categoría.  \n",
    "5️⃣ Validar que el peso y la estatura sean números positivos.  \n",
    "\n",
    "## 📌 Ejemplo de ejecución:\n",
    "\n",
    "🏋️‍♂️ Calculadora de IMC 🏋️‍♀️  \n",
    "📏 Ingresa tu estatura en metros: 1.75  \n",
    "⚖️ Ingresa tu peso en kilogramos: 68  \n",
    "\n",
    "✅ Tu IMC es: 22.20  \n",
    "📊 Clasificación: Peso saludable  \n",
    "\n",
    "\n",
    "## 🔍 Pistas:\n",
    "\n",
    "🔹 Utiliza `try-except` para capturar errores si el usuario no ingresa números.  \n",
    "🔹 Puedes usar `round()` para limitar el IMC a 2 decimales.  \n",
    "🔹 Asegúrate de que tanto estatura como peso sean mayores que cero antes de calcular.  "
   ]
  },
  {
   "cell_type": "code",
   "execution_count": 3,
   "id": "54931995-eb21-437e-b437-1f251e7bd243",
   "metadata": {},
   "outputs": [
    {
     "name": "stdout",
     "output_type": "stream",
     "text": [
      "🏋️‍♂️ BMI Calculator 🏋️‍♀️\n"
     ]
    },
    {
     "name": "stdin",
     "output_type": "stream",
     "text": [
      "📏 Enter your height in meters:  1.75\n",
      "⚖️ Enter your weight in kilograms:  68\n"
     ]
    },
    {
     "name": "stdout",
     "output_type": "stream",
     "text": [
      "\n",
      "✅ Your BMI is: 22.2\n",
      "📊 Classification: Healthy weight\n"
     ]
    }
   ],
   "source": [
    "def calculate_bmi():\n",
    "    \"\"\"\n",
    "    Calculates the Body Mass Index (BMI) of a person based on their weight and height,\n",
    "    then classifies the result into categories defined by the World Health Organization (WHO).\n",
    "    \n",
    "    - BMI Formula: BMI = weight / (height ** 2)\n",
    "    - Categories:\n",
    "        < 18.5: Underweight\n",
    "        18.5 - 24.9: Healthy weight\n",
    "        25.0 - 29.9: Overweight\n",
    "        30.0 - 34.9: Obesity Grade 1\n",
    "        35.0 - 39.9: Obesity Grade 2\n",
    "        >= 40.0: Obesity Grade 3 (morbid)\n",
    "    \"\"\"\n",
    "    print(\"🏋️‍♂️ BMI Calculator 🏋️‍♀️\")\n",
    "    \n",
    "    try:\n",
    "        # Prompt the user to enter their height in meters\n",
    "        height = float(input(\"📏 Enter your height in meters: \"))\n",
    "        # Prompt the user to enter their weight in kilograms\n",
    "        weight = float(input(\"⚖️ Enter your weight in kilograms: \"))\n",
    "        \n",
    "        # Validate that both height and weight are positive numbers\n",
    "        if height <= 0 or weight <= 0:\n",
    "            print(\"❌ Error: Height and weight must be greater than zero.\")\n",
    "            return\n",
    "        \n",
    "        # Calculate the BMI using the formula and round it to 2 decimal places\n",
    "        bmi = weight / (height ** 2)\n",
    "        bmi = round(bmi, 2)\n",
    "        \n",
    "        # Display the calculated BMI\n",
    "        print(f\"\\n✅ Your BMI is: {bmi}\")\n",
    "        \n",
    "        # Classify the BMI based on WHO-defined ranges\n",
    "        if bmi < 18.5:\n",
    "            classification = \"Underweight\"\n",
    "        elif bmi <= 24.9:\n",
    "            classification = \"Healthy weight\"\n",
    "        elif bmi <= 29.9:\n",
    "            classification = \"Overweight\"\n",
    "        elif bmi <= 34.9:\n",
    "            classification = \"Obesity Grade 1\"\n",
    "        elif bmi <= 39.9:\n",
    "            classification = \"Obesity Grade 2\"\n",
    "        else:\n",
    "            classification = \"Obesity Grade 3 (morbid)\"\n",
    "        \n",
    "        # Display the BMI classification\n",
    "        print(f\"📊 Classification: {classification}\")\n",
    "    \n",
    "    except ValueError:\n",
    "        # Handle cases where the user enters invalid (non-numeric) input\n",
    "        print(\"❌ Error: Please enter valid numeric values.\")\n",
    "\n",
    "# Execute the function\n",
    "calculate_bmi()"
   ]
  }
 ],
 "metadata": {
  "kernelspec": {
   "display_name": "Python 3 (ipykernel)",
   "language": "python",
   "name": "python3"
  },
  "language_info": {
   "codemirror_mode": {
    "name": "ipython",
    "version": 3
   },
   "file_extension": ".py",
   "mimetype": "text/x-python",
   "name": "python",
   "nbconvert_exporter": "python",
   "pygments_lexer": "ipython3",
   "version": "3.12.3"
  }
 },
 "nbformat": 4,
 "nbformat_minor": 5
}
