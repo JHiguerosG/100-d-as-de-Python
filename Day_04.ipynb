{
 "cells": [
  {
   "cell_type": "markdown",
   "id": "3072008f-a12e-4e37-9e41-13e1c87e28d4",
   "metadata": {},
   "source": [
    "# 🚀 Reto #4: Contando Vocales\n",
    "\n",
    "En este reto, vamos a practicar el uso de cadenas (str), bucles (for), y diccionarios (dict).\n",
    "\n",
    "# 🏆 Objetivo\n",
    "\n",
    "Escribe un programa en Python que:\n",
    "1. Solicite al usuario ingresar una frase.\n",
    "2. Cuente cuántas veces aparece cada vocal (a, e, i, o, u) en la frase.\n",
    "3. Muestre el resultado en pantalla de forma clara.\n",
    "\n",
    "# 📌 Ejemplo de entrada/salida\n",
    "\\>>> Enter a sentence: \"Python is amazing!\"  \n",
    "Vowel count:  \n",
    "a → 2  \n",
    "e → 0  \n",
    "i → 2  \n",
    "o → 1  \n",
    "u → 0  \n",
    "\n",
    "# 🔹 Requisitos\n",
    "\n",
    "✅ No importa si el usuario ingresa mayúsculas o minúsculas (deben contarse igual).  \n",
    "✅ Solo se cuentan vocales en inglés (a, e, i, o, u).  \n",
    "✅ Se debe manejar el caso en que la entrada esté vacía y pedirla de nuevo.  \n",
    "✅ Se recomienda usar un diccionario para almacenar el conteo de vocales.  "
   ]
  },
  {
   "cell_type": "code",
   "execution_count": 32,
   "id": "53e87802-b35a-4ad6-89ac-21b1551688b9",
   "metadata": {},
   "outputs": [
    {
     "name": "stdin",
     "output_type": "stream",
     "text": [
      ">>> Please enter a sentence:  Python is amazing!\n"
     ]
    },
    {
     "name": "stdout",
     "output_type": "stream",
     "text": [
      "\n",
      "Vowel count:\n",
      "a → 2\n",
      "e → 0\n",
      "i → 2\n",
      "o → 1\n",
      "u → 0\n",
      "\n",
      "Total vowels: 5\n"
     ]
    }
   ],
   "source": [
    "# Dictionary to store the count of vowels\n",
    "vowels = {'a': 0, 'e': 0, 'i': 0, 'o': 0, 'u': 0}\n",
    "\n",
    "while True:\n",
    "    # Prompt the user to enter a sentence\n",
    "    sentence = input('>>> Please enter a sentence: ').strip().lower()\n",
    "\n",
    "    # Check if the input is empty\n",
    "    if sentence == '':\n",
    "        print('⚠️ You entered an empty sentence. Try again.')\n",
    "        continue\n",
    "\n",
    "    # Iterate through each character in the sentence\n",
    "    for char in sentence:\n",
    "        if char in vowels:  # If the character is a vowel, update the count\n",
    "            vowels[char] += 1\n",
    "\n",
    "    # Display the vowel count\n",
    "    print(\"\\nVowel count:\")\n",
    "    for vowel, count in vowels.items():\n",
    "        print(f\"{vowel} → {count}\")\n",
    "\n",
    "    # Display the total number of vowels found\n",
    "    print(f\"\\nTotal vowels: {sum(vowels.values())}\")\n",
    "    break  # Exit the loop after processing the input"
   ]
  }
 ],
 "metadata": {
  "kernelspec": {
   "display_name": "Python 3 (ipykernel)",
   "language": "python",
   "name": "python3"
  },
  "language_info": {
   "codemirror_mode": {
    "name": "ipython",
    "version": 3
   },
   "file_extension": ".py",
   "mimetype": "text/x-python",
   "name": "python",
   "nbconvert_exporter": "python",
   "pygments_lexer": "ipython3",
   "version": "3.12.3"
  }
 },
 "nbformat": 4,
 "nbformat_minor": 5
}
