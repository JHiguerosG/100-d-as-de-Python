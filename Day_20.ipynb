{
 "cells": [
  {
   "cell_type": "markdown",
   "id": "9fbd66cc-e910-4f20-99a3-09c4ca827279",
   "metadata": {},
   "source": [
    "# 🧠 Reto 20: Juego del Ahorcado 🧠\n",
    "\n",
    "## 🏆 Objetivo:\n",
    "\n",
    "El objetivo de este reto es desarrollar una versión en consola del clásico juego del ahorcado.\n",
    "\n",
    "## 📝 Requisitos:\n",
    "\n",
    "1️⃣ \\_Selección de palabra\\_: El programa debe seleccionar una palabra al azar de una lista predefinida.  \n",
    "2️⃣ \\_Interacción con el jugador\\_: Mostrar al jugador la cantidad de letras de la palabra con guiones bajos y solicitar que ingrese una letra en cada turno.  \n",
    "3️⃣ \\_Validación de entrada\\_: Verificar que el jugador ingrese solo una letra y que no la haya ingresado previamente.  \n",
    "4️⃣ \\_Actualización del estado del juego\\_: Si la letra está en la palabra, revelar su posición o posiciones; si no, incrementar el contador de intentos fallidos.  \n",
    "5️⃣ \\_Límite de intentos\\_: Establecer un número máximo de intentos fallidos (por ejemplo, 6).  \n",
    "6️⃣ \\_Finalización del juego\\_: El juego termina cuando el jugador adivina toda la palabra o alcanza el número máximo de intentos fallidos.  \n",
    "\n",
    "## 📌 Ejemplo de ejecución:\n",
    "\n",
    "¡Bienvenido al juego del ahorcado!  \n",
    "Palabra: _ _ _ _ _ _  \n",
    "\n",
    "Ingresa una letra: a  \n",
    "¡Bien hecho! La letra 'a' está en la palabra.  \n",
    "Palabra: a _ a _ _ a  \n",
    " \n",
    "Ingresa una letra: e  \n",
    "Lo siento, la letra 'e' no está en la palabra.  \n",
    "Intentos restantes: 5  \n",
    "\n",
    "Ingresa una letra: m  \n",
    "¡Bien hecho! La letra 'm' está en la palabra.  \n",
    "Palabra: a m a _ _ a  \n",
    "\n",
    "Ingresa una letra: l  \n",
    "¡Felicidades! Has adivinado la palabra: amanda  \n",
    "\n",
    "\n",
    "## 🔍 Pistas:\n",
    "\n",
    "🔹 Utiliza una lista para almacenar las palabras posibles.  \n",
    "🔹 Emplea una lista o cadena para mostrar el progreso del jugador.  \n",
    "🔹 Usa un conjunto para llevar registro de las letras que el jugador ya ha intentado.  \n",
    "🔹 Considera crear una función para cada parte principal del juego: selección de palabra, visualización del estado actual, manejo de la entrada del jugador y verificación de la condición de victoria o derrota.  "
   ]
  },
  {
   "cell_type": "code",
   "execution_count": 21,
   "id": "0fe845c8-776d-4c7e-956c-29f4d3ba976f",
   "metadata": {},
   "outputs": [
    {
     "name": "stdout",
     "output_type": "stream",
     "text": [
      "🎯 Welcome to the Hangman game! 🎯\n",
      "\n",
      "\n",
      "Word: _ _ _ _ _\n"
     ]
    },
    {
     "name": "stdin",
     "output_type": "stream",
     "text": [
      "\n",
      "🔤 Enter a letter:  p\n"
     ]
    },
    {
     "name": "stdout",
     "output_type": "stream",
     "text": [
      "✅ Well done! The letter 'p' is in the word.\n",
      "\n",
      "Word: _ _ _ p _\n"
     ]
    },
    {
     "name": "stdin",
     "output_type": "stream",
     "text": [
      "\n",
      "🔤 Enter a letter:  o\n"
     ]
    },
    {
     "name": "stdout",
     "output_type": "stream",
     "text": [
      "✅ Well done! The letter 'o' is in the word.\n",
      "\n",
      "Word: _ o o p _\n"
     ]
    },
    {
     "name": "stdin",
     "output_type": "stream",
     "text": [
      "\n",
      "🔤 Enter a letter:  l\n"
     ]
    },
    {
     "name": "stdout",
     "output_type": "stream",
     "text": [
      "✅ Well done! The letter 'l' is in the word.\n",
      "\n",
      "Word: l o o p _\n"
     ]
    },
    {
     "name": "stdin",
     "output_type": "stream",
     "text": [
      "\n",
      "🔤 Enter a letter:  s\n"
     ]
    },
    {
     "name": "stdout",
     "output_type": "stream",
     "text": [
      "✅ Well done! The letter 's' is in the word.\n",
      "\n",
      "Word: l o o p s\n",
      "\n",
      "🎉 Congratulations! You guessed the word correctly.\n"
     ]
    }
   ],
   "source": [
    "import random\n",
    "\n",
    "# List of words\n",
    "words = [\"python\", \"programming\", \"hangman\", \"development\", \"computer\", \"lists\", \"dictionaries\",\n",
    "         \"tuples\", \"variables\", \"functions\", \"algorithms\", \"loops\", \"conditionals\", \"classes\",\n",
    "         \"objects\", \"modules\", \"packages\", \"debugging\", \"syntax\", \"compiler\"]\n",
    "\n",
    "# Randomly select the secret word\n",
    "secret_word = random.choice(words)\n",
    "guessed_letters = set()\n",
    "wrong_letters = set()\n",
    "failed_attempts = 0\n",
    "max_attempts = 6\n",
    "\n",
    "print(\"🎯 Welcome to the Hangman game! 🎯\\n\")\n",
    "\n",
    "while failed_attempts < max_attempts:\n",
    "    # Display the word progress\n",
    "    displayed_word = ' '.join([letter if letter in guessed_letters else '_' for letter in secret_word])\n",
    "    print(\"\\nWord:\", displayed_word)\n",
    "\n",
    "    # Check if the word has been fully guessed\n",
    "    if \"_\" not in displayed_word:\n",
    "        print(\"\\n🎉 Congratulations! You guessed the word correctly.\")\n",
    "        break\n",
    "\n",
    "    # Ask the user for a letter\n",
    "    letter = input(\"\\n🔤 Enter a letter: \").lower().strip()\n",
    "\n",
    "    # Validate input\n",
    "    if len(letter) != 1 or not letter.isalpha():\n",
    "        print(\"⚠️ Error: Please enter a valid single letter.\")\n",
    "        continue\n",
    "    if letter in guessed_letters or letter in wrong_letters:\n",
    "        print(\"⚠️ You've already tried this letter. Try another one.\")\n",
    "        continue\n",
    "\n",
    "    # Check if the letter is in the word\n",
    "    if letter in secret_word:\n",
    "        guessed_letters.add(letter)\n",
    "        print(f\"✅ Well done! The letter '{letter}' is in the word.\")\n",
    "    else:\n",
    "        wrong_letters.add(letter)\n",
    "        failed_attempts += 1\n",
    "        print(f\"❌ The letter '{letter}' is not in the word.\")\n",
    "        print(f\"💀 Failed attempts: {failed_attempts}/{max_attempts}\")\n",
    "\n",
    "# Losing message\n",
    "if failed_attempts == max_attempts:\n",
    "    print(f\"\\n😞 Sorry, you lost. The word was: {secret_word}\")\n"
   ]
  }
 ],
 "metadata": {
  "kernelspec": {
   "display_name": "Python 3 (ipykernel)",
   "language": "python",
   "name": "python3"
  },
  "language_info": {
   "codemirror_mode": {
    "name": "ipython",
    "version": 3
   },
   "file_extension": ".py",
   "mimetype": "text/x-python",
   "name": "python",
   "nbconvert_exporter": "python",
   "pygments_lexer": "ipython3",
   "version": "3.12.3"
  }
 },
 "nbformat": 4,
 "nbformat_minor": 5
}
