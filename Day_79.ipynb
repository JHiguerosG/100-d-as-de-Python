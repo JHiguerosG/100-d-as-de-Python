{
 "cells": [
  {
   "cell_type": "markdown",
   "id": "e81b24ba-987c-47ff-ae0d-7b51508436b5",
   "metadata": {},
   "source": [
    "# 🚺 Reto 79: Analizador de Ciclo Menstrual 🚺\n",
    "\n",
    "## 🏆 Objetivo:\n",
    "\n",
    "Crear una herramienta que permita a una persona llevar el seguimiento de su ciclo menstrual, incluyendo fechas de inicio, duración promedio del ciclo, y predicción de próximos periodos, días fértiles y de ovulación.\n",
    "\n",
    "## 📝 Requisitos:\n",
    "\n",
    "1️⃣ Solicitar al usuario:  \n",
    "🔸 Fecha del último periodo (formato: `DD-MM-AAAA`)  \n",
    "🔸 Duración promedio del ciclo menstrual (en días)  \n",
    "🔸 Duración promedio del periodo (en días)  \n",
    "2️⃣ Calcular:  \n",
    "🔸 Fecha estimada del próximo periodo  \n",
    "🔸 Fecha estimada de ovulación (generalmente 14 días antes del próximo periodo)  \n",
    "🔸 Rango de días fértiles (generalmente 5 días antes y 1 después de la ovulación)  \n",
    "3️⃣ Mostrar toda la información al usuario en formato claro.  \n",
    "4️⃣ Validar que las fechas sean válidas y consistentes.  \n",
    "5️⃣ Usar la librería `datetime`.  \n",
    " \n",
    "## 📌 Ejemplo de ejecución:\n",
    "\n",
    "📅 Fecha del último periodo (DD-MM-AAAA): 25-04-2025    \n",
    "🔁 Duración promedio del ciclo (en días): 28   \n",
    "🩸 Duración promedio del periodo (en días): 5  \n",
    "\n",
    "📆 Próximo periodo estimado: 23-05-2025 al 28-05-2025      \n",
    "📆 Ovulación estimada: 09-05-2025  \n",
    "🌸 Días fértiles estimados: del 04-05-2025 al 10-05-2025    \n",
    "\n",
    "## 🔍 Pistas:\n",
    "\n",
    "🔹 Usa `datetime.strptime()` para convertir cadenas a fechas.  \n",
    "🔹 Usa `timedelta(days=...)` para hacer cálculos con fechas.  \n",
    "🔹 La ovulación ocurre usualmente 14 días antes del siguiente periodo.  \n",
    "🔹 El rango fértil es desde 5 días antes hasta 1 después de la ovulación.  "
   ]
  },
  {
   "cell_type": "code",
   "execution_count": 6,
   "id": "5a16be96-897d-4b8c-8b44-4d27c826d2bf",
   "metadata": {},
   "outputs": [
    {
     "name": "stdin",
     "output_type": "stream",
     "text": [
      "📅 Ingresa la fecha de de inicio de tu último período (DD-MM-AAAA):  25-04-2025\n",
      "🔁 Ingresa la duración de tu ciclo menstrual (entre 21 y 35 días):  28\n",
      "🩸 Ingresa la duración de tu período menstrual (entre 2 y 7 días):  5\n"
     ]
    },
    {
     "name": "stdout",
     "output_type": "stream",
     "text": [
      "\n",
      "📆 Próximo periodo estimado: 23-05-2025 al 28-05-2025\n",
      "📆 Ovulación estimada: 09-05-2025\n",
      "🌸 Días fértiles estimados: del 04-05-2025 al 10-05-2025\n",
      "\n"
     ]
    }
   ],
   "source": [
    "from datetime import datetime, timedelta\n",
    "\n",
    "def calcular_ciclo_menstrual(fecha_ultimo_periodo, duracion_ciclo, duracion_periodo):\n",
    "    try:\n",
    "        fecha_ultimo_periodo = datetime.strptime(fecha_ultimo_periodo, \"%d-%m-%Y\")\n",
    "    except ValueError:\n",
    "        return \"❌ Formato de fecha inválido. Usa DD-MM-AAAA.\"\n",
    "\n",
    "    # Validación médica\n",
    "    if not (21 <= duracion_ciclo <= 35):\n",
    "        return \"❌ La duración del ciclo debe estar entre 21 y 35 días (valores normales).\"\n",
    "    if not (2 <= duracion_periodo <= 7):\n",
    "        return \"❌ La duración del período debe estar entre 2 y 7 días (valores normales).\"\n",
    "\n",
    "    fecha_proximo_periodo = fecha_ultimo_periodo + timedelta(days=duracion_ciclo)\n",
    "    fecha_ovulacion = fecha_proximo_periodo - timedelta(days=14)\n",
    "    fecha_inicio_fertilidad = fecha_ovulacion - timedelta(days=5)\n",
    "    fecha_fin_fertilidad = fecha_ovulacion + timedelta(days=1)\n",
    "    fecha_fin_proximo_periodo = fecha_proximo_periodo + timedelta(days=duracion_periodo)\n",
    "\n",
    "    return f\"\"\"\n",
    "📆 Próximo periodo estimado: {fecha_proximo_periodo.strftime('%d-%m-%Y')} al {fecha_fin_proximo_periodo.strftime('%d-%m-%Y')}\n",
    "📆 Ovulación estimada: {fecha_ovulacion.strftime('%d-%m-%Y')}\n",
    "🌸 Días fértiles estimados: del {fecha_inicio_fertilidad.strftime('%d-%m-%Y')} al {fecha_fin_fertilidad.strftime('%d-%m-%Y')}\n",
    "\"\"\"\n",
    "\n",
    "# Solicitar datos al usuario\n",
    "fecha_ultimo_periodo = input(\"📅 Ingresa la fecha de de inicio de tu último período (DD-MM-AAAA): \")\n",
    "try:\n",
    "    duracion_ciclo = int(input(\"🔁 Ingresa la duración de tu ciclo menstrual (entre 21 y 35 días): \"))\n",
    "    duracion_periodo = int(input(\"🩸 Ingresa la duración de tu período menstrual (entre 2 y 7 días): \"))\n",
    "except ValueError:\n",
    "    print(\"❌ Error: La duración del ciclo y del período deben ser números enteros.\")\n",
    "else:\n",
    "    resultado = calcular_ciclo_menstrual(fecha_ultimo_periodo, duracion_ciclo, duracion_periodo)\n",
    "    print(resultado)\n"
   ]
  }
 ],
 "metadata": {
  "kernelspec": {
   "display_name": "Python 3 (ipykernel)",
   "language": "python",
   "name": "python3"
  },
  "language_info": {
   "codemirror_mode": {
    "name": "ipython",
    "version": 3
   },
   "file_extension": ".py",
   "mimetype": "text/x-python",
   "name": "python",
   "nbconvert_exporter": "python",
   "pygments_lexer": "ipython3",
   "version": "3.12.3"
  }
 },
 "nbformat": 4,
 "nbformat_minor": 5
}
