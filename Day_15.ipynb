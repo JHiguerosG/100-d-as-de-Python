{
 "cells": [
  {
   "cell_type": "markdown",
   "id": "03783575-dfa4-49ab-a7e9-5f56e70f203e",
   "metadata": {},
   "source": [
    "# 🔥 Reto #15: Contador de Palabras Más Frecuentes 🔥\n",
    "\n",
    "## 🏆 Objetivo:\n",
    "\n",
    "Escribe un programa en Python que solicite al usuario un texto y determine cuáles son las N palabras más frecuentes en ese texto. El usuario también debe especificar el número N de palabras que quiere ver en el ranking.\n",
    "\n",
    "## 📝 Requisitos:\n",
    "\n",
    "1. Ignorar mayúsculas y minúsculas (el conteo debe ser insensible a mayúsculas).  \n",
    "2. Ignorar signos de puntuación (ejemplo: \"casa\" y \"casa,\" deben contarse como la misma palabra).  \n",
    "3. Mostrar solo palabras, no números (ejemplo: \"2024\" no se debe considerar).  \n",
    "4.  Pedirle al usuario cuántas palabras más frecuentes desea ver.\n",
    "5. Manejar errores en caso de que el usuario no ingrese un número válido.\n",
    "\n",
    "## 🎯 Ejemplo de ejecución:\n",
    "\n",
    "\\>>> Ingresa un texto: Python es increíble. Python es poderoso y versátil. Me encanta Python.  \n",
    "\\>>> ¿Cuántas palabras más frecuentes deseas ver? 2  \n",
    "\n",
    "📊 Palabras más frecuentes:\n",
    "1. python → 3 veces\n",
    "2. es → 2 veces"
   ]
  },
  {
   "cell_type": "code",
   "execution_count": 39,
   "id": "db7b5ce6-00a6-4317-ad9a-4f349d24c510",
   "metadata": {},
   "outputs": [],
   "source": [
    "import re\n",
    "from collections import Counter\n",
    "\n",
    "def unique_word_counter(text):\n",
    "    '''\n",
    "    Counts the frequency of unique words in a text string.\n",
    "    \n",
    "    :param text: Text string input by the user.\n",
    "    :return: A Counter object with word frequencies.\n",
    "    '''\n",
    "    # Regular expression to replace any character that is not alphanumeric, whitespace, or apostrophe with an empty string ('')\n",
    "    text_cleaned = re.sub(r\"[^\\w\\s']\", '', text).lower() \n",
    "    \n",
    "    # Tokenize words\n",
    "    word_list = text_cleaned.split()\n",
    "\n",
    "    # Count word frequencies\n",
    "    word_count = Counter(word_list)\n",
    "\n",
    "    return word_count\n"
   ]
  },
  {
   "cell_type": "code",
   "execution_count": 41,
   "id": "126571d7-cb61-4d47-956f-5baf53df170b",
   "metadata": {},
   "outputs": [
    {
     "name": "stdin",
     "output_type": "stream",
     "text": [
      ">>> Enter a text, sentence or phrase or q to quit:  HOla mundo\n",
      ">>> How many most frequent words do you want to see?  1\n"
     ]
    },
    {
     "name": "stdout",
     "output_type": "stream",
     "text": [
      "\n",
      "📊 Most frequent words:\n",
      "\n",
      "    hola     →   1   times\n",
      "\n"
     ]
    },
    {
     "name": "stdin",
     "output_type": "stream",
     "text": [
      ">>> Enter a text, sentence or phrase or q to quit:  Python es poderoso y versátil. Me encanta Python.\n",
      ">>> How many most frequent words do you want to see?  3\n"
     ]
    },
    {
     "name": "stdout",
     "output_type": "stream",
     "text": [
      "\n",
      "📊 Most frequent words:\n",
      "\n",
      "   python    →   2   times\n",
      "     es      →   1   times\n",
      "  poderoso   →   1   times\n",
      "\n"
     ]
    },
    {
     "name": "stdin",
     "output_type": "stream",
     "text": [
      ">>> Enter a text, sentence or phrase or q to quit:  q\n"
     ]
    },
    {
     "name": "stdout",
     "output_type": "stream",
     "text": [
      "Program terminated\n"
     ]
    }
   ],
   "source": [
    "while True:\n",
    "    text = input('>>> Enter a text, sentence or phrase or q to quit: ')\n",
    "    if text == 'q':\n",
    "        print('Program terminated')\n",
    "        break\n",
    "    else:\n",
    "        num_words_to_show = input('>>> How many most frequent words do you want to see? ')\n",
    "        if not num_words_to_show.isdigit():\n",
    "            print('You can only enter numbers. Try again.')\n",
    "            continue\n",
    "        else: \n",
    "            word_count = unique_word_counter(text)\n",
    "            total_unique_words = len(word_count)\n",
    "            num_words_to_show = int(num_words_to_show)\n",
    "            \n",
    "            if num_words_to_show > total_unique_words:\n",
    "                print(f'There are only {total_unique_words} unique words. Showing all of them.')\n",
    "                num_words_to_show = total_unique_words\n",
    "            \n",
    "            print('\\n📊 Most frequent words:\\n')\n",
    "            most_common_words = word_count.most_common(num_words_to_show)\n",
    "            for word, frequency in most_common_words:\n",
    "                print(f'{word.center(12)} → {str(frequency).center(5)} times')\n",
    "            print()\n"
   ]
  }
 ],
 "metadata": {
  "kernelspec": {
   "display_name": "Python 3 (ipykernel)",
   "language": "python",
   "name": "python3"
  },
  "language_info": {
   "codemirror_mode": {
    "name": "ipython",
    "version": 3
   },
   "file_extension": ".py",
   "mimetype": "text/x-python",
   "name": "python",
   "nbconvert_exporter": "python",
   "pygments_lexer": "ipython3",
   "version": "3.12.3"
  }
 },
 "nbformat": 4,
 "nbformat_minor": 5
}
