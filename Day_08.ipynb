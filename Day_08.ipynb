{
 "cells": [
  {
   "cell_type": "markdown",
   "id": "0098917e-7b04-4e7b-8ffe-1e4f8cc3ce5b",
   "metadata": {},
   "source": [
    "# 🔹 Reto 9: Cifrado César\n",
    "\n",
    "## 📝 Instrucciones:  \n",
    "\n",
    "Crea un programa en Python que implemente el Cifrado César, un método de cifrado simple que desplaza las letras del alfabeto un número determinado de posiciones.\n",
    "\n",
    "## 📝 Requisitos:  \n",
    "\n",
    "1️⃣ El usuario ingresará un mensaje de texto y un número entero positivo que representará el desplazamiento.  \n",
    "2️⃣ El programa cifrará el mensaje desplazando cada letra del alfabeto la cantidad de veces indicada.  \n",
    "3️⃣ Opcional: Agregar la opción de descifrar un mensaje.  \n",
    "4️⃣ El programa debe mantener los espacios y los signos de puntuación sin cambios.  \n",
    "\n",
    "## 📌 Ejemplos de ejecución:\n",
    "\n",
    "### Entrada:\n",
    "\\>>> Mensaje: \"hola mundo\"  \n",
    "\\>>> Desplazamiento: 3\n",
    "\n",
    "### Salida:\n",
    "\"krod pxqgr\"\n",
    "\n",
    "## 🔍 Pistas:  \n",
    "\n",
    "🔹 Usa la función ord() para obtener el valor ASCII de un carácter y chr() para convertirlo de nuevo a una letra.  \n",
    "🔹 Recuerda que el alfabeto tiene 26 letras en inglés y 27 en español (si consideramos la ñ).  "
   ]
  },
  {
   "cell_type": "code",
   "execution_count": 3,
   "id": "9ea89e5d-13ef-4ad0-adbd-c5ada077d7e6",
   "metadata": {},
   "outputs": [],
   "source": [
    "def encrypt(message, key):\n",
    "    caesar_cipher = []\n",
    "\n",
    "    for char in message:\n",
    "        if char.isalpha():  # Verifica si es una letra\n",
    "            if char in \"ñÑ\":  # Caso especial para la ñ y Ñ\n",
    "                new_char = \"ñ\" if char == \"ñ\" else \"Ñ\"\n",
    "            else:\n",
    "                base = ord('A') if char.isupper() else ord('a')\n",
    "                new_char = chr(base + (ord(char) - base + key) % 26)  # Rotación circular\n",
    "        else:\n",
    "            new_char = char  # No modifica caracteres no alfabéticos\n",
    "\n",
    "        caesar_cipher.append(new_char)\n",
    "\n",
    "    return ''.join(caesar_cipher)"
   ]
  },
  {
   "cell_type": "code",
   "execution_count": 4,
   "id": "5c6d15f1-c8ec-492b-853c-76a4abbcf2d3",
   "metadata": {},
   "outputs": [
    {
     "data": {
      "text/plain": [
       "'Krod pxqgr'"
      ]
     },
     "execution_count": 4,
     "metadata": {},
     "output_type": "execute_result"
    }
   ],
   "source": [
    "encrypt('Hola mundo', 3)"
   ]
  },
  {
   "cell_type": "code",
   "execution_count": 5,
   "id": "f78a7aea-cb7a-4a00-8e17-01fa2048943b",
   "metadata": {},
   "outputs": [],
   "source": [
    "def decrypt(message, key):\n",
    "    return encrypt(message, -key)  # Desencriptar es igual, pero con el desplazamiento negativo"
   ]
  },
  {
   "cell_type": "code",
   "execution_count": 6,
   "id": "ebcc7ee1-2b31-46ed-aeb0-fb54cdbadc78",
   "metadata": {},
   "outputs": [
    {
     "data": {
      "text/plain": [
       "'Hola mundo'"
      ]
     },
     "execution_count": 6,
     "metadata": {},
     "output_type": "execute_result"
    }
   ],
   "source": [
    "decrypt('Krod pxqgr', 3)"
   ]
  },
  {
   "cell_type": "code",
   "execution_count": 7,
   "id": "19b52909-520b-4bb5-9fa9-48ca65b4d52e",
   "metadata": {},
   "outputs": [
    {
     "name": "stdin",
     "output_type": "stream",
     "text": [
      "Encrypt or decrypt (en/de):  en\n",
      ">>> Enter the message to process:  Python is great!\n",
      ">>> Enter a positive integer:  5\n"
     ]
    },
    {
     "name": "stdout",
     "output_type": "stream",
     "text": [
      "Encrypted message: \"Udymts nx lwjfy!\"\n"
     ]
    }
   ],
   "source": [
    "while True:\n",
    "    action = input(\"Encrypt or decrypt (en/de): \").strip().lower()\n",
    "    if action in [\"en\", \"de\"]:\n",
    "        break\n",
    "    print(\"❌ Invalid choice. Please enter 'en' for encrypt or 'de' for decrypt.\")\n",
    "\n",
    "message = input('>>> Enter the message to process: ')\n",
    "\n",
    "while True:\n",
    "    try:\n",
    "        key = int(input('>>> Enter a positive integer: '))\n",
    "        if key < 1:\n",
    "            print('❌ You can only enter a positive integer')\n",
    "            continue\n",
    "        break\n",
    "    except ValueError:\n",
    "        print('❌ You can only enter a positive integer')\n",
    "\n",
    "result = encrypt(message, key) if action == \"en\" else decrypt(message, key)\n",
    "\n",
    "print(f'Encrypted message: \"{result}\"' if action == \"en\" else f'Decrypted message: \"{result}\"')"
   ]
  }
 ],
 "metadata": {
  "kernelspec": {
   "display_name": "Python 3 (ipykernel)",
   "language": "python",
   "name": "python3"
  },
  "language_info": {
   "codemirror_mode": {
    "name": "ipython",
    "version": 3
   },
   "file_extension": ".py",
   "mimetype": "text/x-python",
   "name": "python",
   "nbconvert_exporter": "python",
   "pygments_lexer": "ipython3",
   "version": "3.12.3"
  }
 },
 "nbformat": 4,
 "nbformat_minor": 5
}
