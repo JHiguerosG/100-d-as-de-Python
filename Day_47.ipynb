{
 "cells": [
  {
   "cell_type": "markdown",
   "id": "25282d24-f455-4da4-b84e-0e56a0755eb6",
   "metadata": {},
   "source": [
    "# 🧠 Reto 47: Generador de Resúmenes de Texto 🧠\n",
    "\n",
    "## 🏆 Objetivo:\n",
    "\n",
    "Crear un programa que pueda generar un resumen de un texto largo, reduciendo su extensión sin perder el significado esencial.\n",
    "\n",
    "## 📝 Requisitos:\n",
    "1️⃣ El usuario deberá ingresar o proporcionar un texto extenso.  \n",
    "2️⃣ El programa deberá procesar el texto y generar un resumen condensado.  \n",
    "3️⃣ Se debe utilizar un método de procesamiento de lenguaje natural (`NLP`) para identificar las oraciones más importantes.  \n",
    "4️⃣ La salida debe ser un texto con el resumen, manteniendo la coherencia y legibilidad.  \n",
    "5️⃣ Debe mostrar el porcentaje de reducción con respecto al texto original.  \n",
    "\n",
    "## 📌 Ejemplo de ejecución:\n",
    "\n",
    "Entrada:  \n",
    "*\"Python es un lenguaje de programación interpretado cuya filosofía hace hincapié en la legibilidad de su código. Es un lenguaje de propósito general que admite múltiples paradigmas de programación, incluyendo programación orientada a objetos, programación imperativa y programación funcional. Python es administrado por la Python Software Foundation y su comunidad de usuarios contribuye activamente a su desarrollo.\"*\n",
    "\n",
    "Salida:  \n",
    "*\"Python es un lenguaje interpretado que enfatiza la legibilidad y admite múltiples paradigmas de programación.\"*  \n",
    "\n",
    "(Reducción del 60%)  \n",
    "\n",
    "## 🔍 Pistas:\n",
    "\n",
    "🔹 Puedes utilizar bibliotecas de `NLP` como `sumy` o `spaCy` para extraer las oraciones más importantes.  \n",
    "🔹 Analiza la frecuencia de las palabras clave para determinar qué oraciones conservar.  \n",
    "🔹 Experimenta con diferentes métodos de resumen, como la extracción de frases clave o la reducción basada en algoritmos de grafos.  "
   ]
  },
  {
   "cell_type": "code",
   "execution_count": 31,
   "id": "3478c894-5e47-4389-bdd9-98ef99512738",
   "metadata": {},
   "outputs": [],
   "source": [
    "from sumy.parsers.plaintext import PlaintextParser\n",
    "from sumy.nlp.tokenizers import Tokenizer\n",
    "from sumy.summarizers.lsa import LsaSummarizer\n",
    "from sumy.nlp.stemmers import Stemmer\n",
    "from sumy.utils import get_stop_words\n",
    "\n",
    "def generate_summary(text, num_sentences=1):\n",
    "    \"\"\"\n",
    "    Generates a summary of the given text using Latent Semantic Analysis (LSA).\n",
    "    Args:\n",
    "        text (str): The input text to be summarized.\n",
    "        num_sentences (int): The number of sentences to include in the summary. Defaults to 1.\n",
    "    Returns:\n",
    "        None: Prints the summary and the text reduction percentage.\n",
    "    \"\"\"\n",
    "    if not text.strip():\n",
    "        print(\"⚠️ Error: No valid text was provided.\")\n",
    "        return\n",
    "\n",
    "    # Process the input text with a parser\n",
    "    parser = PlaintextParser.from_string(text, Tokenizer(\"spanish\"))\n",
    "    stemmer = Stemmer(\"spanish\")\n",
    "    summarizer = LsaSummarizer(stemmer)\n",
    "    summarizer.stop_words = get_stop_words(\"spanish\")\n",
    "\n",
    "    # Limit the number of sentences to the maximum available in the original text\n",
    "    num_sentences = min(num_sentences, len(parser.document.sentences))\n",
    "    summary = summarizer(parser.document, num_sentences)\n",
    "\n",
    "    # Calculate the reduction percentage (avoid division by zero)\n",
    "    if len(parser.document.sentences) > 1:\n",
    "        reduction = 100 - ((len(summary) / len(parser.document.sentences)) * 100)\n",
    "    else:\n",
    "        reduction = 0\n",
    "\n",
    "    # Display the results\n",
    "    print(\"\\n📌 Summary:\")\n",
    "    for sentence in summary:\n",
    "        print(sentence)\n",
    "\n",
    "    print(f\"\\n🔻 Reduction: {reduction:.2f}%\")\n"
   ]
  },
  {
   "cell_type": "code",
   "execution_count": 33,
   "id": "1cd9946c-f1d1-493e-87aa-c11aa6b3f6dc",
   "metadata": {},
   "outputs": [
    {
     "name": "stdin",
     "output_type": "stream",
     "text": [
      "Input: \n",
      " Python es un lenguaje de programación de alto nivel que fue creado a finales de los años 80 por Guido van Rossum, un programador holandés. Su desarrollo comenzó en diciembre de 1989 durante su tiempo en el Centro de Investigación para las Matemáticas y la Informática (CWI) en los Países Bajos. Van Rossum buscaba un lenguaje fácil de aprender y usar, que también fuera lo suficientemente poderoso para manejar tareas complejas. Tomó inspiración del lenguaje de programación ABC, del cual adoptó varias características clave, como la simplicidad en la sintaxis, pero con mejoras significativas. El nombre \"Python\" no tiene relación con la serpiente, sino que fue inspirado por el programa de comedia británico Monty Python's Flying Circus, del cual Guido era fanático. El humor ligero y la claridad del programa reflejaban los objetivos que él tenía para el lenguaje: ser divertido, accesible y flexible. En 1991, Python fue lanzado públicamente como una versión 0.9.0, que ya incluía características distintivas como las funciones, las excepciones y los módulos, los cuales facilitaban el trabajo colaborativo al dividir el código en partes reutilizables. A lo largo de los años, Python ganó popularidad debido a su enfoque en la legibilidad del código y a su capacidad para adaptarse a diferentes paradigmas de programación, como la programación funcional, imperativa y orientada a objetos. Fue adoptado por científicos, desarrolladores web y, más recientemente, por comunidades de aprendizaje automático y análisis de datos, gracias a bibliotecas como NumPy, pandas y TensorFlow. Hoy en día, Python es uno de los lenguajes más utilizados en el mundo. Es reconocido por ser una herramienta indispensable tanto para principiantes como para expertos, y su comunidad activa sigue desarrollando y mejorando el lenguaje para mantener su relevancia y simplicidad, cumpliendo con la filosofía original de Guido van Rossum: un lenguaje para todos.\n"
     ]
    },
    {
     "name": "stdout",
     "output_type": "stream",
     "text": [
      "\n",
      "📌 Summary:\n",
      "Van Rossum buscaba un lenguaje fácil de aprender y usar, que también fuera lo suficientemente poderoso para manejar tareas complejas.\n",
      "El nombre \"Python\" no tiene relación con la serpiente, sino que fue inspirado por el programa de comedia británico Monty Python's Flying Circus, del cual Guido era fanático.\n",
      "En 1991, Python fue lanzado públicamente como una versión 0.9.0, que ya incluía características distintivas como las funciones, las excepciones y los módulos, los cuales facilitaban el trabajo colaborativo al dividir el código en partes reutilizables.\n",
      "\n",
      "🔻 Reduction: 72.73%\n"
     ]
    }
   ],
   "source": [
    "# User input\n",
    "text = input('Input: \\n').strip()\n",
    "\n",
    "# Number of sentences for the summary (can be adjusted)\n",
    "num_sentences = 3\n",
    "\n",
    "# Generate the summary\n",
    "generate_summary(text, num_sentences)\n"
   ]
  }
 ],
 "metadata": {
  "kernelspec": {
   "display_name": "Python 3 (ipykernel)",
   "language": "python",
   "name": "python3"
  },
  "language_info": {
   "codemirror_mode": {
    "name": "ipython",
    "version": 3
   },
   "file_extension": ".py",
   "mimetype": "text/x-python",
   "name": "python",
   "nbconvert_exporter": "python",
   "pygments_lexer": "ipython3",
   "version": "3.12.3"
  }
 },
 "nbformat": 4,
 "nbformat_minor": 5
}
