{
 "cells": [
  {
   "cell_type": "markdown",
   "id": "81a546af-4c7c-4160-97d9-bb59b3c60a14",
   "metadata": {},
   "source": [
    "# 🧠 Reto 67: Generador de Trivias Aleatorias 🧠\n",
    "\n",
    "## 🏆 Objetivo:\n",
    "\n",
    "Crear un programa que genere preguntas de trivia aleatorias para el usuario, evalúe su respuesta y lleve un puntaje total. El juego debe mostrar una pregunta con varias opciones de respuesta (múltiple opción), aceptar la elección del usuario, indicar si fue correcta o incorrecta y mostrar el puntaje al final.\n",
    "\n",
    "## 📝 Requisitos:\n",
    "\n",
    "1️⃣ Crear una lista de al menos 10 preguntas con sus opciones y respuesta correcta.  \n",
    "2️⃣ Mostrar al usuario una pregunta aleatoria con sus 4 opciones (A, B, C, D).  \n",
    "3️⃣ Permitir que el usuario seleccione una opción.  \n",
    "4️⃣ Validar si la respuesta es correcta.  \n",
    "5️⃣ Llevar un conteo del puntaje total.  \n",
    "6️⃣ Al finalizar las preguntas, mostrar el puntaje obtenido sobre el total de preguntas.  \n",
    "\n",
    "## 📌 Ejemplo de ejecución:\n",
    "\n",
    "🎯 Pregunta 1:  \n",
    "¿Cuál es el planeta más grande del sistema solar?  \n",
    "A) Tierra  \n",
    "B) Marte  \n",
    "C) Júpiter  \n",
    "D) Saturno  \n",
    "👉 Tu respuesta: c  \n",
    "\n",
    "✅ ¡Correcto!  \n",
    "\n",
    "🎯 Pregunta 2:  \n",
    "¿Quién escribió “Cien años de soledad”?  \n",
    "A) Pablo Neruda  \n",
    "B) Gabriel García Márquez  \n",
    "C) Mario Vargas Llosa  \n",
    "D) Isabel Allende  \n",
    "👉 Tu respuesta: a  \n",
    "\n",
    "❌ Incorrecto. La respuesta correcta era: B  \n",
    "\n",
    "📊 Puntuación final: 1/2  \n",
    "\n",
    "## 🔍 Pistas:\n",
    "\n",
    "🔹 Puedes usar una lista de diccionarios para estructurar las preguntas.  \n",
    "🔹 Usa `random.sample()` para barajar el orden de las preguntas.  \n",
    "🔹 Usa `.lower()` o `.upper()` para normalizar la entrada del usuario.  \n",
    "🔹 Usa `input()` para recibir la respuesta.  \n",
    "🔹 Lleva un contador de respuestas correctas.  "
   ]
  },
  {
   "cell_type": "code",
   "execution_count": 2,
   "id": "eb400eaa-aacf-42af-911d-a1dcb0049de9",
   "metadata": {},
   "outputs": [],
   "source": [
    "import random\n",
    "\n",
    "# Lista de preguntas\n",
    "preguntas = [\n",
    "    {\n",
    "        \"pregunta\": \"¿Cuál es el planeta más grande del sistema solar?\",\n",
    "        \"opciones\": [\"A) Tierra\", \"B) Marte\", \"C) Júpiter\", \"D) Saturno\"],\n",
    "        \"respuesta_correcta\": \"C\"\n",
    "    },\n",
    "    {\n",
    "        \"pregunta\": \"¿Quién escribió 'Cien años de soledad'?\",\n",
    "        \"opciones\": [\"A) Pablo Neruda\", \"B) Gabriel García Márquez\", \"C) Mario Vargas Llosa\", \"D) Isabel Allende\"],\n",
    "        \"respuesta_correcta\": \"B\"\n",
    "    },\n",
    "    # Agregar más preguntas aquí\n",
    "]\n",
    "\n",
    "# Función principal\n",
    "def jugar_trivia():\n",
    "    puntaje = 0\n",
    "    preguntas_random = random.sample(preguntas, len(preguntas))  # Baraja las preguntas\n",
    "\n",
    "    for i, pregunta in enumerate(preguntas_random, 1):\n",
    "        print(f\"\\n🎯 Pregunta {i}: {pregunta['pregunta']}\")\n",
    "        for opcion in pregunta['opciones']:\n",
    "            print(opcion)\n",
    "        \n",
    "        respuesta = input(\"👉 Tu respuesta: \").strip().upper()\n",
    "        while respuesta not in [\"A\", \"B\", \"C\", \"D\"]:\n",
    "            respuesta = input(\"❗ Ingresa una opción válida (A, B, C, D): \").strip().upper()\n",
    "\n",
    "        if respuesta == pregunta[\"respuesta_correcta\"]:\n",
    "            print(\"✅ ¡Correcto!\")\n",
    "            puntaje += 1\n",
    "        else:\n",
    "            idx_correcto = ord(pregunta[\"respuesta_correcta\"]) - ord(\"A\")\n",
    "            respuesta_correcta_texto = pregunta[\"opciones\"][idx_correcto]\n",
    "            print(f\"❌ Incorrecto. La respuesta correcta era: {respuesta_correcta_texto}\")\n",
    "\n",
    "    print(f\"\\n📊 Puntuación final: {puntaje}/{len(preguntas)}\")\n"
   ]
  },
  {
   "cell_type": "code",
   "execution_count": 3,
   "id": "957fc188-58df-444a-9b4f-8509f8a55aa3",
   "metadata": {},
   "outputs": [
    {
     "name": "stdout",
     "output_type": "stream",
     "text": [
      "\n",
      "🎯 Pregunta 1: ¿Cuál es el planeta más grande del sistema solar?\n",
      "A) Tierra\n",
      "B) Marte\n",
      "C) Júpiter\n",
      "D) Saturno\n"
     ]
    },
    {
     "name": "stdin",
     "output_type": "stream",
     "text": [
      "👉 Tu respuesta:  c\n"
     ]
    },
    {
     "name": "stdout",
     "output_type": "stream",
     "text": [
      "✅ ¡Correcto!\n",
      "\n",
      "🎯 Pregunta 2: ¿Quién escribió 'Cien años de soledad'?\n",
      "A) Pablo Neruda\n",
      "B) Gabriel García Márquez\n",
      "C) Mario Vargas Llosa\n",
      "D) Isabel Allende\n"
     ]
    },
    {
     "name": "stdin",
     "output_type": "stream",
     "text": [
      "👉 Tu respuesta:  b\n"
     ]
    },
    {
     "name": "stdout",
     "output_type": "stream",
     "text": [
      "✅ ¡Correcto!\n",
      "\n",
      "📊 Puntuación final: 2/2\n"
     ]
    }
   ],
   "source": [
    "# Ejecuta el juego\n",
    "jugar_trivia()"
   ]
  }
 ],
 "metadata": {
  "kernelspec": {
   "display_name": "Python 3 (ipykernel)",
   "language": "python",
   "name": "python3"
  },
  "language_info": {
   "codemirror_mode": {
    "name": "ipython",
    "version": 3
   },
   "file_extension": ".py",
   "mimetype": "text/x-python",
   "name": "python",
   "nbconvert_exporter": "python",
   "pygments_lexer": "ipython3",
   "version": "3.12.3"
  }
 },
 "nbformat": 4,
 "nbformat_minor": 5
}
