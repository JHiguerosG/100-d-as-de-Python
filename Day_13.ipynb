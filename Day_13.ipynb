{
 "cells": [
  {
   "cell_type": "markdown",
   "id": "2085cc1e-1d2f-4d85-8a25-7efb8ed63c4a",
   "metadata": {},
   "source": [
    "# 🔥 Reto 13: Conversor de Texto a Código Morse 🔥\n",
    "\n",
    "## 🏆 Objetivo:\n",
    "\n",
    "El Código Morse es un sistema de representación de caracteres que usa combinaciones de puntos (·) y rayas (−). En este reto, escribirás un programa que convierta un texto en Código Morse y viceversa.\n",
    "\n",
    "## 📝 Reglas:\n",
    "\n",
    "1. El usuario ingresa un mensaje en texto y el programa lo convierte en Código Morse.  \n",
    "2. El usuario también puede ingresar un mensaje en Código Morse y el programa lo convierte en texto normal.  \n",
    "3. Usa un diccionario donde las claves sean letras y números, y los valores sean sus equivalentes en Morse.  \n",
    "\n",
    "## 📌 Ejemplos de ejecución:\n",
    "\n",
    "\\>>> Enter a text: hola  \n",
    "✅ Morse Code: .... --- .-.. .-  \n",
    "\n",
    "\\>>> Enter Morse Code: .... --- .-.. .-  \n",
    "✅ Decoded text: hola  \n",
    "\n",
    "## 🔍 Pistas:\n",
    "\n",
    "- Usa un diccionario con la conversión entre caracteres y su versión en Código Morse.  \n",
    "- Separa cada letra en Morse con un espacio y cada palabra con \"/\".  \n",
    "- Maneja mayúsculas y minúsculas para que el código funcione sin errores.  "
   ]
  },
  {
   "cell_type": "markdown",
   "id": "fbd53d3a-d05f-4174-a48f-146d5cc82b1e",
   "metadata": {},
   "source": [
    "# Solución propia"
   ]
  },
  {
   "cell_type": "code",
   "execution_count": 95,
   "id": "1f2a3dd7-606a-49c4-bf57-66057cb85e17",
   "metadata": {},
   "outputs": [],
   "source": [
    "# Conversion dictionaries\n",
    "morse_code_numbers = {\n",
    "    '0': '-----', '1': '.----', '2': '..---', '3': '...--', '4': '....-', \n",
    "    '5': '.....', '6': '-....', '7': '--...', '8': '---..', '9': '----.'\n",
    "}\n",
    "morse_code_signs = {\n",
    "    '.': '.-.-.-', ',': '--..--', ':': '---...', '-': '-....-', '(': '-.--.-', \n",
    "    ')': '-.--.-', '=': '-...-', ';': '-.-.-.', '¿': '..--..', '?': '..--..', \n",
    "    '\"': '.-..-.', \"'\": '.----.', '_': '..--.-', '/': '-..-.', '¡': '-.-.--', \n",
    "    '!': '-.-.--', '&': '.-...', '+': '.-.-.', '$': '...-..-', '@': '.--.-.'\n",
    "}\n",
    "morse_code_alphabet = {\n",
    "    'a': '.-', 'b': '-...', 'c': '-.-.', 'd': '-..', 'e': '.', 'f': '..-.', \n",
    "    'g': '--.', 'h': '....', 'i': '..', 'j': '.---', 'k': '-.-', 'l': '.-..', \n",
    "    'm': '--', 'n': '-.', 'ñ': '--.--', 'o': '---', 'p': '.--.', 'q': '--.-', \n",
    "    'r': '.-.', 's': '...', 't': '-', 'u': '..-', 'v': '...-', 'w': '.--', \n",
    "    'x': '-..-', 'y': '-.--', 'z': '--..'\n",
    "}\n",
    "\n",
    "# Inverse dictionary for decoding\n",
    "morse_to_latin = {v: k for k, v in {**morse_code_alphabet, **morse_code_numbers, **morse_code_signs}.items()}"
   ]
  },
  {
   "cell_type": "code",
   "execution_count": 96,
   "id": "2b3ead6e-b776-4c95-9611-2ec483a99912",
   "metadata": {},
   "outputs": [],
   "source": [
    "# Function to convert Latin alphabet text to Morse code\n",
    "def text_to_morse(string):\n",
    "    '''\n",
    "    Converts a text string to Morse code.\n",
    "    \n",
    "    :param string: Text string input by the user.\n",
    "    :return: Text string converted to Morse code.\n",
    "    '''\n",
    "    morse = []\n",
    "\n",
    "    for char in string:\n",
    "        if char == ' ':\n",
    "            morse.append('/')  # Use '/' to represent spaces in Morse code\n",
    "        elif char in morse_code_alphabet:\n",
    "            morse.append(morse_code_alphabet[char])\n",
    "        elif char in morse_code_numbers:\n",
    "            morse.append(morse_code_numbers[char])\n",
    "        elif char in morse_code_signs:\n",
    "            morse.append(morse_code_signs[char])\n",
    "        \n",
    "    text_in_morse = ' '.join(morse)\n",
    "    return text_in_morse\n"
   ]
  },
  {
   "cell_type": "code",
   "execution_count": 97,
   "id": "51b77e5e-8318-42c2-b17c-823420e0e242",
   "metadata": {},
   "outputs": [],
   "source": [
    "# Function to convert Morse code to Latin alphabet text\n",
    "def morse_to_text(string):\n",
    "    '''\n",
    "    Converts Morse code to text.\n",
    "    \n",
    "    :param string: Morse code input by the user.\n",
    "    :return: Text string converted from Morse code.\n",
    "    '''\n",
    "    latin_alph = []\n",
    "\n",
    "    for char in string.split():\n",
    "        if char == '/':\n",
    "            latin_alph.append(' ') # Use ' ' to represent spaces in text\n",
    "        elif char in morse_to_latin:\n",
    "            latin_alph.append(morse_to_latin[char])\n",
    "\n",
    "    text_in_latin_alph = ''.join(latin_alph).capitalize() \n",
    "    return text_in_latin_alph\n"
   ]
  },
  {
   "cell_type": "code",
   "execution_count": 98,
   "id": "11e48c24-9c68-4191-8ac1-5a0e817297aa",
   "metadata": {},
   "outputs": [
    {
     "name": "stdin",
     "output_type": "stream",
     "text": [
      "Do you want to convert text to Morse or Morse to text? (Enter \"morse\" or \"text\"):  text\n",
      ">>> Enter a text:  Python is great!\n"
     ]
    },
    {
     "name": "stdout",
     "output_type": "stream",
     "text": [
      "✅ Morse Code: .--. -.-- - .... --- -. / .. ... / --. .-. . .- - -.-.--\n"
     ]
    }
   ],
   "source": [
    "while True:\n",
    "    conversion_choice = input('Do you want to convert text to Morse or Morse to text? (Enter \"morse\" or \"text\"): ').lower().strip()\n",
    "    if conversion_choice in [\"morse\", \"text\"]:\n",
    "        break\n",
    "    # Ensure the user enters a valid response\n",
    "    print(\"\\n❌ You can only choose 'morse' or 'text'. Try again.\\n\")\n",
    "\n",
    "if conversion_choice == 'text':\n",
    "    string = input('>>> Enter a text: ').lower().strip()\n",
    "    print(f'✅ Morse Code: {text_to_morse(string)}')\n",
    "else:\n",
    "    string = input('>>> Enter Morse Code: ').strip()\n",
    "    print(f'✅ Decoded text: {morse_to_text(string)}')\n"
   ]
  },
  {
   "cell_type": "code",
   "execution_count": 99,
   "id": "f0979e3a-98c0-40f9-8050-ba7b6c1ce396",
   "metadata": {},
   "outputs": [
    {
     "name": "stdin",
     "output_type": "stream",
     "text": [
      "Do you want to convert text to Morse or Morse to text? (Enter \"morse\" or \"text\"):  morse\n",
      ">>> Enter Morse Code:  .--. -.-- - .... --- -. / .. ... / --. .-. . .- - -.-.--\n"
     ]
    },
    {
     "name": "stdout",
     "output_type": "stream",
     "text": [
      "✅ Decoded text: Python is great!\n"
     ]
    }
   ],
   "source": [
    "while True:\n",
    "    conversion_choice = input('Do you want to convert text to Morse or Morse to text? (Enter \"morse\" or \"text\"): ').lower().strip()\n",
    "    if conversion_choice in [\"morse\", \"text\"]:\n",
    "        break\n",
    "    # Ensure the user enters a valid response\n",
    "    print(\"\\n❌ You can only choose 'morse' or 'text'. Try again.\\n\")\n",
    "\n",
    "if conversion_choice == 'text':\n",
    "    string = input('>>> Enter a text: ').lower().strip()\n",
    "    print(f'✅ Morse Code: {text_to_morse(string)}')\n",
    "else:\n",
    "    string = input('>>> Enter Morse Code: ').strip()\n",
    "    print(f'✅ Decoded text: {morse_to_text(string)}')\n"
   ]
  },
  {
   "cell_type": "markdown",
   "id": "e71ad89e-64f6-4c01-9448-5343f990ac6e",
   "metadata": {},
   "source": [
    "# Correcciones realizadas por ChatGPT "
   ]
  },
  {
   "cell_type": "code",
   "execution_count": null,
   "id": "bdf5bedc-8413-4070-b23e-1bf76cbe7c32",
   "metadata": {},
   "outputs": [],
   "source": [
    "import string\n",
    "\n",
    "# Diccionarios de conversión\n",
    "morse_code_numbers = {\n",
    "    '0': '-----', '1': '.----', '2': '..---', '3': '...--', '4': '....-', \n",
    "    '5': '.....', '6': '-....', '7': '--...', '8': '---..', '9': '----.'\n",
    "}\n",
    "morse_code_signs = {\n",
    "    '.': '.-.-.-', ',': '--..--', ':': '---...', '-': '-....-', '(': '-.--.-', \n",
    "    ')': '-.--.-', '=': '-...-', ';': '-.-.-.', '¿': '..--..', '?': '..--..', \n",
    "    '\"': '.-..-.', \"'\": '.----.', '_': '..--.-', '/': '-..-.', '¡': '-.-.--', \n",
    "    '!': '-.-.--', '&': '.-...', '+': '.-.-.', '$': '...-..-', '@': '.--.-.'\n",
    "}\n",
    "morse_code_alphabet = {\n",
    "    'a': '.-', 'b': '-...', 'c': '-.-.', 'd': '-..', 'e': '.', 'f': '..-.', \n",
    "    'g': '--.', 'h': '....', 'i': '..', 'j': '.---', 'k': '-.-', 'l': '.-..', \n",
    "    'm': '--', 'n': '-.', 'ñ': '--.--', 'o': '---', 'p': '.--.', 'q': '--.-', \n",
    "    'r': '.-.', 's': '...', 't': '-', 'u': '..-', 'v': '...-', 'w': '.--', \n",
    "    'x': '-..-', 'y': '-.--', 'z': '--..'\n",
    "}\n",
    "\n",
    "# Generar diccionario inverso para la decodificación\n",
    "morse_to_latin = {v: k for k, v in {**morse_code_alphabet, **morse_code_numbers, **morse_code_signs}.items()}\n",
    "\n",
    "# De texto a Morse\n",
    "def text_to_morse(string):\n",
    "    morse = []\n",
    "    for char in string.lower():\n",
    "        if char == ' ':\n",
    "            morse.append('/')  # Espacios en Morse se representan con \"/\"\n",
    "        elif char in morse_code_alphabet:\n",
    "            morse.append(morse_code_alphabet[char])\n",
    "        elif char in morse_code_numbers:\n",
    "            morse.append(morse_code_numbers[char])\n",
    "        elif char in morse_code_signs:\n",
    "            morse.append(morse_code_signs[char])\n",
    "        else:\n",
    "            morse.append('?')  # Manejo de caracteres desconocidos\n",
    "    return ' '.join(morse)\n",
    "\n",
    "# De Morse a texto\n",
    "def morse_to_text(morse):\n",
    "    words = morse.split('/')  # Separar palabras\n",
    "    decoded_words = []\n",
    "    \n",
    "    for word in words:\n",
    "        letters = word.strip().split()\n",
    "        decoded_word = ''.join(morse_to_latin.get(letter, '?') for letter in letters)  # '?' si el código es desconocido\n",
    "        decoded_words.append(decoded_word)\n",
    "    \n",
    "    return ' '.join(decoded_words).capitalize()\n",
    "\n",
    "# Programa principal\n",
    "while True:\n",
    "    choice = input(\"Convertir texto a Morse o Morse a texto? (morse/text): \").lower().strip()\n",
    "    if choice in [\"morse\", \"text\"]:\n",
    "        break\n",
    "    print(\"\\n❌ Opción inválida. Debes ingresar 'morse' o 'text'. Intenta de nuevo.\\n\")\n",
    "\n",
    "if choice == 'text':\n",
    "    user_input = input('>>> Ingresa un texto: ').strip()\n",
    "    print(f'✅ Código Morse: {text_to_morse(user_input)}')\n",
    "else:\n",
    "    user_input = input('>>> Ingresa Código Morse: ').strip()\n",
    "    print(f'✅ Texto decodificado: {morse_to_text(user_input)}')\n"
   ]
  }
 ],
 "metadata": {
  "kernelspec": {
   "display_name": "Python 3 (ipykernel)",
   "language": "python",
   "name": "python3"
  },
  "language_info": {
   "codemirror_mode": {
    "name": "ipython",
    "version": 3
   },
   "file_extension": ".py",
   "mimetype": "text/x-python",
   "name": "python",
   "nbconvert_exporter": "python",
   "pygments_lexer": "ipython3",
   "version": "3.12.3"
  }
 },
 "nbformat": 4,
 "nbformat_minor": 5
}
