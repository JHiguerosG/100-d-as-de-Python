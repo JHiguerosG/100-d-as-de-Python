{
 "cells": [
  {
   "cell_type": "markdown",
   "id": "9490b631-bbd1-4968-8bee-2c27d3b52de6",
   "metadata": {},
   "source": [
    "# 🧠 Reto 38: Calculadora de Interés Compuesto 🧠\n",
    "\n",
    "## 🏆 Objetivo:\n",
    "\n",
    "Desarrollar un programa en Python que calcule el interés compuesto a partir de los datos ingresados por el usuario. El interés compuesto es una técnica financiera en la que los intereses generados se reinvierten para generar más intereses.\n",
    "\n",
    "## 📝 Requisitos:\n",
    "\n",
    "1️⃣ El programa debe solicitar al usuario los siguientes datos:  \n",
    "* Capital inicial (monto de dinero invertido).  \n",
    "* Tasa de interés anual (en porcentaje).  \n",
    "* Número de períodos (años).  \n",
    "* Frecuencia de capitalización (número de veces que se capitaliza el interés en un año).\n",
    "\n",
    "2️⃣ El programa debe calcular el monto final usando la fórmula del interés compuesto:  \n",
    "\n",
    "$\n",
    "M = P \\times \\left(1 + \\frac{r}{n}\\right)^{n \\times t}\n",
    "$  \n",
    "\n",
    "Donde:   \n",
    "* M = Monto final  \n",
    "* P = Capital inicial  \n",
    "* r = Tasa de interés anual (en decimal)  \n",
    "* n = Frecuencia de capitalización (veces al año)  \n",
    "* t = Número de períodos (años)\n",
    "\n",
    "3️⃣ El programa debe mostrar el monto final y el interés generado.  \n",
    "\n",
    "4️⃣ Redondear el resultado a dos decimales.  \n",
    "\n",
    "5️⃣ Validar que los datos ingresados sean números positivos.  \n",
    "\n",
    "## 📌 Ejemplo de ejecución:\n",
    "\n",
    "\\>>> Ingrese el capital inicial: 1000  \n",
    "\\>>> Ingrese la tasa de interés anual (%): 5  \n",
    "\\>>> Ingrese el número de períodos (años): 10  \n",
    "\\>>> Ingrese la frecuencia de capitalización por año: 4  \n",
    "\n",
    "Monto final: `$1,643.62`  \n",
    "Interés generado: `$643.62`  \n",
    "\n",
    "\n",
    "\n",
    "\n",
    "## 🔍 Pistas:\n",
    "\n",
    "🔹 Utiliza la función pow() o el operador ** para realizar la potencia.  \n",
    "🔹 Puedes emplear un bloque try-except para manejar errores de entrada.  \n",
    "🔹 Verifica que los valores ingresados sean positivos antes de realizar el cálculo.  "
   ]
  },
  {
   "cell_type": "code",
   "execution_count": 4,
   "id": "79decabe-bb4c-4bc2-b423-c953f80e8fb0",
   "metadata": {},
   "outputs": [
    {
     "name": "stdout",
     "output_type": "stream",
     "text": [
      "\n",
      "--- Compound Interest Calculator ---\n"
     ]
    },
    {
     "name": "stdin",
     "output_type": "stream",
     "text": [
      ">>> Enter the initial capital amount:  1000\n",
      ">>> Enter the annual interest rate (%):  5\n",
      ">>> Enter the number of periods (years):  10\n",
      ">>> Enter the compounding frequency per year:  4\n"
     ]
    },
    {
     "name": "stdout",
     "output_type": "stream",
     "text": [
      "\n",
      "In 10.0 years, with an annual interest rate of 5.0% and 4 compounding events per year:\n",
      "Final amount: $1643.62\n",
      "Interest earned: $643.62\n"
     ]
    },
    {
     "name": "stdin",
     "output_type": "stream",
     "text": [
      "\n",
      "Would you like to perform another calculation? (y/n):  n\n"
     ]
    },
    {
     "name": "stdout",
     "output_type": "stream",
     "text": [
      "Thank you for using the Compound Interest Calculator. Goodbye!\n"
     ]
    }
   ],
   "source": [
    "while True:\n",
    "    try:\n",
    "        # Display the calculator title\n",
    "        print(\"\\n--- Compound Interest Calculator ---\")\n",
    "        \n",
    "        # Prompt the user for input values\n",
    "        principal = float(input('>>> Enter the initial capital amount: '))  # Initial investment amount\n",
    "        annual_rate = float(input('>>> Enter the annual interest rate (%): '))  # Annual interest rate (percentage)\n",
    "        years = float(input('>>> Enter the number of periods (years): '))  # Number of years\n",
    "        compounding_frequency = int(input('>>> Enter the compounding frequency per year: '))  # Compounding frequency per year\n",
    "\n",
    "        # Validate inputs to ensure all numbers are positive\n",
    "        if principal <= 0 or annual_rate <= 0 or years <= 0 or compounding_frequency <= 0:\n",
    "            print(\"All values must be positive numbers. Please try again.\")  # Notify the user of invalid inputs\n",
    "            continue\n",
    "\n",
    "        # Calculate the final amount (compound interest formula) and interest earned\n",
    "        final_amount = round(principal * (1 + (annual_rate / 100) / compounding_frequency) ** (compounding_frequency * years), 2)\n",
    "        interest_earned = round(final_amount - principal, 2)\n",
    "\n",
    "        # Display the results to the user\n",
    "        print(f'\\nIn {years} years, with an annual interest rate of {annual_rate}% and {compounding_frequency} compounding events per year:')\n",
    "        print(f'Final amount: ${final_amount}')\n",
    "        print(f'Interest earned: ${interest_earned}')\n",
    "\n",
    "        # Offer the option to perform another calculation or exit the program\n",
    "        proceed = input(\"\\nWould you like to perform another calculation? (y/n): \").strip().lower()\n",
    "        if proceed != 'y':  # Exit the loop if the user doesn't choose 'y'\n",
    "            print(\"Thank you for using the Compound Interest Calculator. Goodbye!\")\n",
    "            break\n",
    "\n",
    "    # Handle invalid input types (e.g., non-numeric inputs)\n",
    "    except ValueError:\n",
    "        print(\"Error: Please enter valid numeric values.\")"
   ]
  }
 ],
 "metadata": {
  "kernelspec": {
   "display_name": "Python 3 (ipykernel)",
   "language": "python",
   "name": "python3"
  },
  "language_info": {
   "codemirror_mode": {
    "name": "ipython",
    "version": 3
   },
   "file_extension": ".py",
   "mimetype": "text/x-python",
   "name": "python",
   "nbconvert_exporter": "python",
   "pygments_lexer": "ipython3",
   "version": "3.12.3"
  }
 },
 "nbformat": 4,
 "nbformat_minor": 5
}
