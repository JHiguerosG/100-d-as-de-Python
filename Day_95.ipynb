{
 "cells": [
  {
   "cell_type": "code",
   "execution_count": 3,
   "id": "dbdc4142-bd93-415f-8080-52e078bc058f",
   "metadata": {},
   "outputs": [
    {
     "name": "stdout",
     "output_type": "stream",
     "text": [
      "🆘 Bienvenido al Simulador de Emergencias 911\n"
     ]
    },
    {
     "name": "stdin",
     "output_type": "stream",
     "text": [
      "\n",
      "📝 Ingrese la descripción de la emergencia:  Hay un incendio en mi casa\n"
     ]
    },
    {
     "name": "stdout",
     "output_type": "stream",
     "text": [
      "\n",
      "📞 Llamada registrada a las 06:36:45\n",
      "🚨 Emergencia clasificada como: Bomberos\n",
      "📢 Respuesta: 🚒 Unidad de bomberos ha sido enviada a su ubicación. Mantenga la calma.\n"
     ]
    },
    {
     "name": "stdin",
     "output_type": "stream",
     "text": [
      "\n",
      "¿Desea registrar otra llamada? (s/n):  s\n",
      "\n",
      "📝 Ingrese la descripción de la emergencia:  Me han robado la mochila en el parque\n"
     ]
    },
    {
     "name": "stdout",
     "output_type": "stream",
     "text": [
      "\n",
      "📞 Llamada registrada a las 06:36:54\n",
      "🚨 Emergencia clasificada como: Policía\n",
      "📢 Respuesta: 🚓 Patrulla policial en camino. Permanezca en el lugar si es seguro hacerlo.\n"
     ]
    },
    {
     "name": "stdin",
     "output_type": "stream",
     "text": [
      "\n",
      "¿Desea registrar otra llamada? (s/n):  n\n"
     ]
    },
    {
     "name": "stdout",
     "output_type": "stream",
     "text": [
      "\n",
      "📋 Resumen de llamadas atendidas (últimas 5):\n",
      "1. 🕒 06:36:45 | Tipo: Bomberos    | Descripción: Hay un incendio en mi casa\n",
      "2. 🕒 06:36:54 | Tipo: Policía     | Descripción: Me han robado la mochila en el parque\n",
      "\n",
      "🙏 Gracias por usar el simulador de emergencias.\n"
     ]
    }
   ],
   "source": [
    "import datetime\n",
    "import unicodedata\n",
    "\n",
    "# Diccionario de palabras clave para clasificación\n",
    "keywords = {\n",
    "    \"bomberos\": [\"incendio\", \"humo\", \"fuego\", \"llamas\", \"quemar\", \"explosión\"],\n",
    "    \"policía\": [\"asalto\", \"robo\", \"robado\", \"robaron\", \"ladron\", \"hurto\", \"crimen\", \"violencia\", \"amenaza\"],\n",
    "    \"ambulancia\": [\"herido\", \"accidente\", \"desmayo\", \"desmayado\", \"sangre\", \"golpe\", \"fractura\"]\n",
    "}\n",
    "\n",
    "# Lista para almacenar las últimas 5 llamadas\n",
    "emergencias = []\n",
    "\n",
    "def limpiar_texto(texto):\n",
    "    \"\"\"Normaliza el texto: elimina acentos y lo convierte a minúsculas\"\"\"\n",
    "    texto = unicodedata.normalize('NFD', texto)\n",
    "    texto = texto.encode('ascii', 'ignore').decode('utf-8')\n",
    "    return texto.lower()\n",
    "\n",
    "def clasificar_emergencia(descripcion):\n",
    "    descripcion = limpiar_texto(descripcion)\n",
    "    for tipo, palabras in keywords.items():\n",
    "        if any(palabra in descripcion for palabra in palabras):\n",
    "            return tipo.capitalize()\n",
    "    return \"Desconocido\"\n",
    "\n",
    "def registrar_llamada():\n",
    "    descripcion = input(\"\\n📝 Ingrese la descripción de la emergencia: \").strip()\n",
    "    \n",
    "    if not descripcion:\n",
    "        print(\"❌ La descripción no puede estar vacía.\")\n",
    "        return\n",
    "    \n",
    "    hora_actual = datetime.datetime.now().strftime(\"%H:%M:%S\")\n",
    "    tipo_emergencia = clasificar_emergencia(descripcion)\n",
    "\n",
    "    respuesta = {\n",
    "        \"Bomberos\": \"🚒 Unidad de bomberos ha sido enviada a su ubicación. Mantenga la calma.\",\n",
    "        \"Policía\": \"🚓 Patrulla policial en camino. Permanezca en el lugar si es seguro hacerlo.\",\n",
    "        \"Ambulancia\": \"🚑 Una ambulancia se dirige a su ubicación. Siga instrucciones de primeros auxilios.\",\n",
    "        \"Desconocido\": \"❔ No se ha podido clasificar la emergencia. Espere en línea para más asistencia.\"\n",
    "    }\n",
    "\n",
    "    print(f\"\\n📞 Llamada registrada a las {hora_actual}\")\n",
    "    print(f\"🚨 Emergencia clasificada como: {tipo_emergencia}\")\n",
    "    print(f\"📢 Respuesta: {respuesta[tipo_emergencia]}\")\n",
    "\n",
    "    if len(emergencias) >= 5:\n",
    "        emergencias.pop(0)\n",
    "\n",
    "    emergencias.append((hora_actual, tipo_emergencia, descripcion))\n",
    "\n",
    "def mostrar_resumen():\n",
    "    print(\"\\n📋 Resumen de llamadas atendidas (últimas 5):\")\n",
    "    for i, (hora, tipo, desc) in enumerate(emergencias, 1):\n",
    "        print(f\"{i}. 🕒 {hora} | Tipo: {tipo:<11} | Descripción: {desc}\")\n",
    "    print(\"\\n🙏 Gracias por usar el simulador de emergencias.\")\n",
    "\n",
    "# Loop principal\n",
    "print(\"🆘 Bienvenido al Simulador de Emergencias 911\")\n",
    "while True:\n",
    "    registrar_llamada()\n",
    "    continuar = input(\"\\n¿Desea registrar otra llamada? (s/n): \").strip().lower()\n",
    "    while continuar not in (\"s\", \"n\"):\n",
    "        continuar = input(\"Por favor, ingrese 's' para sí o 'n' para no: \").strip().lower()\n",
    "    if continuar != \"s\":\n",
    "        mostrar_resumen()\n",
    "        break\n"
   ]
  }
 ],
 "metadata": {
  "kernelspec": {
   "display_name": "Python 3 (ipykernel)",
   "language": "python",
   "name": "python3"
  },
  "language_info": {
   "codemirror_mode": {
    "name": "ipython",
    "version": 3
   },
   "file_extension": ".py",
   "mimetype": "text/x-python",
   "name": "python",
   "nbconvert_exporter": "python",
   "pygments_lexer": "ipython3",
   "version": "3.12.3"
  }
 },
 "nbformat": 4,
 "nbformat_minor": 5
}
