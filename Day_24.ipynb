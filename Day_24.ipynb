{
 "cells": [
  {
   "cell_type": "markdown",
   "id": "400dc565-f073-4ab3-be20-0a14c1b766f2",
   "metadata": {},
   "source": [
    "# 📏 Reto 24: Conversor de Unidades 📏\n",
    "\n",
    "## 🏆 Objetivo:\n",
    "\n",
    "Crear un programa que permita convertir entre diferentes unidades de medida, como longitud, masa y temperatura.\n",
    "\n",
    "## 📝 Requisitos:\n",
    "\n",
    "1️⃣ El usuario debe poder elegir qué tipo de conversión desea realizar:  \n",
    "- Longitud: metros ↔ pies, kilómetros ↔ millas, centímetros ↔ pulgadas.  \n",
    "- Masa: kilogramos ↔ libras, gramos ↔ onzas.  \n",
    "- Temperatura: Celsius ↔ Fahrenheit.\n",
    "  \n",
    "2️⃣ Debe validar que el usuario ingrese un número válido para la conversión.  \n",
    "3️⃣ Debe ofrecer la opción de realizar múltiples conversiones hasta que el usuario decida salir.\n",
    "\n",
    "## 📌 Ejemplo de ejecución:\n",
    "\n",
    "📏 Conversor de Unidades 📏  \n",
    "Selecciona el tipo de conversión:  \n",
    "1. Longitud      \n",
    "2. Masa    \n",
    "3. Temperatura    \n",
    "4. Salir     \n",
    "\\>>> 1      \n",
    "\n",
    "Selecciona la conversión:    \n",
    "1. Metros a Pies    \n",
    "2. Pies a Metros    \n",
    "3. Kilómetros a Millas    \n",
    "4. Millas a Kilómetros    \n",
    "5. Centímetros a Pulgadas    \n",
    "6. Pulgadas a Centímetros    \n",
    "\\>>> 3   \n",
    "\n",
    "Ingresa la cantidad:  \n",
    "\\>>> 5  \n",
    "5 kilómetros equivalen a 3.11 millas.  \n",
    "\n",
    "¿Quieres realizar otra conversión? (Sí/No)  \n",
    "\\>>> No  \n",
    "¡Hasta luego!\n",
    "\n",
    "## 🔍 Pistas:\n",
    "\n",
    "- Usa funciones para cada tipo de conversión y así organizar mejor el código.\n",
    "- Para la temperatura, usa las fórmulas:\n",
    "  - Celsius a Fahrenheit: F = (C × 9/5) + 32\n",
    "  - Fahrenheit a Celsius: C = (F - 32) × 5/9\n",
    "- Para longitud y masa, investiga los factores de conversión estándar.\n",
    "- Usa un bucle while para permitir múltiples conversiones sin reiniciar el programa."
   ]
  },
  {
   "cell_type": "code",
   "execution_count": 2,
   "id": "5a9fffaa-2000-46e8-838f-b7618863b81c",
   "metadata": {},
   "outputs": [],
   "source": [
    "def meters_to_feet(meters):\n",
    "    return round(meters * 3.28084, 2)\n",
    "\n",
    "def feet_to_meters(feet):\n",
    "    return round(feet / 3.28084, 2)\n",
    "\n",
    "def kilometers_to_miles(kilometers):\n",
    "    return round(kilometers * 0.621371, 2)\n",
    "\n",
    "def miles_to_kilometers(miles):\n",
    "    return round(miles / 0.621371, 2)\n",
    "\n",
    "def centimeters_to_inches(centimeters):\n",
    "    return round(centimeters * 0.393701, 2)\n",
    "\n",
    "def inches_to_centimeters(inches):\n",
    "    return round(inches / 0.393701, 2)\n",
    "\n",
    "def kilograms_to_pounds(kilograms):\n",
    "    return round(kilograms * 2.20462, 2)\n",
    "\n",
    "def pounds_to_kilograms(pounds):\n",
    "    return round(pounds / 2.20462, 2)\n",
    "\n",
    "def grams_to_ounces(grams):\n",
    "    return round(grams * 0.035274, 2)\n",
    "\n",
    "def ounces_to_grams(ounces):\n",
    "    return round(ounces / 0.035274, 2)\n",
    "\n",
    "def celsius_to_fahrenheit(celsius):\n",
    "    return round((celsius * 9/5) + 32, 2)\n",
    "\n",
    "def fahrenheit_to_celsius(fahrenheit):\n",
    "    return round((fahrenheit - 32) * 5/9, 2)\n",
    "\n",
    "def validate_number():\n",
    "    while True:\n",
    "        try:\n",
    "            return float(input(\"Enter the amount:\\n>>> \"))\n",
    "        except ValueError:\n",
    "            print(\"⚠️ Invalid input. You must enter a valid number.\")"
   ]
  },
  {
   "cell_type": "code",
   "execution_count": 4,
   "id": "3a0540cf-7533-4ed2-8f5e-5d78974f7bff",
   "metadata": {},
   "outputs": [
    {
     "name": "stdout",
     "output_type": "stream",
     "text": [
      "\n",
      "📏 Unit Converter 📏\n",
      "1. Length\n",
      "2. Mass\n",
      "3. Temperature\n",
      "4. Exit\n"
     ]
    },
    {
     "name": "stdin",
     "output_type": "stream",
     "text": [
      "Select the type of conversion (1-4):\n",
      ">>>  1\n"
     ]
    },
    {
     "name": "stdout",
     "output_type": "stream",
     "text": [
      "\n",
      "1. Meters to Feet\n",
      "2. Feet to Meters\n",
      "3. Kilometers to Miles\n",
      "4. Miles to Kilometers\n",
      "5. Centimeters to Inches\n",
      "6. Inches to Centimeters\n"
     ]
    },
    {
     "name": "stdin",
     "output_type": "stream",
     "text": [
      "Select the conversion (1-6):\n",
      ">>>  3\n",
      "Enter the amount:\n",
      ">>>  250\n"
     ]
    },
    {
     "name": "stdout",
     "output_type": "stream",
     "text": [
      "✅ 250.0 kilometers is equivalent to 155.34 miles.\n"
     ]
    },
    {
     "name": "stdin",
     "output_type": "stream",
     "text": [
      "\n",
      "Do you want to perform another conversion? (Yes/No):\n",
      ">>>  yes\n"
     ]
    },
    {
     "name": "stdout",
     "output_type": "stream",
     "text": [
      "\n",
      "📏 Unit Converter 📏\n",
      "1. Length\n",
      "2. Mass\n",
      "3. Temperature\n",
      "4. Exit\n"
     ]
    },
    {
     "name": "stdin",
     "output_type": "stream",
     "text": [
      "Select the type of conversion (1-4):\n",
      ">>>  3\n"
     ]
    },
    {
     "name": "stdout",
     "output_type": "stream",
     "text": [
      "\n",
      "1. Celsius to Fahrenheit\n",
      "2. Fahrenheit to Celsius\n"
     ]
    },
    {
     "name": "stdin",
     "output_type": "stream",
     "text": [
      "Select the conversion (1-2):\n",
      ">>>  2\n",
      "Enter the amount:\n",
      ">>>  100\n"
     ]
    },
    {
     "name": "stdout",
     "output_type": "stream",
     "text": [
      "✅ 100.0 degrees Fahrenheit is equivalent to 37.78 degrees Celsius.\n"
     ]
    },
    {
     "name": "stdin",
     "output_type": "stream",
     "text": [
      "\n",
      "Do you want to perform another conversion? (Yes/No):\n",
      ">>>  no\n"
     ]
    },
    {
     "name": "stdout",
     "output_type": "stream",
     "text": [
      "👋 Goodbye!\n"
     ]
    }
   ],
   "source": [
    "while True:\n",
    "    print(\"\\n📏 Unit Converter 📏\")\n",
    "    print(\"1. Length\")\n",
    "    print(\"2. Mass\")\n",
    "    print(\"3. Temperature\")\n",
    "    print(\"4. Exit\")\n",
    "\n",
    "    conversion_type = input(\"Select the type of conversion (1-4):\\n>>> \")\n",
    "\n",
    "    if conversion_type == '1':\n",
    "        print(\"\\n1. Meters to Feet\")\n",
    "        print(\"2. Feet to Meters\")\n",
    "        print(\"3. Kilometers to Miles\")\n",
    "        print(\"4. Miles to Kilometers\")\n",
    "        print(\"5. Centimeters to Inches\")\n",
    "        print(\"6. Inches to Centimeters\")\n",
    "\n",
    "        conversion = input(\"Select the conversion (1-6):\\n>>> \")\n",
    "        amount = validate_number()\n",
    "\n",
    "        conversions = {\n",
    "            '1': (meters_to_feet, \"meters\", \"feet\"),\n",
    "            '2': (feet_to_meters, \"feet\", \"meters\"),\n",
    "            '3': (kilometers_to_miles, \"kilometers\", \"miles\"),\n",
    "            '4': (miles_to_kilometers, \"miles\", \"kilometers\"),\n",
    "            '5': (centimeters_to_inches, \"centimeters\", \"inches\"),\n",
    "            '6': (inches_to_centimeters, \"inches\", \"centimeters\"),\n",
    "        }\n",
    "\n",
    "    elif conversion_type == '2':\n",
    "        print(\"\\n1. Kilograms to Pounds\")\n",
    "        print(\"2. Pounds to Kilograms\")\n",
    "        print(\"3. Grams to Ounces\")\n",
    "        print(\"4. Ounces to Grams\")\n",
    "\n",
    "        conversion = input(\"Select the conversion (1-4):\\n>>> \")\n",
    "        amount = validate_number()\n",
    "\n",
    "# Continue...\n",
    "        \n",
    "        conversions = {\n",
    "            '1': (kilograms_to_pounds, \"kilograms\", \"pounds\"),\n",
    "            '2': (pounds_to_kilograms, \"pounds\", \"kilograms\"),\n",
    "            '3': (grams_to_ounces, \"grams\", \"ounces\"),\n",
    "            '4': (ounces_to_grams, \"ounces\", \"grams\"),\n",
    "        }\n",
    "\n",
    "    elif conversion_type == '3':\n",
    "        print(\"\\n1. Celsius to Fahrenheit\")\n",
    "        print(\"2. Fahrenheit to Celsius\")\n",
    "\n",
    "        conversion = input(\"Select the conversion (1-2):\\n>>> \")\n",
    "        amount = validate_number()\n",
    "\n",
    "        conversions = {\n",
    "            '1': (celsius_to_fahrenheit, \"degrees Celsius\", \"degrees Fahrenheit\"),\n",
    "            '2': (fahrenheit_to_celsius, \"degrees Fahrenheit\", \"degrees Celsius\"),\n",
    "        }\n",
    "\n",
    "    elif conversion_type == '4':\n",
    "        print(\"👋 Goodbye!\")\n",
    "        break\n",
    "\n",
    "    else:\n",
    "        print(\"⚠️ Invalid option. Select a number from 1 to 4.\")\n",
    "        continue\n",
    "\n",
    "    if conversion in conversions:\n",
    "        function, unit_from, unit_to = conversions[conversion]\n",
    "        result = function(amount)\n",
    "        print(f\"✅ {amount} {unit_from} is equivalent to {result} {unit_to}.\")\n",
    "    else:\n",
    "        print(\"⚠️ Invalid option. Try again.\")\n",
    "\n",
    "    another_conversion = input(\"\\nDo you want to perform another conversion? (Yes/No):\\n>>> \").strip().lower()\n",
    "    if another_conversion not in ['yes', 'sí', 'si']:\n",
    "        print(\"👋 Goodbye!\")\n",
    "        break"
   ]
  }
 ],
 "metadata": {
  "kernelspec": {
   "display_name": "Python 3 (ipykernel)",
   "language": "python",
   "name": "python3"
  },
  "language_info": {
   "codemirror_mode": {
    "name": "ipython",
    "version": 3
   },
   "file_extension": ".py",
   "mimetype": "text/x-python",
   "name": "python",
   "nbconvert_exporter": "python",
   "pygments_lexer": "ipython3",
   "version": "3.12.3"
  }
 },
 "nbformat": 4,
 "nbformat_minor": 5
}
