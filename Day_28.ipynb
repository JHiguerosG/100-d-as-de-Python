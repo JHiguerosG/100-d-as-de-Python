{
 "cells": [
  {
   "cell_type": "markdown",
   "id": "96b56deb-be96-4a06-a50a-f13a4bc14f9c",
   "metadata": {},
   "source": [
    "# 🧠 Reto 28: Conversor de Números Decimales a Binarios, Octales y Hexadecimales 🧠\n",
    "\n",
    "## 🏆 Objetivo:\n",
    "\n",
    "Crear un programa que convierta un número decimal ingresado por el usuario a sus representaciones en binario, octal y hexadecimal. El programa debe ser capaz de realizar la conversión de forma precisa y presentar los resultados de manera clara.\n",
    "\n",
    "## 📝 Requisitos:\n",
    "\n",
    "1️⃣ El programa debe pedir al usuario ingresar un número decimal positivo.  \n",
    "2️⃣ El programa debe convertir el número decimal ingresado a:  \n",
    "🔸 Binario   \n",
    "🔸 Octal   \n",
    "🔸 Hexadecimal   \n",
    "3️⃣ El programa debe mostrar los resultados de forma clara y ordenada.  \n",
    "4️⃣ Si el usuario ingresa un valor no numérico o negativo, el programa debe mostrar un mensaje de error y solicitar el número nuevamente.  \n",
    "5️⃣ El programa debe permitir realizar múltiples conversiones hasta que el usuario decida salir.  \n",
    "\n",
    "## 📌 Ejemplo de ejecución:\n",
    " \n",
    "\\>>> Ingrese un número decimal: 255   \n",
    "Decimal: 255  \n",
    "Binario: 11111111  \n",
    "Octal: 377  \n",
    "Hexadecimal: FF  \n",
    "\n",
    "\\>>> Ingrese un número decimal: -42  \n",
    "Error: El número debe ser positivo.  \n",
    "\n",
    "\\>>> Ingrese un número decimal: abc  \n",
    "Error: Debe ingresar un número válido.  \n",
    "\n",
    "\\>>> ¿Desea realizar otra conversión? (s/n): s  \n",
    "\\>>> Ingrese un número decimal: 1024  \n",
    "Decimal: 1024  \n",
    "Binario: 10000000000  \n",
    "Octal: 2000  \n",
    "Hexadecimal: 400  \n",
    "\n",
    "\\>>> ¿Desea realizar otra conversión? (s/n): n  \n",
    "¡Hasta luego!\n",
    " \n",
    "🔍 Pistas:\n",
    "\n",
    "🔹 Utiliza las funciones integradas de Python: bin(), oct() y hex() para realizar las conversiones.  \n",
    "🔹 Recuerda eliminar los prefijos '0b', '0o' y '0x' que estas funciones añaden al resultado.  \n",
    "🔹 Implementa un bucle para permitir múltiples conversiones hasta que el usuario decida salir.  \n",
    "🔹 Utiliza el manejo de excepciones con try-except para evitar errores al ingresar datos no numéricos.  \n"
   ]
  },
  {
   "cell_type": "code",
   "execution_count": 25,
   "id": "4a96e9ad-4bf9-46ed-a815-52f7fc8fecd8",
   "metadata": {},
   "outputs": [],
   "source": [
    "def converter(number):\n",
    "    \"\"\"\n",
    "    Converts a decimal number to binary, octal, and hexadecimal formats without prefixes.\n",
    "\n",
    "    :param number: Decimal number to be converted.\n",
    "    :return: Tuple containing the decimal, binary (without prefix), octal (without prefix), and hexadecimal (without prefix) representations.\n",
    "    \"\"\"\n",
    "    decimal = number\n",
    "    binary_with_prefix = bin(number)\n",
    "    binary_without_prefix = binary_with_prefix.replace('0b', '')\n",
    "    octal_with_prefix = oct(number)\n",
    "    octal_without_prefix = octal_with_prefix.replace('0o', '')\n",
    "    hexadecimal_with_prefix = hex(number)\n",
    "    hexadecimal_without_prefix = hexadecimal_with_prefix.replace('0x', '')\n",
    "\n",
    "    return decimal, binary_without_prefix, octal_without_prefix, hexadecimal_without_prefix\n"
   ]
  },
  {
   "cell_type": "code",
   "execution_count": 26,
   "id": "f34175fa-c197-4649-98c7-0ada76cf41bf",
   "metadata": {},
   "outputs": [
    {
     "name": "stdin",
     "output_type": "stream",
     "text": [
      ">>> Enter a decimal number:  -8\n"
     ]
    },
    {
     "name": "stdout",
     "output_type": "stream",
     "text": [
      "Error: The number must be positive.\n"
     ]
    },
    {
     "name": "stdin",
     "output_type": "stream",
     "text": [
      ">>> Enter a decimal number:  fd\n"
     ]
    },
    {
     "name": "stdout",
     "output_type": "stream",
     "text": [
      "Error: You must enter a valid number.\n"
     ]
    },
    {
     "name": "stdin",
     "output_type": "stream",
     "text": [
      ">>> Enter a decimal number:  1024\n"
     ]
    },
    {
     "name": "stdout",
     "output_type": "stream",
     "text": [
      "\n",
      "Decimal: 1024\n",
      "Binary: 10000000000\n",
      "Octal: 2000\n",
      "Hexadecimal: 400\n"
     ]
    },
    {
     "name": "stdin",
     "output_type": "stream",
     "text": [
      "Do you want to continue? (y/n):  n\n"
     ]
    },
    {
     "name": "stdout",
     "output_type": "stream",
     "text": [
      "Exiting the program.\n"
     ]
    }
   ],
   "source": [
    "while True:\n",
    "    try:\n",
    "        # Ask the user to input a decimal number\n",
    "        number = int(input('>>> Enter a decimal number: '))\n",
    "        \n",
    "        # Check if the number is positive\n",
    "        if number < 0:\n",
    "            print('Error: The number must be positive.')\n",
    "            continue\n",
    "        \n",
    "        # Convert the number to different formats\n",
    "        decimal, binary_without_prefix, octal_without_prefix, hexadecimal_without_prefix = converter(number)\n",
    "        \n",
    "        # Print the converted values\n",
    "        print(f'\\nDecimal: {decimal}')\n",
    "        print(f'Binary: {binary_without_prefix}')\n",
    "        print(f'Octal: {octal_without_prefix}')\n",
    "        print(f'Hexadecimal: {hexadecimal_without_prefix}')\n",
    "\n",
    "        # Ask if the user wants to continue\n",
    "        while True:\n",
    "            continue_prompt = input('Do you want to continue? (y/n): ').strip().lower()\n",
    "            if continue_prompt in ['y', 'n']:\n",
    "                break\n",
    "            else:\n",
    "                print('Error: You must enter \"y\" for yes or \"n\" for no.')\n",
    "        \n",
    "        # Exit the loop if the user does not want to continue\n",
    "        if continue_prompt == 'n':\n",
    "            print('Exiting the program.')\n",
    "            break\n",
    "    except ValueError:\n",
    "        print('Error: You must enter a valid number.')\n"
   ]
  }
 ],
 "metadata": {
  "kernelspec": {
   "display_name": "Python 3 (ipykernel)",
   "language": "python",
   "name": "python3"
  },
  "language_info": {
   "codemirror_mode": {
    "name": "ipython",
    "version": 3
   },
   "file_extension": ".py",
   "mimetype": "text/x-python",
   "name": "python",
   "nbconvert_exporter": "python",
   "pygments_lexer": "ipython3",
   "version": "3.12.3"
  }
 },
 "nbformat": 4,
 "nbformat_minor": 5
}
