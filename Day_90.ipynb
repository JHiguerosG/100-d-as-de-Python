{
 "cells": [
  {
   "cell_type": "markdown",
   "id": "3aeb66e4-485a-43e8-9ede-7e5329e208c6",
   "metadata": {},
   "source": [
    "# 🧠 Reto 90: Gestor de Intercambio de Libros 🧠\n",
    "\n",
    "## 🏆 Objetivo:\n",
    "\n",
    "Crear un sistema interactivo que permita gestionar un pequeño club de intercambio de libros entre usuarios. Cada usuario puede registrar los libros que ofrece, solicitar libros disponibles de otros, y ver el historial de intercambios realizados.\n",
    "\n",
    "## 📝 Requisitos:\n",
    "\n",
    "1️⃣ Implementar un menú interactivo para:  \n",
    "🔸 Agregar usuario.  \n",
    "🔸 Registrar libros ofrecidos por un usuario.  \n",
    "🔸 Ver libros disponibles para intercambio.  \n",
    "🔸 Solicitar un libro (debe removerse de la lista del dueño original y pasar al solicitante).  \n",
    "🔸 Ver historial de intercambios.  \n",
    "🔸 Salir del programa.  \n",
    "2️⃣ Validar que:  \n",
    "🔸 No se pueda solicitar un libro que no exista.  \n",
    "🔸 No se pueda solicitar un libro propio.  \n",
    "🔸 No se puedan repetir usuarios.  \n",
    "🔸 Un usuario solo pueda tener hasta 5 libros disponibles.  \n",
    "\n",
    "## 📌 Ejemplo de ejecución:\n",
    "\n",
    "📚 GESTOR DE INTERCAMBIO DE LIBROS 📚  \n",
    "1\\. Agregar nuevo usuario  \n",
    "2. Registrar libro a usuario  \n",
    "3. Ver libros disponibles  \n",
    "4. Solicitar libro  \n",
    "5. Ver historial de intercambios  \n",
    "6. Salir  \n",
    "\n",
    "Opción: 1  \n",
    "Ingrese nombre del usuario: Ana  \n",
    "✅ Usuario \"Ana\" agregado correctamente.  \n",
    "\n",
    "Opción: 2  \n",
    "Usuario: Ana  \n",
    "Libro a registrar: \"El Principito\"  \n",
    "✅ Libro agregado a la lista de Ana.  \n",
    "\n",
    "Opción: 3  \n",
    "📚 Libros disponibles:  \n",
    "- \"El Principito\" (Propietario: Ana)  \n",
    "\n",
    "Opción: 4  \n",
    "Usuario solicitante: Luis  \n",
    "Libro a solicitar: \"El Principito\"  \n",
    "✅ Intercambio realizado: Luis ha recibido \"El Principito\" de Ana.  \n",
    "\n",
    "Opción: 5  \n",
    "📖 Historial de intercambios:  \n",
    "- Luis recibió \"El Principito\" de Ana  \n",
    "\n",
    "## 🔍 Pistas:\n",
    "\n",
    "🔹 Usa un diccionario para relacionar usuarios con sus libros disponibles.  \n",
    "🔹 Guarda los intercambios en una lista de tuplas o diccionarios con los detalles.  \n",
    "🔹 Asegúrate de que los nombres de los libros se manejen de forma consistente (puedes normalizar a minúsculas).  \n",
    "🔹 Puedes mejorar el reto incluyendo una validación para evitar que un libro con el mismo nombre y propietario se registre dos veces.  "
   ]
  },
  {
   "cell_type": "code",
   "execution_count": 5,
   "id": "fd144db4-5bad-45a9-a6bc-53b945c31055",
   "metadata": {},
   "outputs": [
    {
     "name": "stdout",
     "output_type": "stream",
     "text": [
      "\n",
      "📚 GESTOR DE INTERCAMBIO DE LIBROS 📚\n",
      "1. Agregar usuario\n",
      "2. Registrar libro a usuario\n",
      "3. Ver libros disponibles\n",
      "4. Solicitar libro\n",
      "5. Ver historial de intercambios\n",
      "6. Salir\n"
     ]
    },
    {
     "name": "stdin",
     "output_type": "stream",
     "text": [
      "Opción:  1\n",
      "Ingrese nombre del usuario:  Jonathan\n"
     ]
    },
    {
     "name": "stdout",
     "output_type": "stream",
     "text": [
      "✅ Usuario 'Jonathan' agregado correctamente.\n",
      "\n",
      "📚 GESTOR DE INTERCAMBIO DE LIBROS 📚\n",
      "1. Agregar usuario\n",
      "2. Registrar libro a usuario\n",
      "3. Ver libros disponibles\n",
      "4. Solicitar libro\n",
      "5. Ver historial de intercambios\n",
      "6. Salir\n"
     ]
    },
    {
     "name": "stdin",
     "output_type": "stream",
     "text": [
      "Opción:  1\n",
      "Ingrese nombre del usuario:  Alison\n"
     ]
    },
    {
     "name": "stdout",
     "output_type": "stream",
     "text": [
      "✅ Usuario 'Alison' agregado correctamente.\n",
      "\n",
      "📚 GESTOR DE INTERCAMBIO DE LIBROS 📚\n",
      "1. Agregar usuario\n",
      "2. Registrar libro a usuario\n",
      "3. Ver libros disponibles\n",
      "4. Solicitar libro\n",
      "5. Ver historial de intercambios\n",
      "6. Salir\n"
     ]
    },
    {
     "name": "stdin",
     "output_type": "stream",
     "text": [
      "Opción:  2\n",
      "Usuario:  Jonathan\n",
      "Libro a registrar:  Crimen y castigo\n"
     ]
    },
    {
     "name": "stdout",
     "output_type": "stream",
     "text": [
      "✅ Libro 'Crimen y castigo' agregado a la lista de Jonathan.\n",
      "\n",
      "📚 GESTOR DE INTERCAMBIO DE LIBROS 📚\n",
      "1. Agregar usuario\n",
      "2. Registrar libro a usuario\n",
      "3. Ver libros disponibles\n",
      "4. Solicitar libro\n",
      "5. Ver historial de intercambios\n",
      "6. Salir\n"
     ]
    },
    {
     "name": "stdin",
     "output_type": "stream",
     "text": [
      "Opción:  3\n"
     ]
    },
    {
     "name": "stdout",
     "output_type": "stream",
     "text": [
      "\n",
      "📚 Libros disponibles:\n",
      "- 'Crimen y castigo' (Propietario: Jonathan)\n",
      "\n",
      "📚 GESTOR DE INTERCAMBIO DE LIBROS 📚\n",
      "1. Agregar usuario\n",
      "2. Registrar libro a usuario\n",
      "3. Ver libros disponibles\n",
      "4. Solicitar libro\n",
      "5. Ver historial de intercambios\n",
      "6. Salir\n"
     ]
    },
    {
     "name": "stdin",
     "output_type": "stream",
     "text": [
      "Opción:  4\n",
      "Usuario solicitante:  Alison\n",
      "Libro a solicitar:  Crimen y castigo\n"
     ]
    },
    {
     "name": "stdout",
     "output_type": "stream",
     "text": [
      "✅ Intercambio realizado: Alison ha recibido 'Crimen y castigo' de Jonathan.\n",
      "\n",
      "📚 GESTOR DE INTERCAMBIO DE LIBROS 📚\n",
      "1. Agregar usuario\n",
      "2. Registrar libro a usuario\n",
      "3. Ver libros disponibles\n",
      "4. Solicitar libro\n",
      "5. Ver historial de intercambios\n",
      "6. Salir\n"
     ]
    },
    {
     "name": "stdin",
     "output_type": "stream",
     "text": [
      "Opción:  6\n"
     ]
    },
    {
     "name": "stdout",
     "output_type": "stream",
     "text": [
      "👋 Saliendo del programa...\n"
     ]
    }
   ],
   "source": [
    "from datetime import datetime\n",
    "\n",
    "class ClubLibros:\n",
    "    def __init__(self):\n",
    "        self.usuarios = {}  # Diccionario para relacionar usuarios con sus libros\n",
    "        self.historial = []  # Lista para almacenar intercambios\n",
    "\n",
    "    def normalizar_nombre(self, nombre):\n",
    "        return nombre.strip().title()\n",
    "\n",
    "    def agregar_usuario(self, nombre):\n",
    "        nombre = self.normalizar_nombre(nombre)\n",
    "        if nombre in self.usuarios:\n",
    "            return f\"🚫 El usuario '{nombre}' ya existe.\"\n",
    "        else:\n",
    "            self.usuarios[nombre] = []\n",
    "            return f\"✅ Usuario '{nombre}' agregado correctamente.\"\n",
    "\n",
    "    def registrar_libro(self, usuario, libro):\n",
    "        usuario = self.normalizar_nombre(usuario)\n",
    "        libro = libro.strip()\n",
    "        if usuario not in self.usuarios:\n",
    "            return f\"🚫 Usuario '{usuario}' no encontrado. Por favor, agrégalo primero.\"\n",
    "        elif len(self.usuarios[usuario]) >= 5:\n",
    "            return \"🚫 Un usuario solo puede tener hasta 5 libros disponibles.\"\n",
    "        elif libro.lower() in [b.lower() for b in self.usuarios[usuario]]:\n",
    "            return \"🚫 Este libro ya está registrado por este usuario.\"\n",
    "        else:\n",
    "            self.usuarios[usuario].append(libro)\n",
    "            return f\"✅ Libro '{libro}' agregado a la lista de {usuario}.\"\n",
    "\n",
    "    def ver_libros_disponibles(self):\n",
    "        print(\"\\n📚 Libros disponibles:\")\n",
    "        hay_libros = False\n",
    "        for usuario, libros in self.usuarios.items():\n",
    "            for libro in libros:\n",
    "                print(f\"- '{libro}' (Propietario: {usuario})\")\n",
    "                hay_libros = True\n",
    "        if not hay_libros:\n",
    "            print(\"🚫 No hay libros registrados aún.\")\n",
    "\n",
    "    def solicitar_libro(self, solicitante, libro):\n",
    "        solicitante = self.normalizar_nombre(solicitante)\n",
    "        libro = libro.strip()\n",
    "        if solicitante not in self.usuarios:\n",
    "            return f\"🚫 El usuario solicitante '{solicitante}' no está registrado. Por favor agrégalo primero.\"\n",
    "        elif libro.lower() in [b.lower() for b in self.usuarios[solicitante]]:\n",
    "            return \"🚫 No puedes solicitar tu propio libro.\"\n",
    "        else:\n",
    "            for propietario, libros in self.usuarios.items():\n",
    "                if propietario != solicitante:\n",
    "                    for b in libros:\n",
    "                        if b.lower() == libro.lower():\n",
    "                            libros.remove(b)\n",
    "                            self.usuarios[solicitante].append(b)\n",
    "                            timestamp = datetime.now().strftime('%Y-%m-%d %H:%M:%S')\n",
    "                            self.historial.append(f\"{timestamp} - {solicitante} recibió '{b}' de {propietario}\")\n",
    "                            return f\"✅ Intercambio realizado: {solicitante} ha recibido '{b}' de {propietario}.\"\n",
    "            return f\"🚫 Libro '{libro}' no disponible.\"\n",
    "\n",
    "    def ver_historial(self):\n",
    "        print(\"\\n📖 Historial de intercambios:\")\n",
    "        if not self.historial:\n",
    "            print(\"No se han realizado intercambios aún.\")\n",
    "        else:\n",
    "            for intercambio in self.historial:\n",
    "                print(f\"- {intercambio}\")\n",
    "\n",
    "    def menu(self):\n",
    "        while True:\n",
    "            print(\"\\n📚 GESTOR DE INTERCAMBIO DE LIBROS 📚\")\n",
    "            print(\"1. Agregar usuario\")\n",
    "            print(\"2. Registrar libro a usuario\")\n",
    "            print(\"3. Ver libros disponibles\")\n",
    "            print(\"4. Solicitar libro\")\n",
    "            print(\"5. Ver historial de intercambios\")\n",
    "            print(\"6. Salir\")\n",
    "            opcion = input(\"Opción: \").strip()\n",
    "\n",
    "            if opcion == \"1\":\n",
    "                nombre = input(\"Ingrese nombre del usuario: \")\n",
    "                print(self.agregar_usuario(nombre))\n",
    "            elif opcion == \"2\":\n",
    "                usuario = input(\"Usuario: \")\n",
    "                libro = input(\"Libro a registrar: \")\n",
    "                print(self.registrar_libro(usuario, libro))\n",
    "            elif opcion == \"3\":\n",
    "                self.ver_libros_disponibles()\n",
    "            elif opcion == \"4\":\n",
    "                solicitante = input(\"Usuario solicitante: \")\n",
    "                libro = input(\"Libro a solicitar: \")\n",
    "                print(self.solicitar_libro(solicitante, libro))\n",
    "            elif opcion == \"5\":\n",
    "                self.ver_historial()\n",
    "            elif opcion == \"6\":\n",
    "                print(\"👋 Saliendo del programa...\")\n",
    "                break\n",
    "            else:\n",
    "                print(\"🚫 Opción inválida, intenta de nuevo.\")\n",
    "\n",
    "# Ejecutar el programa directamente\n",
    "club = ClubLibros()\n",
    "club.menu()\n"
   ]
  }
 ],
 "metadata": {
  "kernelspec": {
   "display_name": "Python 3 (ipykernel)",
   "language": "python",
   "name": "python3"
  },
  "language_info": {
   "codemirror_mode": {
    "name": "ipython",
    "version": 3
   },
   "file_extension": ".py",
   "mimetype": "text/x-python",
   "name": "python",
   "nbconvert_exporter": "python",
   "pygments_lexer": "ipython3",
   "version": "3.12.3"
  }
 },
 "nbformat": 4,
 "nbformat_minor": 5
}
