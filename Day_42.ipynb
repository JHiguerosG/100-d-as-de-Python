{
 "cells": [
  {
   "cell_type": "markdown",
   "id": "fc89fcdf-ed22-4a84-89cf-1b40047aff97",
   "metadata": {},
   "source": [
    "# 🧠 Reto 42: Gestor de Tareas Personales 🧠\n",
    "\n",
    "## 🏆 Objetivo: \n",
    "Desarrollar una aplicación de consola en Python que permita a los usuarios gestionar sus tareas personales. La aplicación debe permitir agregar, listar, marcar como completadas y eliminar tareas.\n",
    "\n",
    "## 📝 Requisitos:\n",
    "\n",
    "1️⃣ Crear una aplicación de consola interactiva que muestre un menú con las siguientes opciones:  \n",
    "🔸 Agregar una nueva tarea.  \n",
    "🔸 Listar todas las tareas.  \n",
    "🔸 Marcar una tarea como completada.  \n",
    "🔸 Eliminar una tarea.  \n",
    "🔸 Salir de la aplicación.  \n",
    "2️⃣ Cada tarea debe tener un título, una descripción opcional y un estado de completada o pendiente.  \n",
    "3️⃣ Al listar las tareas, indicar claramente cuáles están completadas y cuáles están pendientes.  \n",
    "4️⃣ Utilizar una estructura de datos adecuada para almacenar las tareas mientras la aplicación esté en ejecución.  \n",
    "5️⃣ Implementar manejo de errores para entradas inválidas del usuario.  \n",
    "\n",
    "## 📌 Ejemplo de ejecución:\n",
    "\n",
    "Gestor de Tareas Personales  \n",
    "1 Agregar una nueva tarea  \n",
    "2 Listar todas las tareas  \n",
    "3 Marcar una tarea como completada  \n",
    "4 Eliminar una tarea  \n",
    "5 Salir  \n",
    "Seleccione una opción: 1  \n",
    "Ingrese el título de la tarea: Comprar víveres  \n",
    "Ingrese una descripción de la tarea (opcional): Comprar leche, pan y huevos  \n",
    "Tarea agregada exitosamente.  \n",
    "\n",
    "Gestor de Tareas Personales  \n",
    "1 Agregar una nueva tarea  \n",
    "2 Listar todas las tareas  \n",
    "3 Marcar una tarea como completada  \n",
    "4 Eliminar una tarea  \n",
    "5 Salir  \n",
    "Seleccione una opción: 2  \n",
    "Lista de tareas:  \n",
    "1 [ ] Comprar víveres - Comprar leche, pan y huevos  \n",
    "\n",
    "Gestor de Tareas Personales  \n",
    "1 Agregar una nueva tarea  \n",
    "2 Listar todas las tareas  \n",
    "3 Marcar una tarea como completada  \n",
    "4 Eliminar una tarea  \n",
    "5 Salir   \n",
    "Seleccione una opción: 3  \n",
    "Ingrese el número de la tarea que desea marcar como completada: 1  \n",
    "Tarea marcada como completada.  \n",
    "\n",
    "Gestor de Tareas Personales  \n",
    "1 Agregar una nueva tarea  \n",
    "2 Listar todas las tareas  \n",
    "3 Marcar una tarea como completada  \n",
    "4 Eliminar una tarea  \n",
    "5 Salir  \n",
    "Seleccione una opción: 2  \n",
    "Lista de tareas:  \n",
    "1 [✔] Comprar víveres - Comprar leche, pan y huevos  \n",
    "\n",
    "Gestor de Tareas Personales  \n",
    "1 Agregar una nueva tarea  \n",
    "2 Listar todas las tareas  \n",
    "3 Marcar una tarea como completada  \n",
    "4 Eliminar una tarea  \n",
    "5 Salir  \n",
    "Seleccione una opción: 5  \n",
    "Saliendo de la aplicación.  \n",
    "\n",
    "## 🔍 Pistas:\n",
    "\n",
    "🔹 Utiliza una lista de diccionarios para almacenar las tareas. Cada diccionario puede representar una tarea con claves como 'título', 'descripción' y 'estado'.  \n",
    "🔹 Para marcar una tarea como completada, puedes cambiar el valor de la clave 'estado' a 'completada'.  \n",
    "🔹 Al listar las tareas, puedes utilizar una marca como '[✔]' para indicar que está completada y '[ ]' para indicar que está pendiente.  \n",
    "🔹 Asegúrate de manejar excepciones y validar las entradas del usuario para evitar errores durante la ejecución.  "
   ]
  },
  {
   "cell_type": "code",
   "execution_count": 1,
   "id": "8032ae44-4542-4ab1-819f-5cf8d5904e7e",
   "metadata": {},
   "outputs": [
    {
     "name": "stdout",
     "output_type": "stream",
     "text": [
      "\n",
      "Gestor de Tareas Personales\n",
      "1. Agregar una nueva tarea\n",
      "2. Listar todas las tareas\n",
      "3. Marcar una tarea como completada\n",
      "4. Eliminar una tarea\n",
      "5. Salir\n"
     ]
    },
    {
     "name": "stdin",
     "output_type": "stream",
     "text": [
      "Seleccione una opción:  1\n",
      "Ingrese el título de la tarea:  Tarea de Estadística\n",
      "Ingrese una descripción de la tarea (opcional):  Tarea No. 1 del curso de Estadística Aplicada\n"
     ]
    },
    {
     "name": "stdout",
     "output_type": "stream",
     "text": [
      "Tarea agregada exitosamente.\n",
      "\n",
      "Gestor de Tareas Personales\n",
      "1. Agregar una nueva tarea\n",
      "2. Listar todas las tareas\n",
      "3. Marcar una tarea como completada\n",
      "4. Eliminar una tarea\n",
      "5. Salir\n"
     ]
    },
    {
     "name": "stdin",
     "output_type": "stream",
     "text": [
      "Seleccione una opción:  2\n"
     ]
    },
    {
     "name": "stdout",
     "output_type": "stream",
     "text": [
      "Lista de tareas:\n",
      "1. [ ] Tarea de Estadística - Tarea No. 1 del curso de Estadística Aplicada\n",
      "\n",
      "Gestor de Tareas Personales\n",
      "1. Agregar una nueva tarea\n",
      "2. Listar todas las tareas\n",
      "3. Marcar una tarea como completada\n",
      "4. Eliminar una tarea\n",
      "5. Salir\n"
     ]
    },
    {
     "name": "stdin",
     "output_type": "stream",
     "text": [
      "Seleccione una opción:  3\n"
     ]
    },
    {
     "name": "stdout",
     "output_type": "stream",
     "text": [
      "Lista de tareas:\n",
      "1. [ ] Tarea de Estadística - Tarea No. 1 del curso de Estadística Aplicada\n"
     ]
    },
    {
     "name": "stdin",
     "output_type": "stream",
     "text": [
      "Ingrese el número de la tarea que desea marcar como completada:  1\n"
     ]
    },
    {
     "name": "stdout",
     "output_type": "stream",
     "text": [
      "Tarea marcada como completada.\n",
      "\n",
      "Gestor de Tareas Personales\n",
      "1. Agregar una nueva tarea\n",
      "2. Listar todas las tareas\n",
      "3. Marcar una tarea como completada\n",
      "4. Eliminar una tarea\n",
      "5. Salir\n"
     ]
    },
    {
     "name": "stdin",
     "output_type": "stream",
     "text": [
      "Seleccione una opción:  2\n"
     ]
    },
    {
     "name": "stdout",
     "output_type": "stream",
     "text": [
      "Lista de tareas:\n",
      "1. [✔] Tarea de Estadística - Tarea No. 1 del curso de Estadística Aplicada\n",
      "\n",
      "Gestor de Tareas Personales\n",
      "1. Agregar una nueva tarea\n",
      "2. Listar todas las tareas\n",
      "3. Marcar una tarea como completada\n",
      "4. Eliminar una tarea\n",
      "5. Salir\n"
     ]
    },
    {
     "name": "stdin",
     "output_type": "stream",
     "text": [
      "Seleccione una opción:  5\n"
     ]
    },
    {
     "name": "stdout",
     "output_type": "stream",
     "text": [
      "Saliendo de la aplicación.\n"
     ]
    }
   ],
   "source": [
    "# Lista para almacenar las tareas\n",
    "tareas = []\n",
    "\n",
    "# Función para mostrar el menú\n",
    "def mostrar_menu():\n",
    "    print(\"\\nGestor de Tareas Personales\")\n",
    "    print(\"1. Agregar una nueva tarea\")\n",
    "    print(\"2. Listar todas las tareas\")\n",
    "    print(\"3. Marcar una tarea como completada\")\n",
    "    print(\"4. Eliminar una tarea\")\n",
    "    print(\"5. Salir\")\n",
    "\n",
    "# Función para agregar una tarea\n",
    "def agregar_tarea():\n",
    "    titulo = input(\"Ingrese el título de la tarea: \")\n",
    "    descripcion = input(\"Ingrese una descripción de la tarea (opcional): \")\n",
    "    tarea = {\"titulo\": titulo, \"descripcion\": descripcion, \"estado\": \"pendiente\"}\n",
    "    tareas.append(tarea)\n",
    "    print(\"Tarea agregada exitosamente.\")\n",
    "\n",
    "# Función para listar todas las tareas\n",
    "def listar_tareas():\n",
    "    if not tareas:\n",
    "        print(\"No hay tareas en la lista.\")\n",
    "    else:\n",
    "        print(\"Lista de tareas:\")\n",
    "        for idx, tarea in enumerate(tareas, start=1):\n",
    "            estado = \"[✔]\" if tarea[\"estado\"] == \"completada\" else \"[ ]\"\n",
    "            print(f\"{idx}. {estado} {tarea['titulo']} - {tarea['descripcion']}\")\n",
    "\n",
    "# Función para marcar una tarea como completada\n",
    "def marcar_completada():\n",
    "    listar_tareas()\n",
    "    try:\n",
    "        num = int(input(\"Ingrese el número de la tarea que desea marcar como completada: \"))\n",
    "        if 1 <= num <= len(tareas):\n",
    "            tareas[num - 1][\"estado\"] = \"completada\"\n",
    "            print(\"Tarea marcada como completada.\")\n",
    "        else:\n",
    "            print(\"Número de tarea inválido.\")\n",
    "    except ValueError:\n",
    "        print(\"Por favor, ingrese un número válido.\")\n",
    "\n",
    "# Función para eliminar una tarea\n",
    "def eliminar_tarea():\n",
    "    listar_tareas()\n",
    "    try:\n",
    "        num = int(input(\"Ingrese el número de la tarea que desea eliminar: \"))\n",
    "        if 1 <= num <= len(tareas):\n",
    "            tareas.pop(num - 1)\n",
    "            print(\"Tarea eliminada exitosamente.\")\n",
    "        else:\n",
    "            print(\"Número de tarea inválido.\")\n",
    "    except ValueError:\n",
    "        print(\"Por favor, ingrese un número válido.\")\n",
    "\n",
    "# Función principal para ejecutar el programa\n",
    "def ejecutar_programa():\n",
    "    while True:\n",
    "        mostrar_menu()\n",
    "        opcion = input(\"Seleccione una opción: \")\n",
    "        if opcion == \"1\":\n",
    "            agregar_tarea()\n",
    "        elif opcion == \"2\":\n",
    "            listar_tareas()\n",
    "        elif opcion == \"3\":\n",
    "            marcar_completada()\n",
    "        elif opcion == \"4\":\n",
    "            eliminar_tarea()\n",
    "        elif opcion == \"5\":\n",
    "            print(\"Saliendo de la aplicación.\")\n",
    "            break\n",
    "        else:\n",
    "            print(\"Opción inválida. Por favor, intente nuevamente.\")\n",
    "\n",
    "# Llamada directa a la función\n",
    "ejecutar_programa()"
   ]
  }
 ],
 "metadata": {
  "kernelspec": {
   "display_name": "Python 3 (ipykernel)",
   "language": "python",
   "name": "python3"
  },
  "language_info": {
   "codemirror_mode": {
    "name": "ipython",
    "version": 3
   },
   "file_extension": ".py",
   "mimetype": "text/x-python",
   "name": "python",
   "nbconvert_exporter": "python",
   "pygments_lexer": "ipython3",
   "version": "3.12.3"
  }
 },
 "nbformat": 4,
 "nbformat_minor": 5
}
