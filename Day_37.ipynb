{
 "cells": [
  {
   "cell_type": "markdown",
   "id": "fb791e0a-ff28-462a-98a2-f555b792c70a",
   "metadata": {},
   "source": [
    "# 🧠 Reto 37: Análisis de Datos Meteorológicos 🧠  \n",
    "## 🏆 Objetivo:  \n",
    "Crear un programa que analice datos meteorológicos de temperatura y humedad, calculando estadísticas útiles como el promedio, la temperatura máxima, la temperatura mínima, la desviación estándar, entre otros.\n",
    "## 📝 Requisitos:\n",
    "1️⃣ El programa debe permitir al usuario ingresar una lista de temperaturas y otra lista de humedades separadas por comas.  \n",
    "2️⃣ Debe calcular y mostrar:  \n",
    "    * Temperatura promedio.  \n",
    "    * Temperatura máxima y mínima.   \n",
    "    * Desviación estándar de la temperatura.  \n",
    "    * Humedad promedio.  \n",
    "    * Humedad máxima y mínima.  \n",
    "    * Desviación estándar de la humedad.  \n",
    "3️⃣ El programa debe manejar posibles errores de entrada.  \n",
    "4️⃣ Debe imprimir los resultados de manera clara y ordenada.  \n",
    "5️⃣ Utiliza la biblioteca statistics para realizar los cálculos estadísticos.  \n",
    "## 📌 Ejemplo de ejecución:\n",
    "\\>>> Enter the temperatures separated by commas: 23.5, 25.0, 19.8, 22.1, 24.6  \n",
    "\\>>> Enter the humidities separated by commas: 65.2, 70.1, 60.3, 66.5, 68.0  \n",
    "\n",
    "--- Meteorological Data Analysis ---  \n",
    "Temperature Average: 23.0 °C    \n",
    "Temperature Max: 25.0 °C    \n",
    "Temperature Min: 19.8 °C  \n",
    "Temperature Standard Deviation: 2.03 °C  \n",
    "\n",
    "Humidity Average: 66.02 %  \n",
    "Humidity Max: 70.1 %  \n",
    "Humidity Min: 60.3 %  \n",
    "Humidity Standard Deviation: 3.44 %  \n",
    "\n",
    "## 🔍 Pistas:\n",
    "🔹 Utiliza `statistics.mean()` para calcular el promedio.  \n",
    "🔹 Utiliza `statistics.stdev()` para calcular la desviación estándar.  \n",
    "🔹 Utiliza `max()` y `min()` para encontrar los valores extremos.   \n",
    "🔹 Realiza la conversión de los datos ingresados a una lista de números flotantes utilizando `split()` y `map()`.  \n",
    "🔹 Maneja excepciones con try-except para evitar errores en el ingreso de datos.  \n",
    "\n"
   ]
  },
  {
   "cell_type": "code",
   "execution_count": 33,
   "id": "5a308bde-bc00-4fb7-99de-5b81e18a3b15",
   "metadata": {},
   "outputs": [],
   "source": [
    "import statistics"
   ]
  },
  {
   "cell_type": "code",
   "execution_count": 34,
   "id": "654cff4c-1ccc-44a0-9efd-954fcf206a88",
   "metadata": {},
   "outputs": [],
   "source": [
    "def get_float_list(prompt):\n",
    "    \"\"\"\n",
    "    Prompts the user to enter a list of numbers separated by commas.\n",
    "    Returns a list of floats or raises a ValueError if the input is invalid.\n",
    "    \"\"\"\n",
    "    try:\n",
    "        values = input(prompt)\n",
    "        float_list = list(map(float, values.split(',')))\n",
    "        if not float_list:\n",
    "            raise ValueError(\"The list cannot be empty.\")\n",
    "        return float_list\n",
    "    except ValueError:\n",
    "        print(\"\\nError: Please ensure all inputs are valid numbers separated by commas.\")\n",
    "        return get_float_list(prompt)\n"
   ]
  },
  {
   "cell_type": "code",
   "execution_count": 35,
   "id": "34b0f6d5-78c1-475e-9d3f-e07dfb32ad70",
   "metadata": {},
   "outputs": [],
   "source": [
    "def calculate_statistics(data_list):\n",
    "    \"\"\"\n",
    "    Calculates statistical information for a list of numbers.\n",
    "    :param data_list: A list of numeric values.\n",
    "    :return: A tuple containing mean, max, min, and standard deviation.\n",
    "    \"\"\"\n",
    "    mean_value = round(statistics.mean(data_list), 2)\n",
    "    max_value = round(max(data_list), 2)\n",
    "    min_value = round(min(data_list), 2)\n",
    "    stdev_value = round(statistics.stdev(data_list), 2) if len(data_list) > 1 else 0\n",
    "    return mean_value, max_value, min_value, stdev_value\n",
    "    "
   ]
  },
  {
   "cell_type": "code",
   "execution_count": 36,
   "id": "20b3e577-f345-40fb-b99e-eddd4c07af86",
   "metadata": {},
   "outputs": [
    {
     "name": "stdin",
     "output_type": "stream",
     "text": [
      ">>> Enter the temperatures separated by commas:  23.5, 25.0, 19.8, 22.1, 24.6\n",
      ">>> Enter the humidities separated by commas:  65.2, 70.1, 60.3, 66.5, 68.0\n"
     ]
    },
    {
     "name": "stdout",
     "output_type": "stream",
     "text": [
      "\n",
      "--- Meteorological Data Analysis ---\n",
      "Temperature Average: 23.0 °C\n",
      "Temperature Max: 25.0 °C\n",
      "Temperature Min: 19.8 °C\n",
      "Temperature Standard Deviation: 2.11 °C\n",
      "\n",
      "Humidity Average: 66.02 %\n",
      "Humidity Max: 70.1 %\n",
      "Humidity Min: 60.3 %\n",
      "Humidity Standard Deviation: 3.68 %\n"
     ]
    }
   ],
   "source": [
    "# Prompt the user to input temperatures and humidities\n",
    "temperatures_list = get_float_list(\">>> Enter the temperatures separated by commas: \")\n",
    "humidities_list = get_float_list(\">>> Enter the humidities separated by commas: \")\n",
    "\n",
    "# Get temperature and humidity statistics\n",
    "temp_stats = calculate_statistics(temperatures_list)\n",
    "hum_stats = calculate_statistics(humidities_list)\n",
    "\n",
    "# Print the results\n",
    "print(\"\\n--- Meteorological Data Analysis ---\")\n",
    "print(f\"Temperature Average: {temp_stats[0]} °C\")\n",
    "print(f\"Temperature Max: {temp_stats[1]} °C\")\n",
    "print(f\"Temperature Min: {temp_stats[2]} °C\")\n",
    "print(f\"Temperature Standard Deviation: {temp_stats[3]} °C\\n\")\n",
    "print(f\"Humidity Average: {hum_stats[0]} %\")\n",
    "print(f\"Humidity Max: {hum_stats[1]} %\")\n",
    "print(f\"Humidity Min: {hum_stats[2]} %\")\n",
    "print(f\"Humidity Standard Deviation: {hum_stats[3]} %\")\n"
   ]
  }
 ],
 "metadata": {
  "kernelspec": {
   "display_name": "Python 3 (ipykernel)",
   "language": "python",
   "name": "python3"
  },
  "language_info": {
   "codemirror_mode": {
    "name": "ipython",
    "version": 3
   },
   "file_extension": ".py",
   "mimetype": "text/x-python",
   "name": "python",
   "nbconvert_exporter": "python",
   "pygments_lexer": "ipython3",
   "version": "3.12.3"
  }
 },
 "nbformat": 4,
 "nbformat_minor": 5
}
