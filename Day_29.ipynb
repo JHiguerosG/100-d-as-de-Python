{
 "cells": [
  {
   "cell_type": "markdown",
   "id": "8404a88c-4235-49d3-b824-2a87cc9b455b",
   "metadata": {},
   "source": [
    "# 🧠 Reto 29: Simulador de Conversión de Monedas 🧠\n",
    "\n",
    "## 🏆 Objetivo:\n",
    "\n",
    "Crear un programa en Python que permita convertir una cantidad de dinero de una moneda a otra utilizando tasas de cambio actualizadas desde una API o valores predefinidos. El usuario debe poder seleccionar las monedas de origen y destino.\n",
    "\n",
    "## 📝 Requisitos:\n",
    "\n",
    "1️⃣ El programa debe:  \n",
    "🔸 Solicitar al usuario la moneda de origen y la moneda de destino.  \n",
    "🔸 Solicitar la cantidad de dinero a convertir.  \n",
    "🔸 Mostrar el resultado de la conversión en un formato claro y preciso.  \n",
    "🔸 Permitir al usuario continuar realizando conversiones o salir del programa.  \n",
    "\n",
    "2️⃣ Opciones de implementación:  \n",
    "🔸 Con API: Usar una API de tasas de cambio en tiempo real (como \"ExchangeRate API\" o \"Open Exchange Rates\").  \n",
    "🔸 Sin API: Utilizar tasas de cambio predefinidas para unas cuantas monedas populares (USD, EUR, GBP, JPY, MXN, GTQ).  \n",
    "\n",
    "## 📌 Ejemplo de ejecución:\n",
    "\n",
    "\\>>> Moneda de origen (USD, EUR, GBP, JPY, MXN, GTQ): USD  \n",
    "\\>>> Moneda de destino (USD, EUR, GBP, JPY, MXN, GTQ): EUR  \n",
    "\\>>> Cantidad a convertir: 100  \n",
    "100 USD equivalen a 91.45 EUR.      \n",
    "\n",
    "¿Deseas realizar otra conversión? (y/n): y  \n",
    "\n",
    "\\>>> Moneda de origen (USD, EUR, GBP, JPY, MXN, GTQ): GTQ  \n",
    "\\>>> Moneda de destino (USD, EUR, GBP, JPY, MXN, GTQ): USD  \n",
    "\\>>> Cantidad a convertir: 1000  \n",
    "1000 GTQ equivalen a 127.60 USD.    \n",
    "\n",
    "¿Deseas realizar otra conversión? (y/n): n  \n",
    "¡Hasta luego!  \n",
    "\n",
    "## 🔍 Pistas:\n",
    "\n",
    "🔸 Para obtener tasas de cambio actualizadas, puedes utilizar una API como ExchangeRate API o Open Exchange Rates.  \n",
    "🔸 Si optas por valores fijos, asegúrate de incluir los más usados y de documentarlos en el código.  \n",
    "🔸 Utiliza estructuras de datos como diccionarios para almacenar las tasas de cambio.  \n",
    "🔸 Maneja posibles errores, como monedas no válidas o errores de conexión si usas una API.  "
   ]
  },
  {
   "cell_type": "code",
   "execution_count": 1,
   "id": "dba83acc-db8e-4ba3-b433-aafbc162396d",
   "metadata": {},
   "outputs": [],
   "source": [
    "# pip install requests"
   ]
  },
  {
   "cell_type": "code",
   "execution_count": 30,
   "id": "c5d18fea-a323-4624-b9de-1e3ee993b433",
   "metadata": {},
   "outputs": [],
   "source": [
    "import requests\n",
    "\n",
    "def currency_conversion(base_currency, target_currency, amount):\n",
    "    \"\"\"\n",
    "    Converts an amount from one currency to another using ExchangeRate API.\n",
    "\n",
    "    :param base_currency: The currency code of the base currency (e.g., 'USD').\n",
    "    :param target_currency: The currency code of the target currency (e.g., 'EUR').\n",
    "    :param amount: The amount to be converted.\n",
    "    \"\"\"\n",
    "    # Your API key\n",
    "    api_key = '5b81970c6c8bed7a2abf926c'\n",
    "\n",
    "    # API URL with the base currency\n",
    "    url = f'https://v6.exchangerate-api.com/v6/{api_key}/latest/{base_currency}'\n",
    "\n",
    "    # Make the GET request\n",
    "    response = requests.get(url)\n",
    "    # Convert the response to JSON\n",
    "    data = response.json()\n",
    "\n",
    "    # Check if the request was successful\n",
    "    if data['result'] == 'success':\n",
    "        # Get the exchange rate for the target currency\n",
    "        rate = data['conversion_rates'].get(target_currency)\n",
    "        if rate:\n",
    "            # Calculate the converted amount\n",
    "            converted_amount = amount * rate\n",
    "            print(f'{amount} {base_currency} is equivalent to {converted_amount:.2f} {target_currency}')\n",
    "        else:\n",
    "            print(f'Exchange rate for {target_currency} not found.')\n",
    "    else:\n",
    "        print('Error:', data['error-type'])\n",
    "        "
   ]
  },
  {
   "cell_type": "code",
   "execution_count": 32,
   "id": "eef5f58a-c515-4144-87a0-f2c57eb6b8c8",
   "metadata": {},
   "outputs": [
    {
     "name": "stdin",
     "output_type": "stream",
     "text": [
      ">>> Base currency (USD, EUR, GBP, JPY, MXN, GTQ):  GTQ\n",
      ">>> Target currency (USD, EUR, GBP, JPY, MXN, GTQ):  USD\n",
      ">>> Amount to convert:  1000\n"
     ]
    },
    {
     "name": "stdout",
     "output_type": "stream",
     "text": [
      "1000.0 GTQ is equivalent to 129.60 USD\n"
     ]
    },
    {
     "name": "stdin",
     "output_type": "stream",
     "text": [
      "\n",
      "Do you want to continue? (y/n):  y\n",
      ">>> Base currency (USD, EUR, GBP, JPY, MXN, GTQ):  GTQ\n",
      ">>> Target currency (USD, EUR, GBP, JPY, MXN, GTQ):  JPY\n",
      ">>> Amount to convert:  1000\n"
     ]
    },
    {
     "name": "stdout",
     "output_type": "stream",
     "text": [
      "1000.0 GTQ is equivalent to 19093.30 JPY\n"
     ]
    },
    {
     "name": "stdin",
     "output_type": "stream",
     "text": [
      "\n",
      "Do you want to continue? (y/n):  y\n",
      ">>> Base currency (USD, EUR, GBP, JPY, MXN, GTQ):  EUR\n",
      ">>> Target currency (USD, EUR, GBP, JPY, MXN, GTQ):  MXN\n",
      ">>> Amount to convert:  100\n"
     ]
    },
    {
     "name": "stdout",
     "output_type": "stream",
     "text": [
      "100.0 EUR is equivalent to 2202.45 MXN\n"
     ]
    },
    {
     "name": "stdin",
     "output_type": "stream",
     "text": [
      "\n",
      "Do you want to continue? (y/n):  n\n"
     ]
    },
    {
     "name": "stdout",
     "output_type": "stream",
     "text": [
      "Goodbye!\n"
     ]
    }
   ],
   "source": [
    "currencies = ['USD', 'EUR', 'GBP', 'JPY', 'MXN', 'GTQ']\n",
    "\n",
    "while True:\n",
    "    # Validate base currency\n",
    "    while True:\n",
    "        base_currency = input('>>> Base currency (USD, EUR, GBP, JPY, MXN, GTQ): ').upper()\n",
    "        if base_currency not in currencies:\n",
    "            print('Invalid currency. Please try again.')\n",
    "            continue\n",
    "        break\n",
    "\n",
    "    # Validate target currency\n",
    "    while True:\n",
    "        target_currency = input('>>> Target currency (USD, EUR, GBP, JPY, MXN, GTQ): ').upper()\n",
    "        if target_currency not in currencies:\n",
    "            print('Invalid currency. Please try again.')\n",
    "            continue\n",
    "        elif target_currency == base_currency:\n",
    "            print('You must choose different currencies.')\n",
    "            continue\n",
    "        break\n",
    "\n",
    "    # Validate amount to convert\n",
    "    while True:\n",
    "        try:\n",
    "            amount = float(input('>>> Amount to convert: '))\n",
    "            if amount <= 0:\n",
    "                print('You cannot enter values less than or equal to 0.')\n",
    "                continue\n",
    "            break\n",
    "        except ValueError:\n",
    "            print('Please enter a valid amount.')\n",
    "\n",
    "    currency_conversion(base_currency, target_currency, amount)\n",
    "    \n",
    "    # Ask if the user wants to continue\n",
    "    while True:\n",
    "        continue_prompt = input('\\nDo you want to continue? (y/n): ').strip().lower()\n",
    "        if continue_prompt in ['y', 'n']:\n",
    "            break\n",
    "        else:\n",
    "            print('Error: You must enter \"y\" for yes or \"n\" for no.')\n",
    "\n",
    "    # Exit the loop if the user does not want to continue\n",
    "    if continue_prompt == 'n':\n",
    "        print('Goodbye!')\n",
    "        break"
   ]
  }
 ],
 "metadata": {
  "kernelspec": {
   "display_name": "Python 3 (ipykernel)",
   "language": "python",
   "name": "python3"
  },
  "language_info": {
   "codemirror_mode": {
    "name": "ipython",
    "version": 3
   },
   "file_extension": ".py",
   "mimetype": "text/x-python",
   "name": "python",
   "nbconvert_exporter": "python",
   "pygments_lexer": "ipython3",
   "version": "3.12.3"
  }
 },
 "nbformat": 4,
 "nbformat_minor": 5
}
