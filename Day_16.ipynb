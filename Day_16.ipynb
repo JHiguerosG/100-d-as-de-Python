{
 "cells": [
  {
   "cell_type": "markdown",
   "id": "83b17ef8-d11e-40a4-bc84-08b1bcabd190",
   "metadata": {},
   "source": [
    "# 🔥 🏆 Reto 16: Analizador de Sentimientos de Texto 🔥\n",
    "\n",
    "\n",
    "## 🏆 Objetivo:\n",
    "\n",
    "Desarrolla un programa en Python que analice el sentimiento de un texto proporcionado por el usuario. El programa debe clasificar el texto como positivo, negativo o neutral.\n",
    "\n",
    "## 📝 Requisitos:\n",
    "\n",
    "1. **Entrada del usuario**: Solicitar al usuario que ingrese una oración o párrafo.  \n",
    "2. **Análisis de sentimiento**: Utilizar una biblioteca de procesamiento de lenguaje natural para determinar el sentimiento del texto.  \n",
    "3. **Salida**: Mostrar al usuario si el sentimiento del texto es positivo, negativo o neutral.\n",
    "\n",
    "## 📌 Ejemplos de ejecución:\n",
    "\n",
    "### 👉 Ejemplo 1: Texto positivo 👍\n",
    "\\>>> Ingresa un texto: Hoy es un día maravilloso. Me siento muy feliz y motivado.  \n",
    "😊 Sentimiento detectado: Positivo  \n",
    "\n",
    "### 👉 Ejemplo 2: Texto negativo 👎\n",
    "\\>>> Ingresa un texto: Estoy muy triste y decepcionado. Todo salió mal hoy.  \n",
    "😞 Sentimiento detectado: Negativo  \n",
    "\n",
    "### 👉 Ejemplo 3: Texto neutral 😐\n",
    "\\>>> Ingresa un texto: El cielo es azul y las nubes están blancas.  \n",
    "😐 Sentimiento detectado: Neutral  \n"
   ]
  },
  {
   "cell_type": "code",
   "execution_count": 38,
   "id": "1980df0f-967e-4fe0-b5e8-04bdacff4410",
   "metadata": {},
   "outputs": [],
   "source": [
    "from textblob import TextBlob\n",
    "\n",
    "def analyze_sentiment(text):\n",
    "    '''\n",
    "    Analyzes the sentiment of a given text and returns a corresponding message.\n",
    "\n",
    "    The function uses the TextBlob library to determine the sentiment polarity of the input text.\n",
    "    The polarity score ranges from -1 to 1:\n",
    "        - A positive value (> 0) indicates a positive sentiment.\n",
    "        - A negative value (< 0) indicates a negative sentiment.\n",
    "        - A value of 0 indicates a neutral sentiment.\n",
    "\n",
    "    :param text: A string input provided by the user.\n",
    "    :return: A string message indicating whether the sentiment is Positive, Negative, or Neutral, \n",
    "             along with an associated emoji for better visualization.\n",
    "    '''\n",
    "    \n",
    "    sentiment = TextBlob(text)\n",
    "    polarity = sentiment.sentiment.polarity\n",
    "    \n",
    "    if polarity > 0:\n",
    "        result = '😊 Sentiment detected: Positive'\n",
    "    elif polarity < 0:\n",
    "        result = '😞 Sentiment detected: Negative'\n",
    "    else:\n",
    "        result = '😐 Sentiment detected: Neutral'\n",
    "\n",
    "    return result\n"
   ]
  },
  {
   "cell_type": "code",
   "execution_count": 39,
   "id": "201fdd87-0160-40c7-8ddc-0ed73397468c",
   "metadata": {},
   "outputs": [
    {
     "name": "stdin",
     "output_type": "stream",
     "text": [
      ">>> Enter a text, sentence, or phrase (or type \"q\" to quit):  Today is a wonderful day. I feel very happy and motivated.\n"
     ]
    },
    {
     "name": "stdout",
     "output_type": "stream",
     "text": [
      "😊 Sentiment detected: Positive\n"
     ]
    },
    {
     "name": "stdin",
     "output_type": "stream",
     "text": [
      ">>> Enter a text, sentence, or phrase (or type \"q\" to quit):  I am very sad and disappointed. Everything went wrong today.\n"
     ]
    },
    {
     "name": "stdout",
     "output_type": "stream",
     "text": [
      "😞 Sentiment detected: Negative\n"
     ]
    },
    {
     "name": "stdin",
     "output_type": "stream",
     "text": [
      ">>> Enter a text, sentence, or phrase (or type \"q\" to quit):  The sky is blue, and the clouds are white.\n"
     ]
    },
    {
     "name": "stdout",
     "output_type": "stream",
     "text": [
      "😐 Sentiment detected: Neutral\n"
     ]
    },
    {
     "name": "stdin",
     "output_type": "stream",
     "text": [
      ">>> Enter a text, sentence, or phrase (or type \"q\" to quit):  I like my job, but sometimes it stresses me out too much.\n"
     ]
    },
    {
     "name": "stdout",
     "output_type": "stream",
     "text": [
      "😊 Sentiment detected: Positive\n"
     ]
    },
    {
     "name": "stdin",
     "output_type": "stream",
     "text": [
      ">>> Enter a text, sentence, or phrase (or type \"q\" to quit):  q\n"
     ]
    },
    {
     "name": "stdout",
     "output_type": "stream",
     "text": [
      "Program terminated.\n"
     ]
    }
   ],
   "source": [
    "while True:\n",
    "    user_input = input('>>> Enter a text, sentence, or phrase (or type \"q\" to quit): ')\n",
    "    \n",
    "    if user_input.lower() == 'q':  # Convert to lowercase only for comparison\n",
    "        print('Program terminated.')\n",
    "        break\n",
    "    \n",
    "    print(analyze_sentiment(user_input))\n"
   ]
  }
 ],
 "metadata": {
  "kernelspec": {
   "display_name": "Python 3 (ipykernel)",
   "language": "python",
   "name": "python3"
  },
  "language_info": {
   "codemirror_mode": {
    "name": "ipython",
    "version": 3
   },
   "file_extension": ".py",
   "mimetype": "text/x-python",
   "name": "python",
   "nbconvert_exporter": "python",
   "pygments_lexer": "ipython3",
   "version": "3.12.3"
  }
 },
 "nbformat": 4,
 "nbformat_minor": 5
}
