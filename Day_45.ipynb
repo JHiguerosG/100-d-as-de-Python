{
 "cells": [
  {
   "cell_type": "code",
   "execution_count": 11,
   "id": "6a0c48b1-7736-4e66-9d43-4b9be41a3ae9",
   "metadata": {},
   "outputs": [
    {
     "name": "stdin",
     "output_type": "stream",
     "text": [
      "Enter your birthdate (YYYY-MM-DD):  1981-06-21\n"
     ]
    },
    {
     "name": "stdout",
     "output_type": "stream",
     "text": [
      "\n",
      "Today is: 2025-03-27\n",
      "Your exact age is: 43 years, 9 months, and 6 days.\n"
     ]
    }
   ],
   "source": [
    "import datetime\n",
    "from dateutil.relativedelta import relativedelta\n",
    "\n",
    "def calculate_age():\n",
    "    \"\"\"\n",
    "    Prompts the user to input their birthdate, validates the input, and calculates their exact age.\n",
    "    :return: None. The function prints the user's exact age in years, months, and days.\n",
    "    \"\"\"\n",
    "    while True:\n",
    "        try:\n",
    "            # Prompt the user to input their birthdate in the format YYYY-MM-DD\n",
    "            birth_date = input(\"Enter your birthdate (YYYY-MM-DD): \")\n",
    "            \n",
    "            # Convert the input string to a datetime object\n",
    "            formatted_birth_date = datetime.datetime.strptime(birth_date, \"%Y-%m-%d\")\n",
    "            break  # Exit the loop if the date format is valid\n",
    "        except ValueError:\n",
    "            # Inform the user of an invalid format and ask them to try again\n",
    "            print(\"Invalid format. Please make sure to enter the date in the correct format (YYYY-MM-DD).\")\n",
    "\n",
    "    # Get the current date and time\n",
    "    current_date = datetime.datetime.now()\n",
    "    \n",
    "    # Calculate the exact age using relativedelta\n",
    "    age = relativedelta(current_date, formatted_birth_date)\n",
    "    \n",
    "    # Display the current date\n",
    "    print(f\"\\nToday is: {current_date.strftime('%Y-%m-%d')}\")\n",
    "    \n",
    "    # Display the user's exact age in years, months, and days\n",
    "    print(f\"Your exact age is: {age.years} years, {age.months} months, and {age.days} days.\")\n",
    "\n",
    "# Call the function to execute the program\n",
    "calculate_age()\n"
   ]
  }
 ],
 "metadata": {
  "kernelspec": {
   "display_name": "Python 3 (ipykernel)",
   "language": "python",
   "name": "python3"
  },
  "language_info": {
   "codemirror_mode": {
    "name": "ipython",
    "version": 3
   },
   "file_extension": ".py",
   "mimetype": "text/x-python",
   "name": "python",
   "nbconvert_exporter": "python",
   "pygments_lexer": "ipython3",
   "version": "3.12.3"
  }
 },
 "nbformat": 4,
 "nbformat_minor": 5
}
