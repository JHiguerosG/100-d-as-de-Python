{
 "cells": [
  {
   "cell_type": "markdown",
   "id": "1f910d3e-50da-4239-8f3d-b1b4c29ff540",
   "metadata": {},
   "source": [
    "# 🧠 Reto 30: Generador de Código QR 🧠\n",
    "\n",
    "## 🏆 Objetivo:\n",
    "\n",
    "El objetivo de este reto es crear un programa en Python que genere códigos QR a partir de cualquier texto o enlace proporcionado por el usuario. Los códigos QR generados deberán guardarse como imágenes en formato PNG.\n",
    "\n",
    "## 📝 Requisitos:\n",
    "\n",
    "1️⃣ El programa debe permitir al usuario ingresar el texto o enlace que desea convertir en código QR.  \n",
    "2️⃣ El usuario debe poder especificar el nombre del archivo de salida.  \n",
    "3️⃣ El programa debe generar el código QR y guardarlo en un archivo PNG con el nombre proporcionado.  \n",
    "4️⃣ Utilizar la biblioteca qrcode para generar los códigos QR.  \n",
    "5️⃣ El programa debe verificar si el nombre del archivo tiene extensión .png y agregarla si es necesario.  \n",
    "6️⃣ Si el archivo ya existe, el programa debe advertir al usuario y ofrecer la opción de sobrescribirlo o guardar con otro nombre.  \n",
    "\n",
    "## 📌 Ejemplo de ejecución:\n",
    "\n",
    "\\>>> Introduzca el texto o enlace para generar el código QR: https://github.com/JHiguerosG/100-d-as-de-Python    \n",
    "\\>>> Nombre del archivo (sin extensión): mi_codigo_qr    \n",
    "El archivo 'mi_codigo_qr.png' ya existe. ¿Desea sobrescribirlo? (s/n): n    \n",
    "\\>>> Nuevo nombre del archivo: codigo_qr2     \n",
    "Código QR generado exitosamente como 'codigo_qr2.png' \n",
    "\n",
    "## 🔍 Pistas:\n",
    "\n",
    "🔸 Utiliza la biblioteca qrcode para generar el código QR. Puedes instalarla usando el siguiente comando: **pip install qrcode[pil]**      \n",
    "🔸 Usa la biblioteca os para verificar si el archivo ya existe antes de guardarlo.  \n",
    "🔸 La función principal puede llamarse generar_codigo_qr(texto, nombre_archivo).  \n",
    "🔸 Recuerda manejar los casos en los que el usuario introduzca un nombre de archivo con o sin extensión.  "
   ]
  },
  {
   "cell_type": "code",
   "execution_count": 13,
   "id": "40562333-403f-466f-b395-610e4973a337",
   "metadata": {},
   "outputs": [],
   "source": [
    "# pip install qrcode[pil]\n",
    "import qrcode\n",
    "import os"
   ]
  },
  {
   "cell_type": "code",
   "execution_count": 14,
   "id": "133075df-c210-4c96-83a4-b6d9e7bec048",
   "metadata": {},
   "outputs": [],
   "source": [
    "def generate_qr_code(data, file_name):\n",
    "    \"\"\"\n",
    "    Generates a QR code from the provided data and saves it as an image file.\n",
    "\n",
    "    :param data: The text or link to encode in the QR code.\n",
    "    :param file_name: The name of the file to save the QR code image.\n",
    "    \"\"\"\n",
    "    # Create the QRCode object\n",
    "    qr = qrcode.QRCode(\n",
    "        version=1,  # QR Code size\n",
    "        error_correction=qrcode.constants.ERROR_CORRECT_L,  # Error correction level\n",
    "        box_size=10,  # Size of each box in the QR code\n",
    "        border=4,  # Border size\n",
    "    )\n",
    "\n",
    "    # Add data to the QRCode object\n",
    "    qr.add_data(data)\n",
    "    qr.make(fit=True)\n",
    "\n",
    "    # Create the QR code image\n",
    "    img = qr.make_image(fill_color=\"black\", back_color=\"white\")\n",
    "\n",
    "    # Save the image\n",
    "    img.save(file_name)\n",
    "    print(f\"✅ QR Code generated and saved as '{file_name}'\")\n",
    "    "
   ]
  },
  {
   "cell_type": "code",
   "execution_count": 15,
   "id": "76acf49a-84c1-4725-958c-4b2f6b551a1f",
   "metadata": {},
   "outputs": [
    {
     "name": "stdin",
     "output_type": "stream",
     "text": [
      ">>> Enter the text or link to generate the QR code:  https://github.com/JHiguerosG/100-d-as-de-Python\n",
      ">>> Enter the file name (without extension):  git\n"
     ]
    },
    {
     "name": "stdout",
     "output_type": "stream",
     "text": [
      "⚠️ The file 'git.png' already exists.\n"
     ]
    },
    {
     "name": "stdin",
     "output_type": "stream",
     "text": [
      "Do you want to overwrite it? (y/n):  y\n"
     ]
    },
    {
     "name": "stdout",
     "output_type": "stream",
     "text": [
      "✅ QR Code generated and saved as 'git.png'\n"
     ]
    }
   ],
   "source": [
    "# Request data from the user\n",
    "data = input(\">>> Enter the text or link to generate the QR code: \")\n",
    "\n",
    "while True:\n",
    "    # Get the file name and check the extension\n",
    "    file_name = input('>>> Enter the file name (without extension): ')\n",
    "    if not file_name.endswith('.png'):\n",
    "        file_name += '.png'\n",
    "\n",
    "    # Check if the file already exists\n",
    "    if os.path.exists(file_name):\n",
    "        print(f\"⚠️ The file '{file_name}' already exists.\")\n",
    "        overwrite = input(\"Do you want to overwrite it? (y/n): \").strip().lower()\n",
    "        if overwrite == 'y':\n",
    "            generate_qr_code(data, file_name)\n",
    "            break\n",
    "        else:\n",
    "            print(\"Please choose a new file name.\")\n",
    "            continue\n",
    "    else:\n",
    "        generate_qr_code(data, file_name)\n",
    "        break\n",
    "        "
   ]
  }
 ],
 "metadata": {
  "kernelspec": {
   "display_name": "Python 3 (ipykernel)",
   "language": "python",
   "name": "python3"
  },
  "language_info": {
   "codemirror_mode": {
    "name": "ipython",
    "version": 3
   },
   "file_extension": ".py",
   "mimetype": "text/x-python",
   "name": "python",
   "nbconvert_exporter": "python",
   "pygments_lexer": "ipython3",
   "version": "3.12.3"
  }
 },
 "nbformat": 4,
 "nbformat_minor": 5
}
