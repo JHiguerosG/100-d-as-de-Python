{
 "cells": [
  {
   "cell_type": "markdown",
   "id": "9502973e-ef12-42d0-ba90-d97705f9d1bc",
   "metadata": {},
   "source": [
    "# 🧠 Reto 75: Calculadora de Velocidad de Lectura 🧠\n",
    "\n",
    "## 🏆 Objetivo:\n",
    "\n",
    "Crear un programa que permita calcular la velocidad de lectura de una persona en palabras por minuto (PPM) a partir del número de palabras leídas y el tiempo tomado en minutos. Además, debe ofrecer una interpretación del nivel de lectura basado en el resultado.\n",
    "\n",
    "## 📝 Requisitos:\n",
    "\n",
    "1️⃣ Solicitar al usuario el número total de palabras leídas.  \n",
    "2️⃣ Solicitar al usuario el tiempo en minutos que tardó en leerlas.  \n",
    "3️⃣ Calcular la velocidad de lectura como palabras/minuto.  \n",
    "4️⃣ Clasificar la velocidad de lectura:  \n",
    "🔸 **Menos de 150 PPM**: Lectura lenta.  \n",
    "🔸 **Entre 150 y 250 PPM**: Lectura promedio.  \n",
    "🔸 **Más de 250 PPM**: Lectura rápida.  \n",
    "5️⃣ Mostrar el resultado con la velocidad calculada y la clasificación.  \n",
    "\n",
    "## 📌 Ejemplo de ejecución:\n",
    "\n",
    "📚 Calculadora de Velocidad de Lectura 📚  \n",
    "\n",
    "Ingrese el número total de palabras leídas: 450  \n",
    "Ingrese el tiempo en minutos que tardó en leer: 2  \n",
    "\n",
    "📈 Resultados:  \n",
    "- Velocidad de lectura: 225.0 palabras por minuto  \n",
    "- Clasificación: Lectura promedio  \n",
    "\n",
    "💡 Recomendación: Sigue practicando para mejorar tu velocidad de lectura.  \n",
    "\n",
    "## 🔍 Pistas:\n",
    "\n",
    "🔹 Recuerda validar que el número de palabras y el tiempo sean mayores que cero.  \n",
    "🔹 Utiliza una fórmula simple: `velocidad = palabras / tiempo`.  \n",
    "🔹 Redondea la velocidad a un decimal para una presentación más limpia.  \n",
    "🔹 Puedes agregar recomendaciones personalizadas según la clasificación.  "
   ]
  },
  {
   "cell_type": "code",
   "execution_count": 1,
   "id": "d6999fae-38b8-49d0-a1ab-ea2d9a3836d3",
   "metadata": {},
   "outputs": [
    {
     "name": "stdout",
     "output_type": "stream",
     "text": [
      "📚 Calculadora de Velocidad de Lectura 📚\n"
     ]
    },
    {
     "name": "stdin",
     "output_type": "stream",
     "text": [
      "Ingrese el número total de palabras leídas:  450\n",
      "Ingrese el tiempo en minutos que tardó en leerlas:  2\n"
     ]
    },
    {
     "name": "stdout",
     "output_type": "stream",
     "text": [
      "\n",
      "📈 Resultados:\n",
      "- Velocidad de lectura: 225.0 palabras por minuto\n",
      "- Clasificación: Lectura promedio\n",
      "💡 Recomendación: Sigue practicando para mantener o mejorar tu nivel.\n"
     ]
    }
   ],
   "source": [
    "def calcular_velocidad_lectura():\n",
    "    print(\"📚 Calculadora de Velocidad de Lectura 📚\")\n",
    "    \n",
    "    try:\n",
    "        # Solicitar número de palabras y tiempo\n",
    "        palabras = int(input(\"Ingrese el número total de palabras leídas: \"))\n",
    "        tiempo = float(input(\"Ingrese el tiempo en minutos que tardó en leerlas: \"))\n",
    "        \n",
    "        # Validar entradas\n",
    "        if palabras <= 0 or tiempo <= 0:\n",
    "            print(\"Por favor, ingrese valores mayores que cero para palabras y tiempo.\")\n",
    "            return\n",
    "        \n",
    "        # Calcular velocidad de lectura\n",
    "        velocidad = palabras / tiempo\n",
    "        \n",
    "        # Clasificar la velocidad\n",
    "        if velocidad < 150:\n",
    "            clasificacion = \"Lectura lenta\"\n",
    "        elif 150 <= velocidad <= 250:\n",
    "            clasificacion = \"Lectura promedio\"\n",
    "        else:\n",
    "            clasificacion = \"Lectura rápida\"\n",
    "        \n",
    "        # Mostrar resultados\n",
    "        print(\"\\n📈 Resultados:\")\n",
    "        print(f\"- Velocidad de lectura: {round(velocidad, 1)} palabras por minuto\")\n",
    "        print(f\"- Clasificación: {clasificacion}\")\n",
    "        \n",
    "        # Recomendación según la clasificación\n",
    "        if clasificacion == \"Lectura lenta\":\n",
    "            print(\"💡 Recomendación: Practica la lectura para mejorar tu velocidad.\")\n",
    "        elif clasificacion == \"Lectura promedio\":\n",
    "            print(\"💡 Recomendación: Sigue practicando para mantener o mejorar tu nivel.\")\n",
    "        else:\n",
    "            print(\"💡 Recomendación: ¡Gran trabajo! Mantén tu velocidad de lectura.\")\n",
    "\n",
    "    except ValueError:\n",
    "        print(\"Error: Ingrese un número válido para palabras y tiempo.\")\n",
    "\n",
    "# Llamar a la función directamente\n",
    "calcular_velocidad_lectura()\n"
   ]
  }
 ],
 "metadata": {
  "kernelspec": {
   "display_name": "Python 3 (ipykernel)",
   "language": "python",
   "name": "python3"
  },
  "language_info": {
   "codemirror_mode": {
    "name": "ipython",
    "version": 3
   },
   "file_extension": ".py",
   "mimetype": "text/x-python",
   "name": "python",
   "nbconvert_exporter": "python",
   "pygments_lexer": "ipython3",
   "version": "3.12.3"
  }
 },
 "nbformat": 4,
 "nbformat_minor": 5
}
