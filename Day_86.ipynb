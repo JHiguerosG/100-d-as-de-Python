{
 "cells": [
  {
   "cell_type": "markdown",
   "id": "266da396-c825-4571-8cce-889f2aeda3da",
   "metadata": {},
   "source": [
    "# 🧠 Reto 86: Simulador de Calendario de Mantenimiento de Hogar 🧠\n",
    "\n",
    "## 🏆 Objetivo:\n",
    "\n",
    "Crear una aplicación en consola que permita al usuario registrar tareas periódicas de mantenimiento del hogar (por ejemplo: revisar filtros de aire, limpiar canaletas, cambiar baterías de detectores de humo) y visualizar qué tareas debe realizar en el mes actual, según la frecuencia con la que ocurren (mensual, bimestral, trimestral, semestral o anual).\n",
    "\n",
    "## 📝 Requisitos:\n",
    "\n",
    "1️⃣ Permitir al usuario registrar tareas de mantenimiento con los siguientes datos:  \n",
    "🔸 Nombre de la tarea  \n",
    "🔸 Frecuencia de repetición (mensual, bimestral, trimestral, semestral o anual)  \n",
    "🔸 Mes de inicio (por nombre o número)  \n",
    "2️⃣ Guardar las tareas en una estructura interna (lista de diccionarios u objetos, no usar archivos).  \n",
    "3️⃣ Calcular automáticamente en qué meses debe realizarse cada tarea basándose en el mes de inicio y la frecuencia.  \n",
    "4️⃣ Mostrar al usuario únicamente las tareas que deben realizarse en el mes actual.  \n",
    "5️⃣ Bonus: Permitir listar todas las tareas futuras del año, agrupadas por mes.  \n",
    "\n",
    "## 📌 Ejemplo de ejecución: \n",
    "\n",
    "🛠️ Bienvenido al Calendario de Mantenimiento del Hogar 🛠️  \n",
    "\n",
    "¿Cuántas tareas deseas registrar? 3  \n",
    "\n",
    "Tarea 1:  \n",
    "Nombre: Revisar filtros de aire  \n",
    "Frecuencia (mensual, bimestral, trimestral, semestral, anual): mensual  \n",
    "Mes de inicio (nombre o número): enero  \n",
    "\n",
    "Tarea 2:  \n",
    "Nombre: Limpiar canaletas  \n",
    "Frecuencia: trimestral  \n",
    "Mes de inicio: marzo  \n",
    "\n",
    "Tarea 3:  \n",
    "Nombre: Cambiar batería de alarma de humo  \n",
    "Frecuencia: anual  \n",
    "Mes de inicio: junio  \n",
    "\n",
    "📆 Tareas para el mes de MAYO:  \n",
    "✅ Revisar filtros de aire  \n",
    "\n",
    "¿Deseas ver el calendario completo del año? (s/n): s  \n",
    "\n",
    "📅 Calendario de Tareas Anual:  \n",
    "- ENERO: Revisar filtros de aire  \n",
    "- FEBRERO: Revisar filtros de aire  \n",
    "- MARZO: Revisar filtros de aire, Limpiar canaletas  \n",
    "- ABRIL: Revisar filtros de aire  \n",
    "- MAYO: Revisar filtros de aire  \n",
    "- JUNIO: Revisar filtros de aire, Cambiar batería de alarma de humo  \n",
    "... (y así sucesivamente)  \n",
    "\n",
    "## 🔍 Pistas:\n",
    "\n",
    "🔹 Usa una lista con los nombres de los meses para ayudarte a calcular ciclos (`['enero', 'febrero', ..., 'diciembre']`).  \n",
    "🔹 Puedes mapear la frecuencia a un número de meses: mensual (1), bimestral (2), trimestral (3), etc.  \n",
    "🔹 Convierte los nombres de meses a índice para operar con ellos más fácilmente.  \n",
    "🔹 Usa la función `datetime.now()` para obtener el mes actual y mostrar solo las tareas correspondientes.  \n",
    "🔹 Aprovecha la programación orientada a objetos para estructurar el código de forma limpia, con una clase `Tarea`.  "
   ]
  },
  {
   "cell_type": "code",
   "execution_count": 4,
   "id": "8809cfef-3a0f-4645-840a-f6bf61f8b1ac",
   "metadata": {},
   "outputs": [
    {
     "name": "stdout",
     "output_type": "stream",
     "text": [
      "🛠️ Bienvenido al Calendario de Mantenimiento del Hogar 🛠️\n"
     ]
    },
    {
     "name": "stdin",
     "output_type": "stream",
     "text": [
      "\n",
      "¿Cuántas tareas deseas registrar?  3\n"
     ]
    },
    {
     "name": "stdout",
     "output_type": "stream",
     "text": [
      "\n",
      "Tarea 1:\n"
     ]
    },
    {
     "name": "stdin",
     "output_type": "stream",
     "text": [
      "Nombre:  Revisar filtros de aire\n",
      "Frecuencia (mensual, bimestral, trimestral, semestral, anual):  mensual\n",
      "Mes de inicio (nombre o número):  enero\n"
     ]
    },
    {
     "name": "stdout",
     "output_type": "stream",
     "text": [
      "\n",
      "Tarea 2:\n"
     ]
    },
    {
     "name": "stdin",
     "output_type": "stream",
     "text": [
      "Nombre:  Limpiar canaletas\n",
      "Frecuencia (mensual, bimestral, trimestral, semestral, anual):  trimestral\n",
      "Mes de inicio (nombre o número):  marzo\n"
     ]
    },
    {
     "name": "stdout",
     "output_type": "stream",
     "text": [
      "\n",
      "Tarea 3:\n"
     ]
    },
    {
     "name": "stdin",
     "output_type": "stream",
     "text": [
      "Nombre:  Cambiar batería de alarma de humo\n",
      "Frecuencia (mensual, bimestral, trimestral, semestral, anual):  anual\n",
      "Mes de inicio (nombre o número):  junio\n"
     ]
    },
    {
     "name": "stdout",
     "output_type": "stream",
     "text": [
      "\n",
      "📆 Tareas para el mes de MAYO:\n",
      "✅ Revisar filtros de aire\n"
     ]
    },
    {
     "name": "stdin",
     "output_type": "stream",
     "text": [
      "\n",
      "¿Deseas ver el calendario completo del año? (s/n):  s\n"
     ]
    },
    {
     "name": "stdout",
     "output_type": "stream",
     "text": [
      "\n",
      "📅 Calendario de Tareas Anual:\n",
      "- ENERO: Revisar filtros de aire\n",
      "- FEBRERO: Revisar filtros de aire\n",
      "- MARZO: Revisar filtros de aire, Limpiar canaletas\n",
      "- ABRIL: Revisar filtros de aire\n",
      "- MAYO: Revisar filtros de aire\n",
      "- JUNIO: Revisar filtros de aire, Limpiar canaletas, Cambiar batería de alarma de humo\n",
      "- JULIO: Revisar filtros de aire\n",
      "- AGOSTO: Revisar filtros de aire\n",
      "- SEPTIEMBRE: Revisar filtros de aire, Limpiar canaletas\n",
      "- OCTUBRE: Revisar filtros de aire\n",
      "- NOVIEMBRE: Revisar filtros de aire\n",
      "- DICIEMBRE: Revisar filtros de aire, Limpiar canaletas\n"
     ]
    }
   ],
   "source": [
    "from datetime import datetime\n",
    "\n",
    "class Tarea:\n",
    "    meses = ['enero', 'febrero', 'marzo', 'abril', 'mayo', 'junio',\n",
    "             'julio', 'agosto', 'septiembre', 'octubre', 'noviembre', 'diciembre']\n",
    "    frecuencias = {'mensual': 1, 'bimestral': 2, 'trimestral': 3, 'semestral': 6, 'anual': 12}\n",
    "\n",
    "    def __init__(self, nombre, frecuencia, mes_inicio):\n",
    "        self.nombre = nombre\n",
    "        self.frecuencia = frecuencia.lower()\n",
    "        self.mes_inicio = self.normalizar_mes(mes_inicio)\n",
    "        self.meses_ejecucion = self.calcular_meses()\n",
    "\n",
    "    def normalizar_mes(self, mes):\n",
    "        if mes.isdigit():\n",
    "            mes_idx = int(mes) - 1\n",
    "        else:\n",
    "            mes_idx = self.meses.index(mes.lower())\n",
    "        return mes_idx\n",
    "\n",
    "    def calcular_meses(self):\n",
    "        intervalo = self.frecuencias[self.frecuencia]\n",
    "        return [(self.mes_inicio + i * intervalo) % 12 for i in range(12 // intervalo)]\n",
    "\n",
    "def mostrar_tareas_mes_actual(tareas):\n",
    "    mes_actual_idx = datetime.now().month - 1\n",
    "    mes_actual_nombre = Tarea.meses[mes_actual_idx].upper()\n",
    "\n",
    "    print(f\"\\n📆 Tareas para el mes de {mes_actual_nombre}:\")\n",
    "    tareas_mes = [t.nombre for t in tareas if mes_actual_idx in t.meses_ejecucion]\n",
    "\n",
    "    if tareas_mes:\n",
    "        for tarea in tareas_mes:\n",
    "            print(f\"✅ {tarea}\")\n",
    "    else:\n",
    "        print(\"❌ No hay tareas programadas para este mes.\")\n",
    "\n",
    "def mostrar_calendario_anual(tareas):\n",
    "    print(\"\\n📅 Calendario de Tareas Anual:\")\n",
    "    for i in range(12):\n",
    "        tareas_del_mes = [t.nombre for t in tareas if i in t.meses_ejecucion]\n",
    "        if tareas_del_mes:\n",
    "            mes_nombre = Tarea.meses[i].upper()\n",
    "            tareas_listadas = ', '.join(tareas_del_mes)\n",
    "            print(f\"- {mes_nombre}: {tareas_listadas}\")\n",
    "\n",
    "# Programa principal\n",
    "print(\"🛠️ Bienvenido al Calendario de Mantenimiento del Hogar 🛠️\")\n",
    "while True:\n",
    "    try:\n",
    "        cantidad = int(input(\"\\n¿Cuántas tareas deseas registrar? \"))\n",
    "        if cantidad < 1:\n",
    "            raise ValueError\n",
    "        break\n",
    "    except ValueError:\n",
    "        print(\"⚠️ Ingresa un número válido mayor que 0.\")\n",
    "\n",
    "tareas = []\n",
    "for i in range(cantidad):\n",
    "    print(f\"\\nTarea {i + 1}:\")\n",
    "    nombre = input(\"Nombre: \")\n",
    "    while True:\n",
    "        frecuencia = input(\"Frecuencia (mensual, bimestral, trimestral, semestral, anual): \").lower()\n",
    "        if frecuencia in Tarea.frecuencias:\n",
    "            break\n",
    "        print(\"⚠️ Frecuencia no válida. Intenta de nuevo.\")\n",
    "    while True:\n",
    "        mes_inicio = input(\"Mes de inicio (nombre o número): \").strip().lower()\n",
    "        try:\n",
    "            if mes_inicio.isdigit():\n",
    "                if not (1 <= int(mes_inicio) <= 12):\n",
    "                    raise ValueError\n",
    "            else:\n",
    "                if mes_inicio not in Tarea.meses:\n",
    "                    raise ValueError\n",
    "            break\n",
    "        except ValueError:\n",
    "            print(\"⚠️ Mes no válido. Intenta de nuevo.\")\n",
    "    \n",
    "    tareas.append(Tarea(nombre, frecuencia, mes_inicio))\n",
    "\n",
    "mostrar_tareas_mes_actual(tareas)\n",
    "\n",
    "ver_calendario = input(\"\\n¿Deseas ver el calendario completo del año? (s/n): \").lower()\n",
    "if ver_calendario == 's':\n",
    "    mostrar_calendario_anual(tareas)\n"
   ]
  }
 ],
 "metadata": {
  "kernelspec": {
   "display_name": "Python 3 (ipykernel)",
   "language": "python",
   "name": "python3"
  },
  "language_info": {
   "codemirror_mode": {
    "name": "ipython",
    "version": 3
   },
   "file_extension": ".py",
   "mimetype": "text/x-python",
   "name": "python",
   "nbconvert_exporter": "python",
   "pygments_lexer": "ipython3",
   "version": "3.12.3"
  }
 },
 "nbformat": 4,
 "nbformat_minor": 5
}
