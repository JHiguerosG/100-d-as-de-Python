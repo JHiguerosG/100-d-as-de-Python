{
 "cells": [
  {
   "cell_type": "markdown",
   "id": "73116cda-66af-4fe0-83fe-13fd8de7be8f",
   "metadata": {},
   "source": [
    "# 🚲 Reto 97: Simulador de Alquiler de Bicicletas 🚲\n",
    "\n",
    "## 🏆 Objetivo:\n",
    "\n",
    "Crear un sistema para simular el alquiler de bicicletas por horas, días o semanas, para uno o varios usuarios. El programa debe calcular el total a pagar según el tipo de alquiler, ofrecer promociones especiales para grupos familiares y llevar un registro temporal de las bicicletas disponibles.\n",
    "\n",
    "## 📝 Requisitos:\n",
    "\n",
    "1️⃣ El sistema debe permitir alquilar por:  \n",
    "🔸 Hora: Q20 por hora  \n",
    "🔸 Día: Q100 por día  \n",
    "🔸 Semana: Q300 por semana  \n",
    "2️⃣ El usuario puede indicar cuántas bicicletas desea alquilar y por cuánto tiempo.  \n",
    "3️⃣ Solo hay **20 bicicletas disponibles en total**. Cada alquiler reduce temporalmente la disponibilidad.  \n",
    "4️⃣ El programa debe permitir el alquiler de hasta **5 bicicletas por cliente**. Si intenta más, debe dar un mensaje de error.  \n",
    "5️⃣ Si un cliente alquila **3 a 5 bicicletas**, se le aplica un **descuento del 30%**, bajo la promoción Plan Familiar.  \n",
    "6️⃣ Se debe mostrar:  \n",
    "🔸 Tipo de alquiler elegido  \n",
    "🔸 Cantidad de bicicletas  \n",
    "🔸 Total sin descuento  \n",
    "🔸 Descuento aplicado (si lo hay)  \n",
    "🔸 Total final a pagar  \n",
    "🔸 Bicicletas restantes en el sistema  \n",
    "7️⃣ El sistema debe seguir funcionando hasta que el usuario decida salir o se agoten las bicicletas.  \n",
    "\n",
    "## 📌 Ejemplo de ejecución:\n",
    "\n",
    "🏪 Bienvenido al sistema de Alquiler de Bicicletas 🏪  \n",
    "\n",
    "📦 Bicicletas disponibles: 20  \n",
    "\n",
    "¿Qué tipo de alquiler deseas?  \n",
    "1\\. Por hora (Q20/hora)  \n",
    "2. Por día (Q100/día)  \n",
    "3. Por semana (Q300/semana)  \n",
    "\\> 2  \n",
    "\n",
    "¿Cuántas bicicletas deseas alquilar? > 4  \n",
    "¿Por cuántos días? > 2  \n",
    "\n",
    "💰 Tipo de alquiler: Por día  \n",
    "🚲 Cantidad de bicicletas: 4  \n",
    "🕒 Tiempo: 2 días  \n",
    "💵 Subtotal: Q800  \n",
    "🎉 Descuento Plan Familiar: Q240  \n",
    "💳 Total a pagar: Q560  \n",
    "\n",
    "📦 Bicicletas restantes: 16  \n",
    "\n",
    "¿Deseas realizar otro alquiler? (s/n) > n  \n",
    "Gracias por usar nuestro sistema.  \n",
    "\n",
    "## 🔍 Pistas:\n",
    "\n",
    "🔹 Usa un bucle `while` para seguir pidiendo alquileres hasta que se agoten las bicicletas o el usuario decida salir.  \n",
    "🔹 Crea funciones separadas para calcular el costo total, aplicar el descuento y verificar la disponibilidad.  \n",
    "🔹 Usa validaciones para evitar ingresar números negativos o alquileres superiores a 5 bicicletas.  \n",
    "🔹 No hace falta guardar información en archivos; solo debe funcionar en tiempo de ejecución.  \n",
    "🔹 Puedes usar diccionarios para manejar los precios de cada tipo de alquiler.  "
   ]
  },
  {
   "cell_type": "code",
   "execution_count": 2,
   "id": "c3a83833-e916-42f3-afbb-642800564586",
   "metadata": {},
   "outputs": [
    {
     "name": "stdout",
     "output_type": "stream",
     "text": [
      "🏪 Bienvenido al sistema de Alquiler de Bicicletas 🏪\n",
      "💲 Precios:\n",
      "  - Por hora: Q20\n",
      "  - Por día: Q100\n",
      "  - Por semana: Q300\n",
      "\n",
      "--------------------------------------------------\n",
      "📦 Bicicletas disponibles: 20\n"
     ]
    },
    {
     "name": "stdin",
     "output_type": "stream",
     "text": [
      "¿Tipo de alquiler? (hora, día, semana):  semana\n",
      "¿Cuántas bicicletas deseas alquilar?  5\n",
      "¿Por cuántos semanas?  3\n"
     ]
    },
    {
     "name": "stdout",
     "output_type": "stream",
     "text": [
      "\n",
      "✅ Resumen del alquiler:\n",
      "💰 Tipo de alquiler: semana\n",
      "🚲 Cantidad de bicicletas: 5\n",
      "🕒 Tiempo: 3 semanas\n",
      "💵 Subtotal: Q4500\n",
      "🎉 Descuento Plan Familiar: Q1350.0\n",
      "💳 Total a pagar: Q3150.0\n",
      "📦 Bicicletas restantes: 15\n"
     ]
    },
    {
     "name": "stdin",
     "output_type": "stream",
     "text": [
      "\n",
      "¿Deseas realizar otro alquiler? (s/n):  s\n"
     ]
    },
    {
     "name": "stdout",
     "output_type": "stream",
     "text": [
      "\n",
      "--------------------------------------------------\n",
      "📦 Bicicletas disponibles: 15\n"
     ]
    },
    {
     "name": "stdin",
     "output_type": "stream",
     "text": [
      "¿Tipo de alquiler? (hora, día, semana):  día\n",
      "¿Cuántas bicicletas deseas alquilar?  2\n",
      "¿Por cuántos días?  1\n"
     ]
    },
    {
     "name": "stdout",
     "output_type": "stream",
     "text": [
      "\n",
      "✅ Resumen del alquiler:\n",
      "💰 Tipo de alquiler: día\n",
      "🚲 Cantidad de bicicletas: 2\n",
      "🕒 Tiempo: 1 día\n",
      "💵 Subtotal: Q200\n",
      "💳 Total a pagar: Q200\n",
      "📦 Bicicletas restantes: 13\n"
     ]
    },
    {
     "name": "stdin",
     "output_type": "stream",
     "text": [
      "\n",
      "¿Deseas realizar otro alquiler? (s/n):  n\n"
     ]
    },
    {
     "name": "stdout",
     "output_type": "stream",
     "text": [
      "Gracias por usar nuestro sistema. ¡Vuelve pronto!\n"
     ]
    }
   ],
   "source": [
    "def calcular_costo(tipo_alquiler, cantidad, tiempo, precios):\n",
    "    return precios[tipo_alquiler] * cantidad * tiempo\n",
    "\n",
    "def aplicar_descuento(cantidad, costo):\n",
    "    if 3 <= cantidad <= 5:\n",
    "        descuento = costo * 0.3\n",
    "        return costo - descuento, descuento\n",
    "    return costo, 0\n",
    "\n",
    "def verificar_disponibilidad(cantidad, disponibles):\n",
    "    return 1 <= cantidad <= 5 and cantidad <= disponibles\n",
    "\n",
    "def alquiler_bicicletas():\n",
    "    precios = {\"hora\": 20, \"día\": 100, \"semana\": 300}\n",
    "    disponibles = 20\n",
    "\n",
    "    print(\"🏪 Bienvenido al sistema de Alquiler de Bicicletas 🏪\")\n",
    "    print(\"💲 Precios:\")\n",
    "    for tipo, precio in precios.items():\n",
    "        print(f\"  - Por {tipo}: Q{precio}\")\n",
    "    \n",
    "    while disponibles > 0:\n",
    "        print(\"\\n\" + \"-\" * 50)\n",
    "        print(f\"📦 Bicicletas disponibles: {disponibles}\")\n",
    "\n",
    "        tipo = input(\"¿Tipo de alquiler? (hora, día, semana): \").lower()\n",
    "        if tipo not in precios:\n",
    "            print(\"❌ Tipo de alquiler inválido. Intenta de nuevo.\")\n",
    "            continue\n",
    "\n",
    "        try:\n",
    "            cantidad = int(input(\"¿Cuántas bicicletas deseas alquilar? \"))\n",
    "            tiempo = int(input(f\"¿Por cuántos {tipo}s? \"))\n",
    "        except ValueError:\n",
    "            print(\"❌ Debes ingresar un número entero válido.\")\n",
    "            continue\n",
    "\n",
    "        if not verificar_disponibilidad(cantidad, disponibles):\n",
    "            print(\"❌ Alquiler inválido. Puedes alquilar entre 1 y 5 bicicletas, sin exceder la disponibilidad.\")\n",
    "            continue\n",
    "        \n",
    "        if tiempo <= 0:\n",
    "            print(\"❌ El tiempo de alquiler debe ser mayor que 0.\")\n",
    "            continue\n",
    "\n",
    "        costo = calcular_costo(tipo, cantidad, tiempo, precios)\n",
    "        total_final, descuento = aplicar_descuento(cantidad, costo)\n",
    "\n",
    "        disponibles -= cantidad\n",
    "\n",
    "        print(\"\\n✅ Resumen del alquiler:\")\n",
    "        print(f\"💰 Tipo de alquiler: {tipo}\")\n",
    "        print(f\"🚲 Cantidad de bicicletas: {cantidad}\")\n",
    "        print(f\"🕒 Tiempo: {tiempo} {tipo}{'s' if tiempo > 1 else ''}\")\n",
    "        print(f\"💵 Subtotal: Q{costo}\")\n",
    "        if descuento > 0:\n",
    "            print(f\"🎉 Descuento Plan Familiar: Q{descuento}\")\n",
    "        print(f\"💳 Total a pagar: Q{total_final}\")\n",
    "        print(f\"📦 Bicicletas restantes: {disponibles}\")\n",
    "\n",
    "        respuesta = input(\"\\n¿Deseas realizar otro alquiler? (s/n): \").lower()\n",
    "        if respuesta != \"s\":\n",
    "            print(\"Gracias por usar nuestro sistema. ¡Vuelve pronto!\")\n",
    "            break\n",
    "\n",
    "alquiler_bicicletas()\n"
   ]
  }
 ],
 "metadata": {
  "kernelspec": {
   "display_name": "Python 3 (ipykernel)",
   "language": "python",
   "name": "python3"
  },
  "language_info": {
   "codemirror_mode": {
    "name": "ipython",
    "version": 3
   },
   "file_extension": ".py",
   "mimetype": "text/x-python",
   "name": "python",
   "nbconvert_exporter": "python",
   "pygments_lexer": "ipython3",
   "version": "3.12.3"
  }
 },
 "nbformat": 4,
 "nbformat_minor": 5
}
