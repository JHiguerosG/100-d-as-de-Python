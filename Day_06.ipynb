{
 "cells": [
  {
   "cell_type": "markdown",
   "id": "a935f32b-ae00-48e6-b392-09d40efa5d42",
   "metadata": {},
   "source": [
    "# 🔹 Reto 6: Números Primos\n",
    "\n",
    "\n",
    "# 📌 Instrucciones:\n",
    "\n",
    "Crea un programa en Python que determine si un número ingresado por el usuario es primo o no.\n",
    "\n",
    "# 🔹 Requisitos:\n",
    "\n",
    "1. El usuario debe ingresar un número entero positivo.  \n",
    "2. Si el número es primo, se debe imprimir un mensaje confirmándolo.  \n",
    "3. Si el número no es primo, se debe imprimir un mensaje indicando que no lo es.  \n",
    "4. Debes manejar posibles errores en la entrada del usuario.  \n",
    "5. (Opcional) Optimiza tu código evitando recorrer todos los números hasta n-1.  \n",
    "\n",
    "# 📌 Ejemplo de ejecución:\n",
    "\n",
    "\\>>> Enter a positive integer: 17  \n",
    "✅ The number 17 is prime.  \n",
    "\n",
    "\\>>> Enter a positive integer: 20  \n",
    "❌ The number 20 is not prime.  "
   ]
  },
  {
   "cell_type": "code",
   "execution_count": 138,
   "id": "fe469db6-e780-4a10-b2ef-a4d15fba199b",
   "metadata": {},
   "outputs": [
    {
     "name": "stdin",
     "output_type": "stream",
     "text": [
      ">>> Enter a positive integer:  f\n"
     ]
    },
    {
     "name": "stdout",
     "output_type": "stream",
     "text": [
      "Try again. Enter a positive integer: \n"
     ]
    },
    {
     "name": "stdin",
     "output_type": "stream",
     "text": [
      ">>> Enter a positive integer:  2\n"
     ]
    },
    {
     "name": "stdout",
     "output_type": "stream",
     "text": [
      "✅ The number 2 is prime.\n"
     ]
    }
   ],
   "source": [
    "while True:\n",
    "    try:\n",
    "        num = int(input('>>> Enter a positive integer: '))\n",
    "        if num <= 1:\n",
    "            print(f'❌ The number {num} is not prime.')\n",
    "        elif num in {2, 3}:  # 2 and 3 are prime\n",
    "            print(f'✅ The number {num} is prime.')\n",
    "        elif num % 2 == 0:  # If it is even and greater than 2, it is not prime\n",
    "            print(f'❌ The number {num} is not prime.')\n",
    "        else:\n",
    "            is_prime = True\n",
    "            for i in range(3, int((num ** 0.5)) + 1, 2):  # Only odd numbers\n",
    "                if num % i == 0:\n",
    "                    is_prime = False\n",
    "                    break\n",
    "            \n",
    "            if is_prime:\n",
    "                print(f'✅ The number {num} is prime.')\n",
    "            else:\n",
    "                print(f'❌ The number {num} is not prime.')\n",
    "        break\n",
    "    \n",
    "    except ValueError:\n",
    "        print('Try again. Enter a positive integer: ')\n",
    "        continue"
   ]
  }
 ],
 "metadata": {
  "kernelspec": {
   "display_name": "Python 3 (ipykernel)",
   "language": "python",
   "name": "python3"
  },
  "language_info": {
   "codemirror_mode": {
    "name": "ipython",
    "version": 3
   },
   "file_extension": ".py",
   "mimetype": "text/x-python",
   "name": "python",
   "nbconvert_exporter": "python",
   "pygments_lexer": "ipython3",
   "version": "3.12.3"
  }
 },
 "nbformat": 4,
 "nbformat_minor": 5
}
