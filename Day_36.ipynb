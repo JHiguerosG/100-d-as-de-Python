{
 "cells": [
  {
   "cell_type": "markdown",
   "id": "5ce7176f-f95a-42e7-aec6-6e4cc72df176",
   "metadata": {},
   "source": [
    "# 🧠 Reto 36: Generador de Arte ASCII 🧠\n",
    "\n",
    "## 🏆 Objetivo: \n",
    "\n",
    "Crear un programa que convierta imágenes en arte ASCII. El programa debe tomar una imagen de entrada y convertirla en un conjunto de caracteres que representen la imagen en formato de texto.\n",
    "\n",
    "## 📝 Requisitos:\n",
    "\n",
    "1️⃣ El programa debe permitir al usuario seleccionar una imagen desde su computadora.  \n",
    "2️⃣ El resultado debe ser un archivo de texto que contenga el arte ASCII generado.  \n",
    "3️⃣ Se debe permitir al usuario elegir la escala de grises para determinar los caracteres a utilizar. Por ejemplo:\n",
    "@ # % * + = - : . (de más oscuro a más claro).  \n",
    "4️⃣ Opcionalmente, el programa debe permitir ajustar el tamaño del arte ASCII (ancho y alto en caracteres).  \n",
    "5️⃣ El programa debe utilizar la biblioteca PIL (Pillow) para el manejo de imágenes.  \n",
    "\n",
    "## 📌 Ejemplo de ejecución:\n",
    "\n",
    "Ingrese la ruta de la imagen: imagen.jpg  \n",
    "Ingrese el ancho en caracteres: 100  \n",
    "Ingrese el alto en caracteres: 50  \n",
    "Elija la escala de grises: @#%*+=-:.  \n",
    "Generando arte ASCII...  \n",
    "Arte ASCII guardado en: arte_ascii.txt  \n",
    "\n",
    "## 🔍 Pistas:\n",
    "\n",
    "🔹 Utiliza la biblioteca Pillow para cargar la imagen y convertirla a escala de grises.  \n",
    "🔹 Mapea cada píxel a un carácter en función de su nivel de gris.  \n",
    "🔹 Ajusta el tamaño de la imagen según las dimensiones dadas para mantener una proporción adecuada.  \n",
    "🔹 Experimenta con diferentes conjuntos de caracteres para lograr mayor realismo o estilos distintos.  "
   ]
  },
  {
   "cell_type": "code",
   "execution_count": 2,
   "id": "5a95a9bb-8481-4e46-a974-79985e4309d2",
   "metadata": {},
   "outputs": [],
   "source": [
    "# pip install pillow"
   ]
  },
  {
   "cell_type": "code",
   "execution_count": 25,
   "id": "07201b03-2b58-47f1-bb7e-1bc5a9ad3a4d",
   "metadata": {},
   "outputs": [],
   "source": [
    "from PIL import Image\n",
    "\n",
    "def pixel_to_character(pixel, grayscale_scale):\n",
    "    \"\"\"\n",
    "    Converts a pixel value to a character based on the grayscale scale.\n",
    "    :param pixel: The pixel value (0-255).\n",
    "    :param grayscale_scale: The scale of characters representing different levels of brightness.\n",
    "    :return: The corresponding character from the grayscale scale.\n",
    "    \"\"\"\n",
    "    return grayscale_scale[pixel * len(grayscale_scale) // 256]\n"
   ]
  },
  {
   "cell_type": "code",
   "execution_count": 26,
   "id": "18e3df83-c202-4e79-babf-d157c3d91f1b",
   "metadata": {},
   "outputs": [],
   "source": [
    "def generate_ascii_art(image_path, width, height, grayscale_scale):\n",
    "    \"\"\"\n",
    "    Generates ASCII art from an image.\n",
    "    :param image_path: The path to the image file.\n",
    "    :param width: The width of the ASCII art in characters.\n",
    "    :param height: The height of the ASCII art in characters.\n",
    "    :param grayscale_scale: The scale of characters representing different levels of brightness.\n",
    "    :return: None\n",
    "    \"\"\"\n",
    "    # Load the image\n",
    "    image = Image.open(image_path)\n",
    "\n",
    "    # Convert the image to grayscale\n",
    "    grayscale_image = image.convert('L')\n",
    "\n",
    "    # Resize the image\n",
    "    resized_image = grayscale_image.resize((width, height))\n",
    "    print(f\"Resized image dimensions: {resized_image.size}\")  # Print the new dimensions to verify\n",
    "\n",
    "    # Create the ASCII art\n",
    "    ascii_art = \"\"\n",
    "    for y in range(height):\n",
    "        for x in range(width):\n",
    "            pixel = resized_image.getpixel((x, y))\n",
    "            ascii_art += pixel_to_character(pixel, grayscale_scale)\n",
    "        ascii_art += \"\\n\"\n",
    "\n",
    "    # Save the result to a text file\n",
    "    with open('ascii_art.txt', 'w') as file:\n",
    "        file.write(ascii_art)\n",
    "\n",
    "    print(\"The ASCII art has been saved to 'ascii_art.txt'.\")\n"
   ]
  },
  {
   "cell_type": "code",
   "execution_count": 31,
   "id": "da5189cd-b1cc-4e8d-9a49-0da1d467d0d7",
   "metadata": {},
   "outputs": [
    {
     "name": "stdin",
     "output_type": "stream",
     "text": [
      "Enter the image path:  C:/Users/jonat/Dropbox/Python/Reto_100_días_de_Python/beatles.jpg\n",
      "Enter the width in characters:  75\n",
      "Enter the height in characters:  25\n",
      "Choose the grayscale scale:  @#%*+=-:.\n"
     ]
    },
    {
     "name": "stdout",
     "output_type": "stream",
     "text": [
      "Resized image dimensions: (75, 25)\n",
      "The ASCII art has been saved to 'ascii_art.txt'.\n"
     ]
    }
   ],
   "source": [
    "# Example execution\n",
    "image_path = input(\"Enter the image path: \")\n",
    "width = int(input(\"Enter the width in characters: \"))\n",
    "height = int(input(\"Enter the height in characters: \"))\n",
    "grayscale_scale = input(\"Choose the grayscale scale: \")\n",
    "\n",
    "generate_ascii_art(image_path, width, height, grayscale_scale)"
   ]
  }
 ],
 "metadata": {
  "kernelspec": {
   "display_name": "Python 3 (ipykernel)",
   "language": "python",
   "name": "python3"
  },
  "language_info": {
   "codemirror_mode": {
    "name": "ipython",
    "version": 3
   },
   "file_extension": ".py",
   "mimetype": "text/x-python",
   "name": "python",
   "nbconvert_exporter": "python",
   "pygments_lexer": "ipython3",
   "version": "3.12.3"
  }
 },
 "nbformat": 4,
 "nbformat_minor": 5
}
