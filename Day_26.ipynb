{
 "cells": [
  {
   "cell_type": "markdown",
   "id": "6ae0ddb2-6368-4136-8371-e69ff3e00e7e",
   "metadata": {},
   "source": [
    "# 🧠 Reto 26: Contador de Caracteres en un Archivo de Texto 🧠\n",
    "\n",
    "## 🏆 Objetivo:\n",
    "\n",
    "Escribir un programa en Python que lea un archivo de texto y cuente la cantidad de veces que aparece cada carácter (letras, números, signos de puntuación, etc.).\n",
    "\n",
    "## 📝 Requisitos: \n",
    "\n",
    "1️⃣ El programa debe pedir al usuario el nombre del archivo de texto a analizar.  \n",
    "2️⃣ Leer el contenido del archivo y contar cuántas veces aparece cada carácter.  \n",
    "3️⃣ Mostrar los caracteres en orden descendente según su frecuencia.  \n",
    "4️⃣ Ignorar las diferencias entre mayúsculas y minúsculas (por ejemplo, contar 'A' y 'a' como el mismo carácter).  \n",
    "5️⃣ Excluir espacios en blanco del conteo.  \n",
    "\n",
    "## 📌 Ejemplo de ejecución:\n",
    "\n",
    "**Si el archivo texto.txt contiene:**  \n",
    "\n",
    "Hola, mundo! Esto es una prueba.\n",
    "\n",
    "**El programa podría mostrar:**  \n",
    "\n",
    "Ingrese el nombre del archivo: texto.txt  \n",
    "Caracteres más frecuentes:  \n",
    "o: 4 veces  \n",
    "e: 3 veces  \n",
    "a: 3 veces  \n",
    "s: 2 veces  \n",
    "u: 2 veces  \n",
    "...\n",
    "\n",
    "## 🔍 Pistas:\n",
    "\n",
    "🔸 Usa un diccionario para almacenar la frecuencia de cada carácter.  \n",
    "🔸 Puedes utilizar collections.Counter para contar caracteres fácilmente.  \n",
    "🔸 Recuerda usar str.lower() para hacer que el conteo no distinga entre mayúsculas y minúsculas.  \n",
    "🔸 Usa sorted() para ordenar los resultados antes de imprimirlos.  "
   ]
  },
  {
   "cell_type": "code",
   "execution_count": 76,
   "id": "f3415f4f-6b83-4231-8f70-adb803b8a808",
   "metadata": {},
   "outputs": [],
   "source": [
    "from collections import Counter\n",
    "import re\n",
    "import itertools\n",
    "import unicodedata\n",
    "\n",
    "def normalize_text(text):\n",
    "    \"\"\"\n",
    "    Normalizes accented characters by converting them to their ASCII equivalent.\n",
    "    \n",
    "    :param text: String to normalize.\n",
    "    :return: Normalized string.\n",
    "    \"\"\"\n",
    "    return unicodedata.normalize('NFKD', text).encode('ASCII', 'ignore').decode('utf-8')\n",
    "\n",
    "def remove_symbols(file_name):\n",
    "    \"\"\"\n",
    "    Reads a text file, tokenizes the words, and removes punctuation.\n",
    "    \n",
    "    :param file_name: The name of the file (without .txt extension).\n",
    "    :return: A list of cleaned words.\n",
    "    \"\"\"\n",
    "    try:\n",
    "        with open(file_name + '.txt', 'r', encoding='utf-8') as file:\n",
    "            words = re.findall(r\"\\b\\w+\\b\", file.read().lower())\n",
    "            return [normalize_text(word) for word in words]\n",
    "    except FileNotFoundError:\n",
    "        print(f\"Error: The file '{file_name}.txt' was not found.\")\n",
    "        return []\n",
    "\n",
    "def count_characters(cleaned_word_list):\n",
    "    \"\"\"\n",
    "    Counts the frequency of each character in a list of words.\n",
    "    \n",
    "    :param cleaned_word_list: A list of cleaned words.\n",
    "    :return: A dictionary with characters as keys and their frequencies as values, sorted in descending order.\n",
    "    \"\"\"\n",
    "    chars = itertools.chain.from_iterable(cleaned_word_list)  # More efficient than nested loops\n",
    "    chars_count = Counter(chars)\n",
    "    return dict(sorted(chars_count.items(), key=lambda item: item[1], reverse=True))\n"
   ]
  },
  {
   "cell_type": "code",
   "execution_count": 77,
   "id": "2848323b-6240-49bf-8e43-b70e54ff2659",
   "metadata": {},
   "outputs": [
    {
     "name": "stdin",
     "output_type": "stream",
     "text": [
      ">>> Enter the file name (without .txt):  poema2\n"
     ]
    },
    {
     "name": "stdout",
     "output_type": "stream",
     "text": [
      "\n",
      "Most frequent characters:\n",
      "a: 67 times\n",
      "e: 61 times\n",
      "o: 37 times\n",
      "r: 29 times\n",
      "s: 29 times\n",
      "i: 27 times\n",
      "t: 26 times\n",
      "u: 26 times\n",
      "d: 25 times\n",
      "n: 25 times\n",
      "c: 20 times\n",
      "l: 16 times\n",
      "m: 13 times\n",
      "p: 10 times\n",
      "b: 9 times\n",
      "h: 7 times\n",
      "q: 7 times\n",
      "y: 7 times\n",
      "v: 6 times\n",
      "g: 5 times\n",
      "j: 4 times\n",
      "f: 3 times\n",
      "z: 2 times\n"
     ]
    }
   ],
   "source": [
    "# Get the file name from the user\n",
    "file_name = input('>>> Enter the file name (without .txt): ').strip()\n",
    "\n",
    "# Process the file and count characters\n",
    "cleaned_words = remove_symbols(file_name)\n",
    "\n",
    "if cleaned_words:  # Only proceed if the file was loaded successfully\n",
    "    sorted_chars_count = count_characters(cleaned_words)\n",
    "\n",
    "    # Print the most frequent characters\n",
    "    print('\\nMost frequent characters:')\n",
    "    for letter, times in sorted_chars_count.items():\n",
    "        print(f'{letter}: {times} times')\n"
   ]
  }
 ],
 "metadata": {
  "kernelspec": {
   "display_name": "Python 3 (ipykernel)",
   "language": "python",
   "name": "python3"
  },
  "language_info": {
   "codemirror_mode": {
    "name": "ipython",
    "version": 3
   },
   "file_extension": ".py",
   "mimetype": "text/x-python",
   "name": "python",
   "nbconvert_exporter": "python",
   "pygments_lexer": "ipython3",
   "version": "3.12.3"
  }
 },
 "nbformat": 4,
 "nbformat_minor": 5
}
