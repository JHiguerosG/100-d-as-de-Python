{
 "cells": [
  {
   "cell_type": "markdown",
   "id": "07f51495-956f-4b69-865d-99dc9e7d766e",
   "metadata": {},
   "source": [
    "# 🧠 Reto 89: Simulador de Cajero Automático 🧠\n",
    "\n",
    "## 🏆 Objetivo: \n",
    "\n",
    "Crear un simulador funcional de un cajero automático que permita al usuario consultar su saldo, retirar dinero (validando montos y billetes disponibles), y depositar efectivo.\n",
    "\n",
    "## 📝 Requisitos:\n",
    "\n",
    "1️⃣ El cajero debe iniciar con un saldo total definido por el sistema (por ejemplo, 1000 unidades).  \n",
    "2️⃣ El usuario puede:  \n",
    "🔸 Ver su saldo disponible.  \n",
    "🔸 Depositar dinero (solo billetes válidos: 10, 20, 50, 100, 200).  \n",
    "🔸 Retirar dinero (solo si hay suficiente saldo y billetes).  \n",
    "3️⃣ El cajero debe manejar la **disponibilidad de billetes** (ej. cuántos de cada denominación tiene).  \n",
    "4️⃣ Al realizar un retiro, debe entregar el **menor número posible de billetes** y actualizar las existencias.  \n",
    "5️⃣ Si no se puede entregar el monto exacto con los billetes disponibles, se debe mostrar un mensaje de error.  \n",
    "6️⃣ El usuario puede realizar varias operaciones hasta que decida salir.  \n",
    "\n",
    "## 📌 Ejemplo de ejecución:\n",
    "\n",
    "Bienvenido al Cajero Automático  \n",
    "\n",
    "1\\. Ver saldo  \n",
    "2. Retirar dinero  \n",
    "3. Depositar dinero  \n",
    "4. Salir  \n",
    "\n",
    "Opción: 2  \n",
    "Ingrese el monto a retirar: 280  \n",
    "\n",
    "Retiro exitoso:  \n",
    "- 2 billetes de 100  \n",
    "- 1 billete de 50  \n",
    "- 1 billete de 20  \n",
    "- 1 billete de 10  \n",
    "\n",
    "Saldo restante: 720  \n",
    "\n",
    "## 🔍 Pistas:\n",
    "\n",
    "🔹 Usa un diccionario para almacenar las denominaciones de billetes y su cantidad.  \n",
    "🔹 Crea funciones separadas para ver saldo, depositar y retirar.  \n",
    "🔹 Piensa en cómo realizar un algoritmo tipo **\"cambio de monedas\"** para entregar el menor número de billetes.  \n",
    "🔹 Verifica que el cajero tenga suficientes billetes antes de aceptar el retiro.  \n",
    "🔹 Para simplificar, el sistema puede manejar **una sola cuenta ficticia** sin autenticación.  "
   ]
  },
  {
   "cell_type": "code",
   "execution_count": 5,
   "id": "a79d48e2-c56c-4bf4-8afb-5c86c6d4580d",
   "metadata": {},
   "outputs": [
    {
     "name": "stdout",
     "output_type": "stream",
     "text": [
      "\n",
      "Bienvenido al Cajero Automático\n",
      "1. Ver saldo\n",
      "2. Retirar dinero\n",
      "3. Depositar dinero\n",
      "4. Salir\n"
     ]
    },
    {
     "name": "stdin",
     "output_type": "stream",
     "text": [
      "Opción:  2\n",
      "Ingrese el monto a retirar:  280\n"
     ]
    },
    {
     "name": "stdout",
     "output_type": "stream",
     "text": [
      "Retiro exitoso:\n",
      "- 1 billete(s) de 200\n",
      "- 1 billete(s) de 50\n",
      "- 1 billete(s) de 20\n",
      "- 1 billete(s) de 10\n",
      "\n",
      "Bienvenido al Cajero Automático\n",
      "1. Ver saldo\n",
      "2. Retirar dinero\n",
      "3. Depositar dinero\n",
      "4. Salir\n"
     ]
    },
    {
     "name": "stdin",
     "output_type": "stream",
     "text": [
      "Opción:  1\n"
     ]
    },
    {
     "name": "stdout",
     "output_type": "stream",
     "text": [
      "Saldo disponible: 720\n",
      "Billetes disponibles:\n",
      "- 9 billetes de 10\n",
      "- 9 billetes de 20\n",
      "- 9 billetes de 50\n",
      "- 5 billetes de 100\n",
      "- 1 billetes de 200\n",
      "\n",
      "Bienvenido al Cajero Automático\n",
      "1. Ver saldo\n",
      "2. Retirar dinero\n",
      "3. Depositar dinero\n",
      "4. Salir\n"
     ]
    },
    {
     "name": "stdin",
     "output_type": "stream",
     "text": [
      "Opción:  3\n",
      "Ingrese el monto a depositar:  300\n",
      "Ingrese la denominación del billete:  100\n"
     ]
    },
    {
     "name": "stdout",
     "output_type": "stream",
     "text": [
      "Depósito exitoso de 3 billete(s) de 100. Nuevo saldo: 1020\n",
      "\n",
      "Bienvenido al Cajero Automático\n",
      "1. Ver saldo\n",
      "2. Retirar dinero\n",
      "3. Depositar dinero\n",
      "4. Salir\n"
     ]
    },
    {
     "name": "stdin",
     "output_type": "stream",
     "text": [
      "Opción:  4\n"
     ]
    },
    {
     "name": "stdout",
     "output_type": "stream",
     "text": [
      "Gracias por usar el cajero. Hasta luego.\n"
     ]
    }
   ],
   "source": [
    "saldo = 1000\n",
    "billetes = {10: 10, 20: 10, 50: 10, 100: 5, 200: 2}\n",
    "\n",
    "def ver_saldo():\n",
    "    print(f\"Saldo disponible: {saldo}\")\n",
    "    print(\"Billetes disponibles:\")\n",
    "    for denom, cantidad in sorted(billetes.items()):\n",
    "        print(f\"- {cantidad} billetes de {denom}\")\n",
    "\n",
    "def depositar(monto, denominacion):\n",
    "    global saldo\n",
    "    if denominacion in billetes and monto % denominacion == 0:\n",
    "        cantidad = monto // denominacion\n",
    "        billetes[denominacion] += cantidad\n",
    "        saldo += monto\n",
    "        print(f\"Depósito exitoso de {cantidad} billete(s) de {denominacion}. Nuevo saldo: {saldo}\")\n",
    "    else:\n",
    "        print(\"Error: Denominación inválida o el monto no es múltiplo de la denominación.\")\n",
    "\n",
    "def retirar(monto):\n",
    "    global saldo\n",
    "    if monto > saldo:\n",
    "        print(\"Saldo insuficiente.\")\n",
    "        return\n",
    "\n",
    "    copia_billetes = billetes.copy()\n",
    "    retiro = {}\n",
    "    restante = monto\n",
    "\n",
    "    for billete in sorted(copia_billetes.keys(), reverse=True):\n",
    "        while restante >= billete and copia_billetes[billete] > 0:\n",
    "            restante -= billete\n",
    "            retiro[billete] = retiro.get(billete, 0) + 1\n",
    "            copia_billetes[billete] -= 1\n",
    "\n",
    "    if restante == 0:\n",
    "        print(\"Retiro exitoso:\")\n",
    "        for billete, cantidad in retiro.items():\n",
    "            print(f\"- {cantidad} billete(s) de {billete}\")\n",
    "            billetes[billete] -= cantidad\n",
    "        saldo -= monto\n",
    "    else:\n",
    "        print(\"No se puede entregar el monto exacto con los billetes disponibles.\")\n",
    "\n",
    "def leer_entero(mensaje):\n",
    "    try:\n",
    "        return int(input(mensaje))\n",
    "    except ValueError:\n",
    "        print(\"Entrada inválida. Debe ser un número entero.\")\n",
    "        return None\n",
    "\n",
    "def ejecutar():\n",
    "    while True:\n",
    "        print(\"\\nBienvenido al Cajero Automático\\n1. Ver saldo\\n2. Retirar dinero\\n3. Depositar dinero\\n4. Salir\")\n",
    "        opcion = input(\"Opción: \")\n",
    "\n",
    "        if opcion == \"1\":\n",
    "            ver_saldo()\n",
    "        elif opcion == \"2\":\n",
    "            monto = leer_entero(\"Ingrese el monto a retirar: \")\n",
    "            if monto is not None:\n",
    "                retirar(monto)\n",
    "        elif opcion == \"3\":\n",
    "            monto = leer_entero(\"Ingrese el monto a depositar: \")\n",
    "            denominacion = leer_entero(\"Ingrese la denominación del billete: \")\n",
    "            if monto is not None and denominacion is not None:\n",
    "                depositar(monto, denominacion)\n",
    "        elif opcion == \"4\":\n",
    "            print(\"Gracias por usar el cajero. Hasta luego.\")\n",
    "            break\n",
    "        else:\n",
    "            print(\"Opción no válida.\")\n",
    "\n",
    "ejecutar()"
   ]
  }
 ],
 "metadata": {
  "kernelspec": {
   "display_name": "Python 3 (ipykernel)",
   "language": "python",
   "name": "python3"
  },
  "language_info": {
   "codemirror_mode": {
    "name": "ipython",
    "version": 3
   },
   "file_extension": ".py",
   "mimetype": "text/x-python",
   "name": "python",
   "nbconvert_exporter": "python",
   "pygments_lexer": "ipython3",
   "version": "3.12.3"
  }
 },
 "nbformat": 4,
 "nbformat_minor": 5
}
