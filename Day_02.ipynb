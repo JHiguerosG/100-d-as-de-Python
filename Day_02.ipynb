{
 "cells": [
  {
   "cell_type": "markdown",
   "id": "292e9c23-e0cc-4f39-bdf0-359d8774f174",
   "metadata": {},
   "source": [
    "# 🚀 Reto 2: Números Pares e Impares\n",
    "\n",
    "## Objetivo:\n",
    "Escribe un programa en Python que:\n",
    "\n",
    "1. Pida un número entero al usuario.\n",
    "2. Determine si el número es par o impar.\n",
    "3. Muestre el resultado en pantalla.\n",
    "\n",
    "📌 Ejemplo de ejecución:\n",
    "\n",
    "Enter an integer number: 7  \n",
    "The number 7 is odd.\n",
    "\n",
    "Enter an integer number: 10  \n",
    "The number 10 is even."
   ]
  },
  {
   "cell_type": "code",
   "execution_count": 5,
   "id": "6d830ef3-41a8-4cf5-a8f0-a1c25cfddca7",
   "metadata": {},
   "outputs": [
    {
     "name": "stdin",
     "output_type": "stream",
     "text": [
      ">>> Enter an integer number:  44\n"
     ]
    },
    {
     "name": "stdout",
     "output_type": "stream",
     "text": [
      "\n",
      "✅ The number 44 is even.\n",
      "\n"
     ]
    }
   ],
   "source": [
    "while True:\n",
    "    try:\n",
    "        num = int(input('>>> Enter an integer number: ').strip())\n",
    "        if num % 2 == 0:\n",
    "            print(f'\\n✅ The number {num} is even.\\n')\n",
    "        else:\n",
    "            print(f'\\n✅ The number {num} is odd.\\n')\n",
    "        break\n",
    "    except ValueError:\n",
    "        print('⚠️ Invalid input: Please enter a valid integer number.')"
   ]
  }
 ],
 "metadata": {
  "kernelspec": {
   "display_name": "Python 3 (ipykernel)",
   "language": "python",
   "name": "python3"
  },
  "language_info": {
   "codemirror_mode": {
    "name": "ipython",
    "version": 3
   },
   "file_extension": ".py",
   "mimetype": "text/x-python",
   "name": "python",
   "nbconvert_exporter": "python",
   "pygments_lexer": "ipython3",
   "version": "3.12.3"
  }
 },
 "nbformat": 4,
 "nbformat_minor": 5
}
