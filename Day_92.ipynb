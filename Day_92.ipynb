{
 "cells": [
  {
   "cell_type": "markdown",
   "id": "4fadfa07-a087-41de-8dd5-b8f1c8629bf8",
   "metadata": {},
   "source": [
    "# 🧠 Reto 92: Traductor de Gestos con Emojis 🧠\n",
    "\n",
    "## 🏆 Objetivo:\n",
    "\n",
    "Crear un traductor interactivo que convierta frases comunes (saludos, emociones, reacciones, etc.) en una secuencia de emojis equivalentes. Este reto fomenta el uso de diccionarios, expresiones regulares, comprensión semántica básica y manejo de cadenas.\n",
    "\n",
    "## 📝 Requisitos:\n",
    "\n",
    "1️⃣ Crear un diccionario que relacione frases comunes en español (por ejemplo, \"hola\", \"gracias\", \"estoy feliz\", \"tengo hambre\") con uno o más emojis.  \n",
    "2️⃣ Permitir al usuario ingresar una frase completa en español.  \n",
    "3️⃣ Detectar automáticamente las frases conocidas dentro del texto (pueden estar en medio de la oración).  \n",
    "4️⃣ Sustituir las frases por sus equivalentes emoji y devolver la nueva frase.  \n",
    "5️⃣ Si hay frases no reconocidas, deben mantenerse intactas.  \n",
    "6️⃣ Permitir al usuario hacer múltiples traducciones en una sesión hasta que escriba \"salir\".  \n",
    "  \n",
    "## 📌 Ejemplo de ejecución:\n",
    "\n",
    "🗨️  Escribe una frase para traducir con emojis (o escribe 'salir'):  \n",
    "\\> Hola, estoy muy feliz hoy  \n",
    "\n",
    "✅ Traducción:  \n",
    "👋, 😄 hoy  \n",
    "\n",
    "🗨️  Escribe una frase para traducir con emojis (o escribe 'salir'):  \n",
    "\\> Gracias por tu ayuda, tengo sueño  \n",
    "\n",
    "✅ Traducción:  \n",
    "🙏 por tu ayuda, 😴  \n",
    "\n",
    "🗨️  Escribe una frase para traducir con emojis (o escribe 'salir'):  \n",
    "\\> salir  \n",
    "👋 ¡Hasta pronto!  \n",
    "\n",
    "## 🔍 Pistas:\n",
    "\n",
    "🔹 Puedes usar un diccionario donde las claves sean frases y los valores emojis.  \n",
    "🔹 Conviene ordenar las frases clave de mayor a menor longitud antes de buscar para evitar errores de reemplazo.  \n",
    "🔹 Usa expresiones regulares (`re`) para detectar coincidencias completas.  \n",
    "🔹 Puedes usar `.lower()` para comparar sin problemas de mayúsculas/minúsculas.  "
   ]
  },
  {
   "cell_type": "code",
   "execution_count": 4,
   "id": "69e23c0f-f464-4653-a4ac-87dcd4e5c593",
   "metadata": {},
   "outputs": [
    {
     "name": "stdout",
     "output_type": "stream",
     "text": [
      "🎉 Bienvenido al Traductor de Emojis v2.0\n",
      "Escribe frases comunes como: 'hola', 'estoy feliz', 'muy feliz', 'tengo sueño', etc.\n",
      "Escribe 'salir' para terminar.\n",
      "\n"
     ]
    },
    {
     "name": "stdin",
     "output_type": "stream",
     "text": [
      "🗨️ Escribe una frase para traducir:  Hola, estoy muy feliz hoy.\n"
     ]
    },
    {
     "name": "stdout",
     "output_type": "stream",
     "text": [
      "✅ Traducción: 👋, 😁 hoy.\n",
      "🔍 Frases reconocidas: estoy muy feliz, hola\n",
      "\n"
     ]
    },
    {
     "name": "stdin",
     "output_type": "stream",
     "text": [
      "🗨️ Escribe una frase para traducir:  Gracias por tu ayuda, tengo sueño\n"
     ]
    },
    {
     "name": "stdout",
     "output_type": "stream",
     "text": [
      "✅ Traducción: 🙏 por tu ayuda, 😴\n",
      "🔍 Frases reconocidas: tengo sueño, gracias\n",
      "\n"
     ]
    },
    {
     "name": "stdin",
     "output_type": "stream",
     "text": [
      "🗨️ Escribe una frase para traducir:  salir\n"
     ]
    },
    {
     "name": "stdout",
     "output_type": "stream",
     "text": [
      "👋 ¡Hasta pronto!\n"
     ]
    }
   ],
   "source": [
    "import re\n",
    "\n",
    "# Diccionario con frases comunes y sus equivalentes en emojis\n",
    "emoji_dict = {\n",
    "    \"hola\": \"👋\",\n",
    "    \"gracias\": \"🙏\",\n",
    "    \"estoy feliz\": \"😄\",\n",
    "    \"muy feliz\": \"🤩\",\n",
    "    \"estoy muy feliz\": \"😁\",\n",
    "    \"tengo hambre\": \"🍽️\",\n",
    "    \"tengo sueño\": \"😴\",\n",
    "    \"hasta pronto\": \"👋\",\n",
    "    \"estoy triste\": \"😢\",\n",
    "    \"estoy cansado\": \"😓\",\n",
    "    \"me encanta\": \"❤️\",\n",
    "    \"buen trabajo\": \"💪\",\n",
    "    \"te quiero\": \"🥰\"\n",
    "}\n",
    "\n",
    "# Ordenar frases por longitud (de mayor a menor)\n",
    "sorted_phrases = sorted(emoji_dict.keys(), key=len, reverse=True)\n",
    "\n",
    "def translate_to_emoji(text):\n",
    "    reconocidas = []\n",
    "    for frase in sorted_phrases:\n",
    "        pattern = rf\"\\b({re.escape(frase)})(,?)\\b\"\n",
    "        def reemplazo(match):\n",
    "            reconocidas.append(frase)\n",
    "            return f\"{emoji_dict[frase]}{match.group(2)}\"\n",
    "        text = re.sub(pattern, reemplazo, text, flags=re.IGNORECASE)\n",
    "    return text, reconocidas\n",
    "\n",
    "# Interacción con el usuario\n",
    "print(\"🎉 Bienvenido al Traductor de Emojis v2.0\")\n",
    "print(\"Escribe frases comunes como: 'hola', 'estoy feliz', 'muy feliz', 'tengo sueño', etc.\")\n",
    "print(\"Escribe 'salir' para terminar.\\n\")\n",
    "\n",
    "while True:\n",
    "    user_input = input(\"🗨️ Escribe una frase para traducir: \").strip()\n",
    "    if user_input.lower() == \"salir\":\n",
    "        print(\"👋 ¡Hasta pronto!\")\n",
    "        break\n",
    "    elif not user_input:\n",
    "        print(\"⚠️ Entrada vacía. Por favor escribe una frase.\")\n",
    "        continue\n",
    "\n",
    "    traduccion, reconocidas = translate_to_emoji(user_input)\n",
    "\n",
    "    if reconocidas:\n",
    "        print(f\"✅ Traducción: {traduccion}\")\n",
    "        print(f\"🔍 Frases reconocidas: {', '.join(reconocidas)}\\n\")\n",
    "    else:\n",
    "        print(\"❌ No se encontraron frases traducibles en tu texto.\\n\")\n"
   ]
  }
 ],
 "metadata": {
  "kernelspec": {
   "display_name": "Python 3 (ipykernel)",
   "language": "python",
   "name": "python3"
  },
  "language_info": {
   "codemirror_mode": {
    "name": "ipython",
    "version": 3
   },
   "file_extension": ".py",
   "mimetype": "text/x-python",
   "name": "python",
   "nbconvert_exporter": "python",
   "pygments_lexer": "ipython3",
   "version": "3.12.3"
  }
 },
 "nbformat": 4,
 "nbformat_minor": 5
}
