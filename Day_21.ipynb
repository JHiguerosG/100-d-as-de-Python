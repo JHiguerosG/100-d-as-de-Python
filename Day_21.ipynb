{
 "cells": [
  {
   "cell_type": "markdown",
   "id": "525d9191-7b1e-4f62-91cb-68ea4311bbae",
   "metadata": {},
   "source": [
    "# 🧠 Reto 21: Generador de Nombres Aleatorios 🧠\n",
    "\n",
    "## 🏆 Objetivo: \n",
    "\n",
    "Crear un programa en Python que genere nombres aleatorios combinando nombres y apellidos de una lista predefinida.\n",
    "\n",
    "## 📝 Requisitos:\n",
    "\n",
    "1️⃣ El programa debe contener al menos 10 nombres y 10 apellidos en listas separadas.  \n",
    "2️⃣ Debe solicitar al usuario cuántos nombres desea generar.  \n",
    "3️⃣ Generar la cantidad de nombres solicitada combinando aleatoriamente un nombre y un apellido.  \n",
    "4️⃣ Mostrar los nombres generados en pantalla.  \n",
    "5️⃣ Permitir al usuario guardar los nombres generados en un archivo de texto si lo desea.  \n",
    "\n",
    "## 📌 Ejemplo de ejecución:\n",
    "\n",
    "\\>>> Bienvenido al Generador de Nombres Aleatorios 🎲  \n",
    "\\>>> ¿Cuántos nombres deseas generar?: 5  \n",
    "\n",
    "👤 Nombres generados:  \n",
    "1. Lucas Ramírez  \n",
    "2. Sofía Fernández  \n",
    "3. Mateo Gómez  \n",
    "4. Valentina Pérez  \n",
    "5. Diego López  \n",
    "\n",
    "¿Deseas guardar los nombres en un archivo? (s/n): s  \n",
    "\\>>> Ingresa el nombre del archivo: nombres_generados.txt  \n",
    "✅ Nombres guardados en 'nombres_generados.txt'  \n",
    "\n",
    "## 🔍 Pistas:\n",
    "🔹 Usa el módulo random para seleccionar nombres y apellidos al azar.  \n",
    "🔹 Puedes almacenar los nombres en una lista y luego recorrerla para mostrarlos.  \n",
    "🔹 Para guardar en un archivo, usa with open(\"archivo.txt\", \"w\") y write().  "
   ]
  },
  {
   "cell_type": "code",
   "execution_count": 8,
   "id": "afa9e06b-e787-499c-9560-eb40cd058894",
   "metadata": {},
   "outputs": [
    {
     "name": "stdin",
     "output_type": "stream",
     "text": [
      ">>> How many names do you want to generate?  5\n"
     ]
    },
    {
     "name": "stdout",
     "output_type": "stream",
     "text": [
      "\n",
      "👤 Generated names:\n",
      "\n",
      "1. Ana González\n",
      "2. José López\n",
      "3. Juan García\n",
      "4. Luis Pérez\n",
      "5. Valentina Pérez\n"
     ]
    },
    {
     "name": "stdin",
     "output_type": "stream",
     "text": [
      "\n",
      "Do you want to save the results in a new txt file? (y/n):  y\n",
      ">>> Enter the name of the new txt file:  names\n"
     ]
    },
    {
     "name": "stdout",
     "output_type": "stream",
     "text": [
      "Saving data in 'names.txt' ...\n",
      "Process completed.\n"
     ]
    }
   ],
   "source": [
    "import random\n",
    "\n",
    "# List of names and last names\n",
    "names = ['María','Ana','Isabel','Lucía','Valentina','Juan','José','Luis','Carlos','Miguel']\n",
    "last_names = ['Hernández','López','Rodríguez','Martínez','González','Pérez','García','Sánchez','Ramírez','Flores']\n",
    "\n",
    "while True:\n",
    "    how_many_names = input('>>> How many names do you want to generate? ')\n",
    "    \n",
    "    # Validate if the input is a number\n",
    "    if how_many_names.isdigit():\n",
    "        how_many_names = int(how_many_names)  # Convert to integer\n",
    "        break  # Exit loop if input is valid\n",
    "    else:\n",
    "        print('❌ Invalid input. Please enter a number. Try again.')\n",
    "        continue  # Ask again if invalid input\n",
    "\n",
    "# List to store the generated names\n",
    "complete_names = []\n",
    "\n",
    "# Generate random names\n",
    "for i in range(how_many_names):\n",
    "    complete_names.append(random.choice(names) + ' ' + random.choice(last_names))\n",
    "\n",
    "# Sort the names alphabetically\n",
    "complete_names_sorted = sorted(complete_names)\n",
    "\n",
    "# Display the generated names\n",
    "print('\\n👤 Generated names:\\n')\n",
    "for i, name in enumerate(complete_names_sorted, start=1):\n",
    "    print(f'{i}. {name}')\n",
    "\n",
    "# Ask if the user wants to save the results\n",
    "while True:\n",
    "    save_choice = input(\"\\nDo you want to save the results in a new txt file? (y/n): \").strip().lower()\n",
    "    \n",
    "    if save_choice == 'y':\n",
    "        file_name = input(\">>> Enter the name of the new txt file: \").strip()\n",
    "        \n",
    "        # Write the names to the file\n",
    "        with open(file_name+'.txt', 'w', encoding='utf-8') as file:\n",
    "            for i, nombre in enumerate(complete_names_sorted, start=1):\n",
    "                file.write(f\"{i}. {nombre}\\n\")  # Write each name with its respective number\n",
    "            print(f\"Saving data in '{file_name}.txt' ...\\nProcess completed.\")\n",
    "            break  # Exit the loop after saving\n",
    "    elif save_choice == 'n':\n",
    "        print(\">>> The data was not saved.\")\n",
    "        break  # Exit the loop if no save\n",
    "    else:\n",
    "        print(\"❌ Invalid response. Enter 'y' or 'n'.\")  # Handle invalid response\n"
   ]
  }
 ],
 "metadata": {
  "kernelspec": {
   "display_name": "Python 3 (ipykernel)",
   "language": "python",
   "name": "python3"
  },
  "language_info": {
   "codemirror_mode": {
    "name": "ipython",
    "version": 3
   },
   "file_extension": ".py",
   "mimetype": "text/x-python",
   "name": "python",
   "nbconvert_exporter": "python",
   "pygments_lexer": "ipython3",
   "version": "3.12.3"
  }
 },
 "nbformat": 4,
 "nbformat_minor": 5
}
