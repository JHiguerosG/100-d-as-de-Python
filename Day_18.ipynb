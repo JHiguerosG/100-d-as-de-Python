{
 "cells": [
  {
   "cell_type": "markdown",
   "id": "123f5fd2-ec1a-4eea-a2db-1ffe44171689",
   "metadata": {},
   "source": [
    "# 🔥 Reto 18: Contar palabras en un archivo de texto 🔥\n",
    "\n",
    "## 🏆 Objetivo:\n",
    "\n",
    "En este reto, crearás un programa que lea un archivo de texto (.txt), cuente la cantidad total de palabras y muestre las N palabras más frecuentes junto con sus respectivas apariciones.\n",
    "\n",
    "## 📝 Requisitos:\n",
    "\n",
    "1️⃣ Pedir al usuario el nombre del archivo de texto.  \n",
    "2️⃣ Leer el contenido del archivo.  \n",
    "3️⃣ Limpiar el texto eliminando puntuación y convirtiéndolo a minúsculas.  \n",
    "4️⃣ Contar la cantidad total de palabras.  \n",
    "5️⃣ Mostrar las N palabras más frecuentes (el usuario elige N).  \n",
    "6️⃣ Manejar posibles errores, como archivos inexistentes.  \n",
    "\n",
    "## 📌 Ejemplo de ejecución:\n",
    "\n",
    "\\>>> Enter the filename: sample.txt  \n",
    "\\>>> How many top words do you want to see? 5  \n",
    "\n",
    "📊 Word Frequency Analysis:  \n",
    "Total words: 350  \n",
    "Unique words: 180  \n",
    "\n",
    "### Top 5 most frequent words:\n",
    "\n",
    "the      &rarr;  35 times  \n",
    "and      &rarr;  27 times  \n",
    "python   &rarr;  18 times  \n",
    "learning &rarr;  12 times  \n",
    "program  &rarr;  10 times\n",
    "\n",
    "## 🔍 Pistas:\n",
    "\n",
    "🔹 Puedes usar collections.Counter para contar las palabras más frecuentes.  \n",
    "🔹 Usa try-except para manejar errores si el archivo no existe.  \n",
    "🔹 Puedes probar con un archivo .txt que tengas o generar uno con texto de prueba.  "
   ]
  },
  {
   "cell_type": "code",
   "execution_count": 1,
   "id": "11689bbb-7128-4f65-bbdc-59a3721c4cb3",
   "metadata": {},
   "outputs": [],
   "source": [
    "import re\n",
    "from collections import Counter\n",
    "\n",
    "def count_words_in_file(file_name):\n",
    "    \"\"\"\n",
    "    Reads a text file and counts the frequency of each word.\n",
    "\n",
    "    :param file_name: The name of the file (without .txt extension).\n",
    "    :return: Total word count, word frequency dictionary, and unique word count.\n",
    "    \"\"\"\n",
    "    cleaned_word_list = []\n",
    "\n",
    "    try:\n",
    "        with open(file_name + '.txt', 'r', encoding='utf-8') as file:\n",
    "            for line in file:\n",
    "                # Tokenize words from the line and clean punctuation\n",
    "                words = re.findall(r\"\\b\\w+\\b\", line.lower())  \n",
    "                cleaned_word_list.extend(words)\n",
    "\n",
    "        # Count total words and unique words\n",
    "        total_words = len(cleaned_word_list)\n",
    "        word_count = Counter(cleaned_word_list)\n",
    "        unique_words_count = len(word_count)\n",
    "\n",
    "        return total_words, word_count, unique_words_count\n",
    "\n",
    "    except FileNotFoundError:\n",
    "        print(f'❌ Error: The file \"{file_name}.txt\" was not found.')\n",
    "        return None, None, None\n"
   ]
  },
  {
   "cell_type": "code",
   "execution_count": 2,
   "id": "fa03270f-7dd1-4559-a7a7-76b65462564e",
   "metadata": {},
   "outputs": [
    {
     "name": "stdin",
     "output_type": "stream",
     "text": [
      ">>> Enter the file name (without .txt):  poema2\n",
      ">>> How many most frequent words do you want to see?  5\n"
     ]
    },
    {
     "name": "stdout",
     "output_type": "stream",
     "text": [
      "\n",
      "📊 Word Frequency Analysis:\n",
      "Total words: 104\n",
      "Unique words: 74\n",
      "\n",
      "🔝 Top 5 most frequent words:\n",
      "\n",
      "te           →   6 times\n",
      "y            →   6 times\n",
      "que          →   5 times\n",
      "tu           →   5 times\n",
      "a            →   4 times\n"
     ]
    }
   ],
   "source": [
    "# Main program loop\n",
    "while True:\n",
    "    file_name = input('>>> Enter the file name (without .txt): ').strip()\n",
    "\n",
    "    total_words, word_count, unique_words_count = count_words_in_file(file_name)\n",
    "\n",
    "    if total_words is None:\n",
    "        continue  # Ask for a valid file again\n",
    "\n",
    "    while True:\n",
    "        num_words_to_show = input('>>> How many most frequent words do you want to see? ').strip()\n",
    "\n",
    "        if not num_words_to_show.isdigit():\n",
    "            print('❌ Error: Please enter a valid number.')\n",
    "            continue\n",
    "        \n",
    "        num_words_to_show = int(num_words_to_show)\n",
    "\n",
    "        print('\\n📊 Word Frequency Analysis:')\n",
    "        print(f'Total words: {total_words}')\n",
    "        print(f'Unique words: {unique_words_count}')\n",
    "        print(f'\\n🔝 Top {num_words_to_show} most frequent words:\\n')\n",
    "\n",
    "        top_words = word_count.most_common(num_words_to_show)\n",
    "\n",
    "        for word, frequency in top_words:\n",
    "            print(f'{word:<12} → {frequency:>3} times')\n",
    "\n",
    "        break  # Exit the inner loop\n",
    "    break  # Exit the main loop\n"
   ]
  }
 ],
 "metadata": {
  "kernelspec": {
   "display_name": "Python 3 (ipykernel)",
   "language": "python",
   "name": "python3"
  },
  "language_info": {
   "codemirror_mode": {
    "name": "ipython",
    "version": 3
   },
   "file_extension": ".py",
   "mimetype": "text/x-python",
   "name": "python",
   "nbconvert_exporter": "python",
   "pygments_lexer": "ipython3",
   "version": "3.12.3"
  }
 },
 "nbformat": 4,
 "nbformat_minor": 5
}
