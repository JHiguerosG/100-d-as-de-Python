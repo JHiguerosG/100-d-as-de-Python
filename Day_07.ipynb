{
 "cells": [
  {
   "cell_type": "markdown",
   "id": "44d83a69-4ccb-46f6-9a04-a254c1d9960d",
   "metadata": {},
   "source": [
    "# 🔹 RETO 7: DESCOMPONER UN NÚMERO EN SUS FACTORES PRIMOS\n",
    "\n",
    "## 🏆 Objetivo:    \n",
    "\n",
    "Escribir un programa en Python que reciba un número entero positivo y lo descomponga en sus factores primos.\n",
    "\n",
    "## 📌 Ejemplos de ejecución:\n",
    "\n",
    "\\>>> Enter a positive integer: 56  \n",
    "✅ Prime factorization of 56: 2 × 2 × 2 × 7\n",
    "\n",
    "## 📝 Reglas y consideraciones:  \n",
    "\n",
    "1. El número debe ser entero positivo mayor que 1.  \n",
    "2. Si el usuario ingresa un valor inválido, se le pedirá que lo intente nuevamente.  \n",
    "3. Se imprimirá la descomposición en forma de multiplicación.  \n",
    "4. Se debe hacer de la forma más eficiente posible.\n",
    "\n",
    "## 🔍 Pistas:  \n",
    "\n",
    "1. Utiliza un bucle para dividir el número por sus factores primos comenzando por 2.  \n",
    "2. Solo se debe iterar hasta la raíz cuadrada del número restante para optimizar el cálculo.  \n",
    "3. Usa una lista para almacenar los factores y luego formatear la salida con \" × \".join(lista)."
   ]
  },
  {
   "cell_type": "code",
   "execution_count": 1,
   "id": "94dacf53-ff4d-4899-a261-0eb978273e85",
   "metadata": {},
   "outputs": [],
   "source": [
    "def factorization():\n",
    "    while True:\n",
    "        try:\n",
    "            # Ask the user for a number\n",
    "            num = int(input('>>> Enter a positive integer greater than 1: '))\n",
    "\n",
    "            if num <= 1:\n",
    "                print('❌ The number must be greater than 1. Try again.')\n",
    "                continue  # Request the number again if it is less than or equal to 1\n",
    "\n",
    "            original_num = num  # Store the original number for later display\n",
    "\n",
    "            # List to store prime factors\n",
    "            factors_of_num = []\n",
    "\n",
    "            # Generate prime numbers up to 'num'\n",
    "            list_primes = []  # Store prime numbers here\n",
    "            for i in range(2, num + 1):\n",
    "                is_prime = True  # Assume the number is prime\n",
    "                for j in range(2, int(i ** 0.5) + 1):  # Check divisibility up to the square root of i\n",
    "                    if i % j == 0:\n",
    "                        is_prime = False\n",
    "                        break\n",
    "                if is_prime:\n",
    "                    list_primes.append(i)\n",
    "\n",
    "            # Find prime factorization using the prime number list\n",
    "            while num > 1:\n",
    "                for prime in list_primes:  # Iterate through found primes\n",
    "                    while num % prime == 0:  # If divisible, add the factor\n",
    "                        factors_of_num.append(prime)\n",
    "                        num //= prime  # Reduce the number by dividing by the found prime\n",
    "\n",
    "            # Display the result in \"×\" format\n",
    "            print(f'✅ Prime factorization of {original_num}: {\" × \".join(map(str, factors_of_num))}')\n",
    "            break\n",
    "\n",
    "        except ValueError:\n",
    "            print('❌ Only numbers greater than 1. Try again.')"
   ]
  },
  {
   "cell_type": "code",
   "execution_count": 2,
   "id": "e4196d78-ebf3-46f9-9d3b-4d663e38f6cf",
   "metadata": {},
   "outputs": [
    {
     "name": "stdin",
     "output_type": "stream",
     "text": [
      ">>> Enter a positive integer greater than 1:  10\n"
     ]
    },
    {
     "name": "stdout",
     "output_type": "stream",
     "text": [
      "✅ Prime factorization of 10: 2 × 5\n"
     ]
    }
   ],
   "source": [
    "# Call the function\n",
    "factorization()"
   ]
  },
  {
   "cell_type": "code",
   "execution_count": 3,
   "id": "8683aee8-3e87-44a9-af4c-9b403054ef62",
   "metadata": {},
   "outputs": [
    {
     "name": "stdin",
     "output_type": "stream",
     "text": [
      ">>> Enter a positive integer greater than 1:  56\n"
     ]
    },
    {
     "name": "stdout",
     "output_type": "stream",
     "text": [
      "✅ Prime factorization of 56: 2 × 2 × 2 × 7\n"
     ]
    }
   ],
   "source": [
    "# Call the function\n",
    "factorization()"
   ]
  }
 ],
 "metadata": {
  "kernelspec": {
   "display_name": "Python 3 (ipykernel)",
   "language": "python",
   "name": "python3"
  },
  "language_info": {
   "codemirror_mode": {
    "name": "ipython",
    "version": 3
   },
   "file_extension": ".py",
   "mimetype": "text/x-python",
   "name": "python",
   "nbconvert_exporter": "python",
   "pygments_lexer": "ipython3",
   "version": "3.12.3"
  }
 },
 "nbformat": 4,
 "nbformat_minor": 5
}
