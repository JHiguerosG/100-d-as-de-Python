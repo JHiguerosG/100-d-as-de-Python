{
 "cells": [
  {
   "cell_type": "markdown",
   "id": "be19ab3b-ab18-47e8-bb6c-2053ffa627a4",
   "metadata": {},
   "source": [
    "# 🧠 Reto 93: Simulador de Red de Transporte Urbano 🧠\n",
    "\n",
    "## 🏆 Objetivo:\n",
    "Crear un simulador básico de una red de transporte urbano (por ejemplo, buses o metro) que permita al usuario consultar la ruta más corta entre dos estaciones utilizando el algoritmo de Dijkstra.\n",
    "\n",
    "## 📝 Requisitos:\n",
    "\n",
    "1️⃣ Simula una red de transporte como un grafo, donde las estaciones son los nodos y los `tiempos o distancias entre estaciones` son las aristas.  \n",
    "2️⃣ Permite al usuario ingresar una `estación de origen` y una `estación de destino`.  \n",
    "3️⃣ Devuelve la `ruta más corta` y el `tiempo total estimado` del viaje.  \n",
    "4️⃣ La red debe estar predefinida en el código (mínimo 8 estaciones conectadas de manera lógica).  \n",
    "5️⃣ Usa estructuras como `diccionarios` y `listas` para representar el grafo.  \n",
    "\n",
    "## 📌 Ejemplo de ejecución:\n",
    "\n",
    "Estaciones disponibles: ['Central', 'Norte', 'Sur', 'Este', 'Oeste', 'Parque', 'Museo', 'Aeropuerto']  \n",
    "\n",
    "Ingresa estación de origen: Central    \n",
    "Ingresa estación de destino: Aeropuerto  \n",
    "\n",
    "Ruta más corta: Central -> Parque -> Museo -> Aeropuerto    \n",
    "Tiempo total estimado: 27 minutos  \n",
    "\n",
    "## 🔍 Pistas:\n",
    "\n",
    "🔹 Representa el grafo como un diccionario de diccionarios. Ejemplo:  \n",
    "\n",
    "red = {  \n",
    "    'Central': {'Norte': 5, 'Parque': 7},  \n",
    "    'Norte': {'Central': 5, 'Oeste': 10},  \n",
    "    ...  \n",
    "}  \n",
    "\n",
    "🔹 Usa el `algoritmo de Dijkstra` para calcular la ruta más corta.  \n",
    "🔹 Puedes usar un `diccionario de distancias`, un `conjunto de nodos visitados` y una `cola de prioridad` (puede ser una lista que actualices manualmente) para implementar Dijkstra.  \n",
    "🔹 Asegúrate de validar que las estaciones ingresadas existan.  "
   ]
  },
  {
   "cell_type": "code",
   "execution_count": 1,
   "id": "c761ccc6-3675-4d0e-9b09-495bf06599d7",
   "metadata": {},
   "outputs": [
    {
     "name": "stdout",
     "output_type": "stream",
     "text": [
      "🚌 Bienvenido al buscador de rutas más cortas entre estaciones 🚌\n",
      "Estaciones disponibles: Central, Norte, Oeste, Sur, Este, Parque, Museo, Aeropuerto\n"
     ]
    },
    {
     "name": "stdin",
     "output_type": "stream",
     "text": [
      "Ingresa estación de origen:  Norte\n",
      "Ingresa estación de destino:  Parque\n"
     ]
    },
    {
     "name": "stdout",
     "output_type": "stream",
     "text": [
      "\n",
      "✅ Ruta más corta: Norte -> Central -> Parque\n",
      "⏱️ Tiempo total estimado: 12 minutos\n"
     ]
    }
   ],
   "source": [
    "import heapq\n",
    "\n",
    "# Red de transporte como grafo\n",
    "red = {\n",
    "    'Central': {'Norte': 5, 'Parque': 7},\n",
    "    'Norte': {'Central': 5, 'Oeste': 10},\n",
    "    'Oeste': {'Norte': 10, 'Sur': 8},\n",
    "    'Sur': {'Oeste': 8, 'Este': 6},\n",
    "    'Este': {'Sur': 6, 'Parque': 5},\n",
    "    'Parque': {'Central': 7, 'Museo': 6, 'Este': 5},\n",
    "    'Museo': {'Parque': 6, 'Aeropuerto': 9},\n",
    "    'Aeropuerto': {'Museo': 9}\n",
    "}\n",
    "\n",
    "def dijkstra(grafo, inicio, fin):\n",
    "    heap = [(0, inicio, [])]  # (costo acumulado, nodo actual, ruta acumulada)\n",
    "    visitados = set()\n",
    "\n",
    "    while heap:\n",
    "        costo, nodo, ruta = heapq.heappop(heap)\n",
    "\n",
    "        if nodo in visitados:\n",
    "            continue\n",
    "        visitados.add(nodo)\n",
    "\n",
    "        ruta = ruta + [nodo]\n",
    "\n",
    "        if nodo == fin:\n",
    "            return ruta, costo\n",
    "\n",
    "        for vecino, peso in grafo.get(nodo, {}).items():\n",
    "            if vecino not in visitados:\n",
    "                heapq.heappush(heap, (costo + peso, vecino, ruta))\n",
    "\n",
    "    return None, float('inf')\n",
    "\n",
    "# Normalizar entrada del usuario\n",
    "print(\"🚌 Bienvenido al buscador de rutas más cortas entre estaciones 🚌\")\n",
    "print(\"Estaciones disponibles:\", ', '.join(red.keys()))\n",
    "origen = input(\"Ingresa estación de origen: \").strip().title()\n",
    "destino = input(\"Ingresa estación de destino: \").strip().title()\n",
    "\n",
    "if origen in red and destino in red:\n",
    "    ruta, tiempo = dijkstra(red, origen, destino)\n",
    "    if ruta:\n",
    "        print(f\"\\n✅ Ruta más corta: {' -> '.join(ruta)}\")\n",
    "        print(f\"⏱️ Tiempo total estimado: {tiempo} minutos\")\n",
    "    else:\n",
    "        print(\"⚠️ No hay una ruta válida entre las estaciones seleccionadas.\")\n",
    "else:\n",
    "    print(\"❌ Una o ambas estaciones ingresadas no existen en la red. Revisa y vuelve a intentar.\")\n"
   ]
  }
 ],
 "metadata": {
  "kernelspec": {
   "display_name": "Python 3 (ipykernel)",
   "language": "python",
   "name": "python3"
  },
  "language_info": {
   "codemirror_mode": {
    "name": "ipython",
    "version": 3
   },
   "file_extension": ".py",
   "mimetype": "text/x-python",
   "name": "python",
   "nbconvert_exporter": "python",
   "pygments_lexer": "ipython3",
   "version": "3.12.3"
  }
 },
 "nbformat": 4,
 "nbformat_minor": 5
}
