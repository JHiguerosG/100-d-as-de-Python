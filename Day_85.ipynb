{
 "cells": [
  {
   "cell_type": "markdown",
   "id": "ecd0b1e0-7664-40cd-900a-6b0b80c88f08",
   "metadata": {},
   "source": [
    "# 🧠 Reto 85: Recordatorio de Medicación Personalizado 🧠\n",
    "\n",
    "## 🏆 Objetivo:\n",
    "\n",
    "Desarrollar una aplicación en Python que permita a los usuarios registrar sus medicamentos y programar recordatorios diarios para su toma. La aplicación debe enviar notificaciones en el momento adecuado, ayudando a mejorar la adherencia al tratamiento y evitando olvidos.\n",
    "\n",
    "## 📝 Requisitos:\n",
    "\n",
    "1️⃣ Solicitar al usuario la cantidad de medicamentos que desea registrar.  \n",
    "2️⃣ Para cada medicamento, solicitar:  \n",
    "🔸 Nombre del medicamento.  \n",
    "🔸 Hora de toma (formato 24 horas, por ejemplo, 08:00).  \n",
    "🔸 Dosis (opcional).  \n",
    "3️⃣ Programar recordatorios diarios a la hora especificada para cada medicamento.  \n",
    "4️⃣ Enviar una notificación en el momento programado indicando el nombre del medicamento y la dosis.  \n",
    "5️⃣ Utilizar las bibliotecas `schedule` y `plyer` para la programación y las notificaciones.  \n",
    "6️⃣ El programa debe ejecutarse continuamente para verificar y enviar los recordatorios en el momento adecuado.  \n",
    "\n",
    "## 📌 Ejemplo de ejecución:\n",
    "\n",
    "💊 Bienvenido al Recordatorio de Medicación 💊  \n",
    "¿Cuántos medicamentos deseas registrar? 2  \n",
    "\n",
    "📋 Medicamento 1:  \n",
    "Nombre: Ibuprofeno  \n",
    "Hora de toma (HH:MM): 08:00  \n",
    "Dosis (opcional): 200 mg  \n",
    "\n",
    "📋 Medicamento 2:  \n",
    "Nombre: Paracetamol  \n",
    "Hora de toma (HH:MM): 20:00  \n",
    "Dosis (opcional): 500 mg  \n",
    "\n",
    "\n",
    "⏰ Recordatorios programados exitosamente.  \n",
    "El programa se ejecutará en segundo plano para enviar las notificaciones.  \n",
    "\n",
    "(A las 08:00 y 20:00, se mostrará una notificación en el sistema con el mensaje correspondiente.)  \n",
    "\n",
    "## 🔍 Pistas:\n",
    "\n",
    "🔹 Utiliza la biblioteca `schedule` para programar tareas que se ejecuten diariamente a una hora específica.  \n",
    "🔹 Emplea la biblioteca `plyer` para enviar notificaciones al sistema operativo.  \n",
    "🔹 Asegúrate de que el programa se mantenga en ejecución continua para verificar y enviar los recordatorios en el momento adecuado.  \n",
    "🔹 Considera manejar posibles errores en la entrada de datos, como formatos de hora incorrectos.  \n",
    "🔹 Para pruebas, puedes programar recordatorios con una diferencia de pocos minutos respecto a la hora actual.  "
   ]
  },
  {
   "cell_type": "code",
   "execution_count": null,
   "id": "235c5d33-efbc-48b4-9583-7fcaeecffff2",
   "metadata": {},
   "outputs": [
    {
     "name": "stdin",
     "output_type": "stream",
     "text": [
      "💊 ¿Cuántos medicamentos deseas registrar?  2\n"
     ]
    },
    {
     "name": "stdout",
     "output_type": "stream",
     "text": [
      "\n",
      "📋 Medicamento 1:\n"
     ]
    },
    {
     "name": "stdin",
     "output_type": "stream",
     "text": [
      "Nombre:  Ibuprofeno\n",
      "Hora de toma (HH:MM):  13:28\n",
      "Dosis (opcional):  200 mg\n"
     ]
    },
    {
     "name": "stdout",
     "output_type": "stream",
     "text": [
      "\n",
      "📋 Medicamento 2:\n"
     ]
    },
    {
     "name": "stdin",
     "output_type": "stream",
     "text": [
      "Nombre:  Paracetamol\n",
      "Hora de toma (HH:MM):  13:29\n",
      "Dosis (opcional):  500 mg\n"
     ]
    },
    {
     "name": "stdout",
     "output_type": "stream",
     "text": [
      "\n",
      "📑 Medicamentos registrados:\n",
      "- Ibuprofeno a las 13:28 - Dosis: 200 mg\n",
      "- Paracetamol a las 13:29 - Dosis: 500 mg\n",
      "\n",
      "⏰ Recordatorios programados exitosamente. El programa seguirá ejecutándose en segundo plano.\n"
     ]
    }
   ],
   "source": [
    "import schedule\n",
    "import time\n",
    "from plyer import notification\n",
    "from datetime import datetime\n",
    "\n",
    "# Función para validar formato de hora HH:MM\n",
    "def hora_valida(hora_str):\n",
    "    try:\n",
    "        datetime.strptime(hora_str, \"%H:%M\")\n",
    "        return True\n",
    "    except ValueError:\n",
    "        return False\n",
    "\n",
    "# Solicitar datos de los medicamentos\n",
    "medicamentos = []\n",
    "num_meds = int(input(\"💊 ¿Cuántos medicamentos deseas registrar? \"))\n",
    "\n",
    "for i in range(num_meds):\n",
    "    print(f\"\\n📋 Medicamento {i+1}:\")\n",
    "    nombre = input(\"Nombre: \")\n",
    "    \n",
    "    hora = input(\"Hora de toma (HH:MM): \")\n",
    "    while not hora_valida(hora):\n",
    "        print(\"❌ Formato de hora inválido. Usa HH:MM (24 horas).\")\n",
    "        hora = input(\"Hora de toma (HH:MM): \")\n",
    "        \n",
    "    dosis = input(\"Dosis (opcional): \")\n",
    "\n",
    "    # Programar recordatorio\n",
    "    def recordatorio(nombre=nombre, dosis=dosis):\n",
    "        mensaje = f\"Hora de tomar {nombre}\"\n",
    "        if dosis:\n",
    "            mensaje += f\" - Dosis: {dosis}\"\n",
    "        notification.notify(\n",
    "            title=\"💊 Recordatorio de Medicación\",\n",
    "            message=mensaje,\n",
    "            timeout=10\n",
    "        )\n",
    "\n",
    "    schedule.every().day.at(hora).do(recordatorio)\n",
    "    medicamentos.append({\"nombre\": nombre, \"hora\": hora, \"dosis\": dosis})\n",
    "\n",
    "# Mostrar resumen final\n",
    "print(\"\\n📑 Medicamentos registrados:\")\n",
    "for med in medicamentos:\n",
    "    dosis_info = f\" - Dosis: {med['dosis']}\" if med['dosis'] else \"\"\n",
    "    print(f\"- {med['nombre']} a las {med['hora']}{dosis_info}\")\n",
    "\n",
    "print(\"\\n⏰ Recordatorios programados exitosamente. El programa seguirá ejecutándose en segundo plano.\")\n",
    "\n",
    "# Mantener el programa en ejecución continua\n",
    "while True:\n",
    "    schedule.run_pending()\n",
    "    time.sleep(1)  # Revisa cada segundo para mayor precisión\n"
   ]
  }
 ],
 "metadata": {
  "kernelspec": {
   "display_name": "Python 3 (ipykernel)",
   "language": "python",
   "name": "python3"
  },
  "language_info": {
   "codemirror_mode": {
    "name": "ipython",
    "version": 3
   },
   "file_extension": ".py",
   "mimetype": "text/x-python",
   "name": "python",
   "nbconvert_exporter": "python",
   "pygments_lexer": "ipython3",
   "version": "3.12.3"
  }
 },
 "nbformat": 4,
 "nbformat_minor": 5
}
