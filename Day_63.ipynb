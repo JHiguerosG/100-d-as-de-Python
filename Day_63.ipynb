{
 "cells": [
  {
   "cell_type": "markdown",
   "id": "7bd515bf-5a4b-4ad5-91c4-5a20f126e2b8",
   "metadata": {},
   "source": [
    "# 🧠 Reto 63: Detector de Patrones Repetitivos en Texto 🧠\n",
    "\n",
    "## 🏆 Objetivo:\n",
    "\n",
    "Desarrollar un programa que analice un texto e identifique patrones repetitivos de palabras, como repeticiones exactas, secuencias duplicadas o estructuras redundantes. Es útil en corrección de estilo, análisis literario o limpieza de datos textuales.\n",
    "\n",
    "## 📝 Requisitos:\n",
    "\n",
    "1️⃣ El programa debe permitir ingresar o pegar un bloque de texto largo.  \n",
    "2️⃣ Detectar:  \n",
    "🔸 Palabras repetidas seguidas (ej: \"muy muy bueno\").  \n",
    "🔸 Frases cortas que se repiten en el texto (ej: \"en este caso\").  \n",
    "🔸 Estructuras de repetición tipo eco (ej: \"el problema es el problema\").  \n",
    "3️⃣ Resaltar la cantidad de repeticiones encontradas.  \n",
    "4️⃣ Mostrar las frases o palabras repetidas y cuántas veces aparecen.  \n",
    "5️⃣ Ignorar mayúsculas/minúsculas y puntuación al hacer las comparaciones.  \n",
    "6️⃣ Permitir ingresar el número mínimo de palabras que debe tener un patrón para ser considerado (ej: mínimo 2 palabras).  \n",
    "7️⃣ El resultado debe ser impreso en consola de forma legible.  \n",
    "\n",
    "## 📌 Ejemplo de ejecución:\n",
    "\n",
    "Ingrese el texto a analizar:  \n",
    "\\>> El problema es el problema. En este caso, en este caso se puede observar un patrón. Muy muy bueno este código.  \n",
    "\n",
    "Ingrese el número mínimo de palabras por patrón a buscar:  \n",
    "\\>> 2  \n",
    "\n",
    "🔍 Resultados:  \n",
    "- Repetición detectada: \"el problema\" - 2 veces  \n",
    "- Repetición detectada: \"en este caso\" - 2 veces  \n",
    "- Repetición detectada: \"muy muy\" - 1 vez (repetición inmediata)  \n",
    "\n",
    "## 🔍 Pistas:  \n",
    "🔹 Usa expresiones regulares para buscar repeticiones inmediatas.  \n",
    "🔹 Convierte el texto a minúsculas y limpia signos de puntuación para facilitar el análisis.  \n",
    "🔹 Puedes usar diccionarios para contar secuencias repetidas.  \n",
    "🔹 Prueba dividiendo el texto en n-gramas (frases de N palabras) para detectar patrones más allá de palabras individuales.  \n",
    "🔹 Usa `collections.Counter` para contar ocurrencias de patrones.  "
   ]
  },
  {
   "cell_type": "code",
   "execution_count": 3,
   "id": "0a4f846f-0475-4ad4-9030-a9f3cd4ecd04",
   "metadata": {},
   "outputs": [
    {
     "name": "stdin",
     "output_type": "stream",
     "text": [
      "Ingrese el texto a analizar:\n",
      ">>  El problema es el problema. En este caso, en este caso se puede observar un patrón. Muy muy bueno este código.\n",
      "Ingrese el número mínimo de palabras por patrón a buscar:\n",
      ">>  2\n"
     ]
    },
    {
     "name": "stdout",
     "output_type": "stream",
     "text": [
      "\n",
      "🔍 Resultados:\n",
      "- Repetición detectada: \"muy muy\" - 1 veces (repetición inmediata)\n",
      "- Repetición detectada: \"el problema\" - 2 veces\n",
      "- Repetición detectada: \"en este\" - 2 veces\n",
      "- Repetición detectada: \"este caso\" - 2 veces\n",
      "- Repetición detectada: \"en este caso\" - 2 veces\n"
     ]
    }
   ],
   "source": [
    "import re\n",
    "from collections import Counter\n",
    "\n",
    "def limpiar_texto(texto):\n",
    "    \"\"\"Convierte el texto a minúsculas y elimina puntuaciones.\"\"\"\n",
    "    return re.sub(r'[^\\w\\s]', '', texto.lower())\n",
    "\n",
    "def encontrar_patrones(texto, min_palabras):\n",
    "    \"\"\"Busca patrones repetitivos en el texto.\"\"\"\n",
    "    palabras = texto.split()\n",
    "    patrones = Counter()\n",
    "\n",
    "    for n in range(min_palabras, len(palabras) + 1):\n",
    "        for i in range(len(palabras) - n + 1):\n",
    "            frase = ' '.join(palabras[i:i+n])\n",
    "            patrones[frase] += 1\n",
    "\n",
    "    # Solo devolver patrones con más de una repetición\n",
    "    patrones_filtrados = {\n",
    "        frase: conteo for frase, conteo in patrones.items() if conteo > 1\n",
    "    }\n",
    "\n",
    "    # Ordenar por número de repeticiones descendente\n",
    "    return dict(sorted(patrones_filtrados.items(), key=lambda x: x[1], reverse=True))\n",
    "\n",
    "def analizar_texto():\n",
    "    \"\"\"Función principal para analizar un texto.\"\"\"\n",
    "    texto = input(\"Ingrese el texto a analizar:\\n>> \").strip()\n",
    "    try:\n",
    "        min_palabras = int(input(\"Ingrese el número mínimo de palabras por patrón a buscar:\\n>> \"))\n",
    "        if min_palabras <= 0:\n",
    "            raise ValueError\n",
    "    except ValueError:\n",
    "        print(\"⚠️ Por favor, ingrese un número entero positivo para las palabras mínimas.\")\n",
    "        return\n",
    "\n",
    "    texto_limpio = limpiar_texto(texto)\n",
    "    palabras_repetidas = re.findall(r'\\b(\\w+)\\s+\\1\\b', texto_limpio)\n",
    "    patrones = encontrar_patrones(texto_limpio, min_palabras)\n",
    "\n",
    "    print(\"\\n🔍 Resultados:\")\n",
    "    if palabras_repetidas:\n",
    "        for palabra in sorted(set(palabras_repetidas)):\n",
    "            print(f\"- Repetición detectada: \\\"{palabra} {palabra}\\\" - {palabras_repetidas.count(palabra)} veces (repetición inmediata)\")\n",
    "\n",
    "    if patrones:\n",
    "        for frase, conteo in patrones.items():\n",
    "            print(f\"- Repetición detectada: \\\"{frase}\\\" - {conteo} veces\")\n",
    "    if not palabras_repetidas and not patrones:\n",
    "        print(\"✅ No se encontraron repeticiones significativas.\")\n",
    "\n",
    "analizar_texto()\n"
   ]
  }
 ],
 "metadata": {
  "kernelspec": {
   "display_name": "Python 3 (ipykernel)",
   "language": "python",
   "name": "python3"
  },
  "language_info": {
   "codemirror_mode": {
    "name": "ipython",
    "version": 3
   },
   "file_extension": ".py",
   "mimetype": "text/x-python",
   "name": "python",
   "nbconvert_exporter": "python",
   "pygments_lexer": "ipython3",
   "version": "3.12.3"
  }
 },
 "nbformat": 4,
 "nbformat_minor": 5
}
