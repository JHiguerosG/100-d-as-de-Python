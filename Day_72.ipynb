{
 "cells": [
  {
   "cell_type": "markdown",
   "id": "82414516-3a8a-44b4-b4b2-4058006dddd4",
   "metadata": {},
   "source": [
    "# 🧠 Reto 72: Calculadora de Horas Productivas Semanales 🧠\n",
    "\n",
    "## 🏆 Objetivo:\n",
    "\n",
    "Desarrollar una calculadora que registre y analice tus horas productivas reales durante la semana. Este reto busca ayudarte a entender cuánto tiempo realmente dedicas a actividades productivas, identificar posibles fugas de tiempo, y darte un resumen útil para mejorar tu planificación.\n",
    "\n",
    "## 📝 Requisitos:\n",
    "\n",
    "1️⃣ Pedir al usuario que ingrese las horas que destinó cada día a actividades productivas.  \n",
    "2️⃣ Validar que las horas ingresadas estén entre 0 y 24.  \n",
    "3️⃣ Calcular:  \n",
    "🔸 Total de horas productivas de la semana.  \n",
    "🔸 Promedio diario.  \n",
    "🔸 Días en los que se trabajó menos de 4 horas (baja productividad).  \n",
    "🔸 Días con productividad óptima (entre 6 y 9 horas).  \n",
    "4️⃣ Mostrar una recomendación según el promedio diario:  \n",
    "🔸 Menos de 4h: “Necesitas mejorar tu enfoque y constancia.”  \n",
    "🔸 Entre 4h y 6h: “Vas por buen camino, pero puedes mejorar.”  \n",
    "🔸 Entre 6h y 9h: “Excelente productividad, ¡sigue así!”  \n",
    "🔸 Más de 9h: “Cuidado con el exceso, no olvides descansar.”  \n",
    "\n",
    "## 📌 Ejemplo de ejecución:\n",
    "\n",
    "Ingrese las horas productivas para Lunes: 6.5   \n",
    "Ingrese las horas productivas para Martes: 3.0   \n",
    "Ingrese las horas productivas para Miércoles: 7.0  \n",
    "Ingrese las horas productivas para Jueves: 8.0  \n",
    "Ingrese las horas productivas para Viernes: 5.0  \n",
    "Ingrese las horas productivas para Sábado: 2.0  \n",
    "Ingrese las horas productivas para Domingo: 0.0  \n",
    "\n",
    "📊 Resumen de productividad semanal:  \n",
    "- Total de horas productivas: 31.5  \n",
    "- Promedio diario: 4.5 horas  \n",
    "- Días con baja productividad (< 4h): ['Martes', 'Sábado', 'Domingo']  \n",
    "- Días con productividad óptima (6-9h): ['Lunes', 'Miércoles', 'Jueves']  \n",
    "✅ Recomendación: Vas por buen camino, pero puedes mejorar.  \n",
    "\n",
    "## 🔍 Pistas:\n",
    "\n",
    "🔹 Usa una lista con los días de la semana y un diccionario para almacenar las horas ingresadas.  \n",
    "🔹 Utiliza `try-except` para validar que el usuario solo ingrese números válidos entre 0 y 24.  \n",
    "🔹 Recuerda usar condiciones lógicas para clasificar los días según la productividad.  \n",
    "🔹 Para mayor claridad en la salida, puedes usar `round()` al mostrar el promedio.  "
   ]
  },
  {
   "cell_type": "code",
   "execution_count": 1,
   "id": "61269c18-f54f-44ff-9bff-4782eb83cb97",
   "metadata": {},
   "outputs": [
    {
     "name": "stdin",
     "output_type": "stream",
     "text": [
      "Ingrese las horas productivas para Lunes:  6.5\n",
      "Ingrese las horas productivas para Martes:  3\n",
      "Ingrese las horas productivas para Miércoles:  7\n",
      "Ingrese las horas productivas para Jueves:  8\n",
      "Ingrese las horas productivas para Viernes:  5\n",
      "Ingrese las horas productivas para Sábado:  2\n",
      "Ingrese las horas productivas para Domingo:  0\n"
     ]
    },
    {
     "name": "stdout",
     "output_type": "stream",
     "text": [
      "\n",
      "📊 Resumen de productividad semanal:\n",
      "- Total de horas productivas: 31.5\n",
      "- Promedio diario: 4.5 horas\n",
      "- Días con baja productividad (< 4h): Martes, Sábado, Domingo\n",
      "- Días con productividad óptima (6-9h): Lunes, Miércoles, Jueves\n",
      "✅ Recomendación: Vas por buen camino, pero puedes mejorar.\n"
     ]
    }
   ],
   "source": [
    "# Lista de días de la semana\n",
    "dias_semana = [\"Lunes\", \"Martes\", \"Miércoles\", \"Jueves\", \"Viernes\", \"Sábado\", \"Domingo\"]\n",
    "\n",
    "# Diccionario para almacenar las horas productivas\n",
    "horas_productivas = {}\n",
    "\n",
    "# Solicitar las horas productivas al usuario\n",
    "for dia in dias_semana:\n",
    "    while True:\n",
    "        try:\n",
    "            horas = float(input(f\"Ingrese las horas productivas para {dia}: \"))\n",
    "            if 0 <= horas <= 24:\n",
    "                horas_productivas[dia] = horas\n",
    "                break\n",
    "            else:\n",
    "                print(\"Por favor, ingrese un valor válido entre 0 y 24.\")\n",
    "        except ValueError:\n",
    "            print(\"Entrada inválida. Ingrese un número válido.\")\n",
    "\n",
    "# Calcular total, promedio, días con baja productividad y días óptimos\n",
    "total_horas = sum(horas_productivas.values())\n",
    "promedio_diario = total_horas / len(dias_semana)\n",
    "dias_baja_productividad = [dia for dia, horas in horas_productivas.items() if horas < 4]\n",
    "dias_optimos = [dia for dia, horas in horas_productivas.items() if 6 <= horas <= 9]\n",
    "\n",
    "# Mostrar resultados\n",
    "print(\"\\n📊 Resumen de productividad semanal:\")\n",
    "print(f\"- Total de horas productivas: {round(total_horas, 2)}\")\n",
    "print(f\"- Promedio diario: {round(promedio_diario, 2)} horas\")\n",
    "print(f\"- Días con baja productividad (< 4h): {', '.join(dias_baja_productividad) if dias_baja_productividad else 'Ninguno'}\")\n",
    "print(f\"- Días con productividad óptima (6-9h): {', '.join(dias_optimos) if dias_optimos else 'Ninguno'}\")\n",
    "\n",
    "# Recomendación según el promedio diario\n",
    "if promedio_diario < 4:\n",
    "    print(\"✅ Recomendación: Necesitas mejorar tu enfoque y constancia.\")\n",
    "elif 4 <= promedio_diario < 6:\n",
    "    print(\"✅ Recomendación: Vas por buen camino, pero puedes mejorar.\")\n",
    "elif 6 <= promedio_diario <= 9:\n",
    "    print(\"✅ Recomendación: Excelente productividad, ¡sigue así!\")\n",
    "else:\n",
    "    print(\"✅ Recomendación: Cuidado con el exceso, no olvides descansar.\")\n"
   ]
  }
 ],
 "metadata": {
  "kernelspec": {
   "display_name": "Python 3 (ipykernel)",
   "language": "python",
   "name": "python3"
  },
  "language_info": {
   "codemirror_mode": {
    "name": "ipython",
    "version": 3
   },
   "file_extension": ".py",
   "mimetype": "text/x-python",
   "name": "python",
   "nbconvert_exporter": "python",
   "pygments_lexer": "ipython3",
   "version": "3.12.3"
  }
 },
 "nbformat": 4,
 "nbformat_minor": 5
}
