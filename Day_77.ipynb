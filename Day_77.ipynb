{
 "cells": [
  {
   "cell_type": "markdown",
   "id": "f563c781-084c-445d-bfb7-6e51898af8e1",
   "metadata": {},
   "source": [
    "# 🧠 Reto 77: Calculadora de Horas de Ejercicio Semanal 🧠\n",
    "\n",
    "## 🏆 Objetivo:\n",
    "\n",
    "Crear un programa que permita registrar cuánto tiempo dedicas al ejercicio cada día de la semana, calcule el total semanal, el promedio diario y clasifique tu nivel de actividad física.\n",
    "\n",
    "## 📝 Requisitos:\n",
    "\n",
    "1️⃣ Solicitar al usuario el número de minutos de ejercicio para cada día (lunes a domingo).  \n",
    "2️⃣ Validar que los minutos sean valores positivos o cero (si no hizo ejercicio ese día).  \n",
    "3️⃣ Calcular:  \n",
    "🔸 El total de minutos ejercitados en la semana.  \n",
    "🔸 El promedio diario de minutos.  \n",
    "4️⃣ Clasificar el nivel de actividad física basado en el promedio diario:  \n",
    "🔸 Menos de 20 min: **Actividad muy baja**    \n",
    "🔸 Entre 20 y 40 min: **Actividad moderada**    \n",
    "🔸 Más de 40 min: **Actividad alta**   \n",
    "5️⃣ Mostrar un resumen con:  \n",
    "🔸 Total de minutos en la semana.  \n",
    "🔸 Promedio diario.  \n",
    "🔸 Clasificación.  \n",
    "\n",
    "## 📌 Ejemplo de ejecución:\n",
    "\n",
    "🏋️ Calculadora de Horas de Ejercicio Semanal 🏋️  \n",
    "\n",
    "Ingrese los minutos de ejercicio para cada día:  \n",
    "\n",
    "Lunes: 30  \n",
    "Martes: 0  \n",
    "Miércoles: 45  \n",
    "Jueves: 20  \n",
    "Viernes: 50  \n",
    "Sábado: 60  \n",
    "Domingo: 10  \n",
    "\n",
    "📈 Resultados:  \n",
    "- Total de minutos: 215  \n",
    "- Promedio diario: 30.71 minutos  \n",
    "- Clasificación: Actividad moderada  \n",
    "\n",
    "## 🔍 Pistas:\n",
    "\n",
    "🔹 Usa una lista para almacenar los minutos de cada día.  \n",
    "🔹 Puedes usar `sum()` para calcular el total y luego dividir entre 7 para el promedio.  \n",
    "🔹 Recuerda manejar los errores de entrada (por ejemplo, si el usuario escribe letras en lugar de números).  \n",
    "🔹 Redondea el promedio a dos decimales para que el resultado sea más claro.  "
   ]
  },
  {
   "cell_type": "code",
   "execution_count": 1,
   "id": "734cf257-8c93-4654-a419-8450a9b4daa8",
   "metadata": {},
   "outputs": [
    {
     "name": "stdout",
     "output_type": "stream",
     "text": [
      "🏋️ Calculadora de Minutos de Ejercicio Semanal 🏋️\n",
      "\n"
     ]
    },
    {
     "name": "stdin",
     "output_type": "stream",
     "text": [
      "Ingresa los minutos de ejercicio para Lunes:  30\n",
      "Ingresa los minutos de ejercicio para Martes:  0\n",
      "Ingresa los minutos de ejercicio para Miércoles:  45\n",
      "Ingresa los minutos de ejercicio para Jueves:  20\n",
      "Ingresa los minutos de ejercicio para Viernes:  50\n",
      "Ingresa los minutos de ejercicio para Sábado:  60\n",
      "Ingresa los minutos de ejercicio para Domingo:  10\n"
     ]
    },
    {
     "name": "stdout",
     "output_type": "stream",
     "text": [
      "\n",
      "📈 Resultados:\n",
      "- Total de minutos: 215\n",
      "- Promedio diario: 30.71 minutos\n",
      "- Clasificación: Actividad moderada\n"
     ]
    }
   ],
   "source": [
    "# 🏋️ Calculadora de Minutos de Ejercicio Semanal 🏋️\n",
    "\n",
    "# Función para clasificar nivel de actividad física\n",
    "def clasificar_actividad(promedio):\n",
    "    if promedio < 20:\n",
    "        return \"Actividad muy baja\"\n",
    "    elif 20 <= promedio <= 40:\n",
    "        return \"Actividad moderada\"\n",
    "    else:\n",
    "        return \"Actividad alta\"\n",
    "\n",
    "# Lista de días de la semana\n",
    "dias = [\"Lunes\", \"Martes\", \"Miércoles\", \"Jueves\", \"Viernes\", \"Sábado\", \"Domingo\"]\n",
    "minutos = []\n",
    "\n",
    "# Solicitar datos al usuario\n",
    "print(\"🏋️ Calculadora de Minutos de Ejercicio Semanal 🏋️\\n\")\n",
    "for dia in dias:\n",
    "    while True:\n",
    "        try:\n",
    "            entrada = int(input(f\"Ingresa los minutos de ejercicio para {dia}: \"))\n",
    "            if entrada < 0:\n",
    "                print(\"⚠️ Por favor, ingresa un valor positivo o cero.\")\n",
    "            else:\n",
    "                minutos.append(entrada)\n",
    "                break\n",
    "        except ValueError:\n",
    "            print(\"⚠️ Entrada inválida. Por favor, ingresa un número.\")\n",
    "\n",
    "# Calcular resultados\n",
    "total_minutos = sum(minutos)\n",
    "promedio_diario = round(total_minutos / 7, 2)\n",
    "clasificacion = clasificar_actividad(promedio_diario)\n",
    "\n",
    "# Mostrar resultados\n",
    "print(\"\\n📈 Resultados:\")\n",
    "print(f\"- Total de minutos: {total_minutos}\")\n",
    "print(f\"- Promedio diario: {promedio_diario} minutos\")\n",
    "print(f\"- Clasificación: {clasificacion}\")\n"
   ]
  }
 ],
 "metadata": {
  "kernelspec": {
   "display_name": "Python 3 (ipykernel)",
   "language": "python",
   "name": "python3"
  },
  "language_info": {
   "codemirror_mode": {
    "name": "ipython",
    "version": 3
   },
   "file_extension": ".py",
   "mimetype": "text/x-python",
   "name": "python",
   "nbconvert_exporter": "python",
   "pygments_lexer": "ipython3",
   "version": "3.12.3"
  }
 },
 "nbformat": 4,
 "nbformat_minor": 5
}
