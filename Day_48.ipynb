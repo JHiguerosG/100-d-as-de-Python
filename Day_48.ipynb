{
 "cells": [
  {
   "cell_type": "markdown",
   "id": "236761e8-f979-4b9d-9c20-6d9e4bab7eb9",
   "metadata": {},
   "source": [
    "# 🧠 Reto 48: Calculadora de Calorías 🧠\n",
    "\n",
    "## 🏆 Objetivo:\n",
    "\n",
    "Desarrollar una calculadora que permita estimar el gasto calórico diario de una persona usando la ecuación de Harris-Benedict. Este cálculo es útil para quienes buscan controlar su peso, mejorar su alimentación o ajustar su dieta.\n",
    "\n",
    "## 📝 Requisitos:\n",
    "1️⃣ El programa debe solicitar los siguientes datos al usuario:  \n",
    "🔸 Peso en kilogramos  \n",
    "🔸 Altura en centímetros  \n",
    "🔸 Edad en años  \n",
    "🔸 Género (M o F)  \n",
    "🔸 Nivel de actividad física (sedentario, ligero, moderado, intenso, muy intenso)  \n",
    "2️⃣ Utilizar la ecuación de Harris-Benedict para calcular el metabolismo basal (TMB):    \n",
    "🔸 Hombres:   \n",
    "$TMB = 88.36 + (13.4 \\text { x peso}) + (4.8 \\text { x altura}) - ( 5.7 \\text { x edad})$   \n",
    "\n",
    "🔸 Mujeres:  \n",
    "$TMB = 447.6 + (9.2 \\text { x peso}) + (3.1 \\text { x altura}) - ( 4.3 \\text { x edad})$  \n",
    "\n",
    "3️⃣ Ajustar el gasto calórico total (GET) según el nivel de actividad física:    \n",
    "🔸 Sedentario (poco o nada de ejercicio): `TMB × 1.2`    \n",
    "🔸 Ligero (ejercicio ligero 1-3 días/semana): `TMB × 1.375`    \n",
    "🔸 Moderado (ejercicio moderado 3-5 días/semana): `TMB × 1.55`    \n",
    "🔸 Intenso (ejercicio intenso 6-7 días/semana): `TMB × 1.725`    \n",
    "🔸 Muy intenso (atletas o entrenamientos físicos extremos): `TMB × 1.9`    \n",
    "4️⃣ Mostrar al usuario su gasto calórico diario estimado.  \n",
    "5️⃣ El programa debe manejar errores en la entrada (por ejemplo, si el usuario ingresa valores no numéricos o datos inválidos). \n",
    "\n",
    "📌 Ejemplo de ejecución:\n",
    "\n",
    "🏋️ Calculadora de Calorías 🏋️  \n",
    "\n",
    "Ingrese su peso (kg): 70  \n",
    "Ingrese su altura (cm): 175  \n",
    "Ingrese su edad (años): 30  \n",
    "Ingrese su género (M/F): M  \n",
    "Seleccione su nivel de actividad:  \n",
    "1 Sedentario  \n",
    "2 Ligero  \n",
    "3 Moderado  \n",
    "4 Intenso  \n",
    "5 Muy intenso  \n",
    "Opción: 3  \n",
    "\n",
    "📊 Resultados:  \n",
    "- Metabolismo basal (TMB): 1695.4 kcal  \n",
    "- Gasto calórico diario estimado: 2627.8 kcal  \n",
    "\n",
    "🔥 Para mantener tu peso, necesitas consumir aproximadamente 2627.8 kcal al día.  \n",
    "\n",
    "## 🔍 Pistas:  \n",
    "\n",
    "💡 Usa `input()` para solicitar los datos y asegúrate de convertir los valores correctamente.  \n",
    "💡 Manejo de errores: Usa `try-except` para evitar fallos si el usuario ingresa datos incorrectos.  \n",
    "💡 Usa `round()` para redondear los valores a 1 decimal y hacer la salida más clara.  "
   ]
  },
  {
   "cell_type": "code",
   "execution_count": 3,
   "id": "468fc485-d494-4d13-8faf-f2e533d1dbe6",
   "metadata": {},
   "outputs": [],
   "source": [
    "# This function calculates the Basal Metabolic Rate (BMR) based on the Harris-Benedict equation\n",
    "def calculate_bmr(weight, height, age, gender):\n",
    "    \"\"\"\n",
    "    Calculate the Basal Metabolic Rate (BMR) using the Harris-Benedict equation.\n",
    "    \n",
    "    Parameters:\n",
    "    - weight (float): Weight in kilograms\n",
    "    - height (float): Height in centimeters\n",
    "    - age (int): Age in years\n",
    "    - gender (str): Gender of the individual ('M' for male, 'F' for female)\n",
    "    \n",
    "    Returns:\n",
    "    - float: Basal Metabolic Rate (BMR) in kcal\n",
    "    \"\"\"\n",
    "    if gender.upper() == 'M':  # Male BMR formula\n",
    "        return 88.36 + (13.4 * weight) + (4.8 * height) - (5.7 * age)\n",
    "    elif gender.upper() == 'F':  # Female BMR formula\n",
    "        return 447.6 + (9.2 * weight) + (3.1 * height) - (4.3 * age)\n",
    "    else:\n",
    "        raise ValueError(\"Invalid gender input. Use 'M' for male or 'F' for female.\")\n"
   ]
  },
  {
   "cell_type": "code",
   "execution_count": 4,
   "id": "a0368e92-3794-44ab-89ab-94f328a50fe1",
   "metadata": {},
   "outputs": [],
   "source": [
    "# This function calculates the Total Daily Energy Expenditure (TDEE)\n",
    "def calculate_tdee(bmr, activity_level):\n",
    "    \"\"\"\n",
    "    Adjust the Basal Metabolic Rate (BMR) based on physical activity level to get TDEE.\n",
    "    \n",
    "    Parameters:\n",
    "    - bmr (float): Basal Metabolic Rate in kcal\n",
    "    - activity_level (int): Activity level (1 for sedentary, 2 for light, etc.)\n",
    "    \n",
    "    Returns:\n",
    "    - float: Total Daily Energy Expenditure (TDEE) in kcal\n",
    "    \"\"\"\n",
    "    activity_factors = {\n",
    "        1: 1.2,     # Sedentary\n",
    "        2: 1.375,   # Light activity\n",
    "        3: 1.55,    # Moderate activity\n",
    "        4: 1.725,   # Intense activity\n",
    "        5: 1.9      # Very intense activity\n",
    "    }\n",
    "    return bmr * activity_factors.get(activity_level, 1)  # Default to 1 if invalid level\n",
    "    "
   ]
  },
  {
   "cell_type": "code",
   "execution_count": 7,
   "id": "48e4e43d-f5e5-434a-a2c7-a227ea949a41",
   "metadata": {},
   "outputs": [],
   "source": [
    "# This function handles user input and provides the calorie expenditure results\n",
    "def calorie_calculator():\n",
    "    \"\"\"\n",
    "    Interactive program to calculate and display daily calorie expenditure\n",
    "    based on user inputs for weight, height, age, gender, and activity level.\n",
    "    \"\"\"\n",
    "    print(\"🏋️ Daily Calorie Calculator 🏋️\\n\")\n",
    "    try:\n",
    "        # Gather user input\n",
    "        weight = float(input(\"Enter your weight (kg): \"))\n",
    "        height = float(input(\"Enter your height (cm): \"))\n",
    "        age = int(input(\"Enter your age (years): \"))\n",
    "        gender = input(\"Enter your gender (M/F): \")\n",
    "        print(\"Select your activity level:\")\n",
    "        print(\"1 Sedentary\\n2 Light\\n3 Moderate\\n4 Intense\\n5 Very Intense\")\n",
    "        activity_level = int(input(\"Option: \"))\n",
    "        \n",
    "        # Validate activity level\n",
    "        if activity_level not in [1, 2, 3, 4, 5]:\n",
    "            raise ValueError(\"Invalid activity level.\")\n",
    "        \n",
    "        # Calculate BMR and TDEE\n",
    "        bmr = calculate_bmr(weight, height, age, gender)\n",
    "        tdee = calculate_tdee(bmr, activity_level)\n",
    "        \n",
    "        # Display results\n",
    "        print(\"\\n📊 Results:\")\n",
    "        print(f\"Basal Metabolic Rate (BMR): {round(bmr, 1)} kcal\")\n",
    "        print(f\"Total Daily Energy Expenditure (TDEE): {round(tdee, 1)} kcal\")\n",
    "        print(f\"\\n🔥 To maintain your weight, consume approximately {round(tdee, 1)} kcal per day.\")\n",
    "    except ValueError as error:\n",
    "        print(f\"Error: {error}. Please try again.\")\n",
    "    except Exception as error:\n",
    "        print(f\"An unexpected error occurred: {error}. Please try again.\")\n"
   ]
  },
  {
   "cell_type": "code",
   "execution_count": 8,
   "id": "d29f7afb-e222-4007-ad24-9f2e1ddcfd70",
   "metadata": {},
   "outputs": [
    {
     "name": "stdout",
     "output_type": "stream",
     "text": [
      "🏋️ Daily Calorie Calculator 🏋️\n",
      "\n"
     ]
    },
    {
     "name": "stdin",
     "output_type": "stream",
     "text": [
      "Enter your weight (kg):  70\n",
      "Enter your height (cm):  175\n",
      "Enter your age (years):  30\n",
      "Enter your gender (M/F):  M\n"
     ]
    },
    {
     "name": "stdout",
     "output_type": "stream",
     "text": [
      "Select your activity level:\n",
      "1 Sedentary\n",
      "2 Light\n",
      "3 Moderate\n",
      "4 Intense\n",
      "5 Very Intense\n"
     ]
    },
    {
     "name": "stdin",
     "output_type": "stream",
     "text": [
      "Option:  2\n"
     ]
    },
    {
     "name": "stdout",
     "output_type": "stream",
     "text": [
      "\n",
      "📊 Results:\n",
      "Basal Metabolic Rate (BMR): 1695.4 kcal\n",
      "Total Daily Energy Expenditure (TDEE): 2331.1 kcal\n",
      "\n",
      "🔥 To maintain your weight, consume approximately 2331.1 kcal per day.\n"
     ]
    }
   ],
   "source": [
    "# Run the calorie calculator program\n",
    "calorie_calculator()"
   ]
  }
 ],
 "metadata": {
  "kernelspec": {
   "display_name": "Python 3 (ipykernel)",
   "language": "python",
   "name": "python3"
  },
  "language_info": {
   "codemirror_mode": {
    "name": "ipython",
    "version": 3
   },
   "file_extension": ".py",
   "mimetype": "text/x-python",
   "name": "python",
   "nbconvert_exporter": "python",
   "pygments_lexer": "ipython3",
   "version": "3.12.3"
  }
 },
 "nbformat": 4,
 "nbformat_minor": 5
}
