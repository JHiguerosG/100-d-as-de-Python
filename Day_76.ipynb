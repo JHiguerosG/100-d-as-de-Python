{
 "cells": [
  {
   "cell_type": "markdown",
   "id": "8b262e0f-71ee-4f07-ba1c-ca783d87d0f7",
   "metadata": {},
   "source": [
    "# 🍵 Reto 76: Calculadora de Consumo de Café Diario 🍵\n",
    "\n",
    "## 🏆 Objetivo:\n",
    "\n",
    "Crear una calculadora que ayude a una persona a estimar cuántas tazas de café consume al día, cuánto gasta al mes en café, y que le dé una recomendación saludable basada en su consumo.\n",
    "\n",
    "## 📝 Requisitos:\n",
    "\n",
    "1️⃣ Solicitar al usuario:  \n",
    "🔸 Número de tazas de café consumidas al día.  \n",
    "🔸 Costo promedio de una taza de café.  \n",
    "2️⃣ Calcular:  \n",
    "🔸 Consumo semanal de café (tazas por semana).  \n",
    "🔸 Consumo mensual de café (tazas por mes, asumiendo 30 días).  \n",
    "🔸 Gasto mensual estimado en café.  \n",
    "3️⃣ Mostrar una clasificación:  \n",
    "🔸 Hasta 2 tazas diarias → **Consumo moderado**.  \n",
    "🔸 Entre 3 y 5 tazas diarias → **Consumo elevado**.  \n",
    "🔸 Más de 5 tazas diarias → **Consumo muy alto**.  \n",
    "4️⃣ Mostrar una recomendación basada en la clasificación.  \n",
    "5️⃣ Validar que los valores ingresados sean positivos.  \n",
    "\n",
    "## 📌 Ejemplo de ejecución:\n",
    "\n",
    "☕ Calculadora de Consumo de Café ☕  \n",
    "\n",
    "Ingrese el número de tazas de café que toma al día: 4  \n",
    "Ingrese el costo promedio de una taza de café: 2.5  \n",
    "\n",
    "📈 Resultados:  \n",
    "- Consumo semanal: 28 tazas  \n",
    "- Consumo mensual: 120 tazas  \n",
    "- Gasto mensual: $300.00  \n",
    "- Clasificación: Consumo elevado  \n",
    "\n",
    "💡 Recomendación: Modera tu consumo de café para cuidar tu salud.   \n",
    "\n",
    "## 🔍 Pistas:\n",
    "\n",
    "🔹 Usa `input()` para pedir los datos.  \n",
    "🔹 Recuerda validar que las entradas sean mayores que cero.  \n",
    "🔹 Usa `round()` para redondear el gasto mensual a dos decimales.  \n",
    "🔹 Usa condicionales `if-elif-else` para clasificar el consumo.  "
   ]
  },
  {
   "cell_type": "code",
   "execution_count": 1,
   "id": "66679196-21e9-4d19-b6a0-0a2967a52bc8",
   "metadata": {},
   "outputs": [
    {
     "name": "stdout",
     "output_type": "stream",
     "text": [
      "☕ Calculadora de Consumo de Café ☕\n"
     ]
    },
    {
     "name": "stdin",
     "output_type": "stream",
     "text": [
      "\n",
      "Ingrese el número de tazas de café que toma al día:  4\n",
      "Ingrese el costo promedio de una taza de café:  2.5\n"
     ]
    },
    {
     "name": "stdout",
     "output_type": "stream",
     "text": [
      "\n",
      "📈 Resultados:\n",
      "- Consumo semanal: 28 tazas\n",
      "- Consumo mensual: 120 tazas\n",
      "- Gasto mensual: $300.0\n",
      "- Clasificación: Consumo elevado\n",
      "\n",
      "💡 Recomendación: Modera tu consumo de café para cuidar tu salud.\n"
     ]
    }
   ],
   "source": [
    "def calcular_consumo_cafe():\n",
    "    print(\"☕ Calculadora de Consumo de Café ☕\")\n",
    "\n",
    "    while True:\n",
    "        try:\n",
    "            tazas_por_dia = int(input(\"\\nIngrese el número de tazas de café que toma al día: \"))\n",
    "            costo_por_taza = float(input(\"Ingrese el costo promedio de una taza de café: \"))\n",
    "\n",
    "            # Validar que las entradas sean mayores que cero\n",
    "            if tazas_por_dia <= 0 or costo_por_taza <= 0:\n",
    "                print(\"❗ Por favor, ingrese valores positivos mayores que cero.\")\n",
    "                continue  # Volver a pedir los datos\n",
    "\n",
    "            # Calcular consumo semanal, mensual y gasto\n",
    "            consumo_semanal = tazas_por_dia * 7\n",
    "            consumo_mensual = tazas_por_dia * 30\n",
    "            gasto_mensual = round(consumo_mensual * costo_por_taza, 2)\n",
    "\n",
    "            # Clasificación y recomendación\n",
    "            if tazas_por_dia <= 2:\n",
    "                clasificacion = \"Consumo moderado\"\n",
    "                recomendacion = \"Buen trabajo, tu consumo está dentro de límites saludables.\"\n",
    "            elif 3 <= tazas_por_dia <= 5:\n",
    "                clasificacion = \"Consumo elevado\"\n",
    "                recomendacion = \"Modera tu consumo de café para cuidar tu salud.\"\n",
    "            else:\n",
    "                clasificacion = \"Consumo muy alto\"\n",
    "                recomendacion = \"Considera reducir tu consumo de café por tu bienestar.\"\n",
    "\n",
    "            # Mostrar resultados\n",
    "            print(\"\\n📈 Resultados:\")\n",
    "            print(f\"- Consumo semanal: {consumo_semanal} tazas\")\n",
    "            print(f\"- Consumo mensual: {consumo_mensual} tazas\")\n",
    "            print(f\"- Gasto mensual: ${gasto_mensual}\")\n",
    "            print(f\"- Clasificación: {clasificacion}\")\n",
    "            print(f\"\\n💡 Recomendación: {recomendacion}\")\n",
    "            break  # Salir del bucle después de una ejecución exitosa\n",
    "\n",
    "        except ValueError:\n",
    "            print(\"❗ Entrada inválida. Por favor, ingrese números válidos.\")\n",
    "\n",
    "# Ejecutar la calculadora\n",
    "calcular_consumo_cafe()\n"
   ]
  }
 ],
 "metadata": {
  "kernelspec": {
   "display_name": "Python 3 (ipykernel)",
   "language": "python",
   "name": "python3"
  },
  "language_info": {
   "codemirror_mode": {
    "name": "ipython",
    "version": 3
   },
   "file_extension": ".py",
   "mimetype": "text/x-python",
   "name": "python",
   "nbconvert_exporter": "python",
   "pygments_lexer": "ipython3",
   "version": "3.12.3"
  }
 },
 "nbformat": 4,
 "nbformat_minor": 5
}
