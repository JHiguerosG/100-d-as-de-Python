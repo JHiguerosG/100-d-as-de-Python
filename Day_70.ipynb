{
 "cells": [
  {
   "cell_type": "markdown",
   "id": "3486a59b-cac6-4cff-8905-ed0e3f19b55a",
   "metadata": {},
   "source": [
    "# 🧠 Reto 70: Calculadora de Horas de Trabajo y Pago Semanal 🧠\n",
    "\n",
    "## 🏆 Objetivo:\n",
    "\n",
    "Crear una calculadora que permita a un trabajador registrar las horas trabajadas por día durante la semana y calcular su pago total, considerando horas extras si excede cierto umbral (por ejemplo, 40 horas semanales).\n",
    "\n",
    "## 📝 Requisitos:\n",
    "\n",
    "1️⃣ Solicitar al usuario las horas trabajadas **por cada día de la semana laboral** (lunes a viernes).  \n",
    "2️⃣ Solicitar el valor de **pago por hora**.  \n",
    "3️⃣ Calcular el total de horas trabajadas.  \n",
    "4️⃣ Si el trabajador supera las **40 horas semanales**, calcular las **horas extra** con un recargo del **50% por hora extra**.  \n",
    "5️⃣ Mostrar:  \n",
    "🔸 Total de horas trabajadas  \n",
    "🔸 Total de horas extra  \n",
    "🔸 Pago por horas normales  \n",
    "🔸 Pago por horas extra  \n",
    "🔸 **Pago total**    \n",
    "\n",
    "## 📌 Ejemplo de ejecución:\n",
    "\n",
    "📅 Ingrese las horas trabajadas en la semana:  \n",
    "\n",
    "Lunes: 8  \n",
    "Martes: 9  \n",
    "Miércoles: 8  \n",
    "Jueves: 9  \n",
    "Viernes: 10  \n",
    "\n",
    "💵 Ingrese el pago por hora: `10`  \n",
    "\n",
    "📊 Resultados:  \n",
    "Total de horas trabajadas: `44`  \n",
    "Horas extra: `4`  \n",
    "Pago por horas normales (`40h` x `$10`): `$400`  \n",
    "Pago por horas extra (`4h` x `$15`): `$60`  \n",
    "💰 Pago total: `$460`  \n",
    "\n",
    "## 🔍 Pistas:\n",
    "\n",
    "🔹 Usa un diccionario para registrar las horas por día.  \n",
    "🔹 Usa funciones para dividir el código: por ejemplo, una para calcular las horas extra.  \n",
    "🔹 Las horas normales deben limitarse a 40, el resto son extras.  \n",
    "🔹 Usa operadores como `min()` y `max()` para facilitar cálculos.  \n",
    "🔹 Puedes formatear la salida con `f-strings` y `round()` si deseas mostrar solo dos decimales.  "
   ]
  },
  {
   "cell_type": "code",
   "execution_count": 2,
   "id": "d5078e5b-3cfc-464a-8606-12c34907a413",
   "metadata": {},
   "outputs": [
    {
     "name": "stdout",
     "output_type": "stream",
     "text": [
      "📅 Ingrese las horas trabajadas en la semana:\n"
     ]
    },
    {
     "name": "stdin",
     "output_type": "stream",
     "text": [
      "Lunes:  10\n",
      "Martes:  9\n",
      "Miércoles:  8\n",
      "Jueves:  10\n",
      "Viernes:  9\n",
      "\n",
      "💵 Ingrese el pago por hora:  10\n"
     ]
    },
    {
     "name": "stdout",
     "output_type": "stream",
     "text": [
      "\n",
      "📊 Resultados:\n",
      "Total de horas trabajadas: 46.0 horas\n",
      "Horas extra: 6.0 horas\n",
      "Pago por horas normales: $400.00\n",
      "Pago por horas extra: $90.00\n",
      "💰 Pago total: $490.00\n"
     ]
    }
   ],
   "source": [
    "def calcular_pago(horas_por_dia, pago_por_hora):\n",
    "    total_horas = sum(horas_por_dia.values())\n",
    "    horas_normales = min(total_horas, 40)\n",
    "    horas_extra = max(total_horas - 40, 0)\n",
    "\n",
    "    pago_horas_normales = horas_normales * pago_por_hora\n",
    "    pago_horas_extra = horas_extra * (pago_por_hora * 1.5)\n",
    "    pago_total = pago_horas_normales + pago_horas_extra\n",
    "\n",
    "    return {\n",
    "        \"Total de horas trabajadas\": total_horas,\n",
    "        \"Horas extra\": horas_extra,\n",
    "        \"Pago por horas normales\": round(pago_horas_normales, 2),\n",
    "        \"Pago por horas extra\": round(pago_horas_extra, 2),\n",
    "        \"Pago total\": round(pago_total, 2),\n",
    "    }\n",
    "\n",
    "# Entrada con validación\n",
    "dias_laborales = [\"Lunes\", \"Martes\", \"Miércoles\", \"Jueves\", \"Viernes\"]\n",
    "horas_por_dia = {}\n",
    "print(\"📅 Ingrese las horas trabajadas en la semana:\")\n",
    "for dia in dias_laborales:\n",
    "    while True:\n",
    "        try:\n",
    "            horas = float(input(f\"{dia}: \"))\n",
    "            if horas < 0:\n",
    "                print(\"❌ Las horas no pueden ser negativas. Intente de nuevo.\")\n",
    "                continue\n",
    "            horas_por_dia[dia] = horas\n",
    "            break\n",
    "        except ValueError:\n",
    "            print(\"❌ Entrada inválida. Por favor, ingrese un número.\")\n",
    "\n",
    "while True:\n",
    "    try:\n",
    "        pago_por_hora = float(input(\"\\n💵 Ingrese el pago por hora: \"))\n",
    "        if pago_por_hora <= 0:\n",
    "            print(\"❌ El pago por hora debe ser mayor a cero.\")\n",
    "            continue\n",
    "        break\n",
    "    except ValueError:\n",
    "        print(\"❌ Entrada inválida. Por favor, ingrese un número.\")\n",
    "\n",
    "# Mostrar resultados\n",
    "resultados = calcular_pago(horas_por_dia, pago_por_hora)\n",
    "\n",
    "print(\"\\n📊 Resultados:\")\n",
    "print(f\"Total de horas trabajadas: {resultados['Total de horas trabajadas']} horas\")\n",
    "print(f\"Horas extra: {resultados['Horas extra']} horas\")\n",
    "print(f\"Pago por horas normales: ${resultados['Pago por horas normales']:.2f}\")\n",
    "print(f\"Pago por horas extra: ${resultados['Pago por horas extra']:.2f}\")\n",
    "print(f\"💰 Pago total: ${resultados['Pago total']:.2f}\")\n"
   ]
  }
 ],
 "metadata": {
  "kernelspec": {
   "display_name": "Python 3 (ipykernel)",
   "language": "python",
   "name": "python3"
  },
  "language_info": {
   "codemirror_mode": {
    "name": "ipython",
    "version": 3
   },
   "file_extension": ".py",
   "mimetype": "text/x-python",
   "name": "python",
   "nbconvert_exporter": "python",
   "pygments_lexer": "ipython3",
   "version": "3.12.3"
  }
 },
 "nbformat": 4,
 "nbformat_minor": 5
}
