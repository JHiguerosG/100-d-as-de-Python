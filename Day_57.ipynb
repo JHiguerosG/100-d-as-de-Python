{
 "cells": [
  {
   "cell_type": "markdown",
   "id": "27d88baf-9f12-4613-9dcf-38a389d107fb",
   "metadata": {},
   "source": [
    "# 🧠 Reto 57: Calculadora de Gasto Semanal por Categoría 🧠\n",
    "\n",
    "## 🏆 Objetivo:\n",
    "\n",
    "Crear una aplicación que permita ingresar gastos diarios categorizados (como comida, transporte, entretenimiento, etc.) y luego calcule el total gastado por categoría durante la semana. Al final, debe mostrar un resumen detallado por categoría y un total general.\n",
    "\n",
    "## 📝 Requisitos:\n",
    "\n",
    "1️⃣ El programa debe permitir al usuario ingresar múltiples gastos (cantidad y categoría).  \n",
    "2️⃣ El usuario debe poder ingresar gastos para los 7 días de la semana.  \n",
    "3️⃣ Las categorías deben poder ser definidas libremente por el usuario (no hay una lista fija).  \n",
    "4️⃣ Al finalizar, el programa debe mostrar:  \n",
    "🔸 El total gastado en cada categoría.  \n",
    "🔸 El total general de gastos de la semana.  \n",
    "🔸 La categoría con mayor gasto.  \n",
    "5️⃣ El usuario puede escribir fin cuando ya no desea ingresar más datos para un día.  \n",
    "6️⃣ Validar que los montos ingresados sean números positivos.  \n",
    "\n",
    "## 📌 Ejemplo de ejecución:\n",
    "\n",
    "📅 Día 1: Lunes  \n",
    "👉 Ingresa el nombre de la categoría (o 'fin' para terminar): comida  \n",
    "💰 Ingresa el monto gastado: 50  \n",
    "👉 Ingresa el nombre de la categoría (o 'fin' para terminar): transporte  \n",
    "💰 Ingresa el monto gastado: 10  \n",
    "👉 Ingresa el nombre de la categoría (o 'fin' para terminar): fin  \n",
    "\n",
    "📅 Día 2: Martes  \n",
    "👉 Ingresa el nombre de la categoría (o 'fin' para terminar): comida  \n",
    "💰 Ingresa el monto gastado: 60  \n",
    "👉 Ingresa el nombre de la categoría (o 'fin' para terminar): entretenimiento  \n",
    "💰 Ingresa el monto gastado: 20  \n",
    "👉 Ingresa el nombre de la categoría (o 'fin' para terminar): fin  \n",
    "\n",
    "...  \n",
    "\n",
    "📊 Resumen de gastos semanales:\n",
    "- comida: $190.00\n",
    "- transporte: $40.00\n",
    "- entretenimiento: $60.00\n",
    "\n",
    "💸 Total gastado en la semana: $290.00\n",
    "📈 Categoría con mayor gasto: comida\n",
    "\n",
    "## 🔍 Pistas:\n",
    "\n",
    "🔹 Usa un diccionario para ir sumando los gastos por categoría.  \n",
    "🔹 Usa un bucle `for` para recorrer los 7 días de la semana.  \n",
    "🔹 Convierte todos los nombres de categoría a minúsculas para evitar duplicados por mayúsculas.  \n",
    "🔹 Usa `max()` con una función `key` para obtener la categoría de mayor gasto.  \n",
    "🔹 Asegúrate de manejar entradas inválidas como montos negativos o `strings` donde se espera un número.  "
   ]
  },
  {
   "cell_type": "code",
   "execution_count": 4,
   "id": "6a8d7e06-ab2e-4512-aeef-d9ce7ec3915a",
   "metadata": {},
   "outputs": [
    {
     "name": "stdout",
     "output_type": "stream",
     "text": [
      "\n",
      "📅 Day: Monday\n"
     ]
    },
    {
     "name": "stdin",
     "output_type": "stream",
     "text": [
      "👉 Enter the category name (or 'end' to finish):  food\n",
      "💰 Enter the expense amount:  50\n",
      "👉 Enter the category name (or 'end' to finish):  transportation\n",
      "💰 Enter the expense amount:  25\n",
      "👉 Enter the category name (or 'end' to finish):  end\n"
     ]
    },
    {
     "name": "stdout",
     "output_type": "stream",
     "text": [
      "\n",
      "📅 Day: Tuesday\n"
     ]
    },
    {
     "name": "stdin",
     "output_type": "stream",
     "text": [
      "👉 Enter the category name (or 'end' to finish):  food\n",
      "💰 Enter the expense amount:  35\n",
      "👉 Enter the category name (or 'end' to finish):  health\n",
      "💰 Enter the expense amount:  100\n",
      "👉 Enter the category name (or 'end' to finish):  end\n"
     ]
    },
    {
     "name": "stdout",
     "output_type": "stream",
     "text": [
      "\n",
      "📅 Day: Wednesday\n"
     ]
    },
    {
     "name": "stdin",
     "output_type": "stream",
     "text": [
      "👉 Enter the category name (or 'end' to finish):  food\n",
      "💰 Enter the expense amount:  50\n",
      "👉 Enter the category name (or 'end' to finish):  transportation\n",
      "💰 Enter the expense amount:  50\n",
      "👉 Enter the category name (or 'end' to finish):  end\n"
     ]
    },
    {
     "name": "stdout",
     "output_type": "stream",
     "text": [
      "\n",
      "📅 Day: Thursday\n"
     ]
    },
    {
     "name": "stdin",
     "output_type": "stream",
     "text": [
      "👉 Enter the category name (or 'end' to finish):  food\n",
      "💰 Enter the expense amount:  35\n",
      "👉 Enter the category name (or 'end' to finish):  end\n"
     ]
    },
    {
     "name": "stdout",
     "output_type": "stream",
     "text": [
      "\n",
      "📅 Day: Friday\n"
     ]
    },
    {
     "name": "stdin",
     "output_type": "stream",
     "text": [
      "👉 Enter the category name (or 'end' to finish):  food\n",
      "💰 Enter the expense amount:  50\n",
      "👉 Enter the category name (or 'end' to finish):  transportation\n",
      "💰 Enter the expense amount:  25\n",
      "👉 Enter the category name (or 'end' to finish):  entertainment\n",
      "💰 Enter the expense amount:  75\n",
      "👉 Enter the category name (or 'end' to finish):  end\n"
     ]
    },
    {
     "name": "stdout",
     "output_type": "stream",
     "text": [
      "\n",
      "📅 Day: Saturday\n"
     ]
    },
    {
     "name": "stdin",
     "output_type": "stream",
     "text": [
      "👉 Enter the category name (or 'end' to finish):  food\n",
      "💰 Enter the expense amount:  60\n",
      "👉 Enter the category name (or 'end' to finish):  entertainment\n",
      "💰 Enter the expense amount:  75\n",
      "👉 Enter the category name (or 'end' to finish):  clothing\n",
      "💰 Enter the expense amount:  100\n",
      "👉 Enter the category name (or 'end' to finish):  end\n"
     ]
    },
    {
     "name": "stdout",
     "output_type": "stream",
     "text": [
      "\n",
      "📅 Day: Sunday\n"
     ]
    },
    {
     "name": "stdin",
     "output_type": "stream",
     "text": [
      "👉 Enter the category name (or 'end' to finish):  food\n",
      "💰 Enter the expense amount:  100\n",
      "👉 Enter the category name (or 'end' to finish):  transportation\n",
      "💰 Enter the expense amount:  25\n",
      "👉 Enter the category name (or 'end' to finish):  entertainment\n",
      "💰 Enter the expense amount:  60\n",
      "👉 Enter the category name (or 'end' to finish):  end\n"
     ]
    },
    {
     "name": "stdout",
     "output_type": "stream",
     "text": [
      "\n",
      "📊 Weekly Expense Summary:\n",
      "- Food           : $ 380.00\n",
      "- Transportation : $ 125.00\n",
      "- Health         : $ 100.00\n",
      "- Entertainment  : $ 210.00\n",
      "- Clothing       : $ 100.00\n",
      "\n",
      "💸 Total spent during the week: $915.00\n",
      "📈 Category with the highest expense: Food\n"
     ]
    }
   ],
   "source": [
    "# List of days in the week\n",
    "week_days = [\"Monday\", \"Tuesday\", \"Wednesday\", \"Thursday\", \"Friday\", \"Saturday\", \"Sunday\"]\n",
    "expenses_by_category = {}\n",
    "\n",
    "def capture_expenses():\n",
    "    \"\"\"\n",
    "    Captures daily expenses from the user, categorized by name and amount.\n",
    "\n",
    "    The user inputs a category name and a positive numeric value for each expense.\n",
    "    The function loops through all seven days of the week, allowing multiple inputs per day.\n",
    "    If the user types 'fin', the entry for that day ends.\n",
    "    Validates that expense amounts are positive numbers and stores the data in the global dictionary.\n",
    "    \"\"\"\n",
    "    for day in week_days:\n",
    "        print(f\"\\n📅 Day: {day}\")\n",
    "        while True:\n",
    "            category = input(\"👉 Enter the category name (or 'end' to finish): \").strip().lower()\n",
    "            if category == 'end':\n",
    "                break\n",
    "            if not category:\n",
    "                print(\"❌ The category cannot be empty.\")\n",
    "                continue\n",
    "            try:\n",
    "                amount = float(input(\"💰 Enter the expense amount: \"))\n",
    "                if amount < 0:\n",
    "                    print(\"❌ Amounts must be positive.\")\n",
    "                    continue\n",
    "                if category in expenses_by_category:\n",
    "                    expenses_by_category[category] += amount\n",
    "                else:\n",
    "                    expenses_by_category[category] = amount\n",
    "            except ValueError:\n",
    "                print(\"❌ Please enter a valid number.\")\n",
    "\n",
    "def show_summary():\n",
    "    \"\"\"\n",
    "    Displays a summary of weekly expenses categorized by name.\n",
    "\n",
    "    Outputs:\n",
    "        - Total spent per category (formatted neatly).\n",
    "        - Overall total spent during the week.\n",
    "        - The category with the highest expense.\n",
    "    \n",
    "    If no expenses were recorded, alerts the user with a message.\n",
    "    \"\"\"\n",
    "    if not expenses_by_category:\n",
    "        print(\"\\n⚠️ No expenses were recorded during the week.\")\n",
    "        return\n",
    "\n",
    "    print(\"\\n📊 Weekly Expense Summary:\")\n",
    "    general_total = 0\n",
    "    for category, total in expenses_by_category.items():\n",
    "        print(f\"- {category.capitalize():<15}: ${total:>7.2f}\")\n",
    "        general_total += total\n",
    "\n",
    "    highest_expense_category = max(expenses_by_category, key=expenses_by_category.get)\n",
    "    print(f\"\\n💸 Total spent during the week: ${general_total:.2f}\")\n",
    "    print(f\"📈 Category with the highest expense: {highest_expense_category.capitalize()}\")\n",
    "\n",
    "# Program execution\n",
    "capture_expenses()\n",
    "show_summary()"
   ]
  }
 ],
 "metadata": {
  "kernelspec": {
   "display_name": "Python 3 (ipykernel)",
   "language": "python",
   "name": "python3"
  },
  "language_info": {
   "codemirror_mode": {
    "name": "ipython",
    "version": 3
   },
   "file_extension": ".py",
   "mimetype": "text/x-python",
   "name": "python",
   "nbconvert_exporter": "python",
   "pygments_lexer": "ipython3",
   "version": "3.12.3"
  }
 },
 "nbformat": 4,
 "nbformat_minor": 5
}
