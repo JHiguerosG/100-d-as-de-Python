{
 "cells": [
  {
   "cell_type": "markdown",
   "id": "eeb2d548-8c82-4b10-81fe-b78defc082f5",
   "metadata": {},
   "source": [
    "# 🔥 Reto 5: Verificador de Palíndromos 🔥\n",
    "\n",
    "## 📝 Instrucciones:  \n",
    "Un palíndromo es una palabra, frase o número que se lee igual de izquierda a derecha que de derecha a izquierda (ignorando espacios, puntuación y mayúsculas).\n",
    "\n",
    "## 🏆 Objetivo\n",
    "\n",
    "1. Pedir al usuario que ingrese una palabra o frase.  \n",
    "2. Eliminar los espacios y convertir todo a minúsculas.  \n",
    "3. Verificar si la palabra o frase es un palíndromo.  \n",
    "4. Mostrar un mensaje indicando si es o no un palíndromo.  \n",
    "\n",
    "## 📌 Ejemplos de ejecución:\n",
    "\n",
    "✅ Entrada: \"reconocer\" → Salida: \"¡Sí! 'reconocer' es un palíndromo.\"  \n",
    "✅ Entrada: \"Anita lava la tina\" → Salida: \"¡Sí! 'Anita lava la tina' es un palíndromo.\"  \n",
    "❌ Entrada: \"hola\" → Salida: \"No, 'hola' no es un palíndromo.\"  "
   ]
  },
  {
   "cell_type": "code",
   "execution_count": 38,
   "id": "c563f87e-0442-4ae1-a8d8-b326605a814d",
   "metadata": {},
   "outputs": [
    {
     "name": "stdin",
     "output_type": "stream",
     "text": [
      ">>> Enter a word or sentence:  Never odd or even\n"
     ]
    },
    {
     "name": "stdout",
     "output_type": "stream",
     "text": [
      "✅ Yes! \"Never odd or even\" is a palindrome.\n"
     ]
    }
   ],
   "source": [
    "import string\n",
    "\n",
    "symbols = set(string.punctuation)  # Set of punctuation symbols\n",
    "\n",
    "while True:\n",
    "    user_input = input('>>> Enter a word or sentence: ').strip().lower()\n",
    "\n",
    "    # Validations\n",
    "    if any(char.isdigit() for char in user_input):\n",
    "        print(\"⚠️ The input must not contain numbers. Try again.\")\n",
    "    elif any(char in symbols for char in user_input):\n",
    "        print(\"⚠️ The input must not contain symbols. Try again.\")\n",
    "    elif len(user_input) < 3:\n",
    "        print(\"⚠️ The input must have at least 3 letters. Try again.\")\n",
    "    else:\n",
    "        break  # If all validations pass, exit the loop\n",
    "\n",
    "# Remove spaces to properly check for a palindrome\n",
    "string_without_spaces = user_input.replace(' ', '')\n",
    "\n",
    "# Reverse the string\n",
    "backwards_string = string_without_spaces[::-1]\n",
    "\n",
    "# Palindrome check\n",
    "if backwards_string == string_without_spaces:\n",
    "    print(f'✅ Yes! \"{user_input.capitalize()}\" is a palindrome.')\n",
    "else:\n",
    "    print(f'❌ No, \"{user_input.capitalize()}\" is not a palindrome.')"
   ]
  }
 ],
 "metadata": {
  "kernelspec": {
   "display_name": "Python 3 (ipykernel)",
   "language": "python",
   "name": "python3"
  },
  "language_info": {
   "codemirror_mode": {
    "name": "ipython",
    "version": 3
   },
   "file_extension": ".py",
   "mimetype": "text/x-python",
   "name": "python",
   "nbconvert_exporter": "python",
   "pygments_lexer": "ipython3",
   "version": "3.12.3"
  }
 },
 "nbformat": 4,
 "nbformat_minor": 5
}
