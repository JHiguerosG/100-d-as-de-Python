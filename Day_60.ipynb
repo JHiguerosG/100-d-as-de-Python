{
 "cells": [
  {
   "cell_type": "markdown",
   "id": "c4e496cc-15eb-4189-8995-5a8d2bf6c30b",
   "metadata": {},
   "source": [
    "# 🧠 Reto 60: Simulador de Subasta en Tiempo Real 🧠\n",
    "\n",
    "## 🏆 Objetivo:\n",
    "\n",
    "Desarrollar un programa que simule una subasta en tiempo real entre varios participantes, permitiendo pujas incrementales hasta que se decida un ganador por no recibir nuevas ofertas en un límite de tiempo (simulado).\n",
    "\n",
    "## 📝 Requisitos:\n",
    "\n",
    "1️⃣ El usuario debe definir un precio base para el producto en subasta.  \n",
    "2️⃣ El sistema debe permitir registrar varios participantes (al menos 3).  \n",
    "3️⃣ En cada ronda, los participantes pueden hacer una oferta o pasar.  \n",
    "4️⃣ El sistema debe mostrar la oferta más alta tras cada ronda.  \n",
    "5️⃣ Si todos los participantes pasan en una ronda, la subasta finaliza.  \n",
    "6️⃣ El ganador es quien haya hecho la oferta más alta.  \n",
    "7️⃣ Al finalizar, se muestra el nombre del ganador y la cantidad ofertada.  \n",
    "8️⃣ Las ofertas deben ser mayores a la anterior por al menos una unidad.  \n",
    "\n",
    "## 📌 Ejemplo de ejecución:\n",
    "\n",
    "📦 Bienvenido al Simulador de Subasta 🧑‍⚖️  \n",
    "Ingrese el precio base del producto: 100  \n",
    "Ingrese el número de participantes: 3  \n",
    "\n",
    "👤 Nombre del participante 1: Ana  \n",
    "👤 Nombre del participante 2: Luis  \n",
    "👤 Nombre del participante 3: Marta  \n",
    "\n",
    "💰 Subasta iniciada con precio base de $100  \n",
    "\n",
    "📢 Ronda 1:  \n",
    "Ana, ingrese su oferta o 'paso': 110  \n",
    "Luis, ingrese su oferta o 'paso': paso  \n",
    "Marta, ingrese su oferta o 'paso': 120  \n",
    "➡️ Oferta más alta: Marta con $120  \n",
    "\n",
    "📢 Ronda 2:\n",
    "Ana, ingrese su oferta o 'paso': 130  \n",
    "Luis, ingrese su oferta o 'paso': 135  \n",
    "Marta, ingrese su oferta o 'paso': paso  \n",
    "➡️ Oferta más alta: Luis con $135  \n",
    "\n",
    "📢 Ronda 3:  \n",
    "Ana, ingrese su oferta o 'paso': paso  \n",
    "Luis, ingrese su oferta o 'paso': paso  \n",
    "Marta, ingrese su oferta o 'paso': paso  \n",
    "\n",
    "🎉 ¡La subasta ha terminado!  \n",
    "🏆 Ganador: Luis con una oferta de $135  \n",
    "\n",
    "## 🔍 Pistas:\n",
    "\n",
    "🔹 Usa una lista para registrar los nombres de los participantes.    \n",
    "🔹 Lleva un seguimiento de la oferta más alta y de quién la hizo.    \n",
    "🔹 Considera usar `input()` en un bucle por rondas hasta que todos digan \"paso\".  \n",
    "🔹 Valida que la nueva oferta sea mayor que la anterior.  \n",
    "🔹 Puedes usar un contador de \"pases consecutivos\" para detectar el final de la subasta.  \n",
    "🔹 Usa funciones para modularizar: `obtener_ofertas()`, `mostrar_resultado()`, etc.   "
   ]
  },
  {
   "cell_type": "code",
   "execution_count": 7,
   "id": "c4e16d6a-4625-4dc7-bd00-9853a5d1248d",
   "metadata": {},
   "outputs": [
    {
     "name": "stdout",
     "output_type": "stream",
     "text": [
      "📦 Bienvenido al Simulador de Subasta 🧑‍⚖️\n"
     ]
    },
    {
     "name": "stdin",
     "output_type": "stream",
     "text": [
      "Ingrese el precio base del producto:  100\n"
     ]
    },
    {
     "name": "stdout",
     "output_type": "stream",
     "text": [
      "💰 Subasta iniciada con precio base de $100\n"
     ]
    },
    {
     "name": "stdin",
     "output_type": "stream",
     "text": [
      "Ingrese el número de participantes (mínimo 3):  3\n",
      "👤 Nombre del participante 1:  Ana\n",
      "👤 Nombre del participante 2:  Luis\n",
      "👤 Nombre del participante 3:  Marta\n"
     ]
    },
    {
     "name": "stdout",
     "output_type": "stream",
     "text": [
      "\n",
      "📢 Ronda 1:\n"
     ]
    },
    {
     "name": "stdin",
     "output_type": "stream",
     "text": [
      "Ana, ingrese su oferta o 'paso':  110\n",
      "Luis, ingrese su oferta o 'paso':  paso\n",
      "Marta, ingrese su oferta o 'paso':  120\n"
     ]
    },
    {
     "name": "stdout",
     "output_type": "stream",
     "text": [
      "➡️ Oferta más alta: Marta con $120\n",
      "\n",
      "📢 Ronda 2:\n"
     ]
    },
    {
     "name": "stdin",
     "output_type": "stream",
     "text": [
      "Ana, ingrese su oferta o 'paso':  130\n",
      "Luis, ingrese su oferta o 'paso':  135\n",
      "Marta, ingrese su oferta o 'paso':  paso\n"
     ]
    },
    {
     "name": "stdout",
     "output_type": "stream",
     "text": [
      "➡️ Oferta más alta: Luis con $135\n",
      "\n",
      "📢 Ronda 3:\n"
     ]
    },
    {
     "name": "stdin",
     "output_type": "stream",
     "text": [
      "Ana, ingrese su oferta o 'paso':  paso\n",
      "Luis, ingrese su oferta o 'paso':  paso\n",
      "Marta, ingrese su oferta o 'paso':  paso\n"
     ]
    },
    {
     "name": "stdout",
     "output_type": "stream",
     "text": [
      "\n",
      "🎉 ¡La subasta ha terminado!\n",
      "🏆 Ganador: Luis con una oferta de $135\n"
     ]
    }
   ],
   "source": [
    "def obtener_ofertas(participantes, oferta_actual):\n",
    "    \"\"\"Función para obtener las ofertas de los participantes en una ronda.\"\"\"\n",
    "    pases_en_ronda = 0\n",
    "    nueva_oferta = oferta_actual\n",
    "    nuevo_ganador = None\n",
    "\n",
    "    for participante in participantes:\n",
    "        oferta = input(f\"{participante}, ingrese su oferta o 'paso': \").strip()\n",
    "        if oferta.lower() == 'paso':\n",
    "            pases_en_ronda += 1\n",
    "        elif oferta.isdigit():\n",
    "            valor = int(oferta)\n",
    "            if valor > oferta_actual:\n",
    "                nueva_oferta = valor\n",
    "                nuevo_ganador = participante\n",
    "            elif valor == oferta_actual:\n",
    "                print(f\"⚠️ La oferta de ${valor} ya es la actual. Debe superarla.\")\n",
    "            else:\n",
    "                print(f\"⚠️ La oferta debe ser mayor a ${oferta_actual}.\")\n",
    "        else:\n",
    "            print(\"⚠️ Entrada no válida. Escriba un número entero o 'paso'.\")\n",
    "\n",
    "    return nueva_oferta, nuevo_ganador, pases_en_ronda\n",
    "\n",
    "\n",
    "def simulador_subasta():\n",
    "    \"\"\"Función principal que simula una subasta en tiempo real.\"\"\"\n",
    "    print(\"📦 Bienvenido al Simulador de Subasta 🧑‍⚖️\")\n",
    "\n",
    "    # Definición del precio base con validación.\n",
    "    while True:\n",
    "        try:\n",
    "            precio_base = int(input(\"Ingrese el precio base del producto: \"))\n",
    "            if precio_base > 0:\n",
    "                break\n",
    "            print(\"⚠️ El precio base debe ser un número positivo.\")\n",
    "        except ValueError:\n",
    "            print(\"⚠️ Entrada inválida. Ingrese un número entero.\")\n",
    "\n",
    "    print(f\"💰 Subasta iniciada con precio base de ${precio_base}\")\n",
    "\n",
    "    # Registro de participantes con validación.\n",
    "    while True:\n",
    "        try:\n",
    "            num_participantes = int(input(\"Ingrese el número de participantes (mínimo 3): \"))\n",
    "            if num_participantes >= 3:\n",
    "                break\n",
    "            print(\"⚠️ Deben haber al menos 3 participantes.\")\n",
    "        except ValueError:\n",
    "            print(\"⚠️ Entrada inválida. Ingrese un número entero.\")\n",
    "\n",
    "    participantes = [input(f\"👤 Nombre del participante {i+1}: \") for i in range(num_participantes)]\n",
    "\n",
    "    oferta_actual = precio_base\n",
    "    ganador_actual = None\n",
    "    rondas = 0\n",
    "\n",
    "    while True:\n",
    "        print(f\"\\n📢 Ronda {rondas+1}:\")\n",
    "        nueva_oferta, nuevo_ganador, pases_en_ronda = obtener_ofertas(participantes, oferta_actual)\n",
    "\n",
    "        if nuevo_ganador:\n",
    "            oferta_actual = nueva_oferta\n",
    "            ganador_actual = nuevo_ganador\n",
    "            print(f\"➡️ Oferta más alta: {ganador_actual} con ${oferta_actual}\")\n",
    "        else:\n",
    "            if pases_en_ronda == len(participantes):\n",
    "                break  # Termina la subasta si todos pasan.\n",
    "            else:\n",
    "                print(\"⏭️ Nadie hizo una oferta válida, se continúa a la siguiente ronda.\")\n",
    "\n",
    "        rondas += 1\n",
    "\n",
    "    print(\"\\n🎉 ¡La subasta ha terminado!\")\n",
    "    if ganador_actual:\n",
    "        print(f\"🏆 Ganador: {ganador_actual} con una oferta de ${oferta_actual}\")\n",
    "    else:\n",
    "        print(\"⚠️ No hubo ofertas válidas. La subasta quedó desierta.\")\n",
    "\n",
    "# Ejecutar simulador\n",
    "simulador_subasta()\n"
   ]
  }
 ],
 "metadata": {
  "kernelspec": {
   "display_name": "Python 3 (ipykernel)",
   "language": "python",
   "name": "python3"
  },
  "language_info": {
   "codemirror_mode": {
    "name": "ipython",
    "version": 3
   },
   "file_extension": ".py",
   "mimetype": "text/x-python",
   "name": "python",
   "nbconvert_exporter": "python",
   "pygments_lexer": "ipython3",
   "version": "3.12.3"
  }
 },
 "nbformat": 4,
 "nbformat_minor": 5
}
