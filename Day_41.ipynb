{
 "cells": [
  {
   "cell_type": "markdown",
   "id": "4ab73a76-9be9-4c4d-b7d3-ca75d3269538",
   "metadata": {},
   "source": [
    "# 🧠 Reto 41: Calculadora de Conversión de Formato de Fechas 🧠\n",
    "\n",
    "## 🏆 Objetivo:\n",
    "Crear una calculadora que convierta una fecha dada en distintos formatos. Esto puede ser útil para estandarizar fechas en proyectos de análisis de datos o para facilitar la interoperabilidad entre sistemas que utilizan diferentes formatos.\n",
    "\n",
    "## 📝 Requisitos:\n",
    "\n",
    "1️⃣ El programa debe solicitar al usuario ingresar una fecha en un formato determinado (por ejemplo, DD/MM/AAAA).  \n",
    "2️⃣ El usuario debe poder seleccionar el formato de salida entre las siguientes opciones:  \n",
    "🔸 DD-MM-AAAA  \n",
    "🔸 MM/DD/AAAA  \n",
    "🔸 AAAA.MM.DD  \n",
    "🔸 DD de Mes de AAAA (por ejemplo, 03 de marzo de 2025)  \n",
    "3️⃣ El programa debe manejar errores cuando la fecha ingresada no tenga el formato correcto o sea inválida.  \n",
    "4️⃣ Utiliza la biblioteca datetime para manejar las conversiones de manera eficiente.  \n",
    "\n",
    "## 📌 Ejemplo de ejecución:\n",
    "\n",
    "\\>>> Ingrese la fecha (DD/MM/AAAA): 03/03/2025  \n",
    "\\>>> Seleccione el formato de salida:  \n",
    "1) DD-MM-AAAA  \n",
    "2) MM/DD/AAAA  \n",
    "3) AAAA.MM.DD  \n",
    "4) DD de Mes de AAAA\n",
    "\n",
    "Opción: 4  \n",
    "\n",
    "Resultado: 03 de marzo de 2025  \n",
    "\n",
    "## 🔍 Pistas:\n",
    "\n",
    "🔹 Utiliza la función `strptime` de la biblioteca `datetime` para convertir la fecha ingresada en un objeto `datetime`.  \n",
    "🔹 Utiliza `strftime` para formatear la fecha en la salida deseada.  \n",
    "🔹 Maneja los errores con bloques `try-except` para evitar que el programa se rompa con entradas incorrectas.  \n",
    "🔹 Puedes utilizar un diccionario para mapear los números de opción a los formatos de fecha, lo que hará el código más limpio y modular.  "
   ]
  },
  {
   "cell_type": "code",
   "execution_count": 13,
   "id": "83834c13-1a65-43f7-8d57-c07a955e2b5d",
   "metadata": {},
   "outputs": [],
   "source": [
    "from datetime import datetime\n",
    "import locale\n",
    "\n",
    "def format_date(input_date, option):\n",
    "    \"\"\"\n",
    "    Formats a given date string into one of multiple predefined formats.\n",
    "    :param input_date: The input date as a string (expected format: DD/MM/YYYY).\n",
    "    :param option: An integer representing the desired output format.\n",
    "    :return: A string representing the formatted date, or an error message.\n",
    "    \"\"\"\n",
    "    try:\n",
    "        # Convert the input date string into a datetime object\n",
    "        date_object = datetime.strptime(input_date, \"%d/%m/%Y\")\n",
    "        \n",
    "        # Map options to their respective formats\n",
    "        formats = {\n",
    "            1: \"%d-%m-%Y\",       # DD-MM-YYYY\n",
    "            2: \"%m/%d/%Y\",       # MM/DD/YYYY\n",
    "            3: \"%Y.%m.%d\",       # YYYY.MM.DD\n",
    "            4: \"%d of %B of %Y\"  # DD of Month of YYYY\n",
    "        }\n",
    "        \n",
    "        # Validate the selected option\n",
    "        if option not in formats:\n",
    "            raise ValueError(\"Invalid option selected.\")\n",
    "        \n",
    "        # Set locale to English for consistent month names\n",
    "        locale.setlocale(locale.LC_TIME, 'en_US.UTF-8')\n",
    "        \n",
    "        # Format the date using the selected format\n",
    "        formatted_date = date_object.strftime(formats[option])\n",
    "        return formatted_date\n",
    "    except ValueError as e:\n",
    "        return f\"Error: {e}\"\n"
   ]
  },
  {
   "cell_type": "code",
   "execution_count": 14,
   "id": "f51abdff-bba6-45d4-bbc8-365cf76c4be7",
   "metadata": {},
   "outputs": [
    {
     "name": "stdin",
     "output_type": "stream",
     "text": [
      "Enter the date (DD/MM/YYYY):  23/03/2025\n"
     ]
    },
    {
     "name": "stdout",
     "output_type": "stream",
     "text": [
      "Select the output format:\n",
      "1. DD-MM-YYYY\n",
      "2. MM/DD/YYYY\n",
      "3. YYYY.MM.DD\n",
      "4. DD of Month of YYYY\n"
     ]
    },
    {
     "name": "stdin",
     "output_type": "stream",
     "text": [
      "Option:  4\n"
     ]
    },
    {
     "name": "stdout",
     "output_type": "stream",
     "text": [
      "Result: 23 of March of 2025\n"
     ]
    }
   ],
   "source": [
    "# Prompt the user to input a date and select a format directly\n",
    "input_date = input(\"Enter the date (DD/MM/YYYY): \")\n",
    "\n",
    "print(\"Select the output format:\")\n",
    "print(\"1. DD-MM-YYYY\")\n",
    "print(\"2. MM/DD/YYYY\")\n",
    "print(\"3. YYYY.MM.DD\")\n",
    "print(\"4. DD of Month of YYYY\")\n",
    "\n",
    "try:\n",
    "    option = int(input(\"Option: \"))\n",
    "    result = format_date(input_date, option)\n",
    "    print(\"Result:\", result)\n",
    "except ValueError:\n",
    "    print(\"Error: Please enter a valid option (1-4).\")\n",
    "    "
   ]
  }
 ],
 "metadata": {
  "kernelspec": {
   "display_name": "Python 3 (ipykernel)",
   "language": "python",
   "name": "python3"
  },
  "language_info": {
   "codemirror_mode": {
    "name": "ipython",
    "version": 3
   },
   "file_extension": ".py",
   "mimetype": "text/x-python",
   "name": "python",
   "nbconvert_exporter": "python",
   "pygments_lexer": "ipython3",
   "version": "3.12.3"
  }
 },
 "nbformat": 4,
 "nbformat_minor": 5
}
