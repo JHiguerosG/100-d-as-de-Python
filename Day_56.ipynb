{
 "cells": [
  {
   "cell_type": "markdown",
   "id": "40d5b04d-4f8d-480b-8b5c-66eb04aaa866",
   "metadata": {},
   "source": [
    "# 🧠 Reto 56: Calculadora de Calorías por Alimento 🧠\n",
    "\n",
    "## 🏆 Objetivo:\n",
    "\n",
    "Crear una herramienta que permita al usuario ingresar diferentes alimentos consumidos y sus cantidades en gramos, y obtener como resultado el total de calorías ingeridas en esa comida.\n",
    "\n",
    "## 📝 Requisitos:\n",
    "\n",
    "1️⃣ El programa debe tener un diccionario interno con alimentos comunes y sus calorías por cada 100 gramos.  \n",
    "2️⃣ El usuario podrá ingresar múltiples alimentos (nombre del alimento y cantidad en gramos).  \n",
    "3️⃣ El programa debe verificar que el alimento ingresado esté en el diccionario.  \n",
    "4️⃣ Calcular y mostrar:  \n",
    "🔸 Calorías por alimento.  \n",
    "🔸 Total de calorías consumidas.  \n",
    "5️⃣ Manejar errores si el alimento no está en la base de datos o si la cantidad ingresada no es válida.  \n",
    "\n",
    "## 📌 Ejemplo de ejecución:\n",
    "\n",
    "🍽️ Calculadora de Calorías por Alimento 🍽️  \n",
    "\n",
    "Alimentos disponibles: arroz, pollo, manzana, pan, huevo  \n",
    "\n",
    "👉 Ingresa el nombre del alimento (o 'fin' para terminar): arroz  \n",
    "🥄 Ingresa la cantidad en gramos: 150  \n",
    "✅ arroz (150g): 165 calorías  \n",
    "\n",
    "👉 Ingresa el nombre del alimento (o 'fin' para terminar): manzana  \n",
    "🥄 Ingresa la cantidad en gramos: 100  \n",
    "✅ manzana (100g): 52 calorías  \n",
    "\n",
    "👉 Ingresa el nombre del alimento (o 'fin' para terminar): pizza  \n",
    "❌ 'pizza' no está en la base de datos. Prueba con otro alimento.  \n",
    "\n",
    "👉 Ingresa el nombre del alimento (o 'fin' para terminar): fin  \n",
    "\n",
    "🔥 Total de calorías consumidas: 217 calorías  \n",
    "\n",
    "## 🔍 Pistas:  \n",
    "🔹 Usa un `diccionario` como base de datos local con claves como `\"arroz\"` y valores como `110` (calorías por 100g).  \n",
    "🔹 Usa un bucle `while` para permitir múltiples entradas hasta que el usuario escriba `\"fin\"`.  \n",
    "🔹 Puedes almacenar cada resultado en una lista y luego sumar todas las calorías.  \n",
    "🔹 Agrega validación con `try-except` para detectar errores de entrada en la cantidad.  \n",
    "🔹 Utiliza funciones si quieres hacerlo más modular (opcional).  "
   ]
  },
  {
   "cell_type": "code",
   "execution_count": 2,
   "id": "fea566ba-b2ac-4ca9-b754-47065e7c69bb",
   "metadata": {},
   "outputs": [
    {
     "name": "stdout",
     "output_type": "stream",
     "text": [
      "🍽️ Food Calorie Calculator 🍽️\n",
      "Available foods: rice, chicken, apple, bread, egg\n",
      "\n"
     ]
    },
    {
     "name": "stdin",
     "output_type": "stream",
     "text": [
      "👉 Enter the name of the food (or 'end' to finish):  rice\n",
      "🥄 Enter the weight in grams:  150\n"
     ]
    },
    {
     "name": "stdout",
     "output_type": "stream",
     "text": [
      "✅ Rice (150g): 165.00 calories\n",
      "\n"
     ]
    },
    {
     "name": "stdin",
     "output_type": "stream",
     "text": [
      "👉 Enter the name of the food (or 'end' to finish):  chicken\n",
      "🥄 Enter the weight in grams:  200\n"
     ]
    },
    {
     "name": "stdout",
     "output_type": "stream",
     "text": [
      "✅ Chicken (200g): 330.00 calories\n",
      "\n"
     ]
    },
    {
     "name": "stdin",
     "output_type": "stream",
     "text": [
      "👉 Enter the name of the food (or 'end' to finish):  apple\n",
      "🥄 Enter the weight in grams:  0.5\n"
     ]
    },
    {
     "name": "stdout",
     "output_type": "stream",
     "text": [
      "✅ Apple (0g): 0.26 calories\n",
      "\n"
     ]
    },
    {
     "name": "stdin",
     "output_type": "stream",
     "text": [
      "👉 Enter the name of the food (or 'end' to finish):  end\n"
     ]
    },
    {
     "name": "stdout",
     "output_type": "stream",
     "text": [
      "\n",
      "----------------------------------------\n",
      "🔥 Total calories consumed: 495.26 calories\n",
      "----------------------------------------\n"
     ]
    }
   ],
   "source": [
    "def calorie_calculator():\n",
    "    \"\"\"\n",
    "    A program to calculate calories based on the user's input of food and its weight in grams.\n",
    "    The program uses a predefined dictionary of common foods and their calorie content per 100 grams.\n",
    "    It handles errors for invalid inputs and provides a summary of total calorie consumption.\n",
    "    \"\"\"\n",
    "    \n",
    "    # Dictionary with foods and their calories per 100 grams\n",
    "    food_calories = {\n",
    "        \"rice\": 110,\n",
    "        \"chicken\": 165,\n",
    "        \"apple\": 52,\n",
    "        \"bread\": 265,\n",
    "        \"egg\": 155\n",
    "    }\n",
    "    \n",
    "    print(\"🍽️ Food Calorie Calculator 🍽️\")\n",
    "    print(f\"Available foods: {', '.join(food_calories.keys())}\\n\")\n",
    "    \n",
    "    total_calories = 0  # Accumulator for total calories\n",
    "\n",
    "    while True:\n",
    "        # Prompt the user to enter the food name\n",
    "        food = input(\"👉 Enter the name of the food (or 'end' to finish): \").lower()\n",
    "        if food == \"end\":  # Exit the loop if the user types 'end'\n",
    "            break\n",
    "        \n",
    "        if food not in food_calories:  # Check if the food is in the dictionary\n",
    "            print(f\"❌ '{food}' is not in the database. Please try another food.\\n\")\n",
    "            continue\n",
    "        \n",
    "        try:\n",
    "            # Prompt the user to enter the weight in grams\n",
    "            quantity = float(input(\"🥄 Enter the weight in grams: \"))\n",
    "            if quantity <= 0:  # Validate that the weight is positive\n",
    "                raise ValueError(\"The weight must be greater than zero.\")\n",
    "        except ValueError as e:\n",
    "            print(f\"❌ Invalid input: {e}\\n\")\n",
    "            continue\n",
    "        \n",
    "        # Calculate calories for the given weight\n",
    "        calories = (food_calories[food] * quantity) / 100\n",
    "        total_calories += calories\n",
    "        print(f\"✅ {food.capitalize()} ({quantity:.0f}g): {calories:.2f} calories\\n\")\n",
    "\n",
    "    # Display the total calorie consumption\n",
    "    print(\"\\n\" + \"-\" * 40)\n",
    "    print(f\"🔥 Total calories consumed: {total_calories:.2f} calories\")\n",
    "    print(\"-\" * 40)\n",
    "\n",
    "# Run the function\n",
    "calorie_calculator()"
   ]
  }
 ],
 "metadata": {
  "kernelspec": {
   "display_name": "Python 3 (ipykernel)",
   "language": "python",
   "name": "python3"
  },
  "language_info": {
   "codemirror_mode": {
    "name": "ipython",
    "version": 3
   },
   "file_extension": ".py",
   "mimetype": "text/x-python",
   "name": "python",
   "nbconvert_exporter": "python",
   "pygments_lexer": "ipython3",
   "version": "3.12.3"
  }
 },
 "nbformat": 4,
 "nbformat_minor": 5
}
