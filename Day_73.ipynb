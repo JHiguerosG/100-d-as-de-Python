{
 "cells": [
  {
   "cell_type": "markdown",
   "id": "9977fd1d-43f4-4c1f-9041-ee3a8f4dd01b",
   "metadata": {},
   "source": [
    "# 🧠 Reto 73: Calculadora de Productividad en Reuniones 🧠\n",
    "\n",
    "## 🏆 Objetivo:\n",
    "\n",
    "Desarrollar una herramienta que permita calcular el costo estimado de una reunión en función del tiempo invertido y los salarios de los participantes, y que evalúe si fue productiva con base en una valoración final del usuario.\n",
    "\n",
    "## 📝 Requisitos:\n",
    "\n",
    "1️⃣ Solicitar al usuario:  \n",
    "🔸 La cantidad de participantes.  \n",
    "🔸 El salario mensual promedio de cada participante.  \n",
    "🔸 La duración de la reunión en horas.  \n",
    "🔸 Una puntuación de productividad de la reunión del 1 al 10.  \n",
    "2️⃣ Calcular:  \n",
    "🔸 El costo estimado de la reunión usando la fórmula:  \n",
    "`(salario mensual / horas laborales del mes) * duración * cantidad de personas`    \n",
    "🔸 Asume que un mes laboral tiene 160 horas.  \n",
    "3️⃣ Clasificar la reunión según el puntaje de productividad:  \n",
    "🔸 1 a 3: Poca productividad  \n",
    "🔸 4 a 6: Productividad regular  \n",
    "🔸 7 a 8: Buena productividad  \n",
    "🔸 9 a 10: Alta productividad  \n",
    "4️⃣ Mostrar al usuario:  \n",
    "🔸 El costo total estimado de la reunión.  \n",
    "🔸 La clasificación de productividad.  \n",
    "🔸 Un mensaje de reflexión sobre si valió la pena el costo en relación con la productividad.  \n",
    "\n",
    "## 📌 Ejemplo de ejecución:\n",
    "\n",
    "📅 Calculadora de Productividad en Reuniones  \n",
    "\n",
    "Ingrese la cantidad de participantes: 5    \n",
    "Ingrese el salario mensual promedio por participante (USD): 1500    \n",
    "Ingrese la duración de la reunión (en horas): 2  \n",
    "Califica la productividad de la reunión (1 a 10): 4\n",
    "\n",
    "🧾 Resultado:  \n",
    "\\- Costo total estimado de la reunión: $93.75  \n",
    "\\- Clasificación: Productividad regular  \n",
    "\\- ¿Valió la pena? 🤔 Podrías considerar hacer las reuniones más concisas o enfocadas.  \n",
    "\n",
    "🔍 Pistas:\n",
    "- Usa `input()` para capturar datos y `float()` para convertir a números reales.  \n",
    "- Define funciones para:  \n",
    "  - Calcular el costo total.  \n",
    "  - Clasificar la productividad.  \n",
    "  - Evaluar si valió la pena.  \n",
    "- Asegúrate de validar que la puntuación esté entre 1 y 10, y la duración no sea negativa.  \n",
    "- Puedes redondear el costo a dos decimales con `round(costo, 2)`.  "
   ]
  },
  {
   "cell_type": "code",
   "execution_count": 2,
   "id": "f01ee2fc-78ce-46e5-b026-179ca2ce8233",
   "metadata": {},
   "outputs": [
    {
     "name": "stdout",
     "output_type": "stream",
     "text": [
      "📅 Calculadora de Productividad en Reuniones\n"
     ]
    },
    {
     "name": "stdin",
     "output_type": "stream",
     "text": [
      "Ingrese la cantidad de participantes:  5\n",
      "Ingrese el salario mensual promedio por participante (USD):  1500\n",
      "Ingrese la duración de la reunión (en horas):  2\n",
      "Califica la productividad de la reunión (1 a 10):  4\n"
     ]
    },
    {
     "name": "stdout",
     "output_type": "stream",
     "text": [
      "\n",
      "📊 Resultado de la Evaluación de la Reunión:\n",
      "- Costo total estimado: $93.75\n",
      "- Clasificación de productividad: Productividad regular\n",
      "- Podrías optimizar ciertos aspectos para mejorar la efectividad de las reuniones.\n"
     ]
    }
   ],
   "source": [
    "# Función para calcular el costo total estimado de la reunión\n",
    "def calcular_costo(participantes, salario, duracion):\n",
    "    horas_laborales_mes = 160\n",
    "    costo_por_hora = salario / horas_laborales_mes\n",
    "    return round(costo_por_hora * duracion * participantes, 2)\n",
    "\n",
    "# Función para clasificar la productividad\n",
    "def clasificar_productividad(puntaje):\n",
    "    if 1 <= puntaje <= 3:\n",
    "        return \"Poca productividad\"\n",
    "    elif 4 <= puntaje <= 6:\n",
    "        return \"Productividad regular\"\n",
    "    elif 7 <= puntaje <= 8:\n",
    "        return \"Buena productividad\"\n",
    "    elif 9 <= puntaje <= 10:\n",
    "        return \"Alta productividad\"\n",
    "    else:\n",
    "        return \"Puntaje inválido\"\n",
    "\n",
    "# Función para evaluar si valió la pena\n",
    "def evaluar_productividad(clasificacion):\n",
    "    if clasificacion == \"Poca productividad\":\n",
    "        return \"¿Valió la pena? 🤔 Considera hacer las reuniones más concisas o enfocadas.\"\n",
    "    elif clasificacion == \"Productividad regular\":\n",
    "        return \"Podrías optimizar ciertos aspectos para mejorar la efectividad de las reuniones.\"\n",
    "    else:\n",
    "        return \"¡Buena o alta productividad! Sigue así.\"\n",
    "\n",
    "# Ejecución del programa\n",
    "print(\"📅 Calculadora de Productividad en Reuniones\")\n",
    "\n",
    "# Solicitar datos al usuario\n",
    "participantes = int(input(\"Ingrese la cantidad de participantes: \"))\n",
    "salario = float(input(\"Ingrese el salario mensual promedio por participante (USD): \"))\n",
    "duracion = float(input(\"Ingrese la duración de la reunión (en horas): \"))\n",
    "puntaje = int(input(\"Califica la productividad de la reunión (1 a 10): \"))\n",
    "\n",
    "# Validación de entradas\n",
    "if duracion <= 0 or not (1 <= puntaje <= 10):\n",
    "    print(\"Datos inválidos. Asegúrate de que la duración sea positiva y el puntaje esté entre 1 y 10.\")\n",
    "else:\n",
    "    # Realizar cálculos\n",
    "    costo_total = calcular_costo(participantes, salario, duracion)\n",
    "    clasificacion = clasificar_productividad(puntaje)\n",
    "    reflexion = evaluar_productividad(clasificacion)\n",
    "\n",
    "    # Mostrar resultados\n",
    "    print(\"\\n📊 Resultado de la Evaluación de la Reunión:\")\n",
    "    print(f\"- Costo total estimado: ${costo_total}\")\n",
    "    print(f\"- Clasificación de productividad: {clasificacion}\")\n",
    "    print(f\"- {reflexion}\")\n"
   ]
  }
 ],
 "metadata": {
  "kernelspec": {
   "display_name": "Python 3 (ipykernel)",
   "language": "python",
   "name": "python3"
  },
  "language_info": {
   "codemirror_mode": {
    "name": "ipython",
    "version": 3
   },
   "file_extension": ".py",
   "mimetype": "text/x-python",
   "name": "python",
   "nbconvert_exporter": "python",
   "pygments_lexer": "ipython3",
   "version": "3.12.3"
  }
 },
 "nbformat": 4,
 "nbformat_minor": 5
}
