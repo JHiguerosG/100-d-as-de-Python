{
 "cells": [
  {
   "cell_type": "markdown",
   "id": "2ca9f9fd-7d70-4a44-b83d-d267164ecc4d",
   "metadata": {},
   "source": [
    "# 🔥 Reto 9: Números Romanos\n",
    "\n",
    "## 🏆 Objetivo:\n",
    "Crea un programa en Python que convierta un número entero en su representación en números romanos.\n",
    "\n",
    "\n",
    "## 📝 Reglas:\n",
    "\n",
    "1. El número debe estar entre 1 y 3999.  \n",
    "2. Debes manejar los casos especiales como 4 → IV, 9 → IX, 40 → XL, etc.  \n",
    "3. El programa debe solicitar al usuario un número y devolver su equivalente en números romanos.  \n",
    "\n",
    "## 📌 Ejemplos de ejecución:\n",
    "\n",
    "\\>>> Enter a number (1-3999): 2024  \n",
    "✅ The number 2024 in Roman numerals is: \"MMXXIV\"  \n"
   ]
  },
  {
   "cell_type": "code",
   "execution_count": 4,
   "id": "a73886d2-8ad2-4066-a0ee-387c7f7c82c9",
   "metadata": {},
   "outputs": [],
   "source": [
    "# Dictionary to map integer values to Roman numerals\n",
    "roman_numerals = {\n",
    "    1: \"I\", 4: \"IV\", 5: \"V\", 9: \"IX\", 10: \"X\", \n",
    "    40: \"XL\", 50: \"L\", 90: \"XC\", 100: \"C\", \n",
    "    400: \"CD\", 500: \"D\", 900: \"CM\", 1000: \"M\"\n",
    "}\n"
   ]
  },
  {
   "cell_type": "code",
   "execution_count": 5,
   "id": "3b9a6e4d-db8f-4d33-a5e6-36392adfbdd3",
   "metadata": {},
   "outputs": [],
   "source": [
    "def convert_to_roman(num):\n",
    "    \"\"\"\n",
    "    Convert an integer number (1 to 3999) into a Roman numeral.\n",
    "    \n",
    "    :param num: Integer number to be converted.\n",
    "    :return: String with the number in Roman numeral format.\n",
    "    \"\"\"\n",
    "    roman_numerals_list = []  # List to store Roman numeral components\n",
    "    original_number = num  # Store the original number for the final message\n",
    "\n",
    "    # Iterate over the Roman numeral keys in descending order\n",
    "    for key in sorted(roman_numerals.keys(), reverse=True):\n",
    "        # While the number is greater than or equal to the current key\n",
    "        while num >= key:\n",
    "            roman_numerals_list.append(roman_numerals[key])  # Add the Roman numeral\n",
    "            num -= key  # Subtract the corresponding value from the number\n",
    "\n",
    "    # Return the formatted result\n",
    "    return f'The number {original_number} in Roman numerals is: {\"\".join(roman_numerals_list)}'\n"
   ]
  },
  {
   "cell_type": "code",
   "execution_count": 7,
   "id": "8a92b2a0-06b6-4502-a7b1-236e75741f05",
   "metadata": {},
   "outputs": [
    {
     "name": "stdin",
     "output_type": "stream",
     "text": [
      ">>> Enter a positive integer (1 to 3999):  2024\n"
     ]
    },
    {
     "name": "stdout",
     "output_type": "stream",
     "text": [
      "The number 2024 in Roman numerals is: MMXXIV\n"
     ]
    }
   ],
   "source": [
    "# Loop to get user input\n",
    "while True:\n",
    "    try:\n",
    "        num = int(input('>>> Enter a positive integer (1 to 3999): '))\n",
    "        if num < 1 or num > 3999:\n",
    "            print('❌ Out of range. Please enter a number between 1 and 3999.')\n",
    "            continue\n",
    "        break\n",
    "    except ValueError:\n",
    "        print('❌ Invalid input. Please enter a valid integer.')\n",
    "\n",
    "# Print the result\n",
    "print(convert_to_roman(num))\n"
   ]
  }
 ],
 "metadata": {
  "kernelspec": {
   "display_name": "Python 3 (ipykernel)",
   "language": "python",
   "name": "python3"
  },
  "language_info": {
   "codemirror_mode": {
    "name": "ipython",
    "version": 3
   },
   "file_extension": ".py",
   "mimetype": "text/x-python",
   "name": "python",
   "nbconvert_exporter": "python",
   "pygments_lexer": "ipython3",
   "version": "3.12.3"
  }
 },
 "nbformat": 4,
 "nbformat_minor": 5
}
