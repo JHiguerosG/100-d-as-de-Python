{
 "cells": [
  {
   "cell_type": "markdown",
   "id": "da46d3cb-866f-4b96-b30f-af8a97c64e90",
   "metadata": {},
   "source": [
    "# 🧠 Reto 49: Conversor de Texto a Voz 🧠\n",
    "\n",
    "## 🏆 Objetivo:\n",
    "\n",
    "Crear un programa que convierta texto en voz utilizando una librería de síntesis de voz en Python. El programa debe permitir al usuario ingresar un texto y reproducirlo en audio.\n",
    "\n",
    "## 📝 Requisitos:\n",
    "1️⃣ El programa debe solicitar al usuario que ingrese un texto.  \n",
    "2️⃣ Utilizar una librería como `pyttsx3` para convertir el texto en voz.  \n",
    "3️⃣ Permitir que el usuario elija entre diferentes idiomas (español o inglés).  \n",
    "4️⃣ Opcional: Guardar el audio generado en un archivo `.mp3` o `.wav`.  \n",
    "\n",
    "## 📌 Ejemplo de ejecución:\n",
    "\n",
    "📝 Conversor de Texto a Voz 🗣️  \n",
    "Ingrese el texto que desea convertir en voz: Hola, bienvenido a la conversión de texto a voz.  \n",
    "Seleccione el idioma:  \n",
    "0 Español  \n",
    "1 Inglés  \n",
    "Opción: 1  \n",
    "\n",
    "🔊 Reproduciendo el audio...  \n",
    "\n",
    "(En este punto, se escuchará la voz diciendo el texto ingresado.)  \n",
    "\n",
    "## 🔍 Pistas:\n",
    "💡 Instala la librería `pyttsx3` con `pip install pyttsx3`.  \n",
    "💡 Usa el método `say()` para convertir texto en voz y `runAndWait()` para reproducirlo.  \n",
    "💡 Puedes obtener las voces disponibles con `engine.getProperty('voices')` y cambiar la voz con `engine.setProperty('voice', voice_id)`.  \n",
    "💡 Si deseas guardar el audio, puedes explorar la librería `gTTS` en lugar de `pyttsx3`.  "
   ]
  },
  {
   "cell_type": "code",
   "execution_count": 1,
   "id": "a1b1d70e-0766-4e2c-9b00-53fa6b95803b",
   "metadata": {},
   "outputs": [],
   "source": [
    "# pip install pyttsx3\n",
    "import pyttsx3"
   ]
  },
  {
   "cell_type": "code",
   "execution_count": 41,
   "id": "35e0f4e1-bc37-4cfe-af40-bac282f551c8",
   "metadata": {},
   "outputs": [],
   "source": [
    "def text_to_voice(text, language, save_option):\n",
    "    \"\"\"\n",
    "    Converts text into voice using pyttsx3. Allows selection of language (Spanish or English)\n",
    "    and the output format (play audio, save as MP3, or save as WAV).\n",
    "\n",
    "    Parameters:\n",
    "        text (str): The text to be converted into voice.\n",
    "        language (int): The selected language (0 for Spanish, 1 for English).\n",
    "        save_option (str): Output option (1 for play audio, 2 for save as MP3, 3 for save as WAV).\n",
    "    \"\"\"\n",
    "    # Initialize the speech engine\n",
    "    engine = pyttsx3.init()\n",
    "    \n",
    "    # Retrieve available voices\n",
    "    voices = engine.getProperty('voices')\n",
    "    \n",
    "    # Find the appropriate voice for Spanish or English\n",
    "    voice_id = None\n",
    "    for voice in voices:\n",
    "        if language == 0 and \"spanish\" in voice.name.lower():\n",
    "            voice_id = voice.id\n",
    "            break\n",
    "        elif language == 1 and \"english\" in voice.name.lower():\n",
    "            voice_id = voice.id\n",
    "            break\n",
    "\n",
    "    if voice_id is None:\n",
    "        print(\"Error: No suitable voice found.\")\n",
    "        return\n",
    "\n",
    "    # Configure voice, speed, and volume\n",
    "    engine.setProperty('voice', voice_id)\n",
    "    engine.setProperty('rate', 150)  # Speed\n",
    "    engine.setProperty('volume', 0.9)  # Volume (range: 0.0 to 1.0)\n",
    "\n",
    "    # Output options\n",
    "    if save_option == \"1\":\n",
    "        engine.say(text)\n",
    "        print(\"🔊 Playing the audio...\")\n",
    "        engine.runAndWait()\n",
    "    elif save_option == \"2\":\n",
    "        engine.save_to_file(text, 'output.mp3')\n",
    "        engine.runAndWait()\n",
    "        print(\"✅ File saved as 'output.mp3'\")\n",
    "    elif save_option == \"3\":\n",
    "        engine.save_to_file(text, 'output.wav')\n",
    "        engine.runAndWait()\n",
    "        print(\"✅ File saved as 'output.wav'\")\n"
   ]
  },
  {
   "cell_type": "code",
   "execution_count": 46,
   "id": "86a64006-becb-435b-9384-2aee37f2c109",
   "metadata": {},
   "outputs": [
    {
     "name": "stdin",
     "output_type": "stream",
     "text": [
      "Enter the text you want to convert to voice:  ¿Por qué los usuarios de Excel y especialmente los profesionales de finanzas necesitan aprender Python? Amo Microsoft Excel. Es (casi) la herramienta más valiosa de mi arsenal para el análisis de datos y modelación financiera. Bueno, casi.\tPero a pesar de lo poderoso que es Excel, muchas veces había deseado poder hacer más, especialmente cuando llegué a los ‘límites’ de Excel, y si trabaja con Excel todos los días, notará que hay bastantes limitaciones de Excel que fácilmente pueden convertirse en una tortura. No estoy aquí para intentar que Excel se vea mal, no, Excel sigue siendo la herramienta más popular para la manipulación de datos, aunque a una escala limitada. Si usa Excel para análisis de datos simples e informes de tableros de control simples, puede arreglárselas fácilmente sin preocupaciones. Pero si ha llegado al punto en el que desea poder automatizar sus informes, manipular conjuntos de datos mucho más grandes con mejor velocidad y menos arrastre, o realizar cálculos más potentes, lo más recomendable es que siga leyendo este capítulo.\n",
      "Select the language:\n",
      "0 Spanish\n",
      "1 English\n",
      " 0\n",
      "Choose an option:\n",
      "1. Play audio\n",
      "2. Save as MP3\n",
      "3. Save as WAV\n",
      " 1\n"
     ]
    },
    {
     "name": "stdout",
     "output_type": "stream",
     "text": [
      "🔊 Playing the audio...\n"
     ]
    }
   ],
   "source": [
    "# User input loop\n",
    "while True:\n",
    "    text = input('Enter the text you want to convert to voice: ').strip()\n",
    "    if not text:\n",
    "        print(\"Error: The text cannot be empty.\")\n",
    "        continue\n",
    "\n",
    "    language = input('Select the language:\\n0 Spanish\\n1 English\\n').strip()\n",
    "    if language not in ['0', '1']:\n",
    "        print(\"Error: You must choose 0 for Spanish or 1 for English.\")\n",
    "        continue\n",
    "\n",
    "    save_option = input(\"Choose an option:\\n1. Play audio\\n2. Save as MP3\\n3. Save as WAV\\n\").strip()\n",
    "    if save_option not in ['1', '2', '3']:\n",
    "        print(\"Error: Invalid option.\")\n",
    "        continue\n",
    "\n",
    "    break\n",
    "\n",
    "text_to_voice(text, int(language), save_option)\n"
   ]
  }
 ],
 "metadata": {
  "kernelspec": {
   "display_name": "Python 3 (ipykernel)",
   "language": "python",
   "name": "python3"
  },
  "language_info": {
   "codemirror_mode": {
    "name": "ipython",
    "version": 3
   },
   "file_extension": ".py",
   "mimetype": "text/x-python",
   "name": "python",
   "nbconvert_exporter": "python",
   "pygments_lexer": "ipython3",
   "version": "3.12.3"
  }
 },
 "nbformat": 4,
 "nbformat_minor": 5
}
