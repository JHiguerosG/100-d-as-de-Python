{
 "cells": [
  {
   "cell_type": "markdown",
   "id": "c93effa3-d4ed-4212-8493-1e592df914cf",
   "metadata": {},
   "source": [
    "# 🎟️ Reto 94: Simulador de Tómbola de Beneficencia 🎟️\n",
    "\n",
    "## 🏆 Objetivo:\n",
    "\n",
    "Desarrollar un simulador interactivo de una `tómbola de beneficencia`, donde múltiples boletos se asignan a diferentes participantes y se eligen ganadores al azar. El sistema debe permitir registrar participantes, generar boletos únicos, simular un sorteo, y mostrar a los ganadores de forma clara y justa.\n",
    "\n",
    "## 📝 Requisitos:\n",
    "\n",
    "1️⃣ El programa debe permitir registrar participantes con su `nombre completo`.  \n",
    "2️⃣ A cada participante se le deben asignar `N boletos únicos` (donde N puede variar por persona).  \n",
    "3️⃣ Todos los boletos deben tener un `código único y legible` (ej: `A21C5`, `F92Z7`).  \n",
    "4️⃣ El usuario debe poder indicar cuántos `ganadores` habrá.  \n",
    "5️⃣ Los boletos deben ser sorteados `aleatoriamente` para seleccionar los ganadores.  \n",
    "6️⃣ Mostrar:  \n",
    "🔸 El listado de todos los participantes con sus boletos.  \n",
    "🔸 El listado de boletos ganadores junto con el nombre del participante.  \n",
    "7️⃣ Evitar duplicación de boletos o ganadores.  \n",
    "8️⃣ Permitir una opción para simular otro sorteo nuevo sin cerrar el programa.  \n",
    "\n",
    "## 📌 Ejemplo de ejecución:\n",
    "\n",
    "📋 Registro de participantes  \n",
    "Nombre del participante: Ana Pérez  \n",
    "Cantidad de boletos: 3  \n",
    "\n",
    "Nombre del participante: Carlos Juárez  \n",
    "Cantidad de boletos: 2  \n",
    "\n",
    "Nombre del participante: Laura Méndez  \n",
    "Cantidad de boletos: 5  \n",
    "\n",
    "¿Deseas registrar otro participante? (s/n): n  \n",
    "\n",
    "🎰 Sorteo de Tómbola  \n",
    "¿Cuántos ganadores quieres seleccionar?: 3  \n",
    "\n",
    "🎉 ¡Ganadores!  \n",
    "1\\. Boleto: A21C5 - Ana Pérez  \n",
    "2. Boleto: F9ZK1 - Laura Méndez  \n",
    "3. Boleto: G8X33 - Carlos Juárez  \n",
    "\n",
    "¿Deseas realizar otro sorteo? (s/n): n  \n",
    "Gracias por participar.  \n",
    "\n",
    "## 🔍 Pistas:\n",
    "\n",
    "🔹 Usa `random.sample()` para seleccionar boletos sin repetir.  \n",
    "🔹 Usa un diccionario para mapear boletos a nombres.  \n",
    "🔹 Genera códigos únicos alfanuméricos de longitud fija con letras y números.  \n",
    "🔹 Revisa posibles conflictos: boletos duplicados, menos boletos que ganadores, etc.  \n",
    "🔹 Considera envolver el flujo del programa en un bucle principal para permitir múltiples sorteos.  "
   ]
  },
  {
   "cell_type": "code",
   "execution_count": 6,
   "id": "ac112bda-4e02-4d42-a559-f9ad962fd015",
   "metadata": {},
   "outputs": [
    {
     "name": "stdin",
     "output_type": "stream",
     "text": [
      "¿Cuántos participantes deseas registrar?  3\n"
     ]
    },
    {
     "name": "stdout",
     "output_type": "stream",
     "text": [
      "\n",
      "Participante #1:\n"
     ]
    },
    {
     "name": "stdin",
     "output_type": "stream",
     "text": [
      "  Nombre del participante:  Ana Pérez\n",
      "  ¿Cuántos boletos desea?  3\n"
     ]
    },
    {
     "name": "stdout",
     "output_type": "stream",
     "text": [
      "\n",
      "Participante #2:\n"
     ]
    },
    {
     "name": "stdin",
     "output_type": "stream",
     "text": [
      "  Nombre del participante:  Carlos Juárez\n",
      "  ¿Cuántos boletos desea?  2\n"
     ]
    },
    {
     "name": "stdout",
     "output_type": "stream",
     "text": [
      "\n",
      "Participante #3:\n"
     ]
    },
    {
     "name": "stdin",
     "output_type": "stream",
     "text": [
      "  Nombre del participante:  Laura Méndez\n",
      "  ¿Cuántos boletos desea?  5\n"
     ]
    },
    {
     "name": "stdout",
     "output_type": "stream",
     "text": [
      "\n",
      "🎟 Participantes registrados:\n",
      "Ana Pérez: GARVM, ESWZB, 4688B\n",
      "Carlos Juárez: BFPRC, WBPOE\n",
      "Laura Méndez: 4J117, 69K73, ONZ4O, 10RZ9, LKFRI\n"
     ]
    },
    {
     "name": "stdin",
     "output_type": "stream",
     "text": [
      "\n",
      "¿Cuántos ganadores deseas seleccionar (máx 10)?  3\n"
     ]
    },
    {
     "name": "stdout",
     "output_type": "stream",
     "text": [
      "\n",
      "🎉 ¡Ganadores del sorteo!\n",
      "1. Boleto: LKFRI - Laura Méndez\n",
      "2. Boleto: BFPRC - Carlos Juárez\n",
      "3. Boleto: 69K73 - Laura Méndez\n"
     ]
    },
    {
     "name": "stdin",
     "output_type": "stream",
     "text": [
      "\n",
      "¿Deseas realizar otro sorteo? (s/n):  n\n"
     ]
    },
    {
     "name": "stdout",
     "output_type": "stream",
     "text": [
      "Gracias por participar.\n"
     ]
    }
   ],
   "source": [
    "import random\n",
    "import string\n",
    "\n",
    "class Tombola:\n",
    "    def __init__(self):\n",
    "        self.participantes = {}\n",
    "        self.boletos_entregados = set()\n",
    "\n",
    "    def generar_boletos(self, cantidad):\n",
    "        nuevos_boletos = set()\n",
    "        intentos = 0\n",
    "        while len(nuevos_boletos) < cantidad:\n",
    "            if intentos > 1000:\n",
    "                raise Exception(\"No se pudieron generar suficientes boletos únicos.\")\n",
    "            boleto = ''.join(random.choices(string.ascii_uppercase + string.digits, k=5))\n",
    "            if boleto not in self.boletos_entregados:\n",
    "                nuevos_boletos.add(boleto)\n",
    "                self.boletos_entregados.add(boleto)\n",
    "            intentos += 1\n",
    "        return list(nuevos_boletos)\n",
    "\n",
    "    def registrar_participante(self, nombre, cantidad_boletos):\n",
    "        if not nombre.strip():\n",
    "            print(\"❌ El nombre no puede estar vacío.\")\n",
    "            return\n",
    "        if cantidad_boletos <= 0:\n",
    "            print(\"❌ La cantidad de boletos debe ser mayor a cero.\")\n",
    "            return\n",
    "        if nombre in self.participantes:\n",
    "            print(f\"⚠️ {nombre} ya está registrado.\")\n",
    "        else:\n",
    "            boletos = self.generar_boletos(cantidad_boletos)\n",
    "            self.participantes[nombre] = boletos\n",
    "\n",
    "    def mostrar_participantes(self):\n",
    "        print(\"\\n🎟 Participantes registrados:\")\n",
    "        for nombre, boletos in self.participantes.items():\n",
    "            print(f\"{nombre}: {', '.join(boletos)}\")\n",
    "\n",
    "    def realizar_sorteo(self, num_ganadores):\n",
    "        todos_boletos = {boleto: nombre for nombre, boletos in self.participantes.items() for boleto in boletos}\n",
    "        \n",
    "        if num_ganadores > len(todos_boletos):\n",
    "            print(\"❌ No hay suficientes boletos para elegir esa cantidad de ganadores.\")\n",
    "            return\n",
    "\n",
    "        boletos_ganadores = random.sample(list(todos_boletos.keys()), num_ganadores)\n",
    "        \n",
    "        print(\"\\n🎉 ¡Ganadores del sorteo!\")\n",
    "        for i, boleto in enumerate(boletos_ganadores, 1):\n",
    "            print(f\"{i}. Boleto: {boleto} - {todos_boletos[boleto]}\")\n",
    "\n",
    "tombola = Tombola()\n",
    "\n",
    "try:\n",
    "    cantidad_participantes = int(input(\"¿Cuántos participantes deseas registrar? \"))\n",
    "    for i in range(cantidad_participantes):\n",
    "        print(f\"\\nParticipante #{i+1}:\")\n",
    "        nombre = input(\"  Nombre del participante: \")\n",
    "        boletos = int(input(\"  ¿Cuántos boletos desea? \"))\n",
    "        tombola.registrar_participante(nombre, boletos)\n",
    "\n",
    "    tombola.mostrar_participantes()\n",
    "\n",
    "    total_boletos = sum(len(b) for b in tombola.participantes.values())\n",
    "    \n",
    "    while True:\n",
    "        while True:\n",
    "            try:\n",
    "                num_ganadores = int(input(f\"\\n¿Cuántos ganadores deseas seleccionar (máx {total_boletos})? \"))\n",
    "                if 0 < num_ganadores <= total_boletos:\n",
    "                    break\n",
    "                else:\n",
    "                    print(\"❌ Número inválido. Intenta nuevamente.\")\n",
    "            except ValueError:\n",
    "                print(\"❌ Entrada inválida. Escribe un número entero.\")\n",
    "\n",
    "        tombola.realizar_sorteo(num_ganadores)\n",
    "\n",
    "        repetir = input(\"\\n¿Deseas realizar otro sorteo? (s/n): \").strip().lower()\n",
    "        if repetir != 's':\n",
    "            print(\"Gracias por participar.\")\n",
    "            break\n",
    "\n",
    "except ValueError:\n",
    "    print(\"❌ Entrada inválida. Usa solo números enteros.\")\n"
   ]
  }
 ],
 "metadata": {
  "kernelspec": {
   "display_name": "Python 3 (ipykernel)",
   "language": "python",
   "name": "python3"
  },
  "language_info": {
   "codemirror_mode": {
    "name": "ipython",
    "version": 3
   },
   "file_extension": ".py",
   "mimetype": "text/x-python",
   "name": "python",
   "nbconvert_exporter": "python",
   "pygments_lexer": "ipython3",
   "version": "3.12.3"
  }
 },
 "nbformat": 4,
 "nbformat_minor": 5
}
