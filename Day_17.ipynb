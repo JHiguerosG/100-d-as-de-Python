{
 "cells": [
  {
   "cell_type": "markdown",
   "id": "39ebf71e-f4c9-4212-9a46-87bfd456ef79",
   "metadata": {},
   "source": [
    "# 🔥 Reto 17: Contador de Vocales y Consonantes 🔥\n",
    "\n",
    "## 🏆 Objetivo:\n",
    "\n",
    "Escribe un programa en Python que reciba una cadena de texto ingresada por el usuario y cuente cuántas vocales y consonantes tiene.\n",
    "\n",
    "## 📝 Requisitos:\n",
    "\n",
    "1️⃣ Ignorar espacios, números y caracteres especiales.  \n",
    "2️⃣ Contar tanto mayúsculas como minúsculas.  \n",
    "3️⃣ Mostrar el número total de vocales y consonantes.  \n",
    "4️⃣ Si no hay vocales o consonantes, indicarlo.  \n",
    "\n",
    "## 📌 Ejemplo de ejecución:\n",
    "\n",
    "/>>> Enter a text: Python is amazing!  \n",
    "Vowels: 5  \n",
    "Consonants: 10  \n",
    "\n",
    "## 🔍 Pistas:\n",
    "\n",
    "🔹 Puedes usar isalpha() para verificar si un carácter es una letra.  \n",
    "🔹 Usa un conjunto o lista para definir las vocales: {'a', 'e', 'i', 'o', 'u'}.  \n",
    "🔹 Usa lower() para manejar mayúsculas y minúsculas de manera uniforme.  "
   ]
  },
  {
   "cell_type": "code",
   "execution_count": 20,
   "id": "e6240896-745d-4034-9b07-7602f54c45b4",
   "metadata": {},
   "outputs": [],
   "source": [
    "import re\n",
    "\n",
    "def vowels_and_consonants_counter(text):\n",
    "    '''\n",
    "    Counts the number of vowels and consonants in a given text.\n",
    "\n",
    "    :param text: A string input provided by the user.\n",
    "    :return: The number of vowels and the number of consonants in the string.\n",
    "    '''\n",
    "\n",
    "    # Remove non-alphanumeric characters and convert to lowercase\n",
    "    text_cleaned = re.sub(r\"[^\\w\\s]\", '', text).lower() \n",
    "    vowels = {'a', 'e', 'i', 'o', 'u'}\n",
    "    count_vowels = []\n",
    "    count_consonants = []\n",
    "    \n",
    "    # Iterate through each character in the cleaned text\n",
    "    for char in text_cleaned:\n",
    "        if not char.isdigit() and char != ' ':\n",
    "            if char in vowels:\n",
    "                count_vowels.append(char)\n",
    "            else:\n",
    "                count_consonants.append(char)\n",
    "\n",
    "    # Return the counts of vowels and consonants\n",
    "    return len(count_vowels), len(count_consonants)\n"
   ]
  },
  {
   "cell_type": "code",
   "execution_count": 21,
   "id": "d29659fd-f6f0-4c00-a38e-39dc01e72cf9",
   "metadata": {},
   "outputs": [
    {
     "name": "stdin",
     "output_type": "stream",
     "text": [
      ">>> Enter a text (or type \"q\" to quit):  Hello world!\n"
     ]
    },
    {
     "name": "stdout",
     "output_type": "stream",
     "text": [
      "Vowels: 3\n",
      "Consonants: 7\n"
     ]
    },
    {
     "name": "stdin",
     "output_type": "stream",
     "text": [
      ">>> Enter a text (or type \"q\" to quit):  Python is amazing!\n"
     ]
    },
    {
     "name": "stdout",
     "output_type": "stream",
     "text": [
      "Vowels: 5\n",
      "Consonants: 10\n"
     ]
    },
    {
     "name": "stdin",
     "output_type": "stream",
     "text": [
      ">>> Enter a text (or type \"q\" to quit):  q\n"
     ]
    },
    {
     "name": "stdout",
     "output_type": "stream",
     "text": [
      "Program terminated.\n"
     ]
    }
   ],
   "source": [
    "while True:\n",
    "    user_input = input('>>> Enter a text (or type \"q\" to quit): ')\n",
    "    \n",
    "    if user_input.lower() == 'q':  # Convert to lowercase only for comparison\n",
    "        print('Program terminated.')\n",
    "        break\n",
    "\n",
    "    else:\n",
    "        # Call the function to count vowels and consonants\n",
    "        vowels, consonants = vowels_and_consonants_counter(user_input) \n",
    "        # Print the results\n",
    "        print(f'Vowels: {vowels}')\n",
    "        print(f'Consonants: {consonants}')\n"
   ]
  }
 ],
 "metadata": {
  "kernelspec": {
   "display_name": "Python 3 (ipykernel)",
   "language": "python",
   "name": "python3"
  },
  "language_info": {
   "codemirror_mode": {
    "name": "ipython",
    "version": 3
   },
   "file_extension": ".py",
   "mimetype": "text/x-python",
   "name": "python",
   "nbconvert_exporter": "python",
   "pygments_lexer": "ipython3",
   "version": "3.12.3"
  }
 },
 "nbformat": 4,
 "nbformat_minor": 5
}
