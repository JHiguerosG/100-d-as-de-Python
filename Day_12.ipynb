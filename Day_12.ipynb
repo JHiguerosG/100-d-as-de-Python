{
 "cells": [
  {
   "cell_type": "markdown",
   "id": "8a41f31c-b538-4fd5-9c4a-bd9c0f3fce27",
   "metadata": {},
   "source": [
    "# 🔥 Reto 12: Generador de Contraseñas Seguras 🔥\n",
    "\n",
    "## 🏆 Objetivo:\n",
    "Ahora que ya validamos contraseñas en el reto anterior, vamos a crear un generador de contraseñas seguras. \n",
    "\n",
    "## 📝 Requisitos del programa:  \n",
    "\n",
    "1. Debe generar contraseñas de longitud personalizada (mínimo 8 caracteres).  \n",
    "2. La contraseña debe contener:  \n",
    "🔹 Al menos una letra minúscula.  \n",
    "🔹 Al menos una letra mayúscula.  \n",
    "🔹 Al menos un número.  \n",
    "🔹 Al menos un carácter especial.  \n",
    "3. El usuario puede elegir si quiere una contraseña sólo con letras y números o si quiere incluir caracteres especiales.  \n",
    "4. Mostrar la contraseña generada en pantalla.  \n",
    "\n",
    "## 🔍 Pistas:\n",
    "\n",
    "1. Usa la librería random para seleccionar caracteres al azar.  \n",
    "2. Usa string.ascii_letters, string.digits y string.punctuation para obtener listas de caracteres.  \n",
    "3. Asegúrate de que la contraseña generada cumpla con todas las condiciones.\n",
    "\n",
    "### Ejemplo 1: Generar una contraseña con caracteres especiales  \n",
    "\n",
    "\\>>> Enter the desired password length (minimum 8): 12  \n",
    "\\>>> Include special characters? (yes/no): yes  \n",
    "\n",
    "✅ Generated secure password: P@5gT9#mL&xD  \n",
    "\n",
    "### Ejemplo 2: Generar una contraseña solo con letras y números  \n",
    "\n",
    "\\>>> Enter the desired password length (minimum 8): 10  \n",
    "\\>>> Include special characters? (yes/no): no  \n",
    "\n",
    "✅ Generated secure password: A9tL5yX2bM\n",
    "\n",
    "\n",
    "## Notas: \n",
    "\n",
    "🔹 Si el usuario ingresa un número menor a 8, el programa debe indicarle que la longitud mínima es de 8 y pedirle que ingrese un nuevo valor.  \n",
    "🔹 Si el usuario responde algo inválido a la pregunta sobre caracteres especiales, se le debe pedir que ingrese \"yes\" o \"no\".  "
   ]
  },
  {
   "cell_type": "code",
   "execution_count": 95,
   "id": "784d7631-ae63-419f-90b7-c7ce74a80a5b",
   "metadata": {},
   "outputs": [],
   "source": [
    "import string\n",
    "import random\n",
    "\n",
    "symbols = list(string.punctuation) # Create a list of punctuation symbols\n",
    "numbers = list(string.digits) # Create a list of digits\n",
    "uppercase_letters = list(string.ascii_uppercase) # Create a list of uppercase letters\n",
    "lowercase_letters = list(string.ascii_lowercase) # Create a list of lowercase letters"
   ]
  },
  {
   "cell_type": "code",
   "execution_count": 96,
   "id": "de43cd4d-6b2c-4d64-92f4-23d845dc251b",
   "metadata": {},
   "outputs": [],
   "source": [
    "def generate_password(len_password, special_char):\n",
    "    '''\n",
    "    Secure password generator with a minimum length of 8 characters.\n",
    "    \n",
    "    :len_password: desired password length specified by the user.\n",
    "    :special_char: user choice (yes/no) to include special characters in the password.\n",
    "    :return: password with at least 8 characters, which may include special characters based on user choice.\n",
    "    '''\n",
    "    password = []\n",
    "    \n",
    "    # Ensure the password contains at least one digit, one uppercase letter, and one lowercase letter\n",
    "    password.append(random.choice(numbers))\n",
    "    password.append(random.choice(uppercase_letters))\n",
    "    password.append(random.choice(lowercase_letters))\n",
    "    \n",
    "    # If special characters are required, add one and set the initial limit to 4\n",
    "    if special_char == 'yes':\n",
    "        password.append(random.choice(symbols))\n",
    "        limit = 4\n",
    "    else:\n",
    "        limit = 3\n",
    "\n",
    "    # Add random characters to the password until it reaches the desired length\n",
    "    for _ in range(len_password - limit):\n",
    "        if special_char == 'yes':\n",
    "            # Choose from symbols, numbers, uppercase, and lowercase letters\n",
    "            character_type = random.choice([symbols, numbers, uppercase_letters, lowercase_letters])\n",
    "        else:\n",
    "            # Choose from numbers, uppercase, and lowercase letters\n",
    "            character_type = random.choice([numbers, uppercase_letters, lowercase_letters])\n",
    "        password.append(random.choice(character_type))\n",
    "\n",
    "    # Shuffle the password to ensure a random order\n",
    "    random.shuffle(password)\n",
    "    \n",
    "    # Return the password as a string\n",
    "    return ''.join(password)"
   ]
  },
  {
   "cell_type": "code",
   "execution_count": 99,
   "id": "c5bee514-11d6-4e75-9fb9-1cee283917e6",
   "metadata": {},
   "outputs": [
    {
     "name": "stdin",
     "output_type": "stream",
     "text": [
      ">>> Enter the desired password length (minimum 8): 12\n",
      "Include special characters? (yes/no):  yes\n"
     ]
    },
    {
     "name": "stdout",
     "output_type": "stream",
     "text": [
      "\n",
      "✅ Generated secure password: AO^yWx/d=0`(\n"
     ]
    }
   ],
   "source": [
    "while True:\n",
    "    try:\n",
    "        # Prompt the user to enter the desired password length\n",
    "        len_password = int(input('>>> Enter the desired password length (minimum 8):'))\n",
    "        if len_password < 8:\n",
    "            # Ensure the password length is at least 8 characters\n",
    "            print('\\n❌ Minimum length is 8. Try again.\\n')\n",
    "            continue \n",
    "        break\n",
    "    except ValueError:\n",
    "        # Handle the case where the user enters a non-numeric value\n",
    "        print('\\n❌ Invalid input. Please enter a number (minimum 8). Try again.\\n')\n",
    "\n",
    "while True:\n",
    "    # Prompt the user to decide whether to include special characters\n",
    "    special_char = input(\"Include special characters? (yes/no): \").lower()\n",
    "    if special_char in [\"yes\", \"no\"]:\n",
    "        break\n",
    "    # Ensure the user enters a valid response\n",
    "    print(\"\\n❌ You can only choose 'yes' or 'no'. Try again.\\n\")\n",
    "\n",
    "# Generate the password with the specified length and special character preference\n",
    "password = generate_password(len_password, special_char)\n",
    "print(f\"\\n✅ Generated secure password: {password}\")"
   ]
  }
 ],
 "metadata": {
  "kernelspec": {
   "display_name": "Python 3 (ipykernel)",
   "language": "python",
   "name": "python3"
  },
  "language_info": {
   "codemirror_mode": {
    "name": "ipython",
    "version": 3
   },
   "file_extension": ".py",
   "mimetype": "text/x-python",
   "name": "python",
   "nbconvert_exporter": "python",
   "pygments_lexer": "ipython3",
   "version": "3.12.3"
  }
 },
 "nbformat": 4,
 "nbformat_minor": 5
}
