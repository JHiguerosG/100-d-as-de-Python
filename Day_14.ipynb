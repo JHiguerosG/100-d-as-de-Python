{
 "cells": [
  {
   "cell_type": "markdown",
   "id": "bea9c184-5e7d-48ed-984b-c5b357ed4c53",
   "metadata": {},
   "source": [
    "# 🔥 Reto: Contador de Palabras Únicas 🔥\n",
    "\n",
    "## 🏆 Objetivo: \n",
    "\n",
    "Escribir un programa que cuente la cantidad de palabras únicas en un texto ingresado por el usuario.\n",
    "\n",
    "## 📝 Instrucciones:\n",
    "\n",
    "1. Solicita al usuario que ingrese un texto.  \n",
    "2. Convierte todo el texto a minúsculas para evitar diferencias por mayúsculas y minúsculas.  \n",
    "3. Elimina signos de puntuación para contar solo palabras.  \n",
    "4. Cuenta cuántas palabras únicas hay en el texto.  \n",
    "5. Muestra el resultado en pantalla.  \n",
    "\n",
    "## 📌 Ejemplos de ejecución:\n",
    "\n",
    "\\>>> Ingresa un texto: Python es increíble. Python es poderoso y versátil.  \n",
    "✅ Número de palabras únicas: 6  \n",
    "📖 Palabras únicas: ['python', 'es', 'increíble', 'poderoso', 'y', 'versátil']\n",
    "\n",
    "(El programa eliminó la repetición de \"Python\" y \"es\")\n",
    "\n",
    "## 🎯 Objetivo adicional (opcional):\n",
    "\n",
    "1. Mostrar el recuento de cada palabra única.  \n",
    "2. Ordenar la lista de palabras únicas alfabéticamente.  \n",
    "3. Permitir al usuario ingresar múltiples textos hasta que decida salir.  \n",
    "\n",
    "\n",
    "## 💡 Consejo: \n",
    "\n",
    "Usa estructuras como set() para evitar duplicados y collections.Counter para contar palabras más eficientemente."
   ]
  },
  {
   "cell_type": "code",
   "execution_count": 20,
   "id": "2048d9da-05d6-4711-acc8-1869094ce1ff",
   "metadata": {},
   "outputs": [
    {
     "name": "stdin",
     "output_type": "stream",
     "text": [
      ">>> Enter a text, sentence or phrase or q to quit:  Hola mundo\n"
     ]
    },
    {
     "name": "stdout",
     "output_type": "stream",
     "text": [
      "\n",
      "📖 Unique words: ['hola', 'mundo']\n",
      "✅ Number of unique words: 2\n",
      "\n",
      "WORD         FREQUENCY   \n",
      "------------------------\n",
      "hola         1           \n",
      "mundo        1           \n",
      "\n"
     ]
    },
    {
     "name": "stdin",
     "output_type": "stream",
     "text": [
      ">>> Enter a text, sentence or phrase or q to quit:  Python es increíble. Python es poderoso y versátil.\n"
     ]
    },
    {
     "name": "stdout",
     "output_type": "stream",
     "text": [
      "\n",
      "📖 Unique words: ['es', 'increíble', 'poderoso', 'python', 'versátil', 'y']\n",
      "✅ Number of unique words: 6\n",
      "\n",
      "WORD         FREQUENCY   \n",
      "------------------------\n",
      "python       2           \n",
      "es           2           \n",
      "increíble    1           \n",
      "poderoso     1           \n",
      "y            1           \n",
      "versátil     1           \n",
      "\n"
     ]
    },
    {
     "name": "stdin",
     "output_type": "stream",
     "text": [
      ">>> Enter a text, sentence or phrase or q to quit:  q\n"
     ]
    },
    {
     "name": "stdout",
     "output_type": "stream",
     "text": [
      "Program terminated\n"
     ]
    }
   ],
   "source": [
    "import string\n",
    "from collections import Counter\n",
    "\n",
    "symbols = list(string.punctuation)  # Create a list of punctuation symbols\n",
    "\n",
    "def unique_word_counter(text):\n",
    "    '''\n",
    "    Counts the frequency of unique words in a text string.\n",
    "    \n",
    "    :param text: Text string input by the user.\n",
    "    :return: A tuple containing a Counter object with word frequencies and a sorted list of unique words.\n",
    "    '''\n",
    "    \n",
    "    text_without_punctuation = ''  # Initialize a string to store text without punctuation\n",
    "\n",
    "    for char in text:\n",
    "        if char not in symbols and not char.isdigit():\n",
    "            text_without_punctuation += char  # Add character to the string if it's not a punctuation symbol or digit\n",
    "\n",
    "    word_count = Counter(text_without_punctuation)  # Count the frequency of each character\n",
    "\n",
    "    word_list = [word for word in text_without_punctuation.lower().split()]  # Create a list of words in lowercase\n",
    "\n",
    "    word_count = Counter(word_list)  # Count the frequency of each word\n",
    "\n",
    "    # Get a list of unique and sorted words\n",
    "    unique_words = sorted(set(word_list))\n",
    "\n",
    "    return word_count, unique_words  # Return the word count and unique words\n",
    "\n",
    "\n",
    "while True:\n",
    "    text = input('>>> Enter a text, sentence or phrase or q to quit: ')\n",
    "    if text == 'q':\n",
    "        print('Program terminated')\n",
    "        break\n",
    "    else:\n",
    "        word_count, unique_words = unique_word_counter(text)\n",
    "        print(f'\\n📖 Unique words: {unique_words}')\n",
    "        print(f'✅ Number of unique words: {len(unique_words)}\\n')\n",
    "        print(f\"{'WORD':<12} {'FREQUENCY':<12}\\n{'-'*24}\")\n",
    "        for word, frequency in word_count.items():\n",
    "            print(f'{word:<12} {frequency:<12}')\n",
    "        print()\n"
   ]
  },
  {
   "cell_type": "code",
   "execution_count": null,
   "id": "919da6e1-26d5-45a0-b0e3-c436974f9ca3",
   "metadata": {},
   "outputs": [],
   "source": [
    "import re\n",
    "from collections import Counter\n",
    "\n",
    "def unique_word_counter(text):\n",
    "    \"\"\"\n",
    "    Counts the frequency of unique words in a text string.\n",
    "\n",
    "    :param text: Text string input by the user.\n",
    "    :return: A tuple containing a Counter object with word frequencies and a sorted list of unique words.\n",
    "    \"\"\"\n",
    "    # Remove punctuation but keep words with apostrophes (e.g., don't, it's)\n",
    "    text_cleaned = re.sub(r\"[^\\w\\s']\", '', text).lower()\n",
    "    \n",
    "    # Tokenize words\n",
    "    word_list = text_cleaned.split()\n",
    "\n",
    "    # Count word frequencies\n",
    "    word_count = Counter(word_list)\n",
    "\n",
    "    # Get a list of unique sorted words\n",
    "    unique_words = sorted(word_count.keys())\n",
    "\n",
    "    return word_count, unique_words\n",
    "\n",
    "while True:\n",
    "    text = input(\">>> Enter a text, sentence or phrase (or 'q' to quit): \").strip()\n",
    "    if text.lower() == 'q':\n",
    "        print(\"Program terminated\")\n",
    "        break\n",
    "    else:\n",
    "        word_count, unique_words = unique_word_counter(text)\n",
    "        print(f\"\\n📖 Unique words: {unique_words}\")\n",
    "        print(f\"✅ Number of unique words: {len(unique_words)}\\n\")\n",
    "        print(f\"{'WORD':<12} {'FREQUENCY':<12}\\n{'-'*24}\")\n",
    "        for word, frequency in word_count.items():\n",
    "            print(f\"{word:<12} {frequency:<12}\")\n",
    "        print()\n"
   ]
  }
 ],
 "metadata": {
  "kernelspec": {
   "display_name": "Python 3 (ipykernel)",
   "language": "python",
   "name": "python3"
  },
  "language_info": {
   "codemirror_mode": {
    "name": "ipython",
    "version": 3
   },
   "file_extension": ".py",
   "mimetype": "text/x-python",
   "name": "python",
   "nbconvert_exporter": "python",
   "pygments_lexer": "ipython3",
   "version": "3.12.3"
  }
 },
 "nbformat": 4,
 "nbformat_minor": 5
}
