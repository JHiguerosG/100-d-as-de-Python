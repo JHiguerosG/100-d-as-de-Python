{
 "cells": [
  {
   "cell_type": "markdown",
   "id": "d8e6b8d2-2c62-4720-93d7-d5d5af5921fd",
   "metadata": {},
   "source": [
    "# 🔥Reto 10: Análisis de Frecuencia de Caracteres🔥\n",
    "\n",
    "## 🏆 Objetivo: \n",
    "\n",
    "Crear un programa en Python que analice la frecuencia de aparición de cada carácter en una cadena de texto ingresada por el usuario.\n",
    "\n",
    "\n",
    "## 📝 Instrucciones:\n",
    "\n",
    "1. Pide al usuario que ingrese una cadena de texto.  \n",
    "2. Cuenta cuántas veces aparece cada carácter (mayúsculas y minúsculas deben ser tratadas como iguales).  \n",
    "3. Muestra los resultados en orden descendente de frecuencia.  \n",
    "4. Opcional: Representa la frecuencia con un gráfico de barras usando **matplotlib** 📊.\n",
    "\n",
    "## 📌 Ejemplos de ejecución:\n",
    "\n",
    "\\>>> Ingrese un texto: \"Python es poderoso y fácil de aprender\"  \n",
    "Frecuencia de caracteres:  \n",
    "e: 5  \n",
    "o: 4  \n",
    "p: 3  \n",
    "d: 3  \n",
    "r: 3  \n",
    "y: 2  \n",
    "n: 2  \n",
    "s: 2  \n",
    "a: 2  \n",
    "t: 1  \n",
    "h: 1  \n",
    "f: 1  \n",
    "c: 1  \n",
    "i: 1  \n",
    "l: 1     \n",
    "\n",
    "## 🔍 Pistas:\n",
    "\n",
    "1. Usa un diccionario para almacenar las frecuencias.  \n",
    "2. La función Counter de collections puede ser útil.  \n",
    "3. Para ordenar por frecuencia, puedes usar sorted() con key=lambda item: item[1].\n"
   ]
  },
  {
   "cell_type": "markdown",
   "id": "4f8dcb8f-2958-406b-af75-d5cd348a3baf",
   "metadata": {},
   "source": [
    "# Solución propia"
   ]
  },
  {
   "cell_type": "code",
   "execution_count": 102,
   "id": "069c90de-463f-43c3-a132-f80e437a2767",
   "metadata": {},
   "outputs": [
    {
     "name": "stdin",
     "output_type": "stream",
     "text": [
      ">>> Enter a word or phrase:  Jonathan Higueros Garrido\n"
     ]
    },
    {
     "name": "stdout",
     "output_type": "stream",
     "text": [
      "\n",
      "Letter Frequency:\n",
      "o: 3\n",
      "a: 3\n",
      "r: 3\n",
      "n: 2\n",
      "h: 2\n",
      "i: 2\n",
      "g: 2\n",
      "j: 1\n",
      "t: 1\n",
      "u: 1\n",
      "e: 1\n",
      "s: 1\n",
      "d: 1\n"
     ]
    }
   ],
   "source": [
    "def prepare_text(text):\n",
    "    \"\"\"\n",
    "    Converts a text to a string without spaces or accents.\n",
    "    \n",
    "    :text: Text to be converted.\n",
    "    :return: Dictionary with letters as keys and their count as values.\n",
    "    \"\"\"\n",
    "    vowels = {'á': 'a', 'é': 'e', 'í': 'i', 'ó': 'o', 'ú': 'u'}\n",
    "    text_without_accents = text.lower().replace(' ', '')  # Initialize text_without_accents\n",
    "\n",
    "    for char in text:\n",
    "        if char in vowels:\n",
    "            text_without_accents = text_without_accents.replace(char, vowels[char])\n",
    "    \n",
    "    return text_without_accents\n",
    "\n",
    "def character_frequency(text):\n",
    "    \"\"\"\n",
    "    Counts the frequency of letters in a string.\n",
    "    \n",
    "    :text: Text in which the frequency of letters will be counted.\n",
    "    :return: Displays a frequency table on the screen.\n",
    "    \"\"\"\n",
    "    characters = {}\n",
    "\n",
    "    for char in text:\n",
    "        if char not in characters:\n",
    "            characters[char] = 1\n",
    "        else:\n",
    "            characters[char] += 1\n",
    "\n",
    "    resorted_by_values = dict(sorted(characters.items(), key=lambda item: item[1], reverse=True))\n",
    "\n",
    "    return resorted_by_values\n",
    "\n",
    "# Create a list with all punctuation marks.\n",
    "import string\n",
    "symbols = set(string.punctuation)\n",
    "\n",
    "# Loop to get user input\n",
    "while True:\n",
    "    try:\n",
    "        text = input('>>> Enter a word or phrase: ')\n",
    "        if text.isdigit():\n",
    "            print('❌ Numbers are not allowed. Try again.')\n",
    "            continue\n",
    "        if any(char in symbols for char in text):\n",
    "            print('❌ Symbols are not allowed. Try again.')\n",
    "            continue\n",
    "        break\n",
    "    except ValueError:\n",
    "        print('❌ Invalid input. Please enter a valid word or phrase.')\n",
    "\n",
    "# Process input text\n",
    "clean_text = prepare_text(text)\n",
    "frequencies = character_frequency(clean_text)\n",
    "# Calling the functions\n",
    "\n",
    "# Print results\n",
    "print('\\nLetter Frequency:')\n",
    "for letter, freq in frequencies.items():\n",
    "    print(f'{letter}: {freq}')\n"
   ]
  },
  {
   "cell_type": "code",
   "execution_count": 109,
   "id": "a9f5577c-f57a-44e4-81ab-d135a1b71d14",
   "metadata": {},
   "outputs": [
    {
     "data": {
      "image/png": "[encoded data removed]",
      "text/plain": [
       "<Figure size 640x480 with 1 Axes>"
      ]
     },
     "metadata": {},
     "output_type": "display_data"
    }
   ],
   "source": [
    "import matplotlib.pyplot as plt\n",
    "import seaborn as sns\n",
    "import matplotlib.ticker as ticker\n",
    "\n",
    "def barplot(dictionary):\n",
    "\n",
    "    # Crear el gráfico de barras\n",
    "    sns.barplot(x=list(dictionary.keys()), y=list(dictionary.values()), hue=list(dictionary.keys()), palette='viridis', legend=False)\n",
    "\n",
    "    # Añadir etiquetas y título\n",
    "    plt.xlabel('Letters')\n",
    "    plt.ylabel('Frequency')\n",
    "    plt.title('Letter Frequency')\n",
    "\n",
    "    # Asegurar que los números del eje y sean enteros\n",
    "    plt.gca().yaxis.set_major_locator(ticker.MaxNLocator(integer=True))\n",
    "\n",
    "    # Mostrar el gráfico\n",
    "    plt.show()\n",
    "\n",
    "# Calling the functions\n",
    "clean_text = prepare_text(text)\n",
    "frequencies = character_frequency(clean_text)\n",
    "barplot(frequencies)"
   ]
  },
  {
   "cell_type": "markdown",
   "id": "796a657e-191c-4ea5-8fec-767405619740",
   "metadata": {},
   "source": [
    "# Correcciones realizadas por ChatGPT"
   ]
  },
  {
   "cell_type": "code",
   "execution_count": 104,
   "id": "bf2eb8b7-19aa-4f96-bc53-504c36191f29",
   "metadata": {},
   "outputs": [
    {
     "name": "stdin",
     "output_type": "stream",
     "text": [
      ">>> Enter a word or phrase:  Jonathan Higueros Garrido\n"
     ]
    },
    {
     "name": "stdout",
     "output_type": "stream",
     "text": [
      "\n",
      "Letter Frequency:\n",
      "o: 3\n",
      "a: 3\n",
      "r: 3\n",
      "n: 2\n",
      "h: 2\n",
      "i: 2\n",
      "g: 2\n",
      "j: 1\n",
      "t: 1\n",
      "u: 1\n",
      "e: 1\n",
      "s: 1\n",
      "d: 1\n"
     ]
    }
   ],
   "source": [
    "import string\n",
    "from collections import Counter\n",
    "\n",
    "def prepare_text(text):\n",
    "    \"\"\"\n",
    "    Converts a text to lowercase and removes spaces and accents.\n",
    "    \n",
    "    :param text: Text to be processed.\n",
    "    :return: Cleaned text without accents.\n",
    "    \"\"\"\n",
    "    vowels = {'á': 'a', 'é': 'e', 'í': 'i', 'ó': 'o', 'ú': 'u'}\n",
    "    \n",
    "    # Convert text to lowercase and remove spaces\n",
    "    text = text.lower().replace(' ', '')\n",
    "    \n",
    "    # Replace accented vowels in a single pass\n",
    "    text = ''.join(vowels.get(char, char) for char in text)\n",
    "    \n",
    "    return text\n",
    "\n",
    "def character_frequency(text):\n",
    "    \"\"\"\n",
    "    Counts the frequency of letters in a string.\n",
    "    \n",
    "    :param text: Text in which the frequency of letters will be counted.\n",
    "    :return: A dictionary sorted by letter frequency in descending order.\n",
    "    \"\"\"\n",
    "    return dict(sorted(Counter(text).items(), key=lambda item: item[1], reverse=True))\n",
    "\n",
    "# Set of punctuation symbols\n",
    "symbols = set(string.punctuation)\n",
    "\n",
    "# Loop to get user input\n",
    "while True:\n",
    "    text = input('>>> Enter a word or phrase: ')\n",
    "    \n",
    "    if text.isdigit():\n",
    "        print('❌ Numbers are not allowed. Try again.')\n",
    "        continue\n",
    "    \n",
    "    if any(char in symbols for char in text):\n",
    "        print('❌ Symbols are not allowed. Try again.')\n",
    "        continue\n",
    "    \n",
    "    break  # Valid input\n",
    "\n",
    "# Process input text\n",
    "clean_text = prepare_text(text)\n",
    "frequencies = character_frequency(clean_text)\n",
    "\n",
    "# Print results\n",
    "print('\\nLetter Frequency:')\n",
    "for letter, freq in frequencies.items():\n",
    "    print(f'{letter}: {freq}')"
   ]
  },
  {
   "cell_type": "code",
   "execution_count": 105,
   "id": "eaa1f603-a2f9-443f-ac37-1d169acfb30f",
   "metadata": {},
   "outputs": [
    {
     "data": {
      "image/png": "[encoded data removed]",
      "text/plain": [
       "<Figure size 1000x600 with 1 Axes>"
      ]
     },
     "metadata": {},
     "output_type": "display_data"
    }
   ],
   "source": [
    "import matplotlib.pyplot as plt\n",
    "import seaborn as sns\n",
    "import matplotlib.ticker as ticker\n",
    "\n",
    "def barplot(dictionary):\n",
    "    \"\"\"\n",
    "    Creates a bar plot showing the frequency of letters in a given text.\n",
    "\n",
    "    :param dictionary: Dictionary containing letters as keys and their frequency as values.\n",
    "    \"\"\"\n",
    "    # Create the plot\n",
    "    plt.figure(figsize=(10, 6))\n",
    "    \n",
    "    # Fix: Assign 'hue' and disable legend to avoid deprecation warning\n",
    "    sns.barplot(x=list(dictionary.keys()), y=list(dictionary.values()), hue=list(dictionary.keys()), palette=\"viridis\", legend=False)\n",
    "\n",
    "    # Labels and title\n",
    "    plt.xlabel('Letters', fontsize=12)\n",
    "    plt.ylabel('Frequency', fontsize=12)\n",
    "    plt.title('Letter Frequency', fontsize=14)\n",
    "\n",
    "    # Rotate x-axis labels for better readability\n",
    "    plt.xticks(rotation=45)\n",
    "\n",
    "    # Ensure integer values on y-axis\n",
    "    plt.gca().yaxis.set_major_locator(ticker.MaxNLocator(integer=True))\n",
    "\n",
    "    # Display value on top of each bar\n",
    "    for i, v in enumerate(dictionary.values()):\n",
    "        plt.text(i, v + 0.1, str(v), ha='center', fontsize=10)\n",
    "\n",
    "    # Show plot\n",
    "    plt.show()\n",
    "\n",
    "# Calling the functions\n",
    "clean_text = prepare_text(text)\n",
    "frequencies = character_frequency(clean_text)\n",
    "barplot(frequencies)"
   ]
  }
 ],
 "metadata": {
  "kernelspec": {
   "display_name": "Python 3 (ipykernel)",
   "language": "python",
   "name": "python3"
  },
  "language_info": {
   "codemirror_mode": {
    "name": "ipython",
    "version": 3
   },
   "file_extension": ".py",
   "mimetype": "text/x-python",
   "name": "python",
   "nbconvert_exporter": "python",
   "pygments_lexer": "ipython3",
   "version": "3.12.3"
  }
 },
 "nbformat": 4,
 "nbformat_minor": 5
}
