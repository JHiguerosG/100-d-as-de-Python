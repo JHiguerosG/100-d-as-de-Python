{
 "cells": [
  {
   "cell_type": "code",
   "execution_count": 2,
   "id": "6ad6da5e-c2ec-48af-aa3b-d494ea3fff48",
   "metadata": {},
   "outputs": [
    {
     "name": "stdout",
     "output_type": "stream",
     "text": [
      "🏢 Bienvenido al Registro de Visitas de la Empresa\n",
      "\n"
     ]
    },
    {
     "name": "stdin",
     "output_type": "stream",
     "text": [
      "🙋 Nombre completo del visitante:  Jonathan Higueros Garrido\n",
      "🧑‍💼 Persona a visitar:  Lic. Alison Martínez\n",
      "📝 Motivo de la visita (Entrevista, Entrega, Reunión, Otro):  Reunión\n"
     ]
    },
    {
     "name": "stdout",
     "output_type": "stream",
     "text": [
      "\n",
      "📌 Visita registrada a las 16:12:37\n",
      "\n"
     ]
    },
    {
     "name": "stdin",
     "output_type": "stream",
     "text": [
      "¿Desea registrar otra visita? (s/n):  s\n"
     ]
    },
    {
     "name": "stdout",
     "output_type": "stream",
     "text": [
      "\n"
     ]
    },
    {
     "name": "stdin",
     "output_type": "stream",
     "text": [
      "🙋 Nombre completo del visitante:  Juan Morales\n",
      "🧑‍💼 Persona a visitar:  Ing. Castillo\n",
      "📝 Motivo de la visita (Entrevista, Entrega, Reunión, Otro):  Entrevista\n"
     ]
    },
    {
     "name": "stdout",
     "output_type": "stream",
     "text": [
      "\n",
      "📌 Visita registrada a las 16:13:01\n",
      "\n"
     ]
    },
    {
     "name": "stdin",
     "output_type": "stream",
     "text": [
      "¿Desea registrar otra visita? (s/n):  n\n"
     ]
    },
    {
     "name": "stdout",
     "output_type": "stream",
     "text": [
      "\n",
      "📋 Resumen de las últimas 5 visitas:\n",
      "1. 🕒 16:12:37 | 🙋 Jonathan Higueros Garrido | 🧑‍💼 Lic. Alison Martínez | 📝 Reunión\n",
      "2. 🕒 16:13:01 | 🙋 Juan Morales | 🧑‍💼 Ing. Castillo | 📝 Entrevista\n",
      "\n",
      "🙏 Gracias por usar el sistema de registro de visitas.\n"
     ]
    }
   ],
   "source": [
    "import time\n",
    "from datetime import datetime\n",
    "\n",
    "# Lista para almacenar los registros de visitas\n",
    "visitas = []\n",
    "\n",
    "print(\"🏢 Bienvenido al Registro de Visitas de la Empresa\\n\")\n",
    "\n",
    "while True:\n",
    "    nombre = input(\"🙋 Nombre completo del visitante: \")\n",
    "    persona_a_visitar = input(\"🧑‍💼 Persona a visitar: \")\n",
    "    motivo = input(\"📝 Motivo de la visita (Entrevista, Entrega, Reunión, Otro): \")\n",
    "    \n",
    "    hora_visita = datetime.now().strftime(\"%H:%M:%S\")\n",
    "\n",
    "    # Guardar el registro\n",
    "    visitas.append({\n",
    "        \"hora\": hora_visita,\n",
    "        \"nombre\": nombre,\n",
    "        \"persona\": persona_a_visitar,\n",
    "        \"motivo\": motivo\n",
    "    })\n",
    "\n",
    "    print(f\"\\n📌 Visita registrada a las {hora_visita}\\n\")\n",
    "\n",
    "    continuar = input(\"¿Desea registrar otra visita? (s/n): \").strip().lower()\n",
    "    print()\n",
    "    if continuar != 's':\n",
    "        break\n",
    "\n",
    "# Mostrar resumen final (últimas 5 visitas)\n",
    "print(\"📋 Resumen de las últimas 5 visitas:\")\n",
    "for i, visita in enumerate(visitas[-5:], start=1):\n",
    "    print(f\"{i}. 🕒 {visita['hora']} | 🙋 {visita['nombre']} | 🧑‍💼 {visita['persona']} | 📝 {visita['motivo']}\")\n",
    "\n",
    "print(\"\\n🙏 Gracias por usar el sistema de registro de visitas.\")\n"
   ]
  }
 ],
 "metadata": {
  "kernelspec": {
   "display_name": "Python 3 (ipykernel)",
   "language": "python",
   "name": "python3"
  },
  "language_info": {
   "codemirror_mode": {
    "name": "ipython",
    "version": 3
   },
   "file_extension": ".py",
   "mimetype": "text/x-python",
   "name": "python",
   "nbconvert_exporter": "python",
   "pygments_lexer": "ipython3",
   "version": "3.12.3"
  }
 },
 "nbformat": 4,
 "nbformat_minor": 5
}
