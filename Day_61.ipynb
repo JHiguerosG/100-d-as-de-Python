{
 "cells": [
  {
   "cell_type": "markdown",
   "id": "35d90d3c-5182-478c-a32b-297b7440597f",
   "metadata": {},
   "source": [
    "# 🧠 Reto 61: Simulador de Sorteo Aleatorio de Participantes 🧠\n",
    "\n",
    "## 🏆 Objetivo:\n",
    "Desarrollar un programa que simule un sorteo entre participantes registrados. El usuario podrá ingresar una lista de nombres, y el programa seleccionará automáticamente un ganador (o varios, según se indique) de manera completamente aleatoria. Además, debe permitir excluir nombres previamente sorteados si el sorteo tiene varias rondas.\n",
    "\n",
    "## 📝 Requisitos:\n",
    "1️⃣ Permitir al usuario ingresar una lista de participantes manualmente o seleccionar una cantidad aleatoria desde una lista precargada en el código.  \n",
    "2️⃣ Preguntar cuántos ganadores desea seleccionar.  \n",
    "3️⃣ Validar que el número de ganadores no supere el número de participantes.  \n",
    "4️⃣ Mostrar el(los) nombre(s) del(los) ganador(es) de forma destacada.  \n",
    "5️⃣ Ofrecer la opción de realizar otro sorteo eliminando a los ganadores anteriores.  \n",
    "6️⃣ El sorteo debe ser verdaderamente aleatorio (utiliza `random.sample()` o equivalente).  \n",
    "7️⃣ Debe manejar errores de entrada del usuario correctamente.  \n",
    "\n",
    "## 📌 Ejemplo de ejecución:\n",
    "\n",
    "🎉 Bienvenido al Simulador de Sorteos 🎉  \n",
    "\n",
    "Ingrese los nombres de los participantes separados por coma:  \n",
    "\\> Ana, Luis, Pedro, Marta, Juan, Sofía, Andrés  \n",
    " \n",
    "¿Cuántos ganadores desea seleccionar?  \n",
    "\\> 2\n",
    "\n",
    "🎊 Los ganadores del sorteo son:  \n",
    "🏆 Marta  \n",
    "🏆 Pedro  \n",
    "\n",
    "¿Desea realizar otro sorteo excluyendo a los ganadores? (s/n)  \n",
    "\\> s  \n",
    "\n",
    "Ingrese el número de ganadores para la nueva ronda:  \n",
    "\\> 1  \n",
    "\n",
    "🎊 El nuevo ganador es:  \n",
    "🏆 Juan  \n",
    "\n",
    "## 🔍 Pistas:\n",
    "🔹 Puedes usar la función `input().split(\",\")` para dividir los nombres ingresados.  \n",
    "🔹 La función `random.sample(lista, n)` permite obtener `n` elementos aleatorios sin repetir.  \n",
    "🔹 Usa `strip()` para limpiar los espacios de los nombres ingresados.  \n",
    "🔹 Considera usar un `set` o `lista` para guardar los ganadores y excluirlos en futuras rondas.  \n",
    "🔹 Valida con claridad si el usuario quiere continuar sorteando y cuántos participantes quedan.  "
   ]
  },
  {
   "cell_type": "code",
   "execution_count": 3,
   "id": "68c9558a-bcfd-4d33-aa71-91d9743952a6",
   "metadata": {},
   "outputs": [
    {
     "name": "stdout",
     "output_type": "stream",
     "text": [
      "🎉 Welcome to the Draw Simulator 🎉\n"
     ]
    },
    {
     "name": "stdin",
     "output_type": "stream",
     "text": [
      "Enter the participant names separated by commas:\n",
      ">  Ana, Luis, Pedro, Marta, Juan, Sofía, Andrés\n",
      "How many winners would you like to select? (max 7)\n",
      ">  2\n"
     ]
    },
    {
     "name": "stdout",
     "output_type": "stream",
     "text": [
      "\n",
      "🎊 The winners of the draw are:\n",
      "🏆 Juan\n",
      "🏆 Luis\n"
     ]
    },
    {
     "name": "stdin",
     "output_type": "stream",
     "text": [
      "\n",
      "Would you like to perform another draw excluding the previous winners? (y/n)\n",
      ">  y\n",
      "How many winners would you like to select? (max 5)\n",
      ">  1\n"
     ]
    },
    {
     "name": "stdout",
     "output_type": "stream",
     "text": [
      "\n",
      "🎊 The winners of the draw are:\n",
      "🏆 Sofía\n"
     ]
    },
    {
     "name": "stdin",
     "output_type": "stream",
     "text": [
      "\n",
      "Would you like to perform another draw excluding the previous winners? (y/n)\n",
      ">  n\n"
     ]
    },
    {
     "name": "stdout",
     "output_type": "stream",
     "text": [
      "Thank you for using the Draw Simulator! 🎉\n"
     ]
    }
   ],
   "source": [
    "import random\n",
    "\n",
    "def perform_draw(participants, num_winners):\n",
    "    \"\"\"\n",
    "    Selects a specified number of winners randomly from a list of participants.\n",
    "    Args:\n",
    "        participants (list): List of participant names.\n",
    "        num_winners (int): Number of winners to select.\n",
    "    Returns:\n",
    "        list: A list containing the randomly selected winners.\n",
    "    \"\"\"\n",
    "    return random.sample(participants, num_winners)\n",
    "\n",
    "def clean_participants(entry):\n",
    "    \"\"\"\n",
    "    Processes the input string of participant names and returns a unique list of valid names.\n",
    "    Args:\n",
    "        entry (str): Participant names separated by commas.\n",
    "    Returns:\n",
    "        list: A list of cleaned and unique participant names.\n",
    "    \"\"\"\n",
    "    participants = [name.strip() for name in entry.split(\",\") if name.strip()]\n",
    "    return list(set(participants))  # Avoid duplicates\n",
    "\n",
    "def request_num_winners(max_winners):\n",
    "    \"\"\"\n",
    "    Asks the user for the number of winners to select, ensuring valid input.\n",
    "    Args:\n",
    "        max_winners (int): Maximum number of winners allowed.\n",
    "    Returns:\n",
    "        int: The validated number of winners to select.\n",
    "    \"\"\"\n",
    "    while True:\n",
    "        try:\n",
    "            num = int(input(f\"How many winners would you like to select? (max {max_winners})\\n> \"))\n",
    "            if 0 < num <= max_winners:\n",
    "                return num\n",
    "            else:\n",
    "                print(\"❌ Invalid number. Please try again.\")\n",
    "        except ValueError:\n",
    "            print(\"❌ Please enter a valid number.\")\n",
    "\n",
    "def draw_simulator():\n",
    "    \"\"\"\n",
    "    Runs the participant draw simulator, allowing multiple rounds and excluding prior winners.\n",
    "    \"\"\"\n",
    "    print(\"🎉 Welcome to the Draw Simulator 🎉\")\n",
    "\n",
    "    participants_input = input(\"Enter the participant names separated by commas:\\n> \")\n",
    "    participants = clean_participants(participants_input)\n",
    "    previous_winners = set()\n",
    "\n",
    "    if len(participants) < 1:\n",
    "        print(\"⚠️ You must enter at least one valid participant.\")\n",
    "        return\n",
    "\n",
    "    while True:\n",
    "        available = [p for p in participants if p not in previous_winners]\n",
    "        if not available:\n",
    "            print(\"🎉 No participants remain for another draw. Program concluded!\")\n",
    "            break\n",
    "\n",
    "        num_winners = request_num_winners(len(available))\n",
    "        winners = perform_draw(available, num_winners)\n",
    "        previous_winners.update(winners)\n",
    "\n",
    "        print(\"\\n🎊 The winners of the draw are:\")\n",
    "        for winner in winners:\n",
    "            print(f\"🏆 {winner}\")\n",
    "\n",
    "        option = input(\"\\nWould you like to perform another draw excluding the previous winners? (y/n)\\n> \").lower()\n",
    "        if option != 'y':\n",
    "            print(\"Thank you for using the Draw Simulator! 🎉\")\n",
    "            break\n",
    "\n",
    "# Execute the simulator directly\n",
    "draw_simulator()"
   ]
  }
 ],
 "metadata": {
  "kernelspec": {
   "display_name": "Python 3 (ipykernel)",
   "language": "python",
   "name": "python3"
  },
  "language_info": {
   "codemirror_mode": {
    "name": "ipython",
    "version": 3
   },
   "file_extension": ".py",
   "mimetype": "text/x-python",
   "name": "python",
   "nbconvert_exporter": "python",
   "pygments_lexer": "ipython3",
   "version": "3.12.3"
  }
 },
 "nbformat": 4,
 "nbformat_minor": 5
}
