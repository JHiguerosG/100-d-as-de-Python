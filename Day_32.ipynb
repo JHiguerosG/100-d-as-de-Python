{
 "cells": [
  {
   "cell_type": "markdown",
   "id": "7f77fe4b-ebb5-4943-8a9e-277fab3a0cf3",
   "metadata": {},
   "source": [
    "# 🧠 Reto 32: Calculadora de Dígitos de Pi 🧠\n",
    "\n",
    "## 🏆 Objetivo: \n",
    "\n",
    "Calcular el número Pi (π) con una precisión determinada por el usuario utilizando el algoritmo de Machin o el algoritmo de Bailey-Borwein-Plouffe (BBP).\n",
    "\n",
    "## 📝 Requisitos:\n",
    "\n",
    "1️⃣ El programa debe permitir al usuario ingresar la cantidad de dígitos decimales deseados de Pi (π).       \n",
    "2️⃣ Utiliza el algoritmo de Machin o el algoritmo de BBP para el cálculo.      \n",
    "3️⃣ Debe mostrar los primeros dígitos calculados de π según lo solicitado.  \n",
    "4️⃣ Implementa una opción para guardar el resultado en un archivo de texto si el usuario lo desea.  \n",
    "5️⃣ Maneja excepciones y errores de entrada de manera adecuada.  \n",
    "\n",
    "## 📌 Ejemplo de Ejecución:\n",
    "\n",
    "Ingrese la cantidad de dígitos decimales de π que desea calcular: 1000  \n",
    "¿Desea guardar el resultado en un archivo de texto? (sí/no): sí  \n",
    "Ingrese el nombre del archivo (sin extensión): pi_1000_digitos  \n",
    "Calculando π con 1000 dígitos decimales...  \n",
    "El valor de π con 1000 dígitos decimales es:  \n",
    "3.1415926535897932384626433832795028841971693993751058209749445923078164062862089986280348253421170679...  \n",
    "El valor se ha guardado exitosamente en \"pi_1000_digitos.txt\"  \n",
    "\n",
    "## 🔍 Pistas:\n",
    "\n",
    "🔹 El algoritmo de Machin utiliza fórmulas basadas en arctangentes para calcular π de manera eficiente.  \n",
    "🔹 El algoritmo BBP permite calcular dígitos individuales de π sin necesidad de calcular todos los anteriores, lo cual es ideal para alta precisión.  \n",
    "🔹 Utiliza bibliotecas como decimal para manejar precisión arbitraria en Python.  \n",
    "🔹 Considera utilizar la biblioteca mpmath para realizar cálculos de precisión extremadamente alta.  "
   ]
  },
  {
   "cell_type": "code",
   "execution_count": 7,
   "id": "ff224ce5-857c-4498-a30d-12bc052a55ce",
   "metadata": {},
   "outputs": [],
   "source": [
    "from decimal import Decimal, getcontext\n",
    "\n",
    "def bbp_pi(digits):\n",
    "    \"\"\"\n",
    "    Calculates the value of Pi using the Bailey-Borwein-Plouffe (BBP) formula.\n",
    "    :param digits: The number of decimal places to calculate.\n",
    "    :return: The calculated value of Pi.\n",
    "    \"\"\"\n",
    "    getcontext().prec = digits + 10  # Adjust precision to ensure rounding\n",
    "    pi = Decimal(0)\n",
    "    for k in range(digits):\n",
    "        pi += (Decimal(1) / (16 ** k)) * (\n",
    "            Decimal(4) / (8 * k + 1) -\n",
    "            Decimal(2) / (8 * k + 4) -\n",
    "            Decimal(1) / (8 * k + 5) -\n",
    "            Decimal(1) / (8 * k + 6)\n",
    "        )\n",
    "    return +pi  # The + sign ensures correct rounding\n"
   ]
  },
  {
   "cell_type": "code",
   "execution_count": 8,
   "id": "0f08372a-aa8e-4d9d-bcfa-785d304efc65",
   "metadata": {},
   "outputs": [],
   "source": [
    "def save_to_file(filename, content):\n",
    "    \"\"\"\n",
    "    Saves the provided content to a text file with the given filename.\n",
    "    :param filename: The name of the file (without extension) to save the content.\n",
    "    :param content: The content to save in the file.\n",
    "    \"\"\"\n",
    "    try:\n",
    "        with open(f\"{filename}.txt\", \"w\") as file:\n",
    "            file.write(content)\n",
    "        print(f\"The value has been successfully saved in \\\"{filename}.txt\\\"\")\n",
    "    except Exception as e:\n",
    "        print(f\"Error saving the file: {e}\")\n"
   ]
  },
  {
   "cell_type": "code",
   "execution_count": 9,
   "id": "bd1a77e4-6fe7-4c7c-9fc1-28955428d9ee",
   "metadata": {},
   "outputs": [],
   "source": [
    "def calculate_pi():\n",
    "    \"\"\"\n",
    "    Interacts with the user, calculates Pi, and optionally saves the result to a file.\n",
    "    \"\"\"\n",
    "    try:\n",
    "        digits = int(input(\"Enter the number of decimal places of π you want to calculate: \"))\n",
    "        if digits <= 0:\n",
    "            raise ValueError(\"The number of decimal places must be positive.\")\n",
    "        \n",
    "        print(f\"Calculating π with {digits} decimal places...\")\n",
    "        pi_value = bbp_pi(digits)\n",
    "        pi_str = str(pi_value)[:digits + 2]  # Includes \"3.\"\n",
    "        print(f\"The value of π with {digits} decimal places is:\\n{pi_str}\")\n",
    "        \n",
    "        save_option = input(\"Do you want to save the result to a text file? (yes/no): \").strip().lower()\n",
    "        if save_option == \"yes\":\n",
    "            while True:\n",
    "                filename = input(\"Enter the file name (without extension): \").strip()\n",
    "                if filename:\n",
    "                    save_to_file(filename, pi_str)\n",
    "                    break\n",
    "                else:\n",
    "                    print(\"Filename cannot be empty. Please enter a valid name.\")\n",
    "    \n",
    "    except ValueError as e:\n",
    "        print(f\"Invalid input: {e}\")\n"
   ]
  },
  {
   "cell_type": "code",
   "execution_count": 10,
   "id": "e87837b7-25c0-4960-a082-7f1f5dee3840",
   "metadata": {},
   "outputs": [
    {
     "name": "stdin",
     "output_type": "stream",
     "text": [
      "Enter the number of decimal places of π you want to calculate:  55\n"
     ]
    },
    {
     "name": "stdout",
     "output_type": "stream",
     "text": [
      "Calculating π with 55 decimal places...\n",
      "The value of π with 55 decimal places is:\n",
      "3.1415926535897932384626433832795028841971693993751058209\n"
     ]
    },
    {
     "name": "stdin",
     "output_type": "stream",
     "text": [
      "Do you want to save the result to a text file? (yes/no):  yes\n",
      "Enter the file name (without extension):  pi\n"
     ]
    },
    {
     "name": "stdout",
     "output_type": "stream",
     "text": [
      "The value has been successfully saved in \"pi.txt\"\n"
     ]
    }
   ],
   "source": [
    "# Call the function directly\n",
    "calculate_pi()"
   ]
  }
 ],
 "metadata": {
  "kernelspec": {
   "display_name": "Python 3 (ipykernel)",
   "language": "python",
   "name": "python3"
  },
  "language_info": {
   "codemirror_mode": {
    "name": "ipython",
    "version": 3
   },
   "file_extension": ".py",
   "mimetype": "text/x-python",
   "name": "python",
   "nbconvert_exporter": "python",
   "pygments_lexer": "ipython3",
   "version": "3.12.3"
  }
 },
 "nbformat": 4,
 "nbformat_minor": 5
}
