{
 "cells": [
  {
   "cell_type": "markdown",
   "id": "630734c1-55fc-4cf3-ab4a-177086b02f7c",
   "metadata": {},
   "source": [
    "# 🧠 Reto 33: Generador de Fractales con Python 🧠\n",
    "\n",
    "## 🏆 Objetivo:\n",
    "\n",
    "Crear un programa en Python que genere fractales visuales utilizando la biblioteca matplotlib. Los fractales son patrones que se repiten a diferentes escalas, y en este reto generaremos el conjunto de Mandelbrot, un fractal clásico en matemáticas.\n",
    "\n",
    "## 📝 Requisitos:\n",
    "\n",
    "1️⃣ Utilizar la biblioteca matplotlib para la visualización.  \n",
    "2️⃣ Permitir al usuario configurar los siguientes parámetros:  \n",
    "🔸 Rango de visualización en los ejes X e Y.  \n",
    "🔸 Número máximo de iteraciones.  \n",
    "🔸 Resolución (tamaño de la imagen en píxeles).  \n",
    "3️⃣ Calcular el conjunto de Mandelbrot siguiendo el criterio de convergencia.  \n",
    "4️⃣ Mostrar el fractal generado en una ventana gráfica.  \n",
    "5️⃣ Guardar la imagen del fractal en formato PNG si el usuario lo desea.  \n",
    "\n",
    "## 📌 Ejemplo de ejecución:\n",
    "\n",
    "Generador de Fractales - Conjunto de Mandelbrot  \n",
    "Ingrese el rango para el eje X (por ejemplo, -2.0 1.0): -2.0 1.0  \n",
    "Ingrese el rango para el eje Y (por ejemplo, -1.5 1.5): -1.5 1.5  \n",
    "Número máximo de iteraciones: 100  \n",
    "Resolución (ancho y alto en píxeles): 800 800  \n",
    "¿Desea guardar la imagen en un archivo? (sí/no): sí  \n",
    "Nombre del archivo (sin extensión): mandelbrot_fractal  \n",
    "\n",
    "Generando fractal...  \n",
    "Fractal generado con éxito y guardado como \"mandelbrot_fractal.png\"  \n",
    "\n",
    "## 🔍 Pistas:\n",
    "\n",
    "🔹 Usa el paquete matplotlib para crear gráficos.  \n",
    "🔹 La fórmula para calcular el conjunto de Mandelbrot es:  \n",
    "$Z_{n+1} = Z_n^2 + C$  \n",
    "donde **Z** es un número complejo y **𝐶** es el punto en el plano complejo.  \n",
    "🔹 El punto pertenece al conjunto si la sucesión no diverge al infinito después de un número dado de iteraciones.  \n",
    "🔹 Utiliza un mapa de colores (colormap) para representar la cantidad de iteraciones necesarias para la divergencia.  \n",
    "🔹 Experimenta con los parámetros para obtener diferentes visualizaciones.  "
   ]
  },
  {
   "cell_type": "code",
   "execution_count": 9,
   "id": "82c1e3a0-2072-4a85-8cae-d0615457b15b",
   "metadata": {},
   "outputs": [],
   "source": [
    "# import numpy as np\n",
    "import matplotlib.pyplot as plt\n",
    "\n",
    "def mandelbrot(re, im, max_iter):\n",
    "    \"\"\"\n",
    "    Calculates the number of iterations needed for the point (re, im) to diverge.\n",
    "\n",
    "    Parameters:\n",
    "    re (float): The real part of the complex number.\n",
    "    im (float): The imaginary part of the complex number.\n",
    "    max_iter (int): The maximum number of iterations to determine divergence.\n",
    "\n",
    "    Returns:\n",
    "    int: The number of iterations before the point diverges, or max_iter if it does not diverge.\n",
    "    \"\"\"\n",
    "    c = complex(re, im)         # This line creates a complex number called c\n",
    "    z = 0.0j                    # This line creates a complex number called z, the code complex(0, 0) could also be used.\n",
    "    for i in range(max_iter):   # This loop is used to calculate whether the point diverges.\n",
    "        z = z * z + c           # This line updates the value of z in each iteration of the loop.\n",
    "        if abs(z) > 2.0:        # This line checks if the absolute value of z is greater than 2.\n",
    "            return i\n",
    "    return max_iter\n"
   ]
  },
  {
   "cell_type": "code",
   "execution_count": 10,
   "id": "9259844b-3890-4261-9ef4-93c6c6f12593",
   "metadata": {},
   "outputs": [
    {
     "name": "stdout",
     "output_type": "stream",
     "text": [
      "Fractal Generator - Mandelbrot Set\n"
     ]
    },
    {
     "name": "stdin",
     "output_type": "stream",
     "text": [
      "Enter the range for the X-axis (e.g., -2.0 1.0):  -2.0 1.0\n",
      "Enter the range for the Y-axis (e.g., -1.5 1.5):  -1.5 1.5\n",
      "Maximum number of iterations:  100\n",
      "Resolution (width and height in pixels):  800 800\n",
      "Do you want to save the image to a file? (yes/no):  yes\n",
      "File name (without extension):  mandelbrot\n"
     ]
    },
    {
     "name": "stdout",
     "output_type": "stream",
     "text": [
      "Fractal successfully generated and saved as \"mandelbrot.png\"\n"
     ]
    }
   ],
   "source": [
    "# Request parameters from the user\n",
    "print(\"Fractal Generator - Mandelbrot Set\")\n",
    "xmin, xmax = map(float, input(\"Enter the range for the X-axis (e.g., -2.0 1.0): \").split())\n",
    "ymin, ymax = map(float, input(\"Enter the range for the Y-axis (e.g., -1.5 1.5): \").split())\n",
    "max_iter = int(input(\"Maximum number of iterations: \"))\n",
    "width, height = map(int, input(\"Resolution (width and height in pixels): \").split())\n",
    "save_image = input(\"Do you want to save the image to a file? (yes/no): \").strip().lower()\n",
    "file_name = input(\"File name (without extension): \").strip() if save_image == \"yes\" else None\n",
    "\n",
    "# Create an array to store the values\n",
    "image_plane = np.zeros([height, width])\n",
    "\n",
    "# Calculate the Mandelbrot set\n",
    "for row_index, re in enumerate(np.linspace(xmin, xmax, num=width)):\n",
    "    for col_index, im in enumerate(np.linspace(ymin, ymax, num=height)):\n",
    "        image_plane[col_index, row_index] = mandelbrot(re, im, max_iter)\n",
    "\n",
    "# Display the plot\n",
    "plt.figure(dpi=150)\n",
    "plt.imshow(image_plane.T, cmap='viridis', extent=[xmin, xmax, ymin, ymax])\n",
    "plt.colorbar()\n",
    "plt.title(\"Mandelbrot Set\")\n",
    "\n",
    "# Save the image if the user wants to\n",
    "if save_image == \"yes\" and file_name:\n",
    "    plt.savefig(f\"{file_name}.png\")\n",
    "    print(f\"Fractal successfully generated and saved as \\\"{file_name}.png\\\"\")\n",
    "    plt.close()  # Close the figure after saving it\n",
    "else:\n",
    "    plt.show()\n"
   ]
  }
 ],
 "metadata": {
  "kernelspec": {
   "display_name": "Python 3 (ipykernel)",
   "language": "python",
   "name": "python3"
  },
  "language_info": {
   "codemirror_mode": {
    "name": "ipython",
    "version": 3
   },
   "file_extension": ".py",
   "mimetype": "text/x-python",
   "name": "python",
   "nbconvert_exporter": "python",
   "pygments_lexer": "ipython3",
   "version": "3.12.3"
  }
 },
 "nbformat": 4,
 "nbformat_minor": 5
}
