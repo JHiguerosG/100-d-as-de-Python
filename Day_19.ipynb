{
 "cells": [
  {
   "cell_type": "markdown",
   "id": "3a98956c-fb6d-4ed6-9fbd-5bad6143f53b",
   "metadata": {},
   "source": [
    "# 🔥 Reto 19: Analizador de Archivos CSV 🔥\n",
    "\n",
    "## 🏆 Objetivo:\n",
    "\n",
    "Desarrollar un programa en Python que lea un archivo CSV y realice un análisis básico de los datos contenidos en él.\n",
    "\n",
    "## 📝 Requisitos:\n",
    "\n",
    "1️⃣ Lectura del archivo CSV:  \n",
    "🔸 Solicitar al usuario el nombre del archivo CSV a analizar.  \n",
    "🔸 Manejar posibles excepciones si el archivo no existe o no se puede leer.  \n",
    "\n",
    "2️⃣ Análisis de datos:  \n",
    "🔸 Contar el número total de filas y columnas.  \n",
    "🔸 Mostrar los nombres de las columnas.  \n",
    "🔸 Calcular estadísticas básicas para columnas numéricas (por ejemplo, media, mediana, valor máximo y mínimo).  \n",
    "\n",
    "3️⃣ Opciones adicionales:  \n",
    "🔸 Permitir al usuario filtrar los datos según criterios específicos (por ejemplo, mostrar filas donde el valor en una columna sea mayor que un umbral).  \n",
    "🔸 Guardar los resultados del análisis en un nuevo archivo CSV si el usuario lo desea.  \n",
    "\n",
    "## 🔍 Pistas:\n",
    "\n",
    "🔹 Puedes utilizar el módulo csv de Python para manejar la lectura de archivos CSV.  \n",
    "🔹 Para el cálculo de estadísticas, considera usar bibliotecas como pandas o statistics.  \n",
    "🔹 Asegúrate de manejar adecuadamente las excepciones y proporcionar mensajes claros al usuario en caso de errores.  \n",
    "\n",
    "## 📌 Ejemplo de ejecución:\n",
    "\n",
    "\\>>> Ingresa el nombre del archivo CSV (con extensión .csv): datos.csv  \n",
    "\\>>> Cargando datos...  \n",
    "\n",
    "Análisis del archivo 'datos.csv':  \n",
    "- Número total de filas: 150  \n",
    "- Número total de columnas: 5  \n",
    "- Nombres de las columnas: ['ID', 'Nombre', 'Edad', 'Ciudad', 'Salario']  \n",
    "\n",
    "Estadísticas de columnas numéricas:  \n",
    "- Edad: media=35.4, mediana=34, mínimo=22, máximo=58  \n",
    "- Salario: media=55000.0, mediana=54000, mínimo=30000, máximo=80000  \n",
    "\n",
    "¿Deseas filtrar los datos? (s/n): s  \n",
    "\\>>> Ingresa la columna para filtrar: Edad  \n",
    "\\>>> Ingresa el valor umbral: 30  \n",
    "\\>>> Mostrando filas donde 'Edad' > 30...  \n",
    "\n",
    "\\[Se muestran las filas correspondientes]  \n",
    "\n",
    "¿Deseas guardar los resultados en un nuevo archivo CSV? (s/n): s  \n",
    "\\>>> Ingresa el nombre del nuevo archivo CSV: filtrados.csv  \n",
    "\\>>> Guardando datos en 'filtrados.csv'...  \n",
    "Proceso completado.  "
   ]
  },
  {
   "cell_type": "code",
   "execution_count": 2,
   "id": "d3bfce90-93e5-4f4a-8679-d05c32df2bc5",
   "metadata": {},
   "outputs": [
    {
     "name": "stdin",
     "output_type": "stream",
     "text": [
      ">>> Enter the name of the CSV file (with .csv extension):  datos_ejemplo.csv\n"
     ]
    },
    {
     "name": "stdout",
     "output_type": "stream",
     "text": [
      "\n",
      ">>> Loading data...\n",
      "\n",
      "Analysis of the file 'datos_ejemplo.csv':\n",
      "- Total number of rows: 20\n",
      "- Total number of columns: 5\n",
      "- Column names: ['ID', 'Nombre', 'Edad', 'Ciudad', 'Salario']\n",
      "\n",
      "Statistics of numeric columns:\n",
      "- ID: mean=10.5, median=10, min=1, max=20\n",
      "- Edad: mean=35.6, median=34, min=25, max=50\n",
      "- Salario: mean=43600.0, median=44000, min=30000, max=60000\n"
     ]
    },
    {
     "name": "stdin",
     "output_type": "stream",
     "text": [
      "\n",
      "Do you want to filter the data? (y/n):  y\n"
     ]
    },
    {
     "name": "stdout",
     "output_type": "stream",
     "text": [
      "\n",
      "Available columns to filter: ['ID', 'Edad', 'Salario']\n"
     ]
    },
    {
     "name": "stdin",
     "output_type": "stream",
     "text": [
      ">>> Enter the column to filter:  Salario\n",
      ">>> Enter the threshold value:  1000\n"
     ]
    },
    {
     "name": "stdout",
     "output_type": "stream",
     "text": [
      "\n",
      "Showing rows where 'Salario' > 1000.0...\n",
      "\n",
      "   ID  Nombre  Edad     Ciudad  Salario\n",
      "0   1    Juan    25     Madrid    30000\n",
      "1   2   María    34  Barcelona    45000\n",
      "2   3  Carlos    42    Sevilla    50000\n",
      "3   4     Ana    29   Valencia    32000\n",
      "4   5    Luis    31     Bilbao    41000\n"
     ]
    },
    {
     "name": "stdin",
     "output_type": "stream",
     "text": [
      "\n",
      "Do you want to save the results to a new CSV file? (y/n):  n\n"
     ]
    },
    {
     "name": "stdout",
     "output_type": "stream",
     "text": [
      ">>> Data not saved.\n"
     ]
    }
   ],
   "source": [
    "import pandas as pd\n",
    "\n",
    "def analyze_csv(file_path):\n",
    "    \"\"\"\n",
    "    Reads a CSV file and performs basic analysis.\n",
    "\n",
    "    :param file_path: Path to the CSV file.\n",
    "    \"\"\"\n",
    "    try:\n",
    "        # Load the CSV file into a DataFrame\n",
    "        df = pd.read_csv(file_path)\n",
    "\n",
    "        # Count rows and columns\n",
    "        num_rows, num_columns = df.shape\n",
    "        column_names = df.columns.tolist()\n",
    "\n",
    "        print(\"\\n>>> Loading data...\\n\")\n",
    "        print(f\"Analysis of the file '{file_path}':\")\n",
    "        print(f\"- Total number of rows: {num_rows}\")\n",
    "        print(f\"- Total number of columns: {num_columns}\")\n",
    "        print(f\"- Column names: {column_names}\\n\")\n",
    "\n",
    "        # Filter only numeric columns for statistics\n",
    "        numeric_cols = df.select_dtypes(include=['number'])\n",
    "\n",
    "        if not numeric_cols.empty:\n",
    "            print(\"Statistics of numeric columns:\")\n",
    "            for col in numeric_cols.columns:\n",
    "                print(f\"- {col}: mean={numeric_cols[col].mean():.1f}, \"\n",
    "                      f\"median={numeric_cols[col].median():.0f}, \"\n",
    "                      f\"min={numeric_cols[col].min()}, \"\n",
    "                      f\"max={numeric_cols[col].max()}\")\n",
    "        else:\n",
    "            print(\"No numeric columns to analyze.\")\n",
    "\n",
    "        return df\n",
    "\n",
    "    except FileNotFoundError:\n",
    "        print(\"❌ Error: The file does not exist. Check the name and location.\")\n",
    "        return None\n",
    "    except pd.errors.EmptyDataError:\n",
    "        print(\"❌ Error: The file is empty.\")\n",
    "        return None\n",
    "    except pd.errors.ParserError:\n",
    "        print(\"❌ Error: Could not parse the file. Check the format.\")\n",
    "        return None\n",
    "\n",
    "def filter_data(df):\n",
    "    \"\"\"\n",
    "    Allows the user to filter the DataFrame based on a numeric column.\n",
    "    \n",
    "    :param df: Pandas DataFrame.\n",
    "    :return: Filtered DataFrame.\n",
    "    \"\"\"\n",
    "    while True:\n",
    "        filter_choice = input(\"\\nDo you want to filter the data? (y/n): \").strip().lower()\n",
    "        if filter_choice == 'y':\n",
    "            print(\"\\nAvailable columns to filter:\", df.select_dtypes(include=['number']).columns.tolist())\n",
    "            column_name = input(\">>> Enter the column to filter: \").strip()\n",
    "\n",
    "            if column_name in df.columns and pd.api.types.is_numeric_dtype(df[column_name]):\n",
    "                try:\n",
    "                    threshold = float(input(\">>> Enter the threshold value: \"))\n",
    "                    df_filtered = df[df[column_name] > threshold]\n",
    "                    print(f\"\\nShowing rows where '{column_name}' > {threshold}...\\n\")\n",
    "                    print(df_filtered.head())\n",
    "                    return df_filtered\n",
    "                except ValueError:\n",
    "                    print(\"❌ Error: Enter a valid number.\")\n",
    "            else:\n",
    "                print(\"❌ Error: Invalid column or not numeric.\")\n",
    "        elif filter_choice == 'n':\n",
    "            return df\n",
    "        else:\n",
    "            print(\"❌ Invalid response. Enter 'y' or 'n'.\")\n",
    "\n",
    "def save_filtered_data(df):\n",
    "    \"\"\"\n",
    "    Saves the filtered DataFrame to a new CSV file.\n",
    "    \n",
    "    :param df: Filtered DataFrame.\n",
    "    \"\"\"\n",
    "    while True:\n",
    "        save_choice = input(\"\\nDo you want to save the results to a new CSV file? (y/n): \").strip().lower()\n",
    "        if save_choice == 'y':\n",
    "            file_name = input(\">>> Enter the name of the new CSV file: \").strip()\n",
    "            df.to_csv(file_name, index=False, encoding='utf-8')\n",
    "            print(f\">>> Saving data to '{file_name}'...\\nProcess completed.\")\n",
    "            break\n",
    "        elif save_choice == 'n':\n",
    "            print(\">>> Data not saved.\")\n",
    "            break\n",
    "        else:\n",
    "            print(\"❌ Invalid response. Enter 'y' or 'n'.\")\n",
    "\n",
    "# Main program\n",
    "file_name = input(\">>> Enter the name of the CSV file (with .csv extension): \").strip()\n",
    "\n",
    "df = analyze_csv(file_name)\n",
    "if df is not None:\n",
    "    df_filtered = filter_data(df)\n",
    "    save_filtered_data(df_filtered)"
   ]
  }
 ],
 "metadata": {
  "kernelspec": {
   "display_name": "Python 3 (ipykernel)",
   "language": "python",
   "name": "python3"
  },
  "language_info": {
   "codemirror_mode": {
    "name": "ipython",
    "version": 3
   },
   "file_extension": ".py",
   "mimetype": "text/x-python",
   "name": "python",
   "nbconvert_exporter": "python",
   "pygments_lexer": "ipython3",
   "version": "3.12.3"
  }
 },
 "nbformat": 4,
 "nbformat_minor": 5
}
