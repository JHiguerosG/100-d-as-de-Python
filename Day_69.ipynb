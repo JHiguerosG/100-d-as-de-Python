{
 "cells": [
  {
   "cell_type": "markdown",
   "id": "63e778a8-0290-45c1-b9c4-5fe3398ad22a",
   "metadata": {},
   "source": [
    "# 🧠 Reto 69: Simulador de Clasificación Mundialista 🧠\n",
    "\n",
    "## 🏆 Objetivo:\n",
    "\n",
    "Simular la fase de grupos de un torneo tipo mundial de fútbol. El usuario podrá ingresar los equipos, los resultados de los partidos y el sistema calculará automáticamente la tabla de posiciones (puntos, diferencia de goles, partidos ganados, empatados, perdidos, goles a favor y en contra).\n",
    "\n",
    "## 📝 Requisitos:\n",
    "\n",
    "1️⃣ El usuario debe poder ingresar **mínimo 4 equipos** para formar un grupo.  \n",
    "2️⃣ Debe simularse que **cada equipo juega contra todos los demás una vez** (round-robin).  \n",
    "3️⃣ Por cada partido se deben ingresar: `🔸 Equipo local` `🔸 Goles del equipo local` `🔸 Equipo visitante` `🔸 Goles del equipo visitante`   \n",
    "4️⃣ El programa debe calcular y mostrar la tabla de posiciones ordenada por: `🔸 Puntos` `🔸 Diferencia de goles` `🔸 Goles a favor`    \n",
    "5️⃣ La tabla debe mostrar por equipo: `🔸 Partidos jugados (PJ)` `🔸 Ganados (G)` `🔸 Empatados (E)` `🔸 Perdidos (P)` `🔸 Goles a favor (GF)` `🔸 Goles en contra (GC)` `🔸 Diferencia de goles (DG)` `🔸 Puntos (PTS)`    \n",
    "\n",
    "## 📌 Ejemplo de ejecución:\n",
    "\n",
    "Ingrese el número de equipos: 4  \n",
    "Nombre del equipo 1: Brasil  \n",
    "Nombre del equipo 2: Argentina  \n",
    "Nombre del equipo 3: Francia  \n",
    "Nombre del equipo 4: Alemania  \n",
    "\n",
    "Resultado del partido 1:  \n",
    "Brasil vs Argentina  \n",
    "Goles de Brasil: 2  \n",
    "Goles de Argentina: 2  \n",
    "\n",
    "Resultado del partido 2:  \n",
    "Brasil vs Francia  \n",
    "Goles de Brasil: 1  \n",
    "Goles de Francia: 0  \n",
    "\n",
    "... (hasta completar todos los partidos posibles)  \n",
    "\n",
    "🏆 Tabla de posiciones:  \n",
    "\n",
    "| Equipo      | PJ | G | E | P | GF | GC | DG | PTS |\n",
    "|-------------|----|---|---|---|----|----|----|-----|\n",
    "| Brasil      |  3 | 2 | 1 | 0 |  5 |  2 |  3 |   7 |\n",
    "| Argentina   |  3 | 1 | 1 | 1 |  4 |  4 |  0 |   4 |\n",
    "| Francia     |  3 | 1 | 0 | 2 |  3 |  5 | -2 |   3 |\n",
    "| Alemania    |  3 | 0 | 2 | 1 |  2 |  3 | -1 |   2 |\n",
    "\n",
    "## 🔍 Pistas:\n",
    "\n",
    "🔹 Crea una estructura de datos adecuada por equipo (por ejemplo, un diccionario anidado).  \n",
    "🔹 Recorre todos los pares de equipos posibles sin repetir enfrentamientos.  \n",
    "🔹 Para ordenar la tabla final, puedes usar `sorted()` con `lambda` por múltiples criterios.  \n",
    "🔹 Recuerda que: `🔸 Victoria: 3 puntos` `🔸 Empate: 1 punto` `🔸 Derrota: 0 puntos`    \n",
    "🔹 Mantén la presentación ordenada con `f-strings` ajustando anchos.  "
   ]
  },
  {
   "cell_type": "code",
   "execution_count": 8,
   "id": "b01daf9e-c24e-465f-bbd3-cdb66285a8cf",
   "metadata": {},
   "outputs": [
    {
     "name": "stdout",
     "output_type": "stream",
     "text": [
      "🏆 Simulación de Fase de Grupos de un Torneo 🏆\n"
     ]
    },
    {
     "name": "stdin",
     "output_type": "stream",
     "text": [
      "Ingrese el número de equipos:  4\n",
      "Nombre del equipo 1:  Brasil\n",
      "Nombre del equipo 2:  Argentina\n",
      "Nombre del equipo 3:  Francia\n",
      "Nombre del equipo 4:  Alemania\n"
     ]
    },
    {
     "name": "stdout",
     "output_type": "stream",
     "text": [
      "\n",
      "Resultado del partido: Brasil vs Argentina\n"
     ]
    },
    {
     "name": "stdin",
     "output_type": "stream",
     "text": [
      "Goles de Brasil:  2\n",
      "Goles de Argentina:  1\n"
     ]
    },
    {
     "name": "stdout",
     "output_type": "stream",
     "text": [
      "\n",
      "Resultado del partido: Brasil vs Francia\n"
     ]
    },
    {
     "name": "stdin",
     "output_type": "stream",
     "text": [
      "Goles de Brasil:  3\n",
      "Goles de Francia:  2\n"
     ]
    },
    {
     "name": "stdout",
     "output_type": "stream",
     "text": [
      "\n",
      "Resultado del partido: Brasil vs Alemania\n"
     ]
    },
    {
     "name": "stdin",
     "output_type": "stream",
     "text": [
      "Goles de Brasil:  2\n",
      "Goles de Alemania:  2\n"
     ]
    },
    {
     "name": "stdout",
     "output_type": "stream",
     "text": [
      "\n",
      "Resultado del partido: Argentina vs Francia\n"
     ]
    },
    {
     "name": "stdin",
     "output_type": "stream",
     "text": [
      "Goles de Argentina:  1\n",
      "Goles de Francia:  2\n"
     ]
    },
    {
     "name": "stdout",
     "output_type": "stream",
     "text": [
      "\n",
      "Resultado del partido: Argentina vs Alemania\n"
     ]
    },
    {
     "name": "stdin",
     "output_type": "stream",
     "text": [
      "Goles de Argentina:  2\n",
      "Goles de Alemania:  2\n"
     ]
    },
    {
     "name": "stdout",
     "output_type": "stream",
     "text": [
      "\n",
      "Resultado del partido: Francia vs Alemania\n"
     ]
    },
    {
     "name": "stdin",
     "output_type": "stream",
     "text": [
      "Goles de Francia:  2\n",
      "Goles de Alemania:  4\n"
     ]
    },
    {
     "name": "stdout",
     "output_type": "stream",
     "text": [
      "\n",
      "🏆 Tabla de posiciones:\n",
      "\n",
      "Equipo          PJ  G   E   P   GF  GC  DG  PTS\n",
      "-----------------------------------------------\n",
      "Brasil          3   2   1   0   7   5   2   7  \n",
      "Alemania        3   1   2   0   8   6   2   5  \n",
      "Francia         3   1   0   2   6   8   -2  3  \n",
      "Argentina       3   0   1   2   4   6   -2  1  \n"
     ]
    }
   ],
   "source": [
    "from itertools import combinations\n",
    "\n",
    "def ingresar_equipos():\n",
    "    while True:\n",
    "        try:\n",
    "            num_equipos = int(input(\"Ingrese el número de equipos: \"))\n",
    "            if num_equipos < 2:\n",
    "                print(\"Debe haber al menos 2 equipos.\")\n",
    "                continue\n",
    "            break\n",
    "        except ValueError:\n",
    "            print(\"Por favor, ingrese un número válido.\")\n",
    "    \n",
    "    equipos = {}\n",
    "    for i in range(num_equipos):\n",
    "        while True:\n",
    "            nombre = input(f\"Nombre del equipo {i + 1}: \").strip()\n",
    "            if nombre == \"\":\n",
    "                print(\"El nombre no puede estar vacío.\")\n",
    "            elif nombre in equipos:\n",
    "                print(\"Este equipo ya fue ingresado. Ingrese un nombre diferente.\")\n",
    "            else:\n",
    "                break\n",
    "        equipos[nombre] = {\n",
    "            \"PJ\": 0, \"G\": 0, \"E\": 0, \"P\": 0,\n",
    "            \"GF\": 0, \"GC\": 0, \"DG\": 0, \"PTS\": 0\n",
    "        }\n",
    "    return equipos\n",
    "\n",
    "def ingresar_resultados(equipos):\n",
    "    partidos = list(combinations(equipos.keys(), 2))\n",
    "    for local, visitante in partidos:\n",
    "        print(f\"\\nResultado del partido: {local} vs {visitante}\")\n",
    "        goles_local = ingresar_goles(f\"Goles de {local}: \")\n",
    "        goles_visitante = ingresar_goles(f\"Goles de {visitante}: \")\n",
    "\n",
    "        actualizar_estadisticas(equipos, local, visitante, goles_local, goles_visitante)\n",
    "\n",
    "def ingresar_goles(mensaje):\n",
    "    while True:\n",
    "        try:\n",
    "            goles = int(input(mensaje))\n",
    "            if goles < 0:\n",
    "                print(\"Los goles no pueden ser negativos.\")\n",
    "                continue\n",
    "            return goles\n",
    "        except ValueError:\n",
    "            print(\"Ingrese un número entero válido.\")\n",
    "\n",
    "def actualizar_estadisticas(equipos, local, visitante, goles_local, goles_visitante):\n",
    "    equipos[local][\"PJ\"] += 1\n",
    "    equipos[visitante][\"PJ\"] += 1\n",
    "    equipos[local][\"GF\"] += goles_local\n",
    "    equipos[visitante][\"GF\"] += goles_visitante\n",
    "    equipos[local][\"GC\"] += goles_visitante\n",
    "    equipos[visitante][\"GC\"] += goles_local\n",
    "    equipos[local][\"DG\"] = equipos[local][\"GF\"] - equipos[local][\"GC\"]\n",
    "    equipos[visitante][\"DG\"] = equipos[visitante][\"GF\"] - equipos[visitante][\"GC\"]\n",
    "\n",
    "    if goles_local > goles_visitante:\n",
    "        equipos[local][\"G\"] += 1\n",
    "        equipos[local][\"PTS\"] += 3\n",
    "        equipos[visitante][\"P\"] += 1\n",
    "    elif goles_local < goles_visitante:\n",
    "        equipos[visitante][\"G\"] += 1\n",
    "        equipos[visitante][\"PTS\"] += 3\n",
    "        equipos[local][\"P\"] += 1\n",
    "    else:\n",
    "        equipos[local][\"E\"] += 1\n",
    "        equipos[visitante][\"E\"] += 1\n",
    "        equipos[local][\"PTS\"] += 1\n",
    "        equipos[visitante][\"PTS\"] += 1\n",
    "\n",
    "def generar_tabla(equipos):\n",
    "    tabla = sorted(\n",
    "        equipos.items(),\n",
    "        key=lambda x: (x[1][\"PTS\"], x[1][\"DG\"], x[1][\"GF\"]),\n",
    "        reverse=True\n",
    "    )\n",
    "\n",
    "    print(\"\\n🏆 Tabla de posiciones:\\n\")\n",
    "    encabezado = f\"{'Equipo':<15} {'PJ':<3} {'G':<3} {'E':<3} {'P':<3} {'GF':<3} {'GC':<3} {'DG':<3} {'PTS':<3}\"\n",
    "    print(encabezado)\n",
    "    print(\"-\" * len(encabezado))\n",
    "    for equipo, datos in tabla:\n",
    "        print(f\"{equipo:<15} {datos['PJ']:<3} {datos['G']:<3} {datos['E']:<3} {datos['P']:<3} {datos['GF']:<3} {datos['GC']:<3} {datos['DG']:<3} {datos['PTS']:<3}\")\n",
    "\n",
    "# Flujo principal\n",
    "print(\"🏆 Simulación de Fase de Grupos de un Torneo 🏆\")\n",
    "equipos = ingresar_equipos()\n",
    "ingresar_resultados(equipos)\n",
    "generar_tabla(equipos)\n"
   ]
  }
 ],
 "metadata": {
  "kernelspec": {
   "display_name": "Python 3 (ipykernel)",
   "language": "python",
   "name": "python3"
  },
  "language_info": {
   "codemirror_mode": {
    "name": "ipython",
    "version": 3
   },
   "file_extension": ".py",
   "mimetype": "text/x-python",
   "name": "python",
   "nbconvert_exporter": "python",
   "pygments_lexer": "ipython3",
   "version": "3.12.3"
  }
 },
 "nbformat": 4,
 "nbformat_minor": 5
}
