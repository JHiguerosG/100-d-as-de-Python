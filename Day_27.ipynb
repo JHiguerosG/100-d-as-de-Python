{
 "cells": [
  {
   "cell_type": "markdown",
   "id": "6be2c2e8-86a6-4ced-b518-dd0a19f730b0",
   "metadata": {},
   "source": [
    "# 🧠 Reto 27: Detector de Correos Electrónicos 🧠\n",
    "\n",
    "## 🏆 Objetivo:\n",
    "\n",
    "Escribir un programa en Python que analice un archivo de texto y extraiga todas las direcciones de correo electrónico válidas.\n",
    "\n",
    "## 📝 Requisitos:\n",
    "\n",
    "1️⃣ El programa debe leer un archivo de texto proporcionado por el usuario.  \n",
    "2️⃣ Debe buscar y extraer todas las direcciones de correo electrónico que cumplan con el formato estándar (ejemplo: usuario@dominio.com).  \n",
    "3️⃣ Utilizar expresiones regulares para validar los correos electrónicos.  \n",
    "4️⃣ Guardar los correos encontrados en un archivo llamado emails_extraidos.txt.  \n",
    "5️⃣ Si no se encuentran correos en el archivo, el programa debe notificar al usuario.  \n",
    "\n",
    "## 📌 Ejemplo de ejecución:\n",
    "\n",
    "**Entrada (archivo de texto con el siguiente contenido):**  \n",
    "\n",
    "Hola Juan, envíame el reporte a juan.perez@example.com y copia a maria_garcia@empresa.org.    \n",
    "También puedes contactar a soporte en support@mywebsite.net.    \n",
    "\n",
    "**Salida (contenido de emails_extraidos.txt):**   \n",
    "\n",
    "juan.perez@example.com  \n",
    "maria_garcia@empresa.org  \n",
    "support@mywebsite.net  \n",
    "\n",
    "Correos electrónicos extraídos y guardados en 'emails_extraidos.txt'.  \n",
    "\n",
    "## 🔍 Pistas:\n",
    "\n",
    "🔸 Usa la librería re para encontrar correos electrónicos con una expresión regular.  \n",
    "🔸 Recuerda que un correo electrónico generalmente tiene el formato usuario@dominio.extensión, pero puede contener caracteres como _, . y números.  \n",
    "🔸 Puedes probar la expresión regular en un sitio como regex101.com antes de implementarla en código.  \n",
    "🔸 Utiliza with open(...) para leer y escribir archivos de manera segura.  "
   ]
  },
  {
   "cell_type": "code",
   "execution_count": 62,
   "id": "e76232e7-fb88-4c9a-a53e-44c9d5c42fa9",
   "metadata": {},
   "outputs": [],
   "source": [
    "import re\n",
    "\n",
    "def extract_words(file_name):\n",
    "    \"\"\"\n",
    "    Extracts words from a text file.\n",
    "\n",
    "    :param file_name: Name of the file (without .txt extension).\n",
    "    :return: List of words extracted from the file.\n",
    "    \"\"\"\n",
    "    words = []\n",
    "    try:\n",
    "        with open(file_name + '.txt', 'r', encoding='utf-8') as file:\n",
    "            for line in file:\n",
    "                for word in line.split():\n",
    "                    words.append(word)\n",
    "        if not words:\n",
    "            print(f\"Error: The file '{file_name}.txt' is empty.\")\n",
    "        return words\n",
    "    except FileNotFoundError:\n",
    "        print(f\"Error: The file '{file_name}.txt' was not found.\")\n",
    "        return []\n",
    "\n",
    "def find_emails(words):\n",
    "    \"\"\"\n",
    "    Finds email addresses in a list of words using a regular expression.\n",
    "\n",
    "    :param words: List of words to search for email addresses.\n",
    "    :return: List of email addresses found or None if no emails are found.\n",
    "    \"\"\"\n",
    "    # Improved regular expression pattern for matching email addresses\n",
    "    pattern = r\"[a-zA-Z0-9._%+-]+@[a-zA-Z0-9.-]+\\.[a-zA-Z]{2,}\"\n",
    "    emails_found = []\n",
    "    \n",
    "    for word in words:\n",
    "        results = re.findall(pattern, word)\n",
    "        emails_found.extend(results)\n",
    "        \n",
    "    return emails_found if emails_found else None\n"
   ]
  },
  {
   "cell_type": "code",
   "execution_count": 63,
   "id": "ebf376e9-280c-4b01-938c-3ea12abbde2f",
   "metadata": {},
   "outputs": [
    {
     "name": "stdin",
     "output_type": "stream",
     "text": [
      ">>> Enter the file name (without .txt):  correos\n"
     ]
    },
    {
     "name": "stdout",
     "output_type": "stream",
     "text": [
      "\n",
      "Email addresses extracted and saved in 'extracted_emails.txt'.\n",
      "\n",
      "juan.perez@example.com\n",
      "maria_garcia@empresa.org\n",
      "support@mywebsite.net\n"
     ]
    }
   ],
   "source": [
    "while True:\n",
    "    # Get the file name from the user\n",
    "    file_name = input('>>> Enter the file name (without .txt): ').strip()\n",
    "    \n",
    "    # Extract words from the file and find email addresses\n",
    "    words = extract_words(file_name)\n",
    "    if not words:\n",
    "        continue\n",
    "    \n",
    "    emails_found = find_emails(words)\n",
    "\n",
    "    if emails_found is None:\n",
    "        print(f\"No email addresses were found in '{file_name}.txt'.\")\n",
    "        break\n",
    "    else:\n",
    "        # Save the found email addresses to a text file\n",
    "        with open(\"extracted_emails.txt\", \"w\", encoding='utf-8') as file:\n",
    "            for email in emails_found:\n",
    "                file.write(email + \"\\n\")\n",
    "        \n",
    "        print(\"\\nEmail addresses extracted and saved in 'extracted_emails.txt'.\\n\")\n",
    "        for email in emails_found:\n",
    "            print(email)\n",
    "        break\n"
   ]
  }
 ],
 "metadata": {
  "kernelspec": {
   "display_name": "Python 3 (ipykernel)",
   "language": "python",
   "name": "python3"
  },
  "language_info": {
   "codemirror_mode": {
    "name": "ipython",
    "version": 3
   },
   "file_extension": ".py",
   "mimetype": "text/x-python",
   "name": "python",
   "nbconvert_exporter": "python",
   "pygments_lexer": "ipython3",
   "version": "3.12.3"
  }
 },
 "nbformat": 4,
 "nbformat_minor": 5
}
