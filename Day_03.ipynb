{
 "cells": [
  {
   "cell_type": "markdown",
   "id": "e6202768-f855-4fb7-a61b-6bb8e76ce0fe",
   "metadata": {},
   "source": [
    "# 🚀 Reto 3: Múltiplos de un Número\n",
    "\n",
    "## Objetivo:\n",
    "Escribe un programa en Python que:\n",
    "\n",
    "1. Pida al usuario un número entero positivo.  \n",
    "2. Pida al usuario un límite (otro número entero positivo).  \n",
    "3. Muestre todos los múltiplos del primer número hasta alcanzar el límite.\n",
    "\n",
    "## 📌 Ejemplo de ejecución:\n",
    "\n",
    "\\>>> Enter a positive integer: 3  \n",
    "\\>>> Enter a limit: 20  \n",
    "\n",
    "Multiples of 3 up to 20: 3, 6, 9, 12, 15, 18  \n",
    "\n",
    "## ⚠️ Reglas y consideraciones:\n",
    "\n",
    "✅ Asegúrate de que los números sean positivos y enteros.  \n",
    "✅ Usa un bucle para generar los múltiplos.  \n",
    "✅ Maneja errores si el usuario no introduce números válidos.  \n",
    "✅ Si el número base es mayor que el límite, muestra un mensaje apropiado.  "
   ]
  },
  {
   "cell_type": "code",
   "execution_count": 61,
   "id": "3ddadf3f-7f5b-4c82-948b-9bc176b9b6ec",
   "metadata": {},
   "outputs": [
    {
     "name": "stdin",
     "output_type": "stream",
     "text": [
      ">>> Enter a positive integer:  3\n",
      ">>> Enter a limit:  20\n"
     ]
    },
    {
     "name": "stdout",
     "output_type": "stream",
     "text": [
      "\n",
      "Multiples of 3 up to 20: 3, 6, 9, 12, 15, 18\n",
      "\n"
     ]
    }
   ],
   "source": [
    "while True:\n",
    "    try:\n",
    "        num = int(input('>>> Enter a positive integer: '))\n",
    "\n",
    "        if num <= 0:\n",
    "            print('⚠️ The number must be a positive integer greater than 0.\\nTry again.')\n",
    "            continue  # Restart the loop\n",
    "\n",
    "        limit = int(input('>>> Enter a limit: '))\n",
    "\n",
    "        if limit <= 0:\n",
    "            print('⚠️ The limit must be a positive integer greater than 0.\\nTry again.')\n",
    "            continue\n",
    "\n",
    "        if num > limit:\n",
    "            print('⚠️ The number cannot be greater than the limit. Try again.')\n",
    "            continue\n",
    "\n",
    "        # Generate multiples\n",
    "        multiples = [i * num for i in range(1, limit) if i * num <= limit]\n",
    "        \n",
    "        # Display results in a cleaner format\n",
    "        print(f'\\nMultiples of {num} up to {limit}: {\", \".join(map(str, multiples))}\\n')\n",
    "        break  # Exit the loop when the process completes successfully\n",
    "\n",
    "    except ValueError:\n",
    "        print('⚠️ Invalid input: Please enter a valid positive integer.\\nTry again.')"
   ]
  }
 ],
 "metadata": {
  "kernelspec": {
   "display_name": "Python 3 (ipykernel)",
   "language": "python",
   "name": "python3"
  },
  "language_info": {
   "codemirror_mode": {
    "name": "ipython",
    "version": 3
   },
   "file_extension": ".py",
   "mimetype": "text/x-python",
   "name": "python",
   "nbconvert_exporter": "python",
   "pygments_lexer": "ipython3",
   "version": "3.12.3"
  }
 },
 "nbformat": 4,
 "nbformat_minor": 5
}
