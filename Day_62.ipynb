{
 "cells": [
  {
   "cell_type": "markdown",
   "id": "4c29d88f-97ec-4a30-9d11-f994f6adc057",
   "metadata": {},
   "source": [
    "# 🧠 Reto 62: Simulador de Ruleta de Premios 🧠\n",
    "\n",
    "## 🏆 Objetivo:\n",
    "\n",
    "Crear un simulador de ruleta de premios donde el usuario pueda ingresar una lista de premios y luego simular el giro de una ruleta para seleccionar aleatoriamente uno de ellos. El programa mostrará una animación simple de giro antes de anunciar al ganador.\n",
    "\n",
    "## 📝 Requisitos:\n",
    "\n",
    "1️⃣ Solicitar al usuario que ingrese una lista de premios separados por comas.  \n",
    "2️⃣ Mostrar una “animación” en la consola simulando que la ruleta está girando (usando `time.sleep()` y mostrando los elementos girando).  \n",
    "3️⃣ Elegir aleatoriamente un premio de la lista como resultado final.  \n",
    "4️⃣ Preguntar si desea girar de nuevo.  \n",
    "5️⃣ Evitar repetir el premio ya ganado si se hacen múltiples giros.  \n",
    "6️⃣ Finalizar cuando ya no queden premios o el usuario elija salir.  \n",
    "\n",
    "## 📌 Ejemplo de ejecución:\n",
    "\n",
    "🎰 Bienvenido al Simulador de Ruleta de Premios 🎰  \n",
    "Ingrese los premios separados por comas:  \n",
    "\\> Televisor, Viaje a Cancún, Laptop, Celular, Bicicleta  \n",
    "\n",
    "Girando la ruleta... 🎡   \n",
    "\n",
    "💫 Celular  \n",
    "💫 Bicicleta  \n",
    "💫 Televisor  \n",
    "💫 Laptop  \n",
    "💫 Viaje a Cancún  \n",
    "💫 Televisor  \n",
    "💫 Bicicleta  \n",
    "...  \n",
    "🎉 ¡Felicidades! Has ganado: 🎁 Laptop 🎁  \n",
    "\n",
    "¿Deseas girar de nuevo? (s/n)  \n",
    "\\> s  \n",
    "\n",
    "Girando la ruleta... 🎡  \n",
    "...  \n",
    "🎉 ¡Felicidades! Has ganado: 🎁 Televisor 🎁  \n",
    "\n",
    "(continúa hasta que el usuario decida salir o se acaben los premios)  \n",
    "\n",
    "## 🔍 Pistas:\n",
    "\n",
    "Usa `random.choice()` para seleccionar el premio al azar.  \n",
    "Para simular el giro, puedes imprimir varios elementos de la lista con un `time.sleep()` corto entre cada uno.  \n",
    "Utiliza `set` o `list.remove()` para evitar repetir premios ya ganados.  \n",
    "Puedes usar `itertools.cycle` para dar la ilusión de un giro continuo mientras haces `time.sleep()` y actualizas la línea impresa.  "
   ]
  },
  {
   "cell_type": "code",
   "execution_count": 10,
   "id": "f04ae586-ad4c-4dce-84ed-cae89edce503",
   "metadata": {},
   "outputs": [
    {
     "name": "stdout",
     "output_type": "stream",
     "text": [
      "🎰 Bienvenido al Simulador de Ruleta de Premios 🎰\n"
     ]
    },
    {
     "name": "stdin",
     "output_type": "stream",
     "text": [
      "Ingrese los premios separados por comas:  Televisor, Viaje a Cancún, Laptop, Celular, Bicicleta\n"
     ]
    },
    {
     "name": "stdout",
     "output_type": "stream",
     "text": [
      "\n",
      "Girando la ruleta... 🎡\n",
      "💫 Televisor       \n",
      "🎉 ¡Felicidades! Has ganado: 🎁 Televisor 🎁\n"
     ]
    },
    {
     "name": "stdin",
     "output_type": "stream",
     "text": [
      "¿Deseas girar de nuevo? (s/n):  s\n"
     ]
    },
    {
     "name": "stdout",
     "output_type": "stream",
     "text": [
      "\n",
      "Girando la ruleta... 🎡\n",
      "💫 Viaje a Cancún  \n",
      "🎉 ¡Felicidades! Has ganado: 🎁 Viaje a Cancún 🎁\n"
     ]
    },
    {
     "name": "stdin",
     "output_type": "stream",
     "text": [
      "¿Deseas girar de nuevo? (s/n):  s\n"
     ]
    },
    {
     "name": "stdout",
     "output_type": "stream",
     "text": [
      "\n",
      "Girando la ruleta... 🎡\n",
      "💫 Celular    \n",
      "🎉 ¡Felicidades! Has ganado: 🎁 Celular 🎁\n"
     ]
    },
    {
     "name": "stdin",
     "output_type": "stream",
     "text": [
      "¿Deseas girar de nuevo? (s/n):  n\n"
     ]
    },
    {
     "name": "stdout",
     "output_type": "stream",
     "text": [
      "🙌 ¡Gracias por jugar! Hasta la próxima.\n"
     ]
    }
   ],
   "source": [
    "import random\n",
    "import itertools\n",
    "import time\n",
    "\n",
    "def ruleta_premios():\n",
    "    \"\"\"\n",
    "    Simulador de ruleta de premios que permite al usuario ingresar una lista de premios.\n",
    "    Luego, el programa selecciona un premio al azar mientras evita repetir premios ya ganados.\n",
    "    El programa muestra una animación de giro en la consola y continúa hasta que se\n",
    "    acaben los premios o el usuario decida salir.\n",
    "\n",
    "    Funcionalidades:\n",
    "    - Solicitar al usuario una lista de premios separados por comas.\n",
    "    - Mostrar una animación en la consola simulando giros.\n",
    "    - Elegir como premio el último mostrado en la animación.\n",
    "    - Evitar repetir premios ganados en giros posteriores.\n",
    "    - Finalizar cuando no queden premios o el usuario elija no seguir jugando.\n",
    "    \"\"\"\n",
    "    print(\"🎰 Bienvenido al Simulador de Ruleta de Premios 🎰\")\n",
    "    premios = input(\"Ingrese los premios separados por comas: \").split(\",\")\n",
    "    premios = [premio.strip() for premio in premios if premio.strip()]\n",
    "\n",
    "    if not premios:\n",
    "        print(\"❗ Debes ingresar al menos un premio válido.\")\n",
    "        return\n",
    "\n",
    "    while premios:\n",
    "        print(\"\\nGirando la ruleta... 🎡\")\n",
    "        ciclo_ruleta = itertools.cycle(premios)\n",
    "        max_largo = max(len(p) for p in premios)\n",
    "        vueltas = random.randint(10, 20)\n",
    "\n",
    "        premio_final = \"\"\n",
    "        for _ in range(vueltas):\n",
    "            premio_mostrado = next(ciclo_ruleta)\n",
    "            premio_final = premio_mostrado\n",
    "            texto = f\"💫 {premio_mostrado}\".ljust(max_largo + 4)\n",
    "            print(texto, end=\"\\r\", flush=True)\n",
    "            time.sleep(0.15)\n",
    "\n",
    "        print(f\"\\n🎉 ¡Felicidades! Has ganado: 🎁 {premio_final} 🎁\")\n",
    "        premios.remove(premio_final)\n",
    "\n",
    "        if not premios:\n",
    "            print(\"🎁 ¡Ya no quedan premios! Gracias por jugar.\")\n",
    "            break\n",
    "\n",
    "        otra_vez = input(\"¿Deseas girar de nuevo? (s/n): \").strip().lower()\n",
    "        if otra_vez != \"s\":\n",
    "            print(\"🙌 ¡Gracias por jugar! Hasta la próxima.\")\n",
    "            break\n",
    "\n",
    "# Ejecutar la función\n",
    "ruleta_premios()\n"
   ]
  }
 ],
 "metadata": {
  "kernelspec": {
   "display_name": "Python 3 (ipykernel)",
   "language": "python",
   "name": "python3"
  },
  "language_info": {
   "codemirror_mode": {
    "name": "ipython",
    "version": 3
   },
   "file_extension": ".py",
   "mimetype": "text/x-python",
   "name": "python",
   "nbconvert_exporter": "python",
   "pygments_lexer": "ipython3",
   "version": "3.12.3"
  }
 },
 "nbformat": 4,
 "nbformat_minor": 5
}
