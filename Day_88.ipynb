{
 "cells": [
  {
   "cell_type": "markdown",
   "id": "d3ae1161-f111-4d8a-b72f-42faaae8cbe6",
   "metadata": {},
   "source": [
    "# 🧠 Reto 88: Simulador de Empaque Óptimo 🧠\n",
    "\n",
    "## 🏆 Objetivo: \n",
    "\n",
    "Crear un programa que, dado un conjunto de objetos con distintos tamaños (por ejemplo, cajas o paquetes) y una capacidad máxima de espacio por contenedor, simule la forma más eficiente de agruparlos en contenedores sin exceder la capacidad máxima.\n",
    "Este reto se basa en el problema del bin packing (empaquetado de contenedores), con un enfoque simplificado para el día a día.\n",
    "\n",
    "## 📝 Requisitos:\n",
    "\n",
    "Solicitar al usuario ingresar una lista de objetos con sus respectivos tamaños (en forma de lista de números enteros o flotantes).\n",
    "Solicitar al usuario la capacidad máxima de un contenedor.\n",
    "Simular el agrupamiento de los objetos en la menor cantidad de contenedores posible.\n",
    "Mostrar por pantalla la distribución final de objetos por contenedor (por ejemplo: Contenedor 1: [4, 5], etc.).\n",
    "\n",
    "\n",
    "## 📌 Ejemplo de ejecución:\n",
    "\n",
    "Introduce los tamaños de los objetos separados por comas: 4, 5, 6, 2, 3, 7, 1\n",
    "Introduce la capacidad máxima por contenedor: 10\n",
    "\n",
    "Distribución óptima:\n",
    "Contenedor 1: [7.0, 3.0]\n",
    "Contenedor 2: [6.0, 4.0]\n",
    "Contenedor 3: [5.0, 2.0, 1.0] - Uso: 80.00%\n",
    "\n",
    "🔍 Pistas:\n",
    "\n",
    "Puedes usar un enfoque First Fit Decreasing (FFD): ordenar los objetos de mayor a menor y colocarlos en el primer contenedor que tenga espacio.\n",
    "Si no hay contenedor con espacio suficiente, crea uno nuevo.\n",
    "Considera usar listas anidadas para representar los contenedores y sus contenidos.\n",
    "Bonus: intenta calcular y mostrar el porcentaje de uso promedio de los contenedores."
   ]
  },
  {
   "cell_type": "code",
   "execution_count": 4,
   "id": "608de6a4-8e3c-4eae-ae7f-25e64e07f542",
   "metadata": {},
   "outputs": [
    {
     "name": "stdin",
     "output_type": "stream",
     "text": [
      "Introduce los tamaños de los objetos separados por comas:  4, 5, 6, 2, 3, 7, 1\n",
      "Introduce la capacidad máxima por contenedor:  10\n"
     ]
    },
    {
     "name": "stdout",
     "output_type": "stream",
     "text": [
      "\n",
      "Distribución óptima:\n",
      "Contenedor 1: [7.0, 3.0] - Uso: 100.00%\n",
      "Contenedor 2: [6.0, 4.0] - Uso: 100.00%\n",
      "Contenedor 3: [5.0, 2.0, 1.0] - Uso: 80.00%\n"
     ]
    }
   ],
   "source": [
    "def bin_packing(items, max_capacity):\n",
    "    items.sort(reverse=True)\n",
    "    containers = []\n",
    "\n",
    "    for item in items:\n",
    "        placed = False\n",
    "        for container in containers:\n",
    "            if sum(container) + item <= max_capacity:\n",
    "                container.append(item)\n",
    "                placed = True\n",
    "                break\n",
    "        if not placed:\n",
    "            containers.append([item])\n",
    "\n",
    "    return containers\n",
    "\n",
    "def validar_entrada(lista_str):\n",
    "    try:\n",
    "        return [float(x.strip()) for x in lista_str.split(\",\") if float(x.strip()) > 0]\n",
    "    except ValueError:\n",
    "        print(\"⚠️ Error: Asegúrate de ingresar solo números positivos separados por comas.\")\n",
    "        return None\n",
    "\n",
    "# Entrada del usuario\n",
    "while True:\n",
    "    entrada = input(\"Introduce los tamaños de los objetos separados por comas: \")\n",
    "    items = validar_entrada(entrada)\n",
    "    if items:\n",
    "        break\n",
    "\n",
    "while True:\n",
    "    try:\n",
    "        max_capacity = float(input(\"Introduce la capacidad máxima por contenedor: \"))\n",
    "        if max_capacity > 0:\n",
    "            break\n",
    "        else:\n",
    "            print(\"⚠️ La capacidad debe ser un número positivo.\")\n",
    "    except ValueError:\n",
    "        print(\"⚠️ Ingresa un número válido.\")\n",
    "\n",
    "# Ejecutar la simulación\n",
    "result = bin_packing(items, max_capacity)\n",
    "\n",
    "# Mostrar resultados\n",
    "print(\"\\nDistribución óptima:\")\n",
    "for i, container in enumerate(result, 1):\n",
    "    usage_percentage = (sum(container) / max_capacity) * 100\n",
    "    print(f\"Contenedor {i}: {container} - Uso: {usage_percentage:.2f}%\")\n"
   ]
  }
 ],
 "metadata": {
  "kernelspec": {
   "display_name": "Python 3 (ipykernel)",
   "language": "python",
   "name": "python3"
  },
  "language_info": {
   "codemirror_mode": {
    "name": "ipython",
    "version": 3
   },
   "file_extension": ".py",
   "mimetype": "text/x-python",
   "name": "python",
   "nbconvert_exporter": "python",
   "pygments_lexer": "ipython3",
   "version": "3.12.3"
  }
 },
 "nbformat": 4,
 "nbformat_minor": 5
}
