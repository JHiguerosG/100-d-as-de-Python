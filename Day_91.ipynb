{
 "cells": [
  {
   "cell_type": "markdown",
   "id": "f3b84867-7d9b-490c-9900-d22c6a092f75",
   "metadata": {},
   "source": [
    "# 🧠 Reto 91: Simulador de Escape Room Virtual 🧠\n",
    "\n",
    "## 🏆 Objetivo:\n",
    "\n",
    "Crear una experiencia interactiva tipo “Escape Room” donde el usuario debe resolver acertijos y tomar decisiones en base a pistas para salir de una habitación virtual. El reto implica lógica condicional, flujo de estados, manejo de entradas, y narrativa interactiva.\n",
    "\n",
    "## 📝 Requisitos:\n",
    "\n",
    "1️⃣ El juego debe comenzar con el usuario \"atrapado\" en una habitación.  \n",
    "2️⃣ Debe presentar al menos **3 habitaciones conectadas**, cada una con un acertijo distinto.  \n",
    "3️⃣ Cada habitación tendrá **opciones de acción** que el jugador puede elegir, como:  \n",
    "🔸 inspeccionar un objeto,  \n",
    "🔸 abrir una puerta,  \n",
    "🔸 introducir un código,  \n",
    "🔸 usar una pista.  \n",
    "4️⃣ El jugador solo puede avanzar si resuelve los acertijos correctamente.  \n",
    "5️⃣ El jugador puede fallar, en cuyo caso se reinicia la habitación o vuelve al inicio.  \n",
    "6️⃣ El sistema debe recordar en qué habitación se encuentra y qué acertijos ya resolvió.  \n",
    "7️⃣ Opcional: agregar un contador de intentos o pistas usadas.  \n",
    " \n",
    "## 📌 Ejemplo de ejecución:\n",
    "\n",
    "🧩 Bienvenido al Escape Room Virtual 🧩  \n",
    "Estás atrapado en una habitación cerrada. Hay una caja fuerte, una nota en el suelo y una puerta con cerradura numérica.  \n",
    "¿Qué quieres hacer?  \n",
    "1\\. Leer la nota  \n",
    "2. Intentar abrir la caja fuerte  \n",
    "3. Introducir código en la puerta  \n",
    "\n",
    "\\> 1  \n",
    "La nota dice: “La clave está en los años de la Segunda Guerra Mundial.”  \n",
    "\n",
    "\\> 3  \n",
    "Introduce el código: 1939  \n",
    "\n",
    "¡Incorrecto! Intenta de nuevo.  \n",
    "\n",
    "\\> 3  \n",
    "Introduce el código: 1945  \n",
    "\n",
    "¡Correcto! Has avanzado a la siguiente habitación...  \n",
    "\n",
    "## 🔍 Pistas:\n",
    "\n",
    "🔹 Puedes usar un diccionario para representar el estado de cada habitación.  \n",
    "🔹 Usa funciones separadas para cada habitación o acertijo.  \n",
    "🔹 Cuida que la historia tenga sentido lógico y esté bien hilada.  \n",
    "🔹 Agrega detalles inmersivos, como descripciones ambientales y pistas falsas.  \n",
    "🔹 Puedes permitir que el usuario escriba “usar pista” para recibir ayuda (pero limitar su uso).  "
   ]
  },
  {
   "cell_type": "code",
   "execution_count": 4,
   "id": "8b4374ed-a8a1-40bb-9493-761266ce9c76",
   "metadata": {},
   "outputs": [
    {
     "name": "stdout",
     "output_type": "stream",
     "text": [
      "🔓 ¡Bienvenido al Escape Room Virtual!\n",
      "\n",
      "🔐 HABITACIÓN 1\n",
      "🧩 Estás en la primera habitación. Hay una caja fuerte, una nota en el suelo y una puerta con cerradura numérica.\n"
     ]
    },
    {
     "name": "stdin",
     "output_type": "stream",
     "text": [
      "¿Qué quieres hacer?\n",
      "1. Leer la nota\n",
      "2. Intentar abrir la caja fuerte\n",
      "3. Introducir código en la puerta\n",
      ">  1\n"
     ]
    },
    {
     "name": "stdout",
     "output_type": "stream",
     "text": [
      "📜 La nota dice: 'La clave está en los años de la Segunda Guerra Mundial.'\n",
      "\n",
      "🔐 HABITACIÓN 1\n",
      "🧩 Estás en la primera habitación. Hay una caja fuerte, una nota en el suelo y una puerta con cerradura numérica.\n"
     ]
    },
    {
     "name": "stdin",
     "output_type": "stream",
     "text": [
      "¿Qué quieres hacer?\n",
      "1. Leer la nota\n",
      "2. Intentar abrir la caja fuerte\n",
      "3. Introducir código en la puerta\n",
      ">  3\n",
      "Introduce el código numérico:  1945\n"
     ]
    },
    {
     "name": "stdout",
     "output_type": "stream",
     "text": [
      "✅ ¡Correcto! Has avanzado a la siguiente habitación.\n",
      "\n",
      "🔐 HABITACIÓN 2\n",
      "🧩 En esta habitación hay una computadora encendida que solicita una contraseña. En la pared hay escrito:\n",
      "'Soy más corto que un suspiro y se acaba si me nombras. ¿Qué soy?'\n"
     ]
    },
    {
     "name": "stdin",
     "output_type": "stream",
     "text": [
      "Introduce la respuesta al acertijo:\n",
      ">  silencio\n"
     ]
    },
    {
     "name": "stdout",
     "output_type": "stream",
     "text": [
      "✅ ¡Correcto! Has avanzado a la siguiente habitación.\n",
      "\n",
      "🗝️ HABITACIÓN 3\n",
      "🧠 Encuentras un teclado en la pared y una pantalla que muestra el mensaje final:\n",
      "Para salir, escribe la palabra que se forma con:\n",
      "- La primera letra de 'Sol'\n",
      "- La segunda letra de 'Lobo'\n",
      "- La última letra de 'Ratón'\n"
     ]
    },
    {
     "name": "stdin",
     "output_type": "stream",
     "text": [
      "Introduce la palabra:\n",
      ">  son\n"
     ]
    },
    {
     "name": "stdout",
     "output_type": "stream",
     "text": [
      "\n",
      "🏁 ¡Felicidades! Has completado el Escape Room.\n",
      "🔢 Intentos incorrectos totales: 0\n",
      "🎖️ ¡Gran trabajo resolviendo todos los acertijos!\n"
     ]
    }
   ],
   "source": [
    "class EscapeRoom:\n",
    "    def __init__(self):\n",
    "        self.estado = {\n",
    "            \"habitacion_actual\": \"inicio\",\n",
    "            \"resueltos\": set(),\n",
    "            \"intentos\": 0\n",
    "        }\n",
    "        self.habitaciones = {\n",
    "            \"inicio\": self.habitacion_1,\n",
    "            \"habitacion_2\": self.habitacion_2,\n",
    "            \"habitacion_3\": self.habitacion_3\n",
    "        }\n",
    "\n",
    "    def habitacion_1(self):\n",
    "        print(\"\\n🔐 HABITACIÓN 1\")\n",
    "        print(\"🧩 Estás en la primera habitación. Hay una caja fuerte, una nota en el suelo y una puerta con cerradura numérica.\")\n",
    "        opcion = input(\"¿Qué quieres hacer?\\n1. Leer la nota\\n2. Intentar abrir la caja fuerte\\n3. Introducir código en la puerta\\n> \")\n",
    "        \n",
    "        if opcion == \"1\":\n",
    "            print(\"📜 La nota dice: 'La clave está en los años de la Segunda Guerra Mundial.'\")\n",
    "        elif opcion == \"2\":\n",
    "            print(\"La caja fuerte está cerrada con una cerradura electrónica. No puedes abrirla sin un código.\")\n",
    "        elif opcion == \"3\":\n",
    "            codigo = input(\"Introduce el código numérico: \")\n",
    "            if codigo == \"1945\":\n",
    "                print(\"✅ ¡Correcto! Has avanzado a la siguiente habitación.\")\n",
    "                self.estado[\"habitacion_actual\"] = \"habitacion_2\"\n",
    "            else:\n",
    "                self.estado[\"intentos\"] += 1\n",
    "                print(\"❌ ¡Código incorrecto! Intenta de nuevo.\")\n",
    "        else:\n",
    "            print(\"⚠️ Opción no válida.\")\n",
    "\n",
    "    def habitacion_2(self):\n",
    "        print(\"\\n🔐 HABITACIÓN 2\")\n",
    "        print(\"🧩 En esta habitación hay una computadora encendida que solicita una contraseña. En la pared hay escrito:\")\n",
    "        print(\"'Soy más corto que un suspiro y se acaba si me nombras. ¿Qué soy?'\")\n",
    "        respuesta = input(\"Introduce la respuesta al acertijo:\\n> \").lower()\n",
    "        if respuesta == \"silencio\":\n",
    "            print(\"✅ ¡Correcto! Has avanzado a la siguiente habitación.\")\n",
    "            self.estado[\"habitacion_actual\"] = \"habitacion_3\"\n",
    "        else:\n",
    "            self.estado[\"intentos\"] += 1\n",
    "            print(\"❌ Respuesta incorrecta. Intenta de nuevo.\")\n",
    "\n",
    "    def habitacion_3(self):\n",
    "        print(\"\\n🗝️ HABITACIÓN 3\")\n",
    "        print(\"🧠 Encuentras un teclado en la pared y una pantalla que muestra el mensaje final:\")\n",
    "        print(\"Para salir, escribe la palabra que se forma con:\\n- La primera letra de 'Sol'\\n- La segunda letra de 'Lobo'\\n- La última letra de 'Ratón'\")\n",
    "        while self.estado[\"habitacion_actual\"] == \"habitacion_3\":\n",
    "            palabra = input(\"Introduce la palabra:\\n> \").lower()\n",
    "            if palabra == \"son\":\n",
    "                print(\"\\n🏁 ¡Felicidades! Has completado el Escape Room.\")\n",
    "                print(f\"🔢 Intentos incorrectos totales: {self.estado['intentos']}\")\n",
    "                print(\"🎖️ ¡Gran trabajo resolviendo todos los acertijos!\")\n",
    "                self.estado[\"habitacion_actual\"] = None\n",
    "            else:\n",
    "                self.estado[\"intentos\"] += 1\n",
    "                print(\"❌ Palabra incorrecta. Intenta de nuevo.\")\n",
    "\n",
    "    def iniciar_juego(self):\n",
    "        print(\"🔓 ¡Bienvenido al Escape Room Virtual!\")\n",
    "        while self.estado[\"habitacion_actual\"] in self.habitaciones:\n",
    "            self.habitaciones[self.estado[\"habitacion_actual\"]]() \n",
    "\n",
    "# Ejecutar el juego directamente\n",
    "juego = EscapeRoom()\n",
    "juego.iniciar_juego()\n"
   ]
  }
 ],
 "metadata": {
  "kernelspec": {
   "display_name": "Python 3 (ipykernel)",
   "language": "python",
   "name": "python3"
  },
  "language_info": {
   "codemirror_mode": {
    "name": "ipython",
    "version": 3
   },
   "file_extension": ".py",
   "mimetype": "text/x-python",
   "name": "python",
   "nbconvert_exporter": "python",
   "pygments_lexer": "ipython3",
   "version": "3.12.3"
  }
 },
 "nbformat": 4,
 "nbformat_minor": 5
}
