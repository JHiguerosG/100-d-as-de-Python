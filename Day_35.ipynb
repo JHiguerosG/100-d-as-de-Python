{
 "cells": [
  {
   "cell_type": "markdown",
   "id": "91f20e2a-eb5f-4fa9-a116-a24dd51fa0f3",
   "metadata": {},
   "source": [
    "# 🧠 Reto 35: Juego de la Vida de Conway 🧠\n",
    "\n",
    "## 🏆 Objetivo:\n",
    "\n",
    "Implementar el famoso Juego de la Vida de Conway utilizando Python. El objetivo es crear una simulación visual en la que las células \"viven\" o \"mueren\" según unas reglas predefinidas.\n",
    "\n",
    "## 📝 Requisitos:\n",
    "\n",
    "1️⃣ El juego debe generar una cuadrícula de tamaño ajustable con células vivas y muertas al azar.  \n",
    "2️⃣ Las reglas del juego son las siguientes:  \n",
    "🔸 Una célula viva con menos de 2 vecinos vivos muere (por soledad).  \n",
    "🔸 Una célula viva con 2 o 3 vecinos vivos sigue viva.  \n",
    "🔸 Una célula viva con más de 3 vecinos vivos muere (por sobrepoblación).  \n",
    "🔸 Una célula muerta con exactamente 3 vecinos vivos revive (por reproducción).  \n",
    "3️⃣ La simulación debe actualizarse automáticamente en intervalos de tiempo cortos.  \n",
    "4️⃣ El usuario debe poder especificar el tamaño de la cuadrícula y la velocidad de actualización.  \n",
    "5️⃣ Utiliza una interfaz gráfica para mostrar el juego en tiempo real (recomendado usar Pygame).  \n",
    "\n",
    "## 📌 Ejemplo de ejecución:\n",
    "\n",
    "Al iniciar el programa, el usuario puede definir el tamaño de la cuadrícula y la velocidad:\n",
    "\n",
    "\\>>> Ingrese el tamaño de la cuadrícula (ej: 50 para una cuadrícula de 50x50): 50  \n",
    "\\>>> Ingrese la velocidad de actualización (en milisegundos, ej: 100): 100  \n",
    "\n",
    "Se abrirá una ventana donde se verá la simulación del Juego de la Vida de Conway, con células vivas en color blanco y muertas en color negro. La simulación se actualizará automáticamente.\n",
    "\n",
    "## 🔍 Pistas:\n",
    "\n",
    "🔹 Utiliza la librería Pygame para la visualización en tiempo real.  \n",
    "🔹 Puedes usar una matriz de números (0 y 1) para representar células muertas y vivas, respectivamente.  \n",
    "🔹 Actualiza el estado de la cuadrícula en cada iteración según las reglas descritas.  \n",
    "🔹 Para calcular el número de vecinos vivos, utiliza desplazamientos en la matriz.  "
   ]
  },
  {
   "cell_type": "code",
   "execution_count": 1,
   "id": "165c3c52-1206-4912-a9f4-ccbc2efc2102",
   "metadata": {},
   "outputs": [],
   "source": [
    "#pip install pygame"
   ]
  },
  {
   "cell_type": "code",
   "execution_count": 10,
   "id": "3712de70-d9d5-41a0-8064-15020055cf8e",
   "metadata": {},
   "outputs": [],
   "source": [
    "import pygame\n",
    "import numpy as np\n",
    "import time\n",
    "\n",
    "# Initialize Pygame\n",
    "pygame.init()\n",
    "\n",
    "def update_grid(grid):\n",
    "    \"\"\"\n",
    "    Updates the state of the grid based on Conway's Game of Life rules.\n",
    "    :param grid: The current state of the grid as a 2D numpy array.\n",
    "    :return: The new state of the grid as a 2D numpy array.\n",
    "    \"\"\"\n",
    "    new_grid = grid.copy()\n",
    "    for row in range(grid.shape[0]):\n",
    "        for col in range(grid.shape[1]):\n",
    "            # Count the number of alive neighbors\n",
    "            alive_neighbors = np.sum(grid[row-1:row+2, col-1:col+2]) - grid[row, col]\n",
    "            \n",
    "            # Apply the rules of the game\n",
    "            if grid[row, col] == 1:\n",
    "                if alive_neighbors < 2 or alive_neighbors > 3:\n",
    "                    new_grid[row, col] = 0\n",
    "            else:\n",
    "                if alive_neighbors == 3:\n",
    "                    new_grid[row, col] = 1\n",
    "    return new_grid\n"
   ]
  },
  {
   "cell_type": "code",
   "execution_count": 11,
   "id": "cc5a30bf-2b4d-4b30-af06-1b534ac1f0be",
   "metadata": {},
   "outputs": [],
   "source": [
    "def draw_grid(screen, grid, cell_size):\n",
    "    \"\"\"\n",
    "    Draws the grid on the screen.\n",
    "    :param screen: The Pygame screen surface to draw on.\n",
    "    :param grid: The current state of the grid as a 2D numpy array.\n",
    "    :param cell_size: The size of each cell in pixels.\n",
    "    \"\"\"\n",
    "    for row in range(grid.shape[0]):\n",
    "        for col in range(grid.shape[1]):\n",
    "            color = (255, 255, 255) if grid[row, col] == 1 else (0, 0, 0)\n",
    "            pygame.draw.rect(screen, color, (col * cell_size, row * cell_size, cell_size, cell_size))\n"
   ]
  },
  {
   "cell_type": "code",
   "execution_count": 12,
   "id": "ebc15241-a6de-4fc7-a8f0-72b4e02d4ab6",
   "metadata": {},
   "outputs": [],
   "source": [
    "def run_game_of_life():\n",
    "    \"\"\"\n",
    "    Runs the Game of Life simulation.\n",
    "    \"\"\"\n",
    "    # Get user input for grid size and update speed\n",
    "    grid_size = int(input(\"Enter the grid size (e.g., 50 for a 50x50 grid): \"))\n",
    "    update_speed = int(input(\"Enter the update speed (in milliseconds, e.g., 100): \"))\n",
    "\n",
    "    # Set up the screen and grid\n",
    "    cell_size = 10\n",
    "    screen_size = grid_size * cell_size\n",
    "    screen = pygame.display.set_mode((screen_size, screen_size))\n",
    "    pygame.display.set_caption(\"Conway's Game of Life\")\n",
    "    \n",
    "    # Initialize the grid with random values\n",
    "    grid = np.random.choice([0, 1], size=(grid_size, grid_size))\n",
    "\n",
    "    running = True\n",
    "    while running:\n",
    "        for event in pygame.event.get():\n",
    "            if event.type == pygame.QUIT:\n",
    "                running = False\n",
    "\n",
    "        # Update the grid and draw it on the screen\n",
    "        grid = update_grid(grid)\n",
    "        draw_grid(screen, grid, cell_size)\n",
    "        \n",
    "        pygame.display.flip()\n",
    "        time.sleep(update_speed / 1000.0)\n",
    "\n",
    "    pygame.quit()\n"
   ]
  },
  {
   "cell_type": "code",
   "execution_count": 15,
   "id": "26683680-77a4-4d9e-9810-97f1876c5f3c",
   "metadata": {},
   "outputs": [
    {
     "name": "stdin",
     "output_type": "stream",
     "text": [
      "Enter the grid size (e.g., 50 for a 50x50 grid):  75\n",
      "Enter the update speed (in milliseconds, e.g., 100):  125\n"
     ]
    }
   ],
   "source": [
    "# Run the game directly\n",
    "run_game_of_life()"
   ]
  }
 ],
 "metadata": {
  "kernelspec": {
   "display_name": "Python 3 (ipykernel)",
   "language": "python",
   "name": "python3"
  },
  "language_info": {
   "codemirror_mode": {
    "name": "ipython",
    "version": 3
   },
   "file_extension": ".py",
   "mimetype": "text/x-python",
   "name": "python",
   "nbconvert_exporter": "python",
   "pygments_lexer": "ipython3",
   "version": "3.12.3"
  }
 },
 "nbformat": 4,
 "nbformat_minor": 5
}
