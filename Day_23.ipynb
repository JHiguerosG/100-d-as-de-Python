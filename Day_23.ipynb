{
 "cells": [
  {
   "cell_type": "markdown",
   "id": "54220225-0e06-4e23-b6f3-ffad80c1a717",
   "metadata": {},
   "source": [
    "## 🎲 Reto 23: Simulación de Dados 🎲\n",
    "\n",
    "## 🏆 Objetivo:\n",
    "\n",
    "Crear un programa que simule el lanzamiento de un dado de seis caras y permita lanzar múltiples veces según la elección del usuario.\n",
    "\n",
    "## 📝 Requisitos:\n",
    "\n",
    "1️⃣ El programa debe generar un número aleatorio entre 1 y 6 para simular el lanzamiento del dado.  \n",
    "2️⃣ Debe permitir al usuario lanzar el dado cuantas veces desee.  \n",
    "3️⃣ Al final, debe mostrar un resumen con la cantidad de veces que salió cada número.  \n",
    "4️⃣ Implementar un control para evitar errores si el usuario ingresa una opción inválida.  \n",
    "\n",
    "## 📌 Ejemplo de ejecución:\n",
    "\n",
    "🎲 Bienvenido a la simulación de dados 🎲  \n",
    "Presiona ENTER para lanzar el dado o escribe \"salir\" para terminar.  \n",
    "\n",
    "🎲 Has sacado un: 4  \n",
    "🎲 Has sacado un: 2  \n",
    "🎲 Has sacado un: 6  \n",
    "🎲 Has sacado un: 1  \n",
    "🎲 Has sacado un: 4  \n",
    "\n",
    "📊 Resumen de lanzamientos:  \n",
    "1 salió 1 veces.  \n",
    "2 salió 1 veces.  \n",
    "3 salió 0 veces.  \n",
    "4 salió 2 veces.  \n",
    "5 salió 0 veces.  \n",
    "6 salió 1 veces.  \n",
    "\n",
    "Gracias por jugar. ¡Hasta la próxima! 🎲\n",
    "\n",
    "## 🔍 Pistas:\n",
    "\n",
    "🔹 Utiliza la librería random para generar números aleatorios.  \n",
    "🔹 Usa un diccionario o Counter de collections para contar la frecuencia de cada número.  \n",
    "🔹 Implementa un bucle while para permitir múltiples lanzamientos.  \n",
    "🔹 Agrega validaciones para manejar entradas inválidas.  "
   ]
  },
  {
   "cell_type": "markdown",
   "id": "0d181db2-a76a-4d38-9709-8869ea28f25f",
   "metadata": {},
   "source": [
    "# Solución propia"
   ]
  },
  {
   "cell_type": "code",
   "execution_count": 34,
   "id": "b08f445d-189f-4c69-85ef-5276705a1988",
   "metadata": {},
   "outputs": [
    {
     "name": "stdout",
     "output_type": "stream",
     "text": [
      "🎲 Welcome to the Dice Simulator! 🎲\n",
      "Press ENTER to roll the dice or type \"exit\" to quit.\n",
      "\n"
     ]
    },
    {
     "name": "stdin",
     "output_type": "stream",
     "text": [
      ">>>  \n"
     ]
    },
    {
     "name": "stdout",
     "output_type": "stream",
     "text": [
      "🎲 You rolled a: 4\n"
     ]
    },
    {
     "name": "stdin",
     "output_type": "stream",
     "text": [
      ">>>  \n"
     ]
    },
    {
     "name": "stdout",
     "output_type": "stream",
     "text": [
      "🎲 You rolled a: 5\n"
     ]
    },
    {
     "name": "stdin",
     "output_type": "stream",
     "text": [
      ">>>  \n"
     ]
    },
    {
     "name": "stdout",
     "output_type": "stream",
     "text": [
      "🎲 You rolled a: 6\n"
     ]
    },
    {
     "name": "stdin",
     "output_type": "stream",
     "text": [
      ">>>  \n"
     ]
    },
    {
     "name": "stdout",
     "output_type": "stream",
     "text": [
      "🎲 You rolled a: 5\n"
     ]
    },
    {
     "name": "stdin",
     "output_type": "stream",
     "text": [
      ">>>  \n"
     ]
    },
    {
     "name": "stdout",
     "output_type": "stream",
     "text": [
      "🎲 You rolled a: 5\n"
     ]
    },
    {
     "name": "stdin",
     "output_type": "stream",
     "text": [
      ">>>  \n"
     ]
    },
    {
     "name": "stdout",
     "output_type": "stream",
     "text": [
      "🎲 You rolled a: 2\n"
     ]
    },
    {
     "name": "stdin",
     "output_type": "stream",
     "text": [
      ">>>  \n"
     ]
    },
    {
     "name": "stdout",
     "output_type": "stream",
     "text": [
      "🎲 You rolled a: 4\n"
     ]
    },
    {
     "name": "stdin",
     "output_type": "stream",
     "text": [
      ">>>  \n"
     ]
    },
    {
     "name": "stdout",
     "output_type": "stream",
     "text": [
      "🎲 You rolled a: 6\n"
     ]
    },
    {
     "name": "stdin",
     "output_type": "stream",
     "text": [
      ">>>  \n"
     ]
    },
    {
     "name": "stdout",
     "output_type": "stream",
     "text": [
      "🎲 You rolled a: 2\n"
     ]
    },
    {
     "name": "stdin",
     "output_type": "stream",
     "text": [
      ">>>  \n"
     ]
    },
    {
     "name": "stdout",
     "output_type": "stream",
     "text": [
      "🎲 You rolled a: 2\n"
     ]
    },
    {
     "name": "stdin",
     "output_type": "stream",
     "text": [
      ">>>  \n"
     ]
    },
    {
     "name": "stdout",
     "output_type": "stream",
     "text": [
      "🎲 You rolled a: 1\n"
     ]
    },
    {
     "name": "stdin",
     "output_type": "stream",
     "text": [
      ">>>  exit\n"
     ]
    },
    {
     "name": "stdout",
     "output_type": "stream",
     "text": [
      "Goodbye!\n",
      "\n",
      "📊 Roll Summary:\n",
      "4 rolled 2 times\n",
      "5 rolled 3 times\n",
      "6 rolled 2 times\n",
      "2 rolled 3 times\n",
      "1 rolled 1 times\n",
      "\n",
      "🎲 Game Over 🎲\n"
     ]
    }
   ],
   "source": [
    "import random\n",
    "from collections import Counter\n",
    "\n",
    "# List to store dice rolls\n",
    "rolls = []\n",
    "\n",
    "print(\"🎲 Welcome to the Dice Simulator! 🎲\")\n",
    "print('Press ENTER to roll the dice or type \"exit\" to quit.\\n')\n",
    "\n",
    "while True:\n",
    "    # Prompt the user to roll the dice or exit\n",
    "    user_input = input('>>> ').strip().lower()\n",
    "    \n",
    "    if user_input == \"exit\":\n",
    "        print(\"Goodbye!\")\n",
    "        break\n",
    "    elif user_input == \"\":\n",
    "        # Generate a random number between 1 and 6\n",
    "        dice_roll = random.randint(1, 6)\n",
    "        print(f'🎲 You rolled a: {dice_roll}')\n",
    "        rolls.append(dice_roll)\n",
    "    else:\n",
    "        print('Invalid input. Please press ENTER to roll the dice or type \"exit\" to quit.')\n",
    "\n",
    "# Count the frequency of each roll\n",
    "roll_count = Counter(rolls)\n",
    "        \n",
    "print('\\n📊 Roll Summary:') \n",
    "for number, times in roll_count.items():\n",
    "    print(f'{number} rolled {times} times')\n",
    "\n",
    "print(\"\\n🎲 Game Over 🎲\")"
   ]
  },
  {
   "cell_type": "markdown",
   "id": "b3c8c719-12aa-40f2-a3e5-d6272adf3773",
   "metadata": {},
   "source": [
    "# Solución ChatGPT"
   ]
  },
  {
   "cell_type": "code",
   "execution_count": 30,
   "id": "7ea11806-ab69-4c4f-be7d-e589199ee056",
   "metadata": {},
   "outputs": [
    {
     "name": "stdout",
     "output_type": "stream",
     "text": [
      "\n",
      "🎲 Welcome to the Dice Simulator! 🎲\n",
      "Press ENTER to roll the dice or type \"exit\" to quit.\n",
      "\n"
     ]
    },
    {
     "name": "stdin",
     "output_type": "stream",
     "text": [
      ">>>  \n"
     ]
    },
    {
     "name": "stdout",
     "output_type": "stream",
     "text": [
      "🎲 You rolled a: 6!\n"
     ]
    },
    {
     "name": "stdin",
     "output_type": "stream",
     "text": [
      ">>>  \n"
     ]
    },
    {
     "name": "stdout",
     "output_type": "stream",
     "text": [
      "🎲 You rolled a: 4!\n"
     ]
    },
    {
     "name": "stdin",
     "output_type": "stream",
     "text": [
      ">>>  \n"
     ]
    },
    {
     "name": "stdout",
     "output_type": "stream",
     "text": [
      "🎲 You rolled a: 3!\n"
     ]
    },
    {
     "name": "stdin",
     "output_type": "stream",
     "text": [
      ">>>  \n"
     ]
    },
    {
     "name": "stdout",
     "output_type": "stream",
     "text": [
      "🎲 You rolled a: 4!\n"
     ]
    },
    {
     "name": "stdin",
     "output_type": "stream",
     "text": [
      ">>>  \n"
     ]
    },
    {
     "name": "stdout",
     "output_type": "stream",
     "text": [
      "🎲 You rolled a: 1!\n"
     ]
    },
    {
     "name": "stdin",
     "output_type": "stream",
     "text": [
      ">>>  \n"
     ]
    },
    {
     "name": "stdout",
     "output_type": "stream",
     "text": [
      "🎲 You rolled a: 4!\n"
     ]
    },
    {
     "name": "stdin",
     "output_type": "stream",
     "text": [
      ">>>  \n"
     ]
    },
    {
     "name": "stdout",
     "output_type": "stream",
     "text": [
      "🎲 You rolled a: 3!\n"
     ]
    },
    {
     "name": "stdin",
     "output_type": "stream",
     "text": [
      ">>>  exit\n"
     ]
    },
    {
     "name": "stdout",
     "output_type": "stream",
     "text": [
      "\n",
      "🎲 Thanks for playing! See you next time. 👋\n",
      "\n",
      "📊 Roll Summary:\n",
      "1 rolled 1 times\n",
      "2 rolled 0 times\n",
      "3 rolled 2 times\n",
      "4 rolled 3 times\n",
      "5 rolled 0 times\n",
      "6 rolled 1 times\n",
      "\n",
      "🎲 Game Over 🎲\n"
     ]
    }
   ],
   "source": [
    "import random\n",
    "from collections import Counter\n",
    "\n",
    "# List to store dice rolls\n",
    "rolls = []\n",
    "\n",
    "print(\"\\n🎲 Welcome to the Dice Simulator! 🎲\")\n",
    "print('Press ENTER to roll the dice or type \"exit\" to quit.\\n')\n",
    "\n",
    "try:\n",
    "    while True:\n",
    "        user_input = input(\">>> \").strip().lower()\n",
    "        \n",
    "        if user_input == \"exit\":\n",
    "            print(\"\\n🎲 Thanks for playing! See you next time. 👋\")\n",
    "            break\n",
    "        elif user_input == \"\":\n",
    "            # Generate a random number between 1 and 6\n",
    "            dice_roll = random.randint(1, 6)\n",
    "            print(f'🎲 You rolled a: {dice_roll}!')\n",
    "            rolls.append(dice_roll)\n",
    "        else:\n",
    "            print('❌ Invalid input. Press ENTER to roll the dice or type \"exit\" to quit.')\n",
    "\n",
    "except KeyboardInterrupt:\n",
    "    print(\"\\n\\n🚪 Game interrupted. See you next time! 👋\")\n",
    "\n",
    "# Count the frequency of each roll\n",
    "roll_count = Counter(rolls)\n",
    "\n",
    "print('\\n📊 Roll Summary:')\n",
    "for i in range(1, 7):  # Ensure all numbers (1-6) are displayed\n",
    "    print(f'{i} rolled {roll_count.get(i, 0)} times')\n",
    "\n",
    "print(\"\\n🎲 Game Over 🎲\")\n"
   ]
  }
 ],
 "metadata": {
  "kernelspec": {
   "display_name": "Python 3 (ipykernel)",
   "language": "python",
   "name": "python3"
  },
  "language_info": {
   "codemirror_mode": {
    "name": "ipython",
    "version": 3
   },
   "file_extension": ".py",
   "mimetype": "text/x-python",
   "name": "python",
   "nbconvert_exporter": "python",
   "pygments_lexer": "ipython3",
   "version": "3.12.3"
  }
 },
 "nbformat": 4,
 "nbformat_minor": 5
}
