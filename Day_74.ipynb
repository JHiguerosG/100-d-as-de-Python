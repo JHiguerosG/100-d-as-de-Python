{
 "cells": [
  {
   "cell_type": "markdown",
   "id": "58c497c7-d2da-4688-bbb8-ba8a0f1c1e53",
   "metadata": {},
   "source": [
    "# 🧠 Reto 74: Calculadora de Tiempo en Pantalla 🧠\n",
    "\n",
    "## 🏆 Objetivo:\n",
    "\n",
    "Crear una calculadora que permita al usuario registrar cuánto tiempo pasa diariamente frente a una pantalla (ya sea por trabajo, estudios o entretenimiento), calcular un promedio semanal y proporcionar recomendaciones saludables en función del promedio.\n",
    "\n",
    "## 📝 Requisitos:\n",
    "\n",
    "1️⃣ El programa debe solicitar al usuario ingresar las horas diarias que pasó frente a una pantalla durante los últimos 7 días.  \n",
    "2️⃣ Calcular y mostrar:  \n",
    "🔸 Total de horas semanales frente a pantallas.  \n",
    "🔸 Promedio diario.  \n",
    "3️⃣ Clasificar el nivel de uso según el promedio diario:  \n",
    "🔸 Menor a 2 horas/día: Uso saludable.  \n",
    "🔸 2 a 4 horas/día: Uso moderado.  \n",
    "🔸 Más de 4 horas/día: Uso excesivo.  \n",
    "4️⃣ Sugerir recomendaciones en función de la clasificación obtenida.  \n",
    "5️⃣ El programa debe ser limpio, claro y no debe guardar datos en archivos externos.  \n",
    "\n",
    "## 📌 Ejemplo de ejecución:\n",
    "\n",
    "📱 Calculadora de Tiempo en Pantalla  \n",
    "\n",
    "Ingresa las horas frente a pantalla para cada día de la semana:  \n",
    "Lunes: 4  \n",
    "Martes: 5  \n",
    "Miércoles: 6  \n",
    "Jueves: 4  \n",
    "Viernes: 3  \n",
    "Sábado: 6  \n",
    "Domingo: 7  \n",
    "\n",
    "📊 Resultados:  \n",
    "- Total semanal: 35 horas  \n",
    "- Promedio diario: 5.0 horas  \n",
    "- Clasificación: Uso excesivo  \n",
    "\n",
    "💡 Recomendación:  \n",
    "Intenta reducir el tiempo frente a pantallas. Programa pausas activas, actividades al aire libre y descansos visuales cada 20 minutos.  \n",
    "\n",
    "## 🔍 Pistas:\n",
    "\n",
    "🔹 Usa una lista para almacenar los valores diarios.    \n",
    "🔹 Utiliza funciones para calcular el total, promedio y clasificación.    \n",
    "🔹 Usa diccionarios o condicionales para mostrar recomendaciones según la clasificación.    \n",
    "🔹 Puedes usar `round()` para mostrar el promedio con un decimal.    "
   ]
  },
  {
   "cell_type": "code",
   "execution_count": 1,
   "id": "8769e07b-f11e-47d4-b255-05d888e13f56",
   "metadata": {},
   "outputs": [
    {
     "name": "stdout",
     "output_type": "stream",
     "text": [
      "Ingresa las horas frente a pantalla para cada día de la semana:\n"
     ]
    },
    {
     "name": "stdin",
     "output_type": "stream",
     "text": [
      "Lunes:  4\n",
      "Martes:  5\n",
      "Miércoles:  6\n",
      "Jueves:  4\n",
      "Viernes:  3\n",
      "Sábado:  6\n",
      "Domingo:  7\n"
     ]
    },
    {
     "name": "stdout",
     "output_type": "stream",
     "text": [
      "\n",
      "📊 Resultados:\n",
      "- Total semanal: 35.0 horas\n",
      "- Promedio diario: 5.0 horas\n",
      "- Clasificación: Uso excesivo\n",
      "\n",
      "🗓️ Detalle por día:\n",
      "- Lunes: 4.0 horas\n",
      "- Martes: 5.0 horas\n",
      "- Miércoles: 6.0 horas\n",
      "- Jueves: 4.0 horas\n",
      "- Viernes: 3.0 horas\n",
      "- Sábado: 6.0 horas\n",
      "- Domingo: 7.0 horas\n",
      "\n",
      "💡 Recomendación: Intenta reducir el tiempo frente a pantallas. Programa pausas activas y actividades al aire libre.\n"
     ]
    }
   ],
   "source": [
    "# 📱 Calculadora de Tiempo en Pantalla\n",
    "\n",
    "dias = [\"Lunes\", \"Martes\", \"Miércoles\", \"Jueves\", \"Viernes\", \"Sábado\", \"Domingo\"]\n",
    "horas_diarias = []\n",
    "\n",
    "# Solicitar datos diarios\n",
    "print(\"Ingresa las horas frente a pantalla para cada día de la semana:\")\n",
    "for dia in dias:\n",
    "    while True:\n",
    "        try:\n",
    "            horas = float(input(f\"{dia}: \"))\n",
    "            if horas < 0:\n",
    "                print(\"Por favor, ingresa un valor positivo.\")\n",
    "                continue\n",
    "            horas_diarias.append(horas)\n",
    "            break\n",
    "        except ValueError:\n",
    "            print(\"Por favor, ingresa un número válido.\")\n",
    "\n",
    "# Calcular total y promedio\n",
    "total_semanal = sum(horas_diarias)\n",
    "promedio_diario = round(total_semanal / len(horas_diarias), 1)\n",
    "\n",
    "# Clasificar uso según promedio\n",
    "if promedio_diario < 2:\n",
    "    clasificacion = \"Uso saludable\"\n",
    "    recomendacion = \"¡Excelente! Sigue manteniendo un equilibrio adecuado.\"\n",
    "elif 2 <= promedio_diario <= 4:\n",
    "    clasificacion = \"Uso moderado\"\n",
    "    recomendacion = \"Considera tomar pausas activas y reducir el uso en actividades innecesarias.\"\n",
    "else:\n",
    "    clasificacion = \"Uso excesivo\"\n",
    "    recomendacion = \"Intenta reducir el tiempo frente a pantallas. Programa pausas activas y actividades al aire libre.\"\n",
    "\n",
    "# Mostrar resultados\n",
    "print(\"\\n📊 Resultados:\")\n",
    "print(f\"- Total semanal: {total_semanal} horas\")\n",
    "print(f\"- Promedio diario: {promedio_diario} horas\")\n",
    "print(f\"- Clasificación: {clasificacion}\")\n",
    "\n",
    "# Mostrar detalle por día\n",
    "print(\"\\n🗓️ Detalle por día:\")\n",
    "for dia, horas in zip(dias, horas_diarias):\n",
    "    print(f\"- {dia}: {horas} horas\")\n",
    "\n",
    "print(f\"\\n💡 Recomendación: {recomendacion}\")\n"
   ]
  }
 ],
 "metadata": {
  "kernelspec": {
   "display_name": "Python 3 (ipykernel)",
   "language": "python",
   "name": "python3"
  },
  "language_info": {
   "codemirror_mode": {
    "name": "ipython",
    "version": 3
   },
   "file_extension": ".py",
   "mimetype": "text/x-python",
   "name": "python",
   "nbconvert_exporter": "python",
   "pygments_lexer": "ipython3",
   "version": "3.12.3"
  }
 },
 "nbformat": 4,
 "nbformat_minor": 5
}
