{
 "cells": [
  {
   "cell_type": "markdown",
   "id": "d797fc0e-da0f-42f9-bc42-6b554a6c69ce",
   "metadata": {},
   "source": [
    "# 🏆 Reto 1: \"Hola, Python\"\n",
    "\n",
    "Crea un programa en Python que haga lo siguiente:\n",
    "\n",
    "1. Pida al usuario su nombre y su edad.\n",
    "2. Imprima un mensaje de bienvenida con su nombre.\n",
    "3. Calcule y muestre en qué año cumplirá 100 años.\n",
    "\n",
    "📌 Ejemplo de ejecución:\n",
    "\n",
    "Ingresa tu nombre: Juan    \n",
    "Ingresa tu edad: 25    \n",
    "Hola, Juan. Cumplirás 100 años en el año 2100."
   ]
  },
  {
   "cell_type": "code",
   "execution_count": 35,
   "id": "9599e759-6ce1-4add-b244-67c250c6b069",
   "metadata": {},
   "outputs": [
    {
     "name": "stdin",
     "output_type": "stream",
     "text": [
      ">>> Please enter your name:  Luis Perez\n",
      ">>> Now, enter your age (between 1 and 99):  100\n"
     ]
    },
    {
     "name": "stdout",
     "output_type": "stream",
     "text": [
      "⚠️ Invalid input: Age must be between 1 and 99. Please try again.\n"
     ]
    },
    {
     "name": "stdin",
     "output_type": "stream",
     "text": [
      ">>> Please enter your name:  Luis Perez\n",
      ">>> Now, enter your age (between 1 and 99):  twenty five\n"
     ]
    },
    {
     "name": "stdout",
     "output_type": "stream",
     "text": [
      "⚠️ Invalid input: Please enter a valid number for your age.\n"
     ]
    },
    {
     "name": "stdin",
     "output_type": "stream",
     "text": [
      ">>> Please enter your name:  Luis Perez\n",
      ">>> Now, enter your age (between 1 and 99):  25\n"
     ]
    },
    {
     "name": "stdout",
     "output_type": "stream",
     "text": [
      "\n",
      "Hi, Luis Perez. You will turn 100 years old in the year 2100.\n",
      "\n"
     ]
    }
   ],
   "source": [
    "import datetime  # To work with dates\n",
    "\n",
    "# Get the current year\n",
    "current_year = datetime.datetime.now().year\n",
    "\n",
    "while True:\n",
    "    try:\n",
    "        name = input('>>> Please enter your name: ').strip().title()\n",
    "        age = int(input('>>> Now, enter your age (between 1 and 99): '))\n",
    "        \n",
    "        if 1 <= age <= 99:\n",
    "            one_hundred_years = current_year + (100 - age)\n",
    "            print(f'\\nHi, {name}. You will turn 100 years old in the year {one_hundred_years}.\\n')\n",
    "            break\n",
    "        else:\n",
    "            print('⚠️ Invalid input: Age must be between 1 and 99. Please try again.')\n",
    "    \n",
    "    except ValueError:\n",
    "        print('⚠️ Invalid input: Please enter a valid number for your age.')"
   ]
  }
 ],
 "metadata": {
  "kernelspec": {
   "display_name": "Python 3 (ipykernel)",
   "language": "python",
   "name": "python3"
  },
  "language_info": {
   "codemirror_mode": {
    "name": "ipython",
    "version": 3
   },
   "file_extension": ".py",
   "mimetype": "text/x-python",
   "name": "python",
   "nbconvert_exporter": "python",
   "pygments_lexer": "ipython3",
   "version": "3.12.3"
  }
 },
 "nbformat": 4,
 "nbformat_minor": 5
}
