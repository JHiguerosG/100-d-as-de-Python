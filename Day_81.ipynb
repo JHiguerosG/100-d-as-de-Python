{
 "cells": [
  {
   "cell_type": "markdown",
   "id": "b1b8ac2d-9a69-4610-af4e-fd601f9f24dc",
   "metadata": {},
   "source": [
    "# 🧠 Reto 81: Rastreador de Hábitos Personales 🧠\n",
    "\n",
    "## 🏆 Objetivo:\n",
    "\n",
    "Desarrollar una herramienta interactiva en Python que permita a los usuarios registrar y visualizar sus hábitos diarios, fomentando la constancia y la formación de hábitos positivos.\n",
    "\n",
    "## 📝 Requisitos:\n",
    "\n",
    "1️⃣ Solicitar al usuario que ingrese uno o más hábitos que desea seguir.  \n",
    "2️⃣ Permitir al usuario registrar diariamente si completó cada hábito.  \n",
    "3️⃣ Al final de la semana, mostrar un resumen que incluya:  \n",
    "🔸 Total de días cumplidos por hábito.  \n",
    "🔸 Porcentaje de cumplimiento por hábito.  \n",
    "🔸 Visualización sencilla del progreso (por ejemplo, usando caracteres como ✅ o ❌).  \n",
    "4️⃣ Ofrecer mensajes motivacionales basados en el rendimiento semanal.  \n",
    "\n",
    "## 📌 Ejemplo de ejecución:\n",
    "\n",
    "📋 Bienvenido al Rastreador de Hábitos Personales  \n",
    "Ingresa los hábitos que deseas seguir esta semana (separados por comas):  \n",
    "> Meditar, Leer, Hacer ejercicio  \n",
    "\n",
    "¡Perfecto! Comencemos a registrar tus hábitos diarios.  \n",
    "\n",
    "Día 1:  \n",
    "¿Completaste 'Meditar'? (s/n): s  \n",
    "¿Completaste 'Leer'? (s/n): n  \n",
    "¿Completaste 'Hacer ejercicio'? (s/n): s  \n",
    "\n",
    "...  \n",
    " \n",
    "📊 Resumen semanal:  \n",
    "Meditar: ✅ ✅ ❌ ✅ ✅ ❌ ✅ (5/7 días, 71%)  \n",
    "Leer: ❌ ✅ ❌ ❌ ✅ ❌ ❌ (2/7 días, 28%)  \n",
    "Hacer ejercicio: ✅ ✅ ✅ ✅ ✅ ✅ ✅ (7/7 días, 100%)  \n",
    "\n",
    "💡 ¡Excelente trabajo! Has mantenido todos tus hábitos al menos 5 días esta semana.  \n",
    "\n",
    "## 🔍 Pistas:\n",
    "\n",
    "🔹 Utiliza listas o diccionarios para almacenar los hábitos y sus registros diarios.  \n",
    "🔹 Puedes usar bucles `for` para iterar sobre los días de la semana y los hábitos.  \n",
    "🔹 Para la visualización, considera usar listas de caracteres que representen cada día.  \n",
    "🔹 Los mensajes motivacionales pueden basarse en el porcentaje de cumplimiento.  "
   ]
  },
  {
   "cell_type": "code",
   "execution_count": 1,
   "id": "010d04bc-6ddd-47de-9c2d-bc77ce6f99fb",
   "metadata": {},
   "outputs": [
    {
     "name": "stdout",
     "output_type": "stream",
     "text": [
      "📋 Bienvenido al Rastreador de Hábitos Personales\n"
     ]
    },
    {
     "name": "stdin",
     "output_type": "stream",
     "text": [
      "Ingresa los hábitos que deseas seguir esta semana (separados por comas):  Leer, Caminar, Escribir, Estudiar\n"
     ]
    },
    {
     "name": "stdout",
     "output_type": "stream",
     "text": [
      "\n",
      "📅 Día 1:\n"
     ]
    },
    {
     "name": "stdin",
     "output_type": "stream",
     "text": [
      "¿Completaste 'Leer'? (s/n):  s\n",
      "¿Completaste 'Caminar'? (s/n):  s\n",
      "¿Completaste 'Escribir'? (s/n):  n\n",
      "¿Completaste 'Estudiar'? (s/n):  \n"
     ]
    },
    {
     "name": "stdout",
     "output_type": "stream",
     "text": [
      "Por favor, ingresa 's' para sí o 'n' para no.\n"
     ]
    },
    {
     "name": "stdin",
     "output_type": "stream",
     "text": [
      "¿Completaste 'Estudiar'? (s/n):  n\n"
     ]
    },
    {
     "name": "stdout",
     "output_type": "stream",
     "text": [
      "\n",
      "📅 Día 2:\n"
     ]
    },
    {
     "name": "stdin",
     "output_type": "stream",
     "text": [
      "¿Completaste 'Leer'? (s/n):  s\n",
      "¿Completaste 'Caminar'? (s/n):  s\n",
      "¿Completaste 'Escribir'? (s/n):  s\n",
      "¿Completaste 'Estudiar'? (s/n):  s\n"
     ]
    },
    {
     "name": "stdout",
     "output_type": "stream",
     "text": [
      "\n",
      "📅 Día 3:\n"
     ]
    },
    {
     "name": "stdin",
     "output_type": "stream",
     "text": [
      "¿Completaste 'Leer'? (s/n):  n\n",
      "¿Completaste 'Caminar'? (s/n):  n\n",
      "¿Completaste 'Escribir'? (s/n):  s\n",
      "¿Completaste 'Estudiar'? (s/n):  s\n"
     ]
    },
    {
     "name": "stdout",
     "output_type": "stream",
     "text": [
      "\n",
      "📅 Día 4:\n"
     ]
    },
    {
     "name": "stdin",
     "output_type": "stream",
     "text": [
      "¿Completaste 'Leer'? (s/n):  s\n",
      "¿Completaste 'Caminar'? (s/n):  n\n",
      "¿Completaste 'Escribir'? (s/n):  s\n",
      "¿Completaste 'Estudiar'? (s/n):  n\n"
     ]
    },
    {
     "name": "stdout",
     "output_type": "stream",
     "text": [
      "\n",
      "📅 Día 5:\n"
     ]
    },
    {
     "name": "stdin",
     "output_type": "stream",
     "text": [
      "¿Completaste 'Leer'? (s/n):  n\n",
      "¿Completaste 'Caminar'? (s/n):  n\n",
      "¿Completaste 'Escribir'? (s/n):  n\n",
      "¿Completaste 'Estudiar'? (s/n):  n\n"
     ]
    },
    {
     "name": "stdout",
     "output_type": "stream",
     "text": [
      "\n",
      "📅 Día 6:\n"
     ]
    },
    {
     "name": "stdin",
     "output_type": "stream",
     "text": [
      "¿Completaste 'Leer'? (s/n):  s\n",
      "¿Completaste 'Caminar'? (s/n):  s\n",
      "¿Completaste 'Escribir'? (s/n):  s\n",
      "¿Completaste 'Estudiar'? (s/n):  s\n"
     ]
    },
    {
     "name": "stdout",
     "output_type": "stream",
     "text": [
      "\n",
      "📅 Día 7:\n"
     ]
    },
    {
     "name": "stdin",
     "output_type": "stream",
     "text": [
      "¿Completaste 'Leer'? (s/n):  n\n",
      "¿Completaste 'Caminar'? (s/n):  s\n",
      "¿Completaste 'Escribir'? (s/n):  s\n",
      "¿Completaste 'Estudiar'? (s/n):  n\n"
     ]
    },
    {
     "name": "stdout",
     "output_type": "stream",
     "text": [
      "\n",
      "📊 Resumen semanal:\n",
      "Leer: ✅ ✅ ❌ ✅ ❌ ✅ ❌ (4/7 días, 57%)\n",
      "Caminar: ✅ ✅ ❌ ❌ ❌ ✅ ✅ (4/7 días, 57%)\n",
      "Escribir: ❌ ✅ ✅ ✅ ❌ ✅ ✅ (5/7 días, 71%)\n",
      "Estudiar: ❌ ✅ ✅ ❌ ❌ ✅ ❌ (3/7 días, 43%)\n",
      "\n",
      "💡 ¡Gran trabajo! Tu hábito más consistente fue 'Escribir'.\n"
     ]
    }
   ],
   "source": [
    "def obtener_habitos():\n",
    "    entrada = input(\"Ingresa los hábitos que deseas seguir esta semana (separados por comas): \")\n",
    "    habitos = [h.strip() for h in entrada.split(\",\") if h.strip()]\n",
    "    if not habitos:\n",
    "        print(\"⚠️ No ingresaste ningún hábito. El programa se cerrará.\")\n",
    "        exit()\n",
    "    return {habito: [] for habito in habitos}\n",
    "\n",
    "def registrar_habitos(habitos):\n",
    "    for dia in range(1, 8):\n",
    "        print(f\"\\n📅 Día {dia}:\")\n",
    "        for habito in habitos:\n",
    "            while True:\n",
    "                respuesta = input(f\"¿Completaste '{habito}'? (s/n): \").strip().lower()\n",
    "                if respuesta in [\"s\", \"n\"]:\n",
    "                    break\n",
    "                print(\"Por favor, ingresa 's' para sí o 'n' para no.\")\n",
    "            realizado = respuesta == \"s\"\n",
    "            habitos[habito].append(\"✅\" if realizado else \"❌\")\n",
    "\n",
    "def mostrar_resumen(habitos):\n",
    "    print(\"\\n📊 Resumen semanal:\")\n",
    "    mejor_habito = \"\"\n",
    "    max_cumplidos = -1\n",
    "    for habito, registros in habitos.items():\n",
    "        cumplidos = registros.count(\"✅\")\n",
    "        porcentaje = (cumplidos / 7) * 100\n",
    "        print(f\"{habito}: {' '.join(registros)} ({cumplidos}/7 días, {porcentaje:.0f}%)\")\n",
    "        \n",
    "        # Guardar el hábito con más cumplimientos\n",
    "        if cumplidos > max_cumplidos:\n",
    "            max_cumplidos = cumplidos\n",
    "            mejor_habito = habito\n",
    "\n",
    "    if mejor_habito:\n",
    "        print(f\"\\n💡 ¡Gran trabajo! Tu hábito más consistente fue '{mejor_habito}'.\")\n",
    "\n",
    "def rastreador_habitos():\n",
    "    print(\"📋 Bienvenido al Rastreador de Hábitos Personales\")\n",
    "    habitos = obtener_habitos()\n",
    "    registrar_habitos(habitos)\n",
    "    mostrar_resumen(habitos)\n",
    "\n",
    "# Ejecutar el programa\n",
    "rastreador_habitos()\n"
   ]
  }
 ],
 "metadata": {
  "kernelspec": {
   "display_name": "Python 3 (ipykernel)",
   "language": "python",
   "name": "python3"
  },
  "language_info": {
   "codemirror_mode": {
    "name": "ipython",
    "version": 3
   },
   "file_extension": ".py",
   "mimetype": "text/x-python",
   "name": "python",
   "nbconvert_exporter": "python",
   "pygments_lexer": "ipython3",
   "version": "3.12.3"
  }
 },
 "nbformat": 4,
 "nbformat_minor": 5
}
