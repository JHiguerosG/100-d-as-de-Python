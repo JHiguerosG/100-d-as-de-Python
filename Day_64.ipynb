{
 "cells": [
  {
   "cell_type": "markdown",
   "id": "9c2c8780-f1cd-4bce-9f9e-ded6e0442a8a",
   "metadata": {},
   "source": [
    "# 🧠 Reto 64: Generador de Palabras Acrónimas 🧠\n",
    "\n",
    "## 🏆 Objetivo:\n",
    "\n",
    "Crear un programa que tome una frase como entrada y devuelva su acrónimo, es decir, una palabra formada con las letras iniciales de cada palabra significativa. Debe ignorar palabras irrelevantes como artículos, preposiciones y conjunciones comunes (por ejemplo: \"el\", \"la\", \"de\", \"y\", \"a\").\n",
    "\n",
    "## 📝 Requisitos:\n",
    "\n",
    "1️⃣ Solicitar al usuario una frase.  \n",
    "2️⃣ Ignorar palabras vacías o irrelevantes (stopwords) al generar el acrónimo.  \n",
    "3️⃣ El acrónimo debe mostrarse en mayúsculas.  \n",
    "4️⃣ El programa debe funcionar correctamente con frases con mayúsculas, minúsculas o mezcladas.  \n",
    "5️⃣ Opcional: permite personalizar la lista de palabras irrelevantes.  \n",
    "\n",
    "## 📌 Ejemplo de ejecución:\n",
    "\n",
    "Ingrese una frase: Organización de las Naciones Unidas  \n",
    "El acrónimo es: ONU  \n",
    "\n",
    "Ingrese una frase: Sociedad Americana de Ingenieros Civiles  \n",
    "El acrónimo es: SAIC  \n",
    "\n",
    "## 🔍 Pistas:\n",
    "\n",
    "🔹 Puedes usar un conjunto (`set`) de palabras irrelevantes comunes.  \n",
    "🔹 Usa `.split()` para dividir la frase en palabras.  \n",
    "🔹 Usa un bucle para iterar sobre cada palabra, y si no está en la lista de palabras irrelevantes, toma su primera letra.  \n",
    "🔹 Usa `.upper()` para transformar el acrónimo final en mayúsculas.  "
   ]
  },
  {
   "cell_type": "code",
   "execution_count": 8,
   "id": "cc5d885a-2d0e-49d9-8025-1ebcc4b5b65b",
   "metadata": {},
   "outputs": [
    {
     "name": "stdin",
     "output_type": "stream",
     "text": [
      "Ingrese una frase:  La Organización de los Estados Americanos \n"
     ]
    },
    {
     "name": "stdout",
     "output_type": "stream",
     "text": [
      "El acrónimo es: OEA\n"
     ]
    }
   ],
   "source": [
    "import unicodedata\n",
    "\n",
    "def normalizar(palabra):\n",
    "    \"\"\"Elimina tildes y convierte a minúsculas\"\"\"\n",
    "    return ''.join(\n",
    "        c for c in unicodedata.normalize('NFD', palabra)\n",
    "        if unicodedata.category(c) != 'Mn'\n",
    "    ).lower()\n",
    "\n",
    "def generar_acronimo():\n",
    "    palabras_irrelevantes = {normalizar(p) for p in [\"el\", \"la\", \"los\", \"las\", \"de\", \"del\", \"y\", \"a\",\n",
    "                                                     \"por\", \"para\", \"con\", \"en\", \"que\", \"un\", \"una\"]}\n",
    "    frase = input(\"Ingrese una frase: \").strip()\n",
    "\n",
    "    if not frase:\n",
    "        print(\"❌ No ingresaste ninguna frase.\")\n",
    "        return\n",
    "\n",
    "    palabras = frase.split()\n",
    "\n",
    "    acronimo = \"\".join([\n",
    "        palabra[0].upper()\n",
    "        for palabra in palabras\n",
    "        if normalizar(palabra) not in palabras_irrelevantes\n",
    "    ])\n",
    "\n",
    "    if acronimo:\n",
    "        print(f\"El acrónimo es: {acronimo}\")\n",
    "    else:\n",
    "        print(\"⚠️ No se pudo generar un acrónimo con las palabras proporcionadas.\")\n",
    "\n",
    "# Llamada directa a la función\n",
    "generar_acronimo()\n"
   ]
  }
 ],
 "metadata": {
  "kernelspec": {
   "display_name": "Python 3 (ipykernel)",
   "language": "python",
   "name": "python3"
  },
  "language_info": {
   "codemirror_mode": {
    "name": "ipython",
    "version": 3
   },
   "file_extension": ".py",
   "mimetype": "text/x-python",
   "name": "python",
   "nbconvert_exporter": "python",
   "pygments_lexer": "ipython3",
   "version": "3.12.3"
  }
 },
 "nbformat": 4,
 "nbformat_minor": 5
}
